{
  "nbformat": 4,
  "nbformat_minor": 0,
  "metadata": {
    "colab": {
      "name": "inf8460_projet_A20_equipe8_clean.ipynb",
      "provenance": [],
      "collapsed_sections": [],
      "toc_visible": true
    },
    "kernelspec": {
      "name": "python3",
      "display_name": "Python 3"
    },
    "accelerator": "GPU"
  },
  "cells": [
    {
      "cell_type": "markdown",
      "metadata": {
        "id": "gvon_hH2C87M"
      },
      "source": [
        "# **INF8460 A20 Project: Open-domain questions answering**\n",
        "\n",
        "<br>\n",
        "\n",
        "Equipe 8:\n",
        "\n",
        "\n",
        "*   Cedric Sadeu (Glove, ranking with classification)\n",
        "*   Mamoudou Sacko (pretraitement + TF-IDF, cosine ranking)\n",
        "*   Oumayma Messoussi (PCP Bert, ML/DL for ranking)\n",
        "\n",
        "<br>\n",
        "\n",
        "---\n",
        "\n",
        "<br>"
      ]
    },
    {
      "cell_type": "code",
      "metadata": {
        "id": "sMtbIoAD31sx",
        "colab": {
          "base_uri": "https://localhost:8080/"
        },
        "outputId": "4dc754ee-58ac-4b66-f871-1e4d32148ca5"
      },
      "source": [
        "!pip install sent2vec transformers pytorch-pretrained-bert\n"
      ],
      "execution_count": 1,
      "outputs": [
        {
          "output_type": "stream",
          "text": [
            "Requirement already satisfied: sent2vec in /usr/local/lib/python3.6/dist-packages (0.2.0)\n",
            "Requirement already satisfied: transformers in /usr/local/lib/python3.6/dist-packages (3.5.1)\n",
            "Requirement already satisfied: pytorch-pretrained-bert in /usr/local/lib/python3.6/dist-packages (0.6.2)\n",
            "Requirement already satisfied: spacy in /usr/local/lib/python3.6/dist-packages (from sent2vec) (2.2.4)\n",
            "Requirement already satisfied: numpy in /usr/local/lib/python3.6/dist-packages (from sent2vec) (1.18.5)\n",
            "Requirement already satisfied: torch in /usr/local/lib/python3.6/dist-packages (from sent2vec) (1.7.0+cu101)\n",
            "Requirement already satisfied: gensim in /usr/local/lib/python3.6/dist-packages (from sent2vec) (3.6.0)\n",
            "Requirement already satisfied: requests in /usr/local/lib/python3.6/dist-packages (from transformers) (2.23.0)\n",
            "Requirement already satisfied: tokenizers==0.9.3 in /usr/local/lib/python3.6/dist-packages (from transformers) (0.9.3)\n",
            "Requirement already satisfied: regex!=2019.12.17 in /usr/local/lib/python3.6/dist-packages (from transformers) (2019.12.20)\n",
            "Requirement already satisfied: dataclasses; python_version < \"3.7\" in /usr/local/lib/python3.6/dist-packages (from transformers) (0.8)\n",
            "Requirement already satisfied: protobuf in /usr/local/lib/python3.6/dist-packages (from transformers) (3.12.4)\n",
            "Requirement already satisfied: packaging in /usr/local/lib/python3.6/dist-packages (from transformers) (20.4)\n",
            "Requirement already satisfied: sacremoses in /usr/local/lib/python3.6/dist-packages (from transformers) (0.0.43)\n",
            "Requirement already satisfied: filelock in /usr/local/lib/python3.6/dist-packages (from transformers) (3.0.12)\n",
            "Requirement already satisfied: tqdm>=4.27 in /usr/local/lib/python3.6/dist-packages (from transformers) (4.41.1)\n",
            "Requirement already satisfied: sentencepiece==0.1.91 in /usr/local/lib/python3.6/dist-packages (from transformers) (0.1.91)\n",
            "Requirement already satisfied: boto3 in /usr/local/lib/python3.6/dist-packages (from pytorch-pretrained-bert) (1.16.25)\n",
            "Requirement already satisfied: setuptools in /usr/local/lib/python3.6/dist-packages (from spacy->sent2vec) (50.3.2)\n",
            "Requirement already satisfied: murmurhash<1.1.0,>=0.28.0 in /usr/local/lib/python3.6/dist-packages (from spacy->sent2vec) (1.0.4)\n",
            "Requirement already satisfied: plac<1.2.0,>=0.9.6 in /usr/local/lib/python3.6/dist-packages (from spacy->sent2vec) (1.1.3)\n",
            "Requirement already satisfied: cymem<2.1.0,>=2.0.2 in /usr/local/lib/python3.6/dist-packages (from spacy->sent2vec) (2.0.4)\n",
            "Requirement already satisfied: catalogue<1.1.0,>=0.0.7 in /usr/local/lib/python3.6/dist-packages (from spacy->sent2vec) (1.0.0)\n",
            "Requirement already satisfied: srsly<1.1.0,>=1.0.2 in /usr/local/lib/python3.6/dist-packages (from spacy->sent2vec) (1.0.4)\n",
            "Requirement already satisfied: wasabi<1.1.0,>=0.4.0 in /usr/local/lib/python3.6/dist-packages (from spacy->sent2vec) (0.8.0)\n",
            "Requirement already satisfied: preshed<3.1.0,>=3.0.2 in /usr/local/lib/python3.6/dist-packages (from spacy->sent2vec) (3.0.4)\n",
            "Requirement already satisfied: blis<0.5.0,>=0.4.0 in /usr/local/lib/python3.6/dist-packages (from spacy->sent2vec) (0.4.1)\n",
            "Requirement already satisfied: thinc==7.4.0 in /usr/local/lib/python3.6/dist-packages (from spacy->sent2vec) (7.4.0)\n",
            "Requirement already satisfied: future in /usr/local/lib/python3.6/dist-packages (from torch->sent2vec) (0.16.0)\n",
            "Requirement already satisfied: typing-extensions in /usr/local/lib/python3.6/dist-packages (from torch->sent2vec) (3.7.4.3)\n",
            "Requirement already satisfied: smart-open>=1.2.1 in /usr/local/lib/python3.6/dist-packages (from gensim->sent2vec) (3.0.0)\n",
            "Requirement already satisfied: six>=1.5.0 in /usr/local/lib/python3.6/dist-packages (from gensim->sent2vec) (1.15.0)\n",
            "Requirement already satisfied: scipy>=0.18.1 in /usr/local/lib/python3.6/dist-packages (from gensim->sent2vec) (1.4.1)\n",
            "Requirement already satisfied: urllib3!=1.25.0,!=1.25.1,<1.26,>=1.21.1 in /usr/local/lib/python3.6/dist-packages (from requests->transformers) (1.24.3)\n",
            "Requirement already satisfied: idna<3,>=2.5 in /usr/local/lib/python3.6/dist-packages (from requests->transformers) (2.10)\n",
            "Requirement already satisfied: certifi>=2017.4.17 in /usr/local/lib/python3.6/dist-packages (from requests->transformers) (2020.11.8)\n",
            "Requirement already satisfied: chardet<4,>=3.0.2 in /usr/local/lib/python3.6/dist-packages (from requests->transformers) (3.0.4)\n",
            "Requirement already satisfied: pyparsing>=2.0.2 in /usr/local/lib/python3.6/dist-packages (from packaging->transformers) (2.4.7)\n",
            "Requirement already satisfied: joblib in /usr/local/lib/python3.6/dist-packages (from sacremoses->transformers) (0.17.0)\n",
            "Requirement already satisfied: click in /usr/local/lib/python3.6/dist-packages (from sacremoses->transformers) (7.1.2)\n",
            "Requirement already satisfied: botocore<1.20.0,>=1.19.25 in /usr/local/lib/python3.6/dist-packages (from boto3->pytorch-pretrained-bert) (1.19.25)\n",
            "Requirement already satisfied: s3transfer<0.4.0,>=0.3.0 in /usr/local/lib/python3.6/dist-packages (from boto3->pytorch-pretrained-bert) (0.3.3)\n",
            "Requirement already satisfied: jmespath<1.0.0,>=0.7.1 in /usr/local/lib/python3.6/dist-packages (from boto3->pytorch-pretrained-bert) (0.10.0)\n",
            "Requirement already satisfied: importlib-metadata>=0.20; python_version < \"3.8\" in /usr/local/lib/python3.6/dist-packages (from catalogue<1.1.0,>=0.0.7->spacy->sent2vec) (2.0.0)\n",
            "Requirement already satisfied: python-dateutil<3.0.0,>=2.1 in /usr/local/lib/python3.6/dist-packages (from botocore<1.20.0,>=1.19.25->boto3->pytorch-pretrained-bert) (2.8.1)\n",
            "Requirement already satisfied: zipp>=0.5 in /usr/local/lib/python3.6/dist-packages (from importlib-metadata>=0.20; python_version < \"3.8\"->catalogue<1.1.0,>=0.0.7->spacy->sent2vec) (3.4.0)\n"
          ],
          "name": "stdout"
        }
      ]
    },
    {
      "cell_type": "markdown",
      "metadata": {
        "id": "LiM2G1X0dyRH"
      },
      "source": [
        "---\n",
        "\n",
        "<br>\n",
        "\n",
        "## **1. Map Google**\n"
      ]
    },
    {
      "cell_type": "code",
      "metadata": {
        "colab": {
          "base_uri": "https://localhost:8080/"
        },
        "id": "3fAaDZ_3dyRH",
        "outputId": "ea1037da-ff38-47b9-f481-39bb266737bd"
      },
      "source": [
        "\n",
        "from google.colab import drive\n",
        "drive.mount('/content/drive')\n",
        "!ls '/content/drive/My Drive/Colab Notebooks/INF8460/Project/'\n",
        "\n",
        "import sys\n",
        "sys.path.append('/content/drive/My Drive/Colab Notebooks/INF8460/Project/')\n"
      ],
      "execution_count": 2,
      "outputs": [
        {
          "output_type": "stream",
          "text": [
            "Drive already mounted at /content/drive; to attempt to forcibly remount, call drive.mount(\"/content/drive\", force_remount=True).\n",
            "bert.py\t\t      data\t\tinf8460_projet_A20_equipe8_clean.ipynb\n",
            "correction_script.py  data_handling.py\toutput\n",
            "create_embeddings.py  hub.py\t\t__pycache__\n"
          ],
          "name": "stdout"
        }
      ]
    },
    {
      "cell_type": "markdown",
      "metadata": {
        "id": "vUmCNxFldyRH"
      },
      "source": [
        "---\n",
        "\n",
        "<br>\n",
        "\n",
        "## **2. Import**"
      ]
    },
    {
      "cell_type": "code",
      "metadata": {
        "id": "-B1THH6Y1YJj",
        "colab": {
          "base_uri": "https://localhost:8080/"
        },
        "outputId": "4dbc0f75-b525-4eb6-c933-8f8f312f5090"
      },
      "source": [
        "\n",
        "from hub import *\n",
        "\n",
        "import torch\n",
        "from transformers import BertForQuestionAnswering\n",
        "from transformers import BertTokenizer"
      ],
      "execution_count": 3,
      "outputs": [
        {
          "output_type": "stream",
          "text": [
            "[nltk_data] Downloading package stopwords to /root/nltk_data...\n",
            "[nltk_data]   Package stopwords is already up-to-date!\n",
            "[nltk_data] Downloading package wordnet to /root/nltk_data...\n",
            "[nltk_data]   Package wordnet is already up-to-date!\n"
          ],
          "name": "stdout"
        }
      ]
    },
    {
      "cell_type": "markdown",
      "metadata": {
        "id": "ZIcemP-_-mKa"
      },
      "source": [
        "---\n",
        "\n",
        "<br>\n",
        "\n",
        "## **3. Load Data**\n"
      ]
    },
    {
      "cell_type": "code",
      "metadata": {
        "id": "6h3I8Gl3769R"
      },
      "source": [
        "corpus_data = load_data(\"corpus\", 0)\n",
        "vals_data = load_data(\"validation\", force_refresh = 0)\n",
        "\n",
        "corpus_ids = corpus_data[0]\n",
        "vals_ids = corpus_data[0]\n",
        "\n",
        "corpus_paragraphs = corpus_data[1]\n",
        "vals_questions = vals_data[1]"
      ],
      "execution_count": 4,
      "outputs": []
    },
    {
      "cell_type": "markdown",
      "metadata": {
        "id": "ua1C3qSkdyRH"
      },
      "source": [
        "---\n",
        "\n",
        "<br>\n",
        "\n",
        "## **4. Prepoc Data**"
      ]
    },
    {
      "cell_type": "code",
      "metadata": {
        "id": "ji3Kv8M1dyRH"
      },
      "source": [
        "corpus_text = prepoc_data(corpus_paragraphs)\n",
        "vals_text = prepoc_data(vals_questions)"
      ],
      "execution_count": 5,
      "outputs": []
    },
    {
      "cell_type": "markdown",
      "metadata": {
        "id": "9mybu06h-xpN"
      },
      "source": [
        "---\n",
        "\n",
        "<br>\n",
        "\n",
        "## **5. Representation**\n"
      ]
    },
    {
      "cell_type": "code",
      "metadata": {
        "id": "6qGDkq6FdyRH"
      },
      "source": [
        "representation_name = \"tfidf\"\n",
        "corpus_emmbeding , vals_emmbeding = get_emmbending(corpus_text, vals_text, representation_name)\n"
      ],
      "execution_count": 6,
      "outputs": []
    },
    {
      "cell_type": "markdown",
      "metadata": {
        "id": "03-mF_T2dyRH"
      },
      "source": [
        "---\n",
        "\n",
        "<br>\n",
        "\n",
        "## **6. Ordonnancement**"
      ]
    },
    {
      "cell_type": "code",
      "metadata": {
        "id": "z1CD3JtIdyRH"
      },
      "source": [
        "ranking_list = get_ranking_list(corpus_ids, corpus_emmbeding, vals_ids, vals_emmbeding, metrique=cosine, top=25)"
      ],
      "execution_count": null,
      "outputs": []
    },
    {
      "cell_type": "markdown",
      "metadata": {
        "id": "hL76_RJ1dyRH"
      },
      "source": [
        "---\n",
        "\n",
        "<br>\n",
        "\n",
        "## **7. Answers**"
      ]
    },
    {
      "cell_type": "code",
      "metadata": {
        "id": "XKSARE_DdyRH"
      },
      "source": [
        "model_bert = BertForQuestionAnswering.from_pretrained('bert-large-uncased-whole-word-masking-finetuned-squad')\n",
        "tokenizer_bert = BertTokenizer.from_pretrained('bert-large-uncased-whole-word-masking-finetuned-squad')\n",
        "\n",
        "answers = get_answers(model_bert, tokenizer_bert, corpus_ids, corpus_paragraphs, vals_ids, vals_questions, ranking_list)"
      ],
      "execution_count": null,
      "outputs": []
    },
    {
      "cell_type": "code",
      "metadata": {
        "id": "CZNPoJ5HdyRH"
      },
      "source": [
        ""
      ],
      "execution_count": null,
      "outputs": []
    }
  ]
}