{
  "nbformat": 4,
  "nbformat_minor": 0,
  "metadata": {
    "colab": {
      "name": "inf8460_projet_A20_equipe8.ipynb",
      "provenance": [],
      "collapsed_sections": []
    },
    "kernelspec": {
      "name": "python3",
      "display_name": "Python 3"
    },
    "accelerator": "GPU",
    "widgets": {
      "application/vnd.jupyter.widget-state+json": {
        "6984723399ad4429a78be66fead09207": {
          "model_module": "@jupyter-widgets/controls",
          "model_name": "HBoxModel",
          "state": {
            "_view_name": "HBoxView",
            "_dom_classes": [],
            "_model_name": "HBoxModel",
            "_view_module": "@jupyter-widgets/controls",
            "_model_module_version": "1.5.0",
            "_view_count": null,
            "_view_module_version": "1.5.0",
            "box_style": "",
            "layout": "IPY_MODEL_4792c5db1d1045f98440ef4ca34b433c",
            "_model_module": "@jupyter-widgets/controls",
            "children": [
              "IPY_MODEL_30d4f585019e465a94958402d26bde1d",
              "IPY_MODEL_1d9e9b5dbe094c33a3176780ff37b9f1"
            ]
          }
        },
        "4792c5db1d1045f98440ef4ca34b433c": {
          "model_module": "@jupyter-widgets/base",
          "model_name": "LayoutModel",
          "state": {
            "_view_name": "LayoutView",
            "grid_template_rows": null,
            "right": null,
            "justify_content": null,
            "_view_module": "@jupyter-widgets/base",
            "overflow": null,
            "_model_module_version": "1.2.0",
            "_view_count": null,
            "flex_flow": null,
            "width": null,
            "min_width": null,
            "border": null,
            "align_items": null,
            "bottom": null,
            "_model_module": "@jupyter-widgets/base",
            "top": null,
            "grid_column": null,
            "overflow_y": null,
            "overflow_x": null,
            "grid_auto_flow": null,
            "grid_area": null,
            "grid_template_columns": null,
            "flex": null,
            "_model_name": "LayoutModel",
            "justify_items": null,
            "grid_row": null,
            "max_height": null,
            "align_content": null,
            "visibility": null,
            "align_self": null,
            "height": null,
            "min_height": null,
            "padding": null,
            "grid_auto_rows": null,
            "grid_gap": null,
            "max_width": null,
            "order": null,
            "_view_module_version": "1.2.0",
            "grid_template_areas": null,
            "object_position": null,
            "object_fit": null,
            "grid_auto_columns": null,
            "margin": null,
            "display": null,
            "left": null
          }
        },
        "30d4f585019e465a94958402d26bde1d": {
          "model_module": "@jupyter-widgets/controls",
          "model_name": "FloatProgressModel",
          "state": {
            "_view_name": "ProgressView",
            "style": "IPY_MODEL_c135251c65474c4b9d8df448cea1be6e",
            "_dom_classes": [],
            "description": "Downloading: 100%",
            "_model_name": "FloatProgressModel",
            "bar_style": "success",
            "max": 473,
            "_view_module": "@jupyter-widgets/controls",
            "_model_module_version": "1.5.0",
            "value": 473,
            "_view_count": null,
            "_view_module_version": "1.5.0",
            "orientation": "horizontal",
            "min": 0,
            "description_tooltip": null,
            "_model_module": "@jupyter-widgets/controls",
            "layout": "IPY_MODEL_9ef19809a9c147ec83e5c7e94c555c9c"
          }
        },
        "1d9e9b5dbe094c33a3176780ff37b9f1": {
          "model_module": "@jupyter-widgets/controls",
          "model_name": "HTMLModel",
          "state": {
            "_view_name": "HTMLView",
            "style": "IPY_MODEL_27e7045593af4d63a4c1fdd31e719c20",
            "_dom_classes": [],
            "description": "",
            "_model_name": "HTMLModel",
            "placeholder": "​",
            "_view_module": "@jupyter-widgets/controls",
            "_model_module_version": "1.5.0",
            "value": " 473/473 [00:00&lt;00:00, 1.53kB/s]",
            "_view_count": null,
            "_view_module_version": "1.5.0",
            "description_tooltip": null,
            "_model_module": "@jupyter-widgets/controls",
            "layout": "IPY_MODEL_a6a0c7287e7b489ca1bb5d8100af8b99"
          }
        },
        "c135251c65474c4b9d8df448cea1be6e": {
          "model_module": "@jupyter-widgets/controls",
          "model_name": "ProgressStyleModel",
          "state": {
            "_view_name": "StyleView",
            "_model_name": "ProgressStyleModel",
            "description_width": "initial",
            "_view_module": "@jupyter-widgets/base",
            "_model_module_version": "1.5.0",
            "_view_count": null,
            "_view_module_version": "1.2.0",
            "bar_color": null,
            "_model_module": "@jupyter-widgets/controls"
          }
        },
        "9ef19809a9c147ec83e5c7e94c555c9c": {
          "model_module": "@jupyter-widgets/base",
          "model_name": "LayoutModel",
          "state": {
            "_view_name": "LayoutView",
            "grid_template_rows": null,
            "right": null,
            "justify_content": null,
            "_view_module": "@jupyter-widgets/base",
            "overflow": null,
            "_model_module_version": "1.2.0",
            "_view_count": null,
            "flex_flow": null,
            "width": null,
            "min_width": null,
            "border": null,
            "align_items": null,
            "bottom": null,
            "_model_module": "@jupyter-widgets/base",
            "top": null,
            "grid_column": null,
            "overflow_y": null,
            "overflow_x": null,
            "grid_auto_flow": null,
            "grid_area": null,
            "grid_template_columns": null,
            "flex": null,
            "_model_name": "LayoutModel",
            "justify_items": null,
            "grid_row": null,
            "max_height": null,
            "align_content": null,
            "visibility": null,
            "align_self": null,
            "height": null,
            "min_height": null,
            "padding": null,
            "grid_auto_rows": null,
            "grid_gap": null,
            "max_width": null,
            "order": null,
            "_view_module_version": "1.2.0",
            "grid_template_areas": null,
            "object_position": null,
            "object_fit": null,
            "grid_auto_columns": null,
            "margin": null,
            "display": null,
            "left": null
          }
        },
        "27e7045593af4d63a4c1fdd31e719c20": {
          "model_module": "@jupyter-widgets/controls",
          "model_name": "DescriptionStyleModel",
          "state": {
            "_view_name": "StyleView",
            "_model_name": "DescriptionStyleModel",
            "description_width": "",
            "_view_module": "@jupyter-widgets/base",
            "_model_module_version": "1.5.0",
            "_view_count": null,
            "_view_module_version": "1.2.0",
            "_model_module": "@jupyter-widgets/controls"
          }
        },
        "a6a0c7287e7b489ca1bb5d8100af8b99": {
          "model_module": "@jupyter-widgets/base",
          "model_name": "LayoutModel",
          "state": {
            "_view_name": "LayoutView",
            "grid_template_rows": null,
            "right": null,
            "justify_content": null,
            "_view_module": "@jupyter-widgets/base",
            "overflow": null,
            "_model_module_version": "1.2.0",
            "_view_count": null,
            "flex_flow": null,
            "width": null,
            "min_width": null,
            "border": null,
            "align_items": null,
            "bottom": null,
            "_model_module": "@jupyter-widgets/base",
            "top": null,
            "grid_column": null,
            "overflow_y": null,
            "overflow_x": null,
            "grid_auto_flow": null,
            "grid_area": null,
            "grid_template_columns": null,
            "flex": null,
            "_model_name": "LayoutModel",
            "justify_items": null,
            "grid_row": null,
            "max_height": null,
            "align_content": null,
            "visibility": null,
            "align_self": null,
            "height": null,
            "min_height": null,
            "padding": null,
            "grid_auto_rows": null,
            "grid_gap": null,
            "max_width": null,
            "order": null,
            "_view_module_version": "1.2.0",
            "grid_template_areas": null,
            "object_position": null,
            "object_fit": null,
            "grid_auto_columns": null,
            "margin": null,
            "display": null,
            "left": null
          }
        },
        "594581a8da644221a1c41a298ed4b39d": {
          "model_module": "@jupyter-widgets/controls",
          "model_name": "HBoxModel",
          "state": {
            "_view_name": "HBoxView",
            "_dom_classes": [],
            "_model_name": "HBoxModel",
            "_view_module": "@jupyter-widgets/controls",
            "_model_module_version": "1.5.0",
            "_view_count": null,
            "_view_module_version": "1.5.0",
            "box_style": "",
            "layout": "IPY_MODEL_0bfa0231a34040e6b252629f85399b59",
            "_model_module": "@jupyter-widgets/controls",
            "children": [
              "IPY_MODEL_8ac6053a92c24954b1d2e67edadebd65",
              "IPY_MODEL_a53cecd910c54965acbff9d5b1dbfc21"
            ]
          }
        },
        "0bfa0231a34040e6b252629f85399b59": {
          "model_module": "@jupyter-widgets/base",
          "model_name": "LayoutModel",
          "state": {
            "_view_name": "LayoutView",
            "grid_template_rows": null,
            "right": null,
            "justify_content": null,
            "_view_module": "@jupyter-widgets/base",
            "overflow": null,
            "_model_module_version": "1.2.0",
            "_view_count": null,
            "flex_flow": null,
            "width": null,
            "min_width": null,
            "border": null,
            "align_items": null,
            "bottom": null,
            "_model_module": "@jupyter-widgets/base",
            "top": null,
            "grid_column": null,
            "overflow_y": null,
            "overflow_x": null,
            "grid_auto_flow": null,
            "grid_area": null,
            "grid_template_columns": null,
            "flex": null,
            "_model_name": "LayoutModel",
            "justify_items": null,
            "grid_row": null,
            "max_height": null,
            "align_content": null,
            "visibility": null,
            "align_self": null,
            "height": null,
            "min_height": null,
            "padding": null,
            "grid_auto_rows": null,
            "grid_gap": null,
            "max_width": null,
            "order": null,
            "_view_module_version": "1.2.0",
            "grid_template_areas": null,
            "object_position": null,
            "object_fit": null,
            "grid_auto_columns": null,
            "margin": null,
            "display": null,
            "left": null
          }
        },
        "8ac6053a92c24954b1d2e67edadebd65": {
          "model_module": "@jupyter-widgets/controls",
          "model_name": "FloatProgressModel",
          "state": {
            "_view_name": "ProgressView",
            "style": "IPY_MODEL_82c5a18e88f94fd9bc745fde8a369c27",
            "_dom_classes": [],
            "description": "Downloading: 100%",
            "_model_name": "FloatProgressModel",
            "bar_style": "success",
            "max": 260793700,
            "_view_module": "@jupyter-widgets/controls",
            "_model_module_version": "1.5.0",
            "value": 260793700,
            "_view_count": null,
            "_view_module_version": "1.5.0",
            "orientation": "horizontal",
            "min": 0,
            "description_tooltip": null,
            "_model_module": "@jupyter-widgets/controls",
            "layout": "IPY_MODEL_b01380a6701f491e8412580ad0b01262"
          }
        },
        "a53cecd910c54965acbff9d5b1dbfc21": {
          "model_module": "@jupyter-widgets/controls",
          "model_name": "HTMLModel",
          "state": {
            "_view_name": "HTMLView",
            "style": "IPY_MODEL_9270001477b54b50a389f04c2406c6f4",
            "_dom_classes": [],
            "description": "",
            "_model_name": "HTMLModel",
            "placeholder": "​",
            "_view_module": "@jupyter-widgets/controls",
            "_model_module_version": "1.5.0",
            "value": " 261M/261M [00:04&lt;00:00, 55.3MB/s]",
            "_view_count": null,
            "_view_module_version": "1.5.0",
            "description_tooltip": null,
            "_model_module": "@jupyter-widgets/controls",
            "layout": "IPY_MODEL_bf3a5271b73f452188b40e6602771780"
          }
        },
        "82c5a18e88f94fd9bc745fde8a369c27": {
          "model_module": "@jupyter-widgets/controls",
          "model_name": "ProgressStyleModel",
          "state": {
            "_view_name": "StyleView",
            "_model_name": "ProgressStyleModel",
            "description_width": "initial",
            "_view_module": "@jupyter-widgets/base",
            "_model_module_version": "1.5.0",
            "_view_count": null,
            "_view_module_version": "1.2.0",
            "bar_color": null,
            "_model_module": "@jupyter-widgets/controls"
          }
        },
        "b01380a6701f491e8412580ad0b01262": {
          "model_module": "@jupyter-widgets/base",
          "model_name": "LayoutModel",
          "state": {
            "_view_name": "LayoutView",
            "grid_template_rows": null,
            "right": null,
            "justify_content": null,
            "_view_module": "@jupyter-widgets/base",
            "overflow": null,
            "_model_module_version": "1.2.0",
            "_view_count": null,
            "flex_flow": null,
            "width": null,
            "min_width": null,
            "border": null,
            "align_items": null,
            "bottom": null,
            "_model_module": "@jupyter-widgets/base",
            "top": null,
            "grid_column": null,
            "overflow_y": null,
            "overflow_x": null,
            "grid_auto_flow": null,
            "grid_area": null,
            "grid_template_columns": null,
            "flex": null,
            "_model_name": "LayoutModel",
            "justify_items": null,
            "grid_row": null,
            "max_height": null,
            "align_content": null,
            "visibility": null,
            "align_self": null,
            "height": null,
            "min_height": null,
            "padding": null,
            "grid_auto_rows": null,
            "grid_gap": null,
            "max_width": null,
            "order": null,
            "_view_module_version": "1.2.0",
            "grid_template_areas": null,
            "object_position": null,
            "object_fit": null,
            "grid_auto_columns": null,
            "margin": null,
            "display": null,
            "left": null
          }
        },
        "9270001477b54b50a389f04c2406c6f4": {
          "model_module": "@jupyter-widgets/controls",
          "model_name": "DescriptionStyleModel",
          "state": {
            "_view_name": "StyleView",
            "_model_name": "DescriptionStyleModel",
            "description_width": "",
            "_view_module": "@jupyter-widgets/base",
            "_model_module_version": "1.5.0",
            "_view_count": null,
            "_view_module_version": "1.2.0",
            "_model_module": "@jupyter-widgets/controls"
          }
        },
        "bf3a5271b73f452188b40e6602771780": {
          "model_module": "@jupyter-widgets/base",
          "model_name": "LayoutModel",
          "state": {
            "_view_name": "LayoutView",
            "grid_template_rows": null,
            "right": null,
            "justify_content": null,
            "_view_module": "@jupyter-widgets/base",
            "overflow": null,
            "_model_module_version": "1.2.0",
            "_view_count": null,
            "flex_flow": null,
            "width": null,
            "min_width": null,
            "border": null,
            "align_items": null,
            "bottom": null,
            "_model_module": "@jupyter-widgets/base",
            "top": null,
            "grid_column": null,
            "overflow_y": null,
            "overflow_x": null,
            "grid_auto_flow": null,
            "grid_area": null,
            "grid_template_columns": null,
            "flex": null,
            "_model_name": "LayoutModel",
            "justify_items": null,
            "grid_row": null,
            "max_height": null,
            "align_content": null,
            "visibility": null,
            "align_self": null,
            "height": null,
            "min_height": null,
            "padding": null,
            "grid_auto_rows": null,
            "grid_gap": null,
            "max_width": null,
            "order": null,
            "_view_module_version": "1.2.0",
            "grid_template_areas": null,
            "object_position": null,
            "object_fit": null,
            "grid_auto_columns": null,
            "margin": null,
            "display": null,
            "left": null
          }
        },
        "5edaed461fdc44219061b87f71dc4957": {
          "model_module": "@jupyter-widgets/controls",
          "model_name": "HBoxModel",
          "state": {
            "_view_name": "HBoxView",
            "_dom_classes": [],
            "_model_name": "HBoxModel",
            "_view_module": "@jupyter-widgets/controls",
            "_model_module_version": "1.5.0",
            "_view_count": null,
            "_view_module_version": "1.5.0",
            "box_style": "",
            "layout": "IPY_MODEL_0a6d742b0ccd4cd38f2e6510dc486b4b",
            "_model_module": "@jupyter-widgets/controls",
            "children": [
              "IPY_MODEL_b4028828b1ea4f1689e406da40bf7adb",
              "IPY_MODEL_ea8f52bc3b5f44c290833426acee4c89"
            ]
          }
        },
        "0a6d742b0ccd4cd38f2e6510dc486b4b": {
          "model_module": "@jupyter-widgets/base",
          "model_name": "LayoutModel",
          "state": {
            "_view_name": "LayoutView",
            "grid_template_rows": null,
            "right": null,
            "justify_content": null,
            "_view_module": "@jupyter-widgets/base",
            "overflow": null,
            "_model_module_version": "1.2.0",
            "_view_count": null,
            "flex_flow": null,
            "width": null,
            "min_width": null,
            "border": null,
            "align_items": null,
            "bottom": null,
            "_model_module": "@jupyter-widgets/base",
            "top": null,
            "grid_column": null,
            "overflow_y": null,
            "overflow_x": null,
            "grid_auto_flow": null,
            "grid_area": null,
            "grid_template_columns": null,
            "flex": null,
            "_model_name": "LayoutModel",
            "justify_items": null,
            "grid_row": null,
            "max_height": null,
            "align_content": null,
            "visibility": null,
            "align_self": null,
            "height": null,
            "min_height": null,
            "padding": null,
            "grid_auto_rows": null,
            "grid_gap": null,
            "max_width": null,
            "order": null,
            "_view_module_version": "1.2.0",
            "grid_template_areas": null,
            "object_position": null,
            "object_fit": null,
            "grid_auto_columns": null,
            "margin": null,
            "display": null,
            "left": null
          }
        },
        "b4028828b1ea4f1689e406da40bf7adb": {
          "model_module": "@jupyter-widgets/controls",
          "model_name": "FloatProgressModel",
          "state": {
            "_view_name": "ProgressView",
            "style": "IPY_MODEL_eecccd9cfb6d41a194556fee365c869c",
            "_dom_classes": [],
            "description": "Downloading: 100%",
            "_model_name": "FloatProgressModel",
            "bar_style": "success",
            "max": 213450,
            "_view_module": "@jupyter-widgets/controls",
            "_model_module_version": "1.5.0",
            "value": 213450,
            "_view_count": null,
            "_view_module_version": "1.5.0",
            "orientation": "horizontal",
            "min": 0,
            "description_tooltip": null,
            "_model_module": "@jupyter-widgets/controls",
            "layout": "IPY_MODEL_3086765b1fb942738e2717619ebadcf7"
          }
        },
        "ea8f52bc3b5f44c290833426acee4c89": {
          "model_module": "@jupyter-widgets/controls",
          "model_name": "HTMLModel",
          "state": {
            "_view_name": "HTMLView",
            "style": "IPY_MODEL_8486f5fda8b4459d97968dabfd5a4f23",
            "_dom_classes": [],
            "description": "",
            "_model_name": "HTMLModel",
            "placeholder": "​",
            "_view_module": "@jupyter-widgets/controls",
            "_model_module_version": "1.5.0",
            "value": " 213k/213k [00:00&lt;00:00, 3.19MB/s]",
            "_view_count": null,
            "_view_module_version": "1.5.0",
            "description_tooltip": null,
            "_model_module": "@jupyter-widgets/controls",
            "layout": "IPY_MODEL_bef3fd3b6ff44e99829190215b0778dc"
          }
        },
        "eecccd9cfb6d41a194556fee365c869c": {
          "model_module": "@jupyter-widgets/controls",
          "model_name": "ProgressStyleModel",
          "state": {
            "_view_name": "StyleView",
            "_model_name": "ProgressStyleModel",
            "description_width": "initial",
            "_view_module": "@jupyter-widgets/base",
            "_model_module_version": "1.5.0",
            "_view_count": null,
            "_view_module_version": "1.2.0",
            "bar_color": null,
            "_model_module": "@jupyter-widgets/controls"
          }
        },
        "3086765b1fb942738e2717619ebadcf7": {
          "model_module": "@jupyter-widgets/base",
          "model_name": "LayoutModel",
          "state": {
            "_view_name": "LayoutView",
            "grid_template_rows": null,
            "right": null,
            "justify_content": null,
            "_view_module": "@jupyter-widgets/base",
            "overflow": null,
            "_model_module_version": "1.2.0",
            "_view_count": null,
            "flex_flow": null,
            "width": null,
            "min_width": null,
            "border": null,
            "align_items": null,
            "bottom": null,
            "_model_module": "@jupyter-widgets/base",
            "top": null,
            "grid_column": null,
            "overflow_y": null,
            "overflow_x": null,
            "grid_auto_flow": null,
            "grid_area": null,
            "grid_template_columns": null,
            "flex": null,
            "_model_name": "LayoutModel",
            "justify_items": null,
            "grid_row": null,
            "max_height": null,
            "align_content": null,
            "visibility": null,
            "align_self": null,
            "height": null,
            "min_height": null,
            "padding": null,
            "grid_auto_rows": null,
            "grid_gap": null,
            "max_width": null,
            "order": null,
            "_view_module_version": "1.2.0",
            "grid_template_areas": null,
            "object_position": null,
            "object_fit": null,
            "grid_auto_columns": null,
            "margin": null,
            "display": null,
            "left": null
          }
        },
        "8486f5fda8b4459d97968dabfd5a4f23": {
          "model_module": "@jupyter-widgets/controls",
          "model_name": "DescriptionStyleModel",
          "state": {
            "_view_name": "StyleView",
            "_model_name": "DescriptionStyleModel",
            "description_width": "",
            "_view_module": "@jupyter-widgets/base",
            "_model_module_version": "1.5.0",
            "_view_count": null,
            "_view_module_version": "1.2.0",
            "_model_module": "@jupyter-widgets/controls"
          }
        },
        "bef3fd3b6ff44e99829190215b0778dc": {
          "model_module": "@jupyter-widgets/base",
          "model_name": "LayoutModel",
          "state": {
            "_view_name": "LayoutView",
            "grid_template_rows": null,
            "right": null,
            "justify_content": null,
            "_view_module": "@jupyter-widgets/base",
            "overflow": null,
            "_model_module_version": "1.2.0",
            "_view_count": null,
            "flex_flow": null,
            "width": null,
            "min_width": null,
            "border": null,
            "align_items": null,
            "bottom": null,
            "_model_module": "@jupyter-widgets/base",
            "top": null,
            "grid_column": null,
            "overflow_y": null,
            "overflow_x": null,
            "grid_auto_flow": null,
            "grid_area": null,
            "grid_template_columns": null,
            "flex": null,
            "_model_name": "LayoutModel",
            "justify_items": null,
            "grid_row": null,
            "max_height": null,
            "align_content": null,
            "visibility": null,
            "align_self": null,
            "height": null,
            "min_height": null,
            "padding": null,
            "grid_auto_rows": null,
            "grid_gap": null,
            "max_width": null,
            "order": null,
            "_view_module_version": "1.2.0",
            "grid_template_areas": null,
            "object_position": null,
            "object_fit": null,
            "grid_auto_columns": null,
            "margin": null,
            "display": null,
            "left": null
          }
        },
        "77fe4a29c05e447c94427d18d9aebeb7": {
          "model_module": "@jupyter-widgets/controls",
          "model_name": "HBoxModel",
          "state": {
            "_view_name": "HBoxView",
            "_dom_classes": [],
            "_model_name": "HBoxModel",
            "_view_module": "@jupyter-widgets/controls",
            "_model_module_version": "1.5.0",
            "_view_count": null,
            "_view_module_version": "1.5.0",
            "box_style": "",
            "layout": "IPY_MODEL_97e283ae201e4dbdb65042da24e0594d",
            "_model_module": "@jupyter-widgets/controls",
            "children": [
              "IPY_MODEL_2c19edbf8b08457090aebf43ce972e14",
              "IPY_MODEL_3a201cc58a7d439783c14921b67f1b37"
            ]
          }
        },
        "97e283ae201e4dbdb65042da24e0594d": {
          "model_module": "@jupyter-widgets/base",
          "model_name": "LayoutModel",
          "state": {
            "_view_name": "LayoutView",
            "grid_template_rows": null,
            "right": null,
            "justify_content": null,
            "_view_module": "@jupyter-widgets/base",
            "overflow": null,
            "_model_module_version": "1.2.0",
            "_view_count": null,
            "flex_flow": null,
            "width": null,
            "min_width": null,
            "border": null,
            "align_items": null,
            "bottom": null,
            "_model_module": "@jupyter-widgets/base",
            "top": null,
            "grid_column": null,
            "overflow_y": null,
            "overflow_x": null,
            "grid_auto_flow": null,
            "grid_area": null,
            "grid_template_columns": null,
            "flex": null,
            "_model_name": "LayoutModel",
            "justify_items": null,
            "grid_row": null,
            "max_height": null,
            "align_content": null,
            "visibility": null,
            "align_self": null,
            "height": null,
            "min_height": null,
            "padding": null,
            "grid_auto_rows": null,
            "grid_gap": null,
            "max_width": null,
            "order": null,
            "_view_module_version": "1.2.0",
            "grid_template_areas": null,
            "object_position": null,
            "object_fit": null,
            "grid_auto_columns": null,
            "margin": null,
            "display": null,
            "left": null
          }
        },
        "2c19edbf8b08457090aebf43ce972e14": {
          "model_module": "@jupyter-widgets/controls",
          "model_name": "FloatProgressModel",
          "state": {
            "_view_name": "ProgressView",
            "style": "IPY_MODEL_c1cf65935503489fb2b7d0a6d744ed31",
            "_dom_classes": [],
            "description": "Downloading: 100%",
            "_model_name": "FloatProgressModel",
            "bar_style": "success",
            "max": 230,
            "_view_module": "@jupyter-widgets/controls",
            "_model_module_version": "1.5.0",
            "value": 230,
            "_view_count": null,
            "_view_module_version": "1.5.0",
            "orientation": "horizontal",
            "min": 0,
            "description_tooltip": null,
            "_model_module": "@jupyter-widgets/controls",
            "layout": "IPY_MODEL_53571776f9794f34a734db33c7e2a5dd"
          }
        },
        "3a201cc58a7d439783c14921b67f1b37": {
          "model_module": "@jupyter-widgets/controls",
          "model_name": "HTMLModel",
          "state": {
            "_view_name": "HTMLView",
            "style": "IPY_MODEL_a4c24addae744d1e8912ec698d2912c9",
            "_dom_classes": [],
            "description": "",
            "_model_name": "HTMLModel",
            "placeholder": "​",
            "_view_module": "@jupyter-widgets/controls",
            "_model_module_version": "1.5.0",
            "value": " 230/230 [00:00&lt;00:00, 235B/s]",
            "_view_count": null,
            "_view_module_version": "1.5.0",
            "description_tooltip": null,
            "_model_module": "@jupyter-widgets/controls",
            "layout": "IPY_MODEL_23b914d2eea2417986b572301325955e"
          }
        },
        "c1cf65935503489fb2b7d0a6d744ed31": {
          "model_module": "@jupyter-widgets/controls",
          "model_name": "ProgressStyleModel",
          "state": {
            "_view_name": "StyleView",
            "_model_name": "ProgressStyleModel",
            "description_width": "initial",
            "_view_module": "@jupyter-widgets/base",
            "_model_module_version": "1.5.0",
            "_view_count": null,
            "_view_module_version": "1.2.0",
            "bar_color": null,
            "_model_module": "@jupyter-widgets/controls"
          }
        },
        "53571776f9794f34a734db33c7e2a5dd": {
          "model_module": "@jupyter-widgets/base",
          "model_name": "LayoutModel",
          "state": {
            "_view_name": "LayoutView",
            "grid_template_rows": null,
            "right": null,
            "justify_content": null,
            "_view_module": "@jupyter-widgets/base",
            "overflow": null,
            "_model_module_version": "1.2.0",
            "_view_count": null,
            "flex_flow": null,
            "width": null,
            "min_width": null,
            "border": null,
            "align_items": null,
            "bottom": null,
            "_model_module": "@jupyter-widgets/base",
            "top": null,
            "grid_column": null,
            "overflow_y": null,
            "overflow_x": null,
            "grid_auto_flow": null,
            "grid_area": null,
            "grid_template_columns": null,
            "flex": null,
            "_model_name": "LayoutModel",
            "justify_items": null,
            "grid_row": null,
            "max_height": null,
            "align_content": null,
            "visibility": null,
            "align_self": null,
            "height": null,
            "min_height": null,
            "padding": null,
            "grid_auto_rows": null,
            "grid_gap": null,
            "max_width": null,
            "order": null,
            "_view_module_version": "1.2.0",
            "grid_template_areas": null,
            "object_position": null,
            "object_fit": null,
            "grid_auto_columns": null,
            "margin": null,
            "display": null,
            "left": null
          }
        },
        "a4c24addae744d1e8912ec698d2912c9": {
          "model_module": "@jupyter-widgets/controls",
          "model_name": "DescriptionStyleModel",
          "state": {
            "_view_name": "StyleView",
            "_model_name": "DescriptionStyleModel",
            "description_width": "",
            "_view_module": "@jupyter-widgets/base",
            "_model_module_version": "1.5.0",
            "_view_count": null,
            "_view_module_version": "1.2.0",
            "_model_module": "@jupyter-widgets/controls"
          }
        },
        "23b914d2eea2417986b572301325955e": {
          "model_module": "@jupyter-widgets/base",
          "model_name": "LayoutModel",
          "state": {
            "_view_name": "LayoutView",
            "grid_template_rows": null,
            "right": null,
            "justify_content": null,
            "_view_module": "@jupyter-widgets/base",
            "overflow": null,
            "_model_module_version": "1.2.0",
            "_view_count": null,
            "flex_flow": null,
            "width": null,
            "min_width": null,
            "border": null,
            "align_items": null,
            "bottom": null,
            "_model_module": "@jupyter-widgets/base",
            "top": null,
            "grid_column": null,
            "overflow_y": null,
            "overflow_x": null,
            "grid_auto_flow": null,
            "grid_area": null,
            "grid_template_columns": null,
            "flex": null,
            "_model_name": "LayoutModel",
            "justify_items": null,
            "grid_row": null,
            "max_height": null,
            "align_content": null,
            "visibility": null,
            "align_self": null,
            "height": null,
            "min_height": null,
            "padding": null,
            "grid_auto_rows": null,
            "grid_gap": null,
            "max_width": null,
            "order": null,
            "_view_module_version": "1.2.0",
            "grid_template_areas": null,
            "object_position": null,
            "object_fit": null,
            "grid_auto_columns": null,
            "margin": null,
            "display": null,
            "left": null
          }
        }
      }
    }
  },
  "cells": [
    {
      "cell_type": "markdown",
      "metadata": {
        "id": "gvon_hH2C87M"
      },
      "source": [
        "# **INF8460 A20 Project: Open-domain questions answering**\n",
        "\n",
        "<br>\n",
        "\n",
        "Equipe 8:\n",
        "\n",
        "\n",
        "*   Cedric Sadeu\n",
        "*   Mamoudou Sacko\n",
        "*   Oumayma Messoussi\n",
        "\n",
        "<br>\n",
        "\n",
        "---\n",
        "\n",
        "<br>"
      ]
    },
    {
      "cell_type": "code",
      "metadata": {
        "id": "sMtbIoAD31sx",
        "outputId": "8981808c-a80a-4a06-be3d-cf858b9559e7",
        "colab": {
          "base_uri": "https://localhost:8080/"
        }
      },
      "source": [
        "!pip install transformers"
      ],
      "execution_count": 1,
      "outputs": [
        {
          "output_type": "stream",
          "text": [
            "Collecting transformers\n",
            "\u001b[?25l  Downloading https://files.pythonhosted.org/packages/2c/4e/4f1ede0fd7a36278844a277f8d53c21f88f37f3754abf76a5d6224f76d4a/transformers-3.4.0-py3-none-any.whl (1.3MB)\n",
            "\r\u001b[K     |▎                               | 10kB 20.9MB/s eta 0:00:01\r\u001b[K     |▌                               | 20kB 3.0MB/s eta 0:00:01\r\u001b[K     |▉                               | 30kB 3.7MB/s eta 0:00:01\r\u001b[K     |█                               | 40kB 4.1MB/s eta 0:00:01\r\u001b[K     |█▎                              | 51kB 3.5MB/s eta 0:00:01\r\u001b[K     |█▋                              | 61kB 3.9MB/s eta 0:00:01\r\u001b[K     |█▉                              | 71kB 4.2MB/s eta 0:00:01\r\u001b[K     |██                              | 81kB 4.7MB/s eta 0:00:01\r\u001b[K     |██▍                             | 92kB 4.9MB/s eta 0:00:01\r\u001b[K     |██▋                             | 102kB 4.8MB/s eta 0:00:01\r\u001b[K     |██▉                             | 112kB 4.8MB/s eta 0:00:01\r\u001b[K     |███▏                            | 122kB 4.8MB/s eta 0:00:01\r\u001b[K     |███▍                            | 133kB 4.8MB/s eta 0:00:01\r\u001b[K     |███▋                            | 143kB 4.8MB/s eta 0:00:01\r\u001b[K     |████                            | 153kB 4.8MB/s eta 0:00:01\r\u001b[K     |████▏                           | 163kB 4.8MB/s eta 0:00:01\r\u001b[K     |████▍                           | 174kB 4.8MB/s eta 0:00:01\r\u001b[K     |████▊                           | 184kB 4.8MB/s eta 0:00:01\r\u001b[K     |█████                           | 194kB 4.8MB/s eta 0:00:01\r\u001b[K     |█████▏                          | 204kB 4.8MB/s eta 0:00:01\r\u001b[K     |█████▌                          | 215kB 4.8MB/s eta 0:00:01\r\u001b[K     |█████▊                          | 225kB 4.8MB/s eta 0:00:01\r\u001b[K     |██████                          | 235kB 4.8MB/s eta 0:00:01\r\u001b[K     |██████▎                         | 245kB 4.8MB/s eta 0:00:01\r\u001b[K     |██████▌                         | 256kB 4.8MB/s eta 0:00:01\r\u001b[K     |██████▊                         | 266kB 4.8MB/s eta 0:00:01\r\u001b[K     |███████                         | 276kB 4.8MB/s eta 0:00:01\r\u001b[K     |███████▎                        | 286kB 4.8MB/s eta 0:00:01\r\u001b[K     |███████▋                        | 296kB 4.8MB/s eta 0:00:01\r\u001b[K     |███████▉                        | 307kB 4.8MB/s eta 0:00:01\r\u001b[K     |████████                        | 317kB 4.8MB/s eta 0:00:01\r\u001b[K     |████████▍                       | 327kB 4.8MB/s eta 0:00:01\r\u001b[K     |████████▋                       | 337kB 4.8MB/s eta 0:00:01\r\u001b[K     |████████▉                       | 348kB 4.8MB/s eta 0:00:01\r\u001b[K     |█████████▏                      | 358kB 4.8MB/s eta 0:00:01\r\u001b[K     |█████████▍                      | 368kB 4.8MB/s eta 0:00:01\r\u001b[K     |█████████▋                      | 378kB 4.8MB/s eta 0:00:01\r\u001b[K     |██████████                      | 389kB 4.8MB/s eta 0:00:01\r\u001b[K     |██████████▏                     | 399kB 4.8MB/s eta 0:00:01\r\u001b[K     |██████████▍                     | 409kB 4.8MB/s eta 0:00:01\r\u001b[K     |██████████▊                     | 419kB 4.8MB/s eta 0:00:01\r\u001b[K     |███████████                     | 430kB 4.8MB/s eta 0:00:01\r\u001b[K     |███████████▏                    | 440kB 4.8MB/s eta 0:00:01\r\u001b[K     |███████████▌                    | 450kB 4.8MB/s eta 0:00:01\r\u001b[K     |███████████▊                    | 460kB 4.8MB/s eta 0:00:01\r\u001b[K     |████████████                    | 471kB 4.8MB/s eta 0:00:01\r\u001b[K     |████████████▎                   | 481kB 4.8MB/s eta 0:00:01\r\u001b[K     |████████████▌                   | 491kB 4.8MB/s eta 0:00:01\r\u001b[K     |████████████▊                   | 501kB 4.8MB/s eta 0:00:01\r\u001b[K     |█████████████                   | 512kB 4.8MB/s eta 0:00:01\r\u001b[K     |█████████████▎                  | 522kB 4.8MB/s eta 0:00:01\r\u001b[K     |█████████████▌                  | 532kB 4.8MB/s eta 0:00:01\r\u001b[K     |█████████████▉                  | 542kB 4.8MB/s eta 0:00:01\r\u001b[K     |██████████████                  | 552kB 4.8MB/s eta 0:00:01\r\u001b[K     |██████████████▍                 | 563kB 4.8MB/s eta 0:00:01\r\u001b[K     |██████████████▋                 | 573kB 4.8MB/s eta 0:00:01\r\u001b[K     |██████████████▉                 | 583kB 4.8MB/s eta 0:00:01\r\u001b[K     |███████████████▏                | 593kB 4.8MB/s eta 0:00:01\r\u001b[K     |███████████████▍                | 604kB 4.8MB/s eta 0:00:01\r\u001b[K     |███████████████▋                | 614kB 4.8MB/s eta 0:00:01\r\u001b[K     |████████████████                | 624kB 4.8MB/s eta 0:00:01\r\u001b[K     |████████████████▏               | 634kB 4.8MB/s eta 0:00:01\r\u001b[K     |████████████████▍               | 645kB 4.8MB/s eta 0:00:01\r\u001b[K     |████████████████▊               | 655kB 4.8MB/s eta 0:00:01\r\u001b[K     |█████████████████               | 665kB 4.8MB/s eta 0:00:01\r\u001b[K     |█████████████████▏              | 675kB 4.8MB/s eta 0:00:01\r\u001b[K     |█████████████████▌              | 686kB 4.8MB/s eta 0:00:01\r\u001b[K     |█████████████████▊              | 696kB 4.8MB/s eta 0:00:01\r\u001b[K     |██████████████████              | 706kB 4.8MB/s eta 0:00:01\r\u001b[K     |██████████████████▎             | 716kB 4.8MB/s eta 0:00:01\r\u001b[K     |██████████████████▌             | 727kB 4.8MB/s eta 0:00:01\r\u001b[K     |██████████████████▊             | 737kB 4.8MB/s eta 0:00:01\r\u001b[K     |███████████████████             | 747kB 4.8MB/s eta 0:00:01\r\u001b[K     |███████████████████▎            | 757kB 4.8MB/s eta 0:00:01\r\u001b[K     |███████████████████▌            | 768kB 4.8MB/s eta 0:00:01\r\u001b[K     |███████████████████▉            | 778kB 4.8MB/s eta 0:00:01\r\u001b[K     |████████████████████            | 788kB 4.8MB/s eta 0:00:01\r\u001b[K     |████████████████████▎           | 798kB 4.8MB/s eta 0:00:01\r\u001b[K     |████████████████████▋           | 808kB 4.8MB/s eta 0:00:01\r\u001b[K     |████████████████████▉           | 819kB 4.8MB/s eta 0:00:01\r\u001b[K     |█████████████████████           | 829kB 4.8MB/s eta 0:00:01\r\u001b[K     |█████████████████████▍          | 839kB 4.8MB/s eta 0:00:01\r\u001b[K     |█████████████████████▋          | 849kB 4.8MB/s eta 0:00:01\r\u001b[K     |██████████████████████          | 860kB 4.8MB/s eta 0:00:01\r\u001b[K     |██████████████████████▏         | 870kB 4.8MB/s eta 0:00:01\r\u001b[K     |██████████████████████▍         | 880kB 4.8MB/s eta 0:00:01\r\u001b[K     |██████████████████████▊         | 890kB 4.8MB/s eta 0:00:01\r\u001b[K     |███████████████████████         | 901kB 4.8MB/s eta 0:00:01\r\u001b[K     |███████████████████████▏        | 911kB 4.8MB/s eta 0:00:01\r\u001b[K     |███████████████████████▌        | 921kB 4.8MB/s eta 0:00:01\r\u001b[K     |███████████████████████▊        | 931kB 4.8MB/s eta 0:00:01\r\u001b[K     |████████████████████████        | 942kB 4.8MB/s eta 0:00:01\r\u001b[K     |████████████████████████▎       | 952kB 4.8MB/s eta 0:00:01\r\u001b[K     |████████████████████████▌       | 962kB 4.8MB/s eta 0:00:01\r\u001b[K     |████████████████████████▊       | 972kB 4.8MB/s eta 0:00:01\r\u001b[K     |█████████████████████████       | 983kB 4.8MB/s eta 0:00:01\r\u001b[K     |█████████████████████████▎      | 993kB 4.8MB/s eta 0:00:01\r\u001b[K     |█████████████████████████▌      | 1.0MB 4.8MB/s eta 0:00:01\r\u001b[K     |█████████████████████████▉      | 1.0MB 4.8MB/s eta 0:00:01\r\u001b[K     |██████████████████████████      | 1.0MB 4.8MB/s eta 0:00:01\r\u001b[K     |██████████████████████████▎     | 1.0MB 4.8MB/s eta 0:00:01\r\u001b[K     |██████████████████████████▋     | 1.0MB 4.8MB/s eta 0:00:01\r\u001b[K     |██████████████████████████▉     | 1.1MB 4.8MB/s eta 0:00:01\r\u001b[K     |███████████████████████████     | 1.1MB 4.8MB/s eta 0:00:01\r\u001b[K     |███████████████████████████▍    | 1.1MB 4.8MB/s eta 0:00:01\r\u001b[K     |███████████████████████████▋    | 1.1MB 4.8MB/s eta 0:00:01\r\u001b[K     |███████████████████████████▉    | 1.1MB 4.8MB/s eta 0:00:01\r\u001b[K     |████████████████████████████▏   | 1.1MB 4.8MB/s eta 0:00:01\r\u001b[K     |████████████████████████████▍   | 1.1MB 4.8MB/s eta 0:00:01\r\u001b[K     |████████████████████████████▊   | 1.1MB 4.8MB/s eta 0:00:01\r\u001b[K     |█████████████████████████████   | 1.1MB 4.8MB/s eta 0:00:01\r\u001b[K     |█████████████████████████████▏  | 1.1MB 4.8MB/s eta 0:00:01\r\u001b[K     |█████████████████████████████▌  | 1.2MB 4.8MB/s eta 0:00:01\r\u001b[K     |█████████████████████████████▊  | 1.2MB 4.8MB/s eta 0:00:01\r\u001b[K     |██████████████████████████████  | 1.2MB 4.8MB/s eta 0:00:01\r\u001b[K     |██████████████████████████████▎ | 1.2MB 4.8MB/s eta 0:00:01\r\u001b[K     |██████████████████████████████▌ | 1.2MB 4.8MB/s eta 0:00:01\r\u001b[K     |██████████████████████████████▊ | 1.2MB 4.8MB/s eta 0:00:01\r\u001b[K     |███████████████████████████████ | 1.2MB 4.8MB/s eta 0:00:01\r\u001b[K     |███████████████████████████████▎| 1.2MB 4.8MB/s eta 0:00:01\r\u001b[K     |███████████████████████████████▌| 1.2MB 4.8MB/s eta 0:00:01\r\u001b[K     |███████████████████████████████▉| 1.2MB 4.8MB/s eta 0:00:01\r\u001b[K     |████████████████████████████████| 1.3MB 4.8MB/s \n",
            "\u001b[?25hRequirement already satisfied: numpy in /usr/local/lib/python3.6/dist-packages (from transformers) (1.18.5)\n",
            "Requirement already satisfied: requests in /usr/local/lib/python3.6/dist-packages (from transformers) (2.23.0)\n",
            "Collecting sentencepiece!=0.1.92\n",
            "\u001b[?25l  Downloading https://files.pythonhosted.org/packages/e5/2d/6d4ca4bef9a67070fa1cac508606328329152b1df10bdf31fb6e4e727894/sentencepiece-0.1.94-cp36-cp36m-manylinux2014_x86_64.whl (1.1MB)\n",
            "\u001b[K     |████████████████████████████████| 1.1MB 28.6MB/s \n",
            "\u001b[?25hRequirement already satisfied: tqdm>=4.27 in /usr/local/lib/python3.6/dist-packages (from transformers) (4.41.1)\n",
            "Collecting sacremoses\n",
            "\u001b[?25l  Downloading https://files.pythonhosted.org/packages/7d/34/09d19aff26edcc8eb2a01bed8e98f13a1537005d31e95233fd48216eed10/sacremoses-0.0.43.tar.gz (883kB)\n",
            "\u001b[K     |████████████████████████████████| 890kB 46.3MB/s \n",
            "\u001b[?25hRequirement already satisfied: dataclasses; python_version < \"3.7\" in /usr/local/lib/python3.6/dist-packages (from transformers) (0.7)\n",
            "Requirement already satisfied: filelock in /usr/local/lib/python3.6/dist-packages (from transformers) (3.0.12)\n",
            "Collecting tokenizers==0.9.2\n",
            "\u001b[?25l  Downloading https://files.pythonhosted.org/packages/7c/a5/78be1a55b2ac8d6a956f0a211d372726e2b1dd2666bb537fea9b03abd62c/tokenizers-0.9.2-cp36-cp36m-manylinux1_x86_64.whl (2.9MB)\n",
            "\u001b[K     |████████████████████████████████| 2.9MB 50.0MB/s \n",
            "\u001b[?25hRequirement already satisfied: protobuf in /usr/local/lib/python3.6/dist-packages (from transformers) (3.12.4)\n",
            "Requirement already satisfied: regex!=2019.12.17 in /usr/local/lib/python3.6/dist-packages (from transformers) (2019.12.20)\n",
            "Requirement already satisfied: packaging in /usr/local/lib/python3.6/dist-packages (from transformers) (20.4)\n",
            "Requirement already satisfied: idna<3,>=2.5 in /usr/local/lib/python3.6/dist-packages (from requests->transformers) (2.10)\n",
            "Requirement already satisfied: chardet<4,>=3.0.2 in /usr/local/lib/python3.6/dist-packages (from requests->transformers) (3.0.4)\n",
            "Requirement already satisfied: certifi>=2017.4.17 in /usr/local/lib/python3.6/dist-packages (from requests->transformers) (2020.6.20)\n",
            "Requirement already satisfied: urllib3!=1.25.0,!=1.25.1,<1.26,>=1.21.1 in /usr/local/lib/python3.6/dist-packages (from requests->transformers) (1.24.3)\n",
            "Requirement already satisfied: six in /usr/local/lib/python3.6/dist-packages (from sacremoses->transformers) (1.15.0)\n",
            "Requirement already satisfied: click in /usr/local/lib/python3.6/dist-packages (from sacremoses->transformers) (7.1.2)\n",
            "Requirement already satisfied: joblib in /usr/local/lib/python3.6/dist-packages (from sacremoses->transformers) (0.17.0)\n",
            "Requirement already satisfied: setuptools in /usr/local/lib/python3.6/dist-packages (from protobuf->transformers) (50.3.2)\n",
            "Requirement already satisfied: pyparsing>=2.0.2 in /usr/local/lib/python3.6/dist-packages (from packaging->transformers) (2.4.7)\n",
            "Building wheels for collected packages: sacremoses\n",
            "  Building wheel for sacremoses (setup.py) ... \u001b[?25l\u001b[?25hdone\n",
            "  Created wheel for sacremoses: filename=sacremoses-0.0.43-cp36-none-any.whl size=893257 sha256=30a33e73df1c9122ddd1b80af3fbe2efa1bf6c0e24dab3638044e5efa16c24a0\n",
            "  Stored in directory: /root/.cache/pip/wheels/29/3c/fd/7ce5c3f0666dab31a50123635e6fb5e19ceb42ce38d4e58f45\n",
            "Successfully built sacremoses\n",
            "Installing collected packages: sentencepiece, sacremoses, tokenizers, transformers\n",
            "Successfully installed sacremoses-0.0.43 sentencepiece-0.1.94 tokenizers-0.9.2 transformers-3.4.0\n"
          ],
          "name": "stdout"
        }
      ]
    },
    {
      "cell_type": "code",
      "metadata": {
        "id": "xxkOcrpE4tCW"
      },
      "source": [
        "import torch\n",
        "import numpy as np\n",
        "from transformers import pipeline, Trainer, TrainingArguments\n",
        "from sklearn.metrics import accuracy_score, precision_recall_fscore_support\n",
        "from transformers import AutoTokenizer, AutoModelForQuestionAnswering, BertTokenizer, BertModel, BertForQuestionAnswering"
      ],
      "execution_count": 2,
      "outputs": []
    },
    {
      "cell_type": "markdown",
      "metadata": {
        "id": "7xJqabvHFNvq"
      },
      "source": [
        "\n",
        "\n",
        "---\n",
        "\n",
        "<br>\n",
        "\n",
        "## **1. Plongements lexicaux**\n",
        "\n",
        "### Lecture des donnees"
      ]
    },
    {
      "cell_type": "code",
      "metadata": {
        "id": "BSVtCiWK-_Ut"
      },
      "source": [
        ""
      ],
      "execution_count": null,
      "outputs": []
    },
    {
      "cell_type": "markdown",
      "metadata": {
        "id": "bQREt5DLDV1E"
      },
      "source": [
        "### TF-IDF"
      ]
    },
    {
      "cell_type": "code",
      "metadata": {
        "id": "x5mTUyWXDXj7"
      },
      "source": [
        ""
      ],
      "execution_count": null,
      "outputs": []
    },
    {
      "cell_type": "markdown",
      "metadata": {
        "id": "7njiavPiDYDu"
      },
      "source": [
        "### GloVe"
      ]
    },
    {
      "cell_type": "code",
      "metadata": {
        "id": "7c0c06T2DZX1"
      },
      "source": [
        ""
      ],
      "execution_count": null,
      "outputs": []
    },
    {
      "cell_type": "markdown",
      "metadata": {
        "id": "xDGfEFkqDaBy"
      },
      "source": [
        "### Plongements contextuels pré-entraînés / non pré-entraînés"
      ]
    },
    {
      "cell_type": "markdown",
      "metadata": {
        "id": "ZdpH4bcTGFd5"
      },
      "source": [
        "\n",
        "\n",
        "> #### Huggingface ready pipeline\n",
        "\n"
      ]
    },
    {
      "cell_type": "code",
      "metadata": {
        "id": "eoAa99LV85Ug",
        "outputId": "2b093b39-008d-47cc-e5f0-ca10e4b8394e",
        "colab": {
          "base_uri": "https://localhost:8080/",
          "height": 290,
          "referenced_widgets": [
            "6984723399ad4429a78be66fead09207",
            "4792c5db1d1045f98440ef4ca34b433c",
            "30d4f585019e465a94958402d26bde1d",
            "1d9e9b5dbe094c33a3176780ff37b9f1",
            "c135251c65474c4b9d8df448cea1be6e",
            "9ef19809a9c147ec83e5c7e94c555c9c",
            "27e7045593af4d63a4c1fdd31e719c20",
            "a6a0c7287e7b489ca1bb5d8100af8b99",
            "594581a8da644221a1c41a298ed4b39d",
            "0bfa0231a34040e6b252629f85399b59",
            "8ac6053a92c24954b1d2e67edadebd65",
            "a53cecd910c54965acbff9d5b1dbfc21",
            "82c5a18e88f94fd9bc745fde8a369c27",
            "b01380a6701f491e8412580ad0b01262",
            "9270001477b54b50a389f04c2406c6f4",
            "bf3a5271b73f452188b40e6602771780",
            "5edaed461fdc44219061b87f71dc4957",
            "0a6d742b0ccd4cd38f2e6510dc486b4b",
            "b4028828b1ea4f1689e406da40bf7adb",
            "ea8f52bc3b5f44c290833426acee4c89",
            "eecccd9cfb6d41a194556fee365c869c",
            "3086765b1fb942738e2717619ebadcf7",
            "8486f5fda8b4459d97968dabfd5a4f23",
            "bef3fd3b6ff44e99829190215b0778dc",
            "77fe4a29c05e447c94427d18d9aebeb7",
            "97e283ae201e4dbdb65042da24e0594d",
            "2c19edbf8b08457090aebf43ce972e14",
            "3a201cc58a7d439783c14921b67f1b37",
            "c1cf65935503489fb2b7d0a6d744ed31",
            "53571776f9794f34a734db33c7e2a5dd",
            "a4c24addae744d1e8912ec698d2912c9",
            "23b914d2eea2417986b572301325955e"
          ]
        }
      },
      "source": [
        "question = \"How many parameters does BERT-large have?\"\n",
        "answer_text = r\"\"\"BERT-large is really big... it has 24-layers and an embedding size of 1,024, \n",
        "                  for a total of 340M parameters! Altogether it is 1.34GB, so expect it to take \n",
        "                  a couple minutes to download to your Colab instance.\"\"\"\n",
        "\n",
        "nlp = pipeline(\"question-answering\")\n",
        "result = nlp(question=question, context=answer_text)\n",
        "print(f\"Answer: '{result['answer']}', score: {round(result['score'], 4)}, start: {result['start']}, end: {result['end']}\")"
      ],
      "execution_count": 25,
      "outputs": [
        {
          "output_type": "display_data",
          "data": {
            "application/vnd.jupyter.widget-view+json": {
              "model_id": "6984723399ad4429a78be66fead09207",
              "version_minor": 0,
              "version_major": 2
            },
            "text/plain": [
              "HBox(children=(FloatProgress(value=0.0, description='Downloading', max=473.0, style=ProgressStyle(description_…"
            ]
          },
          "metadata": {
            "tags": []
          }
        },
        {
          "output_type": "stream",
          "text": [
            "\n"
          ],
          "name": "stdout"
        },
        {
          "output_type": "display_data",
          "data": {
            "application/vnd.jupyter.widget-view+json": {
              "model_id": "594581a8da644221a1c41a298ed4b39d",
              "version_minor": 0,
              "version_major": 2
            },
            "text/plain": [
              "HBox(children=(FloatProgress(value=0.0, description='Downloading', max=260793700.0, style=ProgressStyle(descri…"
            ]
          },
          "metadata": {
            "tags": []
          }
        },
        {
          "output_type": "stream",
          "text": [
            "\n"
          ],
          "name": "stdout"
        },
        {
          "output_type": "display_data",
          "data": {
            "application/vnd.jupyter.widget-view+json": {
              "model_id": "5edaed461fdc44219061b87f71dc4957",
              "version_minor": 0,
              "version_major": 2
            },
            "text/plain": [
              "HBox(children=(FloatProgress(value=0.0, description='Downloading', max=213450.0, style=ProgressStyle(descripti…"
            ]
          },
          "metadata": {
            "tags": []
          }
        },
        {
          "output_type": "stream",
          "text": [
            "\n"
          ],
          "name": "stdout"
        },
        {
          "output_type": "display_data",
          "data": {
            "application/vnd.jupyter.widget-view+json": {
              "model_id": "77fe4a29c05e447c94427d18d9aebeb7",
              "version_minor": 0,
              "version_major": 2
            },
            "text/plain": [
              "HBox(children=(FloatProgress(value=0.0, description='Downloading', max=230.0, style=ProgressStyle(description_…"
            ]
          },
          "metadata": {
            "tags": []
          }
        },
        {
          "output_type": "stream",
          "text": [
            "\n"
          ],
          "name": "stdout"
        },
        {
          "output_type": "stream",
          "text": [
            "/usr/local/lib/python3.6/dist-packages/transformers/tokenization_utils_base.py:1374: FutureWarning: The `max_len` attribute has been deprecated and will be removed in a future version, use `model_max_length` instead.\n",
            "  FutureWarning,\n"
          ],
          "name": "stderr"
        },
        {
          "output_type": "stream",
          "text": [
            "Answer: '340M', score: 0.7121, start: 111, end: 115\n"
          ],
          "name": "stdout"
        }
      ]
    },
    {
      "cell_type": "markdown",
      "metadata": {
        "id": "-8j7a2v3hCsO"
      },
      "source": [
        "\n",
        "\n",
        "> #### DistilBERT SQuAD pre-trained\n",
        "\n"
      ]
    },
    {
      "cell_type": "code",
      "metadata": {
        "id": "0f_V0EC6GHZ5",
        "outputId": "6b3a4dcf-f8ae-419d-f6aa-7c87f3be32d6",
        "colab": {
          "base_uri": "https://localhost:8080/"
        }
      },
      "source": [
        "questions = [\"How many parameters does BERT-large have?\"]\n",
        "answer_text = r\"\"\"BERT-large is really big... it has 24-layers and an embedding size of 1,024, \n",
        "                  for a total of 340M parameters! Altogether it is 1.34GB, so expect it to take \n",
        "                  a couple minutes to download to your Colab instance.\"\"\"\n",
        "\n",
        "model = AutoModelForQuestionAnswering.from_pretrained(\"distilbert-base-cased-distilled-squad\", \n",
        "                                                      return_dict=True, output_hidden_states = True)\n",
        "tokenizer = AutoTokenizer.from_pretrained(\"distilbert-base-cased-distilled-squad\", return_dict=True)\n",
        "\n",
        "for question in questions:\n",
        "    inputs = tokenizer(question, answer_text, add_special_tokens=True, return_tensors=\"pt\")\n",
        "    input_ids = inputs[\"input_ids\"].tolist()[0]\n",
        "\n",
        "    text_tokens = tokenizer.convert_ids_to_tokens(input_ids)\n",
        "\n",
        "    # display tokens and ids\n",
        "    for token, id in zip(text_tokens, input_ids):\n",
        "        if id == tokenizer.sep_token_id:\n",
        "            print('')\n",
        "        print('{:<12} {:>6,}'.format(token, id))\n",
        "        if id == tokenizer.sep_token_id:\n",
        "            print('')\n",
        "\n",
        "    outputs = model(**inputs)\n",
        "\n",
        "    last_hidden_states = outputs.hidden_states[-1]\n",
        "    print(last_hidden_states.shape)\n",
        "\n",
        "    answer_start = torch.argmax(outputs.start_logits)\n",
        "    answer_end = torch.argmax(outputs.end_logits) + 1\n",
        "\n",
        "    answer = tokenizer.convert_tokens_to_string(tokenizer.convert_ids_to_tokens(input_ids[answer_start:answer_end]))\n",
        "\n",
        "    print(f\"Question: {question}\")\n",
        "    print(f\"Answer: {answer}, start: {answer_start}, end: {answer_end}\")"
      ],
      "execution_count": 35,
      "outputs": [
        {
          "output_type": "stream",
          "text": [
            "[CLS]           101\n",
            "How           1,731\n",
            "many          1,242\n",
            "parameters   11,934\n",
            "does          1,674\n",
            "B               139\n",
            "##ER          9,637\n",
            "##T           1,942\n",
            "-               118\n",
            "large         1,415\n",
            "have          1,138\n",
            "?               136\n",
            "\n",
            "[SEP]           102\n",
            "\n",
            "B               139\n",
            "##ER          9,637\n",
            "##T           1,942\n",
            "-               118\n",
            "large         1,415\n",
            "is            1,110\n",
            "really        1,541\n",
            "big           1,992\n",
            ".               119\n",
            ".               119\n",
            ".               119\n",
            "it            1,122\n",
            "has           1,144\n",
            "24            1,572\n",
            "-               118\n",
            "layers        8,798\n",
            "and           1,105\n",
            "an            1,126\n",
            "em            9,712\n",
            "##bed         4,774\n",
            "##ding        3,408\n",
            "size          2,060\n",
            "of            1,104\n",
            "1               122\n",
            ",               117\n",
            "02            5,507\n",
            "##4           1,527\n",
            ",               117\n",
            "for           1,111\n",
            "a               170\n",
            "total         1,703\n",
            "of            1,104\n",
            "340          16,984\n",
            "##M           2,107\n",
            "parameters   11,934\n",
            "!               106\n",
            "Alto         17,762\n",
            "##get        16,609\n",
            "##her         4,679\n",
            "it            1,122\n",
            "is            1,110\n",
            "1               122\n",
            ".               119\n",
            "34            3,236\n",
            "##GB         13,745\n",
            ",               117\n",
            "so            1,177\n",
            "expect        5,363\n",
            "it            1,122\n",
            "to            1,106\n",
            "take          1,321\n",
            "a               170\n",
            "couple        2,337\n",
            "minutes       1,904\n",
            "to            1,106\n",
            "download      9,133\n",
            "to            1,106\n",
            "your          1,240\n",
            "Cola         17,492\n",
            "##b           1,830\n",
            "instance      5,374\n",
            ".               119\n",
            "\n",
            "[SEP]           102\n",
            "\n",
            "torch.Size([1, 76, 768])\n",
            "Question: How many parameters does BERT-large have?\n",
            "Answer: 340M, start: 45, end: 47\n"
          ],
          "name": "stdout"
        }
      ]
    },
    {
      "cell_type": "markdown",
      "metadata": {
        "id": "3FEyx474lvfY"
      },
      "source": [
        "> #### BERT base pre-trained"
      ]
    },
    {
      "cell_type": "code",
      "metadata": {
        "id": "VxtmBinzK9P5",
        "outputId": "6ca3b65e-be99-419a-ce3b-c59370043e0b",
        "colab": {
          "base_uri": "https://localhost:8080/"
        }
      },
      "source": [
        "torch.cuda.set_device(0)\n",
        "\n",
        "questions = [\"How many parameters does BERT-large have?\"]\n",
        "answer_text = r\"\"\"BERT-large is really big... it has 24-layers and an embedding size of 1,024, \n",
        "                  for a total of 340M parameters! Altogether it is 1.34GB, so expect it to take \n",
        "                  a couple minutes to download to your Colab instance.\"\"\"\n",
        "\n",
        "model = BertModel.from_pretrained(\"bert-base-cased\", return_dict=True)\n",
        "tokenizer = BertTokenizer.from_pretrained(\"bert-base-cased\")\n",
        "\n",
        "# device = 'cuda' if torch.cuda.is_available() else 'cpu'\n",
        "# print(device)\n",
        "# # model = model.to(device)\n",
        "\n",
        "for question in questions:\n",
        "    inputs = tokenizer(question, return_tensors=\"pt\")\n",
        "    input_ids = inputs[\"input_ids\"].tolist()[0]\n",
        "\n",
        "    text_tokens = tokenizer.convert_ids_to_tokens(input_ids)\n",
        "\n",
        "    # display tokens and ids\n",
        "    for token, id in zip(text_tokens, input_ids):\n",
        "        if id == tokenizer.sep_token_id:\n",
        "            print('')\n",
        "        print('{:<12} {:>6,}'.format(token, id))\n",
        "        if id == tokenizer.sep_token_id:\n",
        "            print('')\n",
        "\n",
        "    outputs = model(**inputs)\n",
        "\n",
        "    last_hidden_states = outputs.last_hidden_state\n",
        "    print(last_hidden_states.shape)"
      ],
      "execution_count": 25,
      "outputs": [
        {
          "output_type": "stream",
          "text": [
            "[CLS]           101\n",
            "How           1,731\n",
            "many          1,242\n",
            "parameters   11,934\n",
            "does          1,674\n",
            "B               139\n",
            "##ER          9,637\n",
            "##T           1,942\n",
            "-               118\n",
            "large         1,415\n",
            "have          1,138\n",
            "?               136\n",
            "\n",
            "[SEP]           102\n",
            "\n",
            "torch.Size([1, 13, 768])\n"
          ],
          "name": "stdout"
        }
      ]
    },
    {
      "cell_type": "markdown",
      "metadata": {
        "id": "NOL6YSl_l1Af"
      },
      "source": [
        "> #### DistilBERT SQuAD training"
      ]
    },
    {
      "cell_type": "code",
      "metadata": {
        "id": "H7ZSxgj2LEvb"
      },
      "source": [
        ""
      ],
      "execution_count": null,
      "outputs": []
    }
  ]
}