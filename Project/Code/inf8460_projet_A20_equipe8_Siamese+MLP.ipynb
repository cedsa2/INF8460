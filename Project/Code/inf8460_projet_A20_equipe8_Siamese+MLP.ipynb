{
  "nbformat": 4,
  "nbformat_minor": 0,
  "metadata": {
    "colab": {
      "name": "inf8460_projet_A20_equipe8_Siamese+MLP.ipynb",
      "provenance": [],
      "collapsed_sections": [
        "bQREt5DLDV1E",
        "7njiavPiDYDu"
      ],
      "machine_shape": "hm"
    },
    "kernelspec": {
      "name": "python3",
      "display_name": "Python 3"
    },
    "accelerator": "GPU"
  },
  "cells": [
    {
      "cell_type": "markdown",
      "metadata": {
        "id": "gvon_hH2C87M"
      },
      "source": [
        "# **INF8460 A20 Project: Siamese and NLP models**\n",
        "\n",
        "<br>\n",
        "\n",
        "Equipe 8:\n",
        "\n",
        "\n",
        "*   Cedric Sadeu \n",
        "*   Mamoudou Sacko \n",
        "*   Oumayma Messoussi \n",
        "\n",
        "<br>\n",
        "\n",
        "---\n",
        "\n",
        "<br>"
      ]
    },
    {
      "cell_type": "code",
      "metadata": {
        "id": "sMtbIoAD31sx",
        "colab": {
          "base_uri": "https://localhost:8080/"
        },
        "outputId": "c30626e9-7fba-485f-87e1-17a62defff4f"
      },
      "source": [
        "!pip install sent2vec transformers pytorch-pretrained-bert keybert -q # pytorch-nlp pytorch_transformers"
      ],
      "execution_count": null,
      "outputs": [
        {
          "output_type": "stream",
          "text": [
            "\u001b[K     |████████████████████████████████| 1.4MB 12.9MB/s \n",
            "\u001b[K     |████████████████████████████████| 133kB 57.5MB/s \n",
            "\u001b[K     |████████████████████████████████| 2.9MB 50.9MB/s \n",
            "\u001b[K     |████████████████████████████████| 890kB 63.8MB/s \n",
            "\u001b[K     |████████████████████████████████| 133kB 63.0MB/s \n",
            "\u001b[K     |████████████████████████████████| 71kB 8.5MB/s \n",
            "\u001b[K     |████████████████████████████████| 71kB 7.8MB/s \n",
            "\u001b[K     |████████████████████████████████| 6.9MB 54.2MB/s \n",
            "\u001b[?25h  Building wheel for keybert (setup.py) ... \u001b[?25l\u001b[?25hdone\n",
            "  Building wheel for sacremoses (setup.py) ... \u001b[?25l\u001b[?25hdone\n",
            "  Building wheel for sentence-transformers (setup.py) ... \u001b[?25l\u001b[?25hdone\n",
            "\u001b[31mERROR: botocore 1.19.26 has requirement urllib3<1.27,>=1.25.4; python_version != \"3.4\", but you'll have urllib3 1.24.3 which is incompatible.\u001b[0m\n",
            "\u001b[31mERROR: sentence-transformers 0.3.9 has requirement transformers<3.6.0,>=3.1.0, but you'll have transformers 4.0.0 which is incompatible.\u001b[0m\n"
          ],
          "name": "stdout"
        }
      ]
    },
    {
      "cell_type": "code",
      "metadata": {
        "id": "pfLr5d9n8Nyp"
      },
      "source": [
        "from google.colab import drive\n",
        "drive.mount('/content/drive')"
      ],
      "execution_count": null,
      "outputs": []
    },
    {
      "cell_type": "code",
      "metadata": {
        "id": "-B1THH6Y1YJj"
      },
      "source": [
        "import sys\n",
        "sys.path.append('/content/drive/My Drive/Colab Notebooks/INF8460/Project/')"
      ],
      "execution_count": null,
      "outputs": []
    },
    {
      "cell_type": "markdown",
      "metadata": {
        "id": "ZIcemP-_-mKa"
      },
      "source": [
        "### Lecture des donnees"
      ]
    },
    {
      "cell_type": "code",
      "metadata": {
        "id": "6h3I8Gl3769R",
        "colab": {
          "base_uri": "https://localhost:8080/"
        },
        "outputId": "d12a30cf-c009-4e76-dd44-43e5bed270f6"
      },
      "source": [
        "from data_handling import *\n",
        "\n",
        "data_path = \"data\"\n",
        "output_path = \"/content/drive/My Drive/Colab Notebooks/INF8460/Project/output\"\n",
        "\n",
        "train_data = read_data(os.path.join(data_path, \"/content/drive/My Drive/Colab Notebooks/INF8460/Project/data/corpus.csv\"))\n",
        "# train_ids = read_questions(os.path.join(data_path, \"/content/drive/My Drive/Colab Notebooks/INF8460/Project/data/train_ids.csv\"))\n",
        "val_ids = read_questions(os.path.join(data_path, \"/content/drive/My Drive/Colab Notebooks/INF8460/Project/data/val_ids.csv\"))\n",
        "# test_ids = read_questions(os.path.join(data_path, \"/content/drive/My Drive/Colab Notebooks/INF8460/Project/data/test.csv\"))\n",
        "\n",
        "\n",
        "paragraphs = [\" \".join(sentence.split()).lower() for sentence in train_data[1]]\n",
        "# questions = [\" \".join(sentence.split()).lower() for sentence in train_ids[1]]\n",
        "val_questions = [\" \".join(sentence.split()).lower() for sentence in val_ids[1]]\n",
        "# test_questions = [\" \".join(sentence.split()).lower() for sentence in test_ids[1]]"
      ],
      "execution_count": null,
      "outputs": [
        {
          "output_type": "stream",
          "text": [
            "[nltk_data] Downloading package stopwords to /root/nltk_data...\n",
            "[nltk_data]   Unzipping corpora/stopwords.zip.\n",
            "[nltk_data] Downloading package wordnet to /root/nltk_data...\n",
            "[nltk_data]   Unzipping corpora/wordnet.zip.\n"
          ],
          "name": "stdout"
        }
      ]
    },
    {
      "cell_type": "code",
      "metadata": {
        "colab": {
          "base_uri": "https://localhost:8080/"
        },
        "id": "6emhY-CDDTCv",
        "outputId": "c3f38c9b-2327-415c-bdfc-a2d90a18011c"
      },
      "source": [
        "from keybert import KeyBERT\n",
        "kw_extractor = KeyBERT('distilbert-base-nli-mean-tokens')\n",
        "\n",
        "array_text = [val_questions[0], paragraphs[17134]]\n",
        "for j in range(len(array_text)):\n",
        "    keywords = kw_extractor.extract_keywords(array_text[j], keyphrase_length=2, stop_words='english')\n",
        "    print(\"Keywords of article\", str(j+1), \"\\n\", keywords)"
      ],
      "execution_count": null,
      "outputs": [
        {
          "output_type": "stream",
          "text": [
            "Keywords of article 1 \n",
            " ['architecture hyderabad', 'oldest piece', 'shahi architecture', 'qutb shahi', 'piece qutb']\n",
            "Keywords of article 2 \n",
            " ['old hyderabad', 'classical persian', 'hyderabad square', 'architecture 16th', 'hyderabad ruins']\n"
          ],
          "name": "stdout"
        }
      ]
    },
    {
      "cell_type": "markdown",
      "metadata": {
        "id": "Tj5wul4l-pMg"
      },
      "source": [
        "### Pretraitement"
      ]
    },
    {
      "cell_type": "code",
      "metadata": {
        "id": "9mybu06h-xpN"
      },
      "source": [
        "from data_handling import *\n",
        "pre = Preprocess()\n",
        "\n",
        "paragraphs_tokenized = pre.preprocess_pipeline(paragraphs)\n",
        "# questions_tokenized = pre.preprocess_pipeline(questions)\n",
        "val_questions_tokenized = pre.preprocess_pipeline(val_questions)\n",
        "# test_questions_tokenized = pre.preprocess_pipeline(test_questions)\n",
        "\n",
        "paragraphs_text = [\" \".join(sentence) for sentence in paragraphs_tokenized]\n",
        "# questions_text = [\" \".join(sentence) for sentence in questions_tokenized]\n",
        "val_questions_text = [\" \".join(sentence) for sentence in val_questions_tokenized]\n",
        "# test_questions_text = [\" \".join(sentence) for sentence in test_questions_tokenized]\n",
        "\n",
        "del paragraphs_tokenized\n",
        "# del questions_tokenized\n",
        "del val_questions_tokenized\n",
        "# del test_questions_tokenized\n",
        "\n",
        "del paragraphs\n",
        "del val_questions"
      ],
      "execution_count": null,
      "outputs": []
    },
    {
      "cell_type": "markdown",
      "metadata": {
        "id": "7xJqabvHFNvq"
      },
      "source": [
        "\n",
        "\n",
        "---\n",
        "\n",
        "<br>\n",
        "\n",
        "## **1. Plongements lexicaux**"
      ]
    },
    {
      "cell_type": "markdown",
      "metadata": {
        "id": "bQREt5DLDV1E"
      },
      "source": [
        "### TF-IDF"
      ]
    },
    {
      "cell_type": "code",
      "metadata": {
        "id": "jCJPGU0V_LBG"
      },
      "source": [
        "from create_embeddings import buildVocab, getTfIdfReprentation, get_doc_embedded, sklearn_svd\n",
        "from sklearn.feature_extraction.text import TfidfVectorizer\n",
        "\n",
        "# paragraphs_vocab = buildVocab(paragraphs_text)\n",
        "# max_feat = int(0.01 * len(paragraphs_vocab))\n",
        "vectorizer = TfidfVectorizer(max_features=10000) # vocabulary=paragraphs_vocab\n",
        "paragraphs_tfidf = getTfIdfReprentation(paragraphs_text, vectorizer)\n",
        "\n",
        "val_questions_tfidf = vectorizer.transform(val_questions_text).todense()\n",
        "\n",
        "# corpus = {'id': train_data[0], 'paragraph': paragraphs_tfidf}\n",
        "# save_to_csv(\"corpus.csv\", corpus)\n",
        "\n",
        "# train_ids = {'id': train_ids[0], 'question': paragraphs_tfidf, 'paragraph_id': train_ids[2], 'answer': train_ids[3] }\n",
        "# save_to_csv(\"train_ids.csv\", train_ids)"
      ],
      "execution_count": null,
      "outputs": []
    },
    {
      "cell_type": "markdown",
      "metadata": {
        "id": "7njiavPiDYDu"
      },
      "source": [
        "### GloVe"
      ]
    },
    {
      "cell_type": "code",
      "metadata": {
        "id": "K7TJbIqyjxHt"
      },
      "source": [
        "# !wget http://nlp.stanford.edu/data/glove.6B.zip\n",
        "!wget http://nlp.stanford.edu/data/glove.42B.300d.zip\n",
        "# !unzip glove.6B.zip\n",
        "!unzip glove.42B.300d.zip\n",
        "# !rm glove.6B.50d.txt\n",
        "# !rm glove.6B.100d.txt\n",
        "# !rm glove.6B.200d.txt"
      ],
      "execution_count": null,
      "outputs": []
    },
    {
      "cell_type": "code",
      "metadata": {
        "id": "8Pphx1xmi4hP"
      },
      "source": [
        "from sklearn.feature_extraction.text import CountVectorizer\n",
        "from create_embeddings import read_from_csv, get_gloves_dict, get_lines_gloves, get_plong_corpus\n",
        "\n",
        "path = \"/content/drive/My Drive/Colab Notebooks/INF8460/Project/data/corpus.csv\"\n",
        "datat = read_from_csv(path)\n",
        "\n",
        "vectorizer = CountVectorizer()\n",
        "X = vectorizer.fit(paragraphs_text).vocabulary_"
      ],
      "execution_count": null,
      "outputs": []
    },
    {
      "cell_type": "code",
      "metadata": {
        "id": "n7JqLpSjjIJ5"
      },
      "source": [
        "glove_dict = get_gloves_dict() # \"glove.42B.300d.txt\"\n",
        "key_set = set(X.keys()) & set(glove_dict.keys())\n",
        "glove_dict_vocab_corpus = {key: glove_dict[key] for key in key_set}"
      ],
      "execution_count": null,
      "outputs": []
    },
    {
      "cell_type": "code",
      "metadata": {
        "id": "UZojYC8ajNn7"
      },
      "source": [
        "plongement_docs = get_plong_corpus(paragraphs_text, glove_dict_vocab_corpus)\n",
        "plongement_queries = get_plong_corpus(val_questions_text, glove_dict_vocab_corpus)"
      ],
      "execution_count": null,
      "outputs": []
    },
    {
      "cell_type": "markdown",
      "metadata": {
        "id": "AsAA2F1kDu0P"
      },
      "source": [
        "\n",
        "\n",
        "---\n",
        "\n",
        "<br>\n",
        "\n",
        "## **2. Ordonnancement**"
      ]
    },
    {
      "cell_type": "markdown",
      "metadata": {
        "id": "nYzHFoo0d8aI"
      },
      "source": [
        "\n",
        "\n",
        "> #### LSTM Siamese text similarity\n",
        "\n"
      ]
    },
    {
      "cell_type": "code",
      "metadata": {
        "id": "Hus1J2v8U0_D"
      },
      "source": [
        "!wget https://raw.githubusercontent.com/brmson/dataset-sts/master/data/sts/sick2014/SICK_train.txt"
      ],
      "execution_count": null,
      "outputs": []
    },
    {
      "cell_type": "code",
      "metadata": {
        "id": "QPuQlVrweGQD"
      },
      "source": [
        "import sys\n",
        "sys.path.append('/content/drive/My Drive/Colab Notebooks/INF8460/Project/LSTMSiameseTextSimilarity/')"
      ],
      "execution_count": null,
      "outputs": []
    },
    {
      "cell_type": "code",
      "metadata": {
        "colab": {
          "base_uri": "https://localhost:8080/"
        },
        "id": "foJhzzO_Xqfm",
        "outputId": "29791c39-375f-49ad-f5fa-9d104a78bd64"
      },
      "source": [
        "from model import SiameseBiLSTM\n",
        "from inputHandler import word_embed_meta_data, create_test_data\n",
        "from config import siamese_config\n",
        "import pandas as pd\n",
        "\n",
        "############ Data Preperation ##########\n",
        "\n",
        "# df = pd.read_csv('lstm-siamese-text-similarity/sample_data.csv')\n",
        "df = pd.read_csv('SICK_train.txt', names=['pair_ID', 'sentence_A', 'sentence_B', 'relatedness_score', 'entailment_judgment'], \n",
        "                 skiprows=1, sep='\\t')\n",
        "df.drop('pair_ID', axis=1, inplace=True)\n",
        "df.drop(df[df.entailment_judgment == 'CONTRADICTION'].index, inplace=True)\n",
        "print(df.head())\n",
        "\n",
        "sentences1 = list(df['sentence_A'])\n",
        "sentences2 = list(df['sentence_B'])\n",
        "is_similar = list(df['relatedness_score'])\n",
        "del df"
      ],
      "execution_count": null,
      "outputs": [
        {
          "output_type": "stream",
          "text": [
            "                                          sentence_A  ... entailment_judgment\n",
            "0  A group of kids is playing in a yard and an ol...  ...             NEUTRAL\n",
            "1  A group of children is playing in the house an...  ...             NEUTRAL\n",
            "2  The young boys are playing outdoors and the ma...  ...          ENTAILMENT\n",
            "3  The kids are playing outdoors near a man with ...  ...             NEUTRAL\n",
            "4  The young boys are playing outdoors and the ma...  ...             NEUTRAL\n",
            "\n",
            "[5 rows x 4 columns]\n"
          ],
          "name": "stdout"
        }
      ]
    },
    {
      "cell_type": "code",
      "metadata": {
        "id": "3Cdba8HkeeJ2",
        "colab": {
          "base_uri": "https://localhost:8080/"
        },
        "outputId": "91634da4-08a2-4f18-d528-bc7dc3aa3cd7"
      },
      "source": [
        "######## Word Embedding ############\n",
        "\n",
        "tokenizer, embedding_matrix = word_embed_meta_data(sentences1 + sentences2,  siamese_config['EMBEDDING_DIM'], glove_dict)\n",
        "\n",
        "embedding_meta_data = {\n",
        "\t'tokenizer': tokenizer,\n",
        "\t'embedding_matrix': embedding_matrix\n",
        "}\n",
        "\n",
        "## creating sentence pairs\n",
        "sentences_pair = [(x1, x2) for x1, x2 in zip(sentences1, sentences2)]\n",
        "del sentences1\n",
        "del sentences2\n",
        "\n",
        "######## Training ########\n",
        "\n",
        "class Configuration(object):\n",
        "    \"\"\"Dump stuff here\"\"\"\n",
        "\n",
        "CONFIG = Configuration()\n",
        "\n",
        "CONFIG.embedding_dim = siamese_config['EMBEDDING_DIM']\n",
        "CONFIG.max_sequence_length = siamese_config['MAX_SEQUENCE_LENGTH']\n",
        "CONFIG.number_lstm_units = siamese_config['NUMBER_LSTM']\n",
        "CONFIG.rate_drop_lstm = siamese_config['RATE_DROP_LSTM']\n",
        "CONFIG.number_dense_units = siamese_config['NUMBER_DENSE_UNITS']\n",
        "CONFIG.activation_function = siamese_config['ACTIVATION_FUNCTION']\n",
        "CONFIG.rate_drop_dense = siamese_config['RATE_DROP_DENSE']\n",
        "CONFIG.validation_split_ratio = siamese_config['VALIDATION_SPLIT']\n",
        "\n",
        "siamese = SiameseBiLSTM(CONFIG.embedding_dim , CONFIG.max_sequence_length, CONFIG.number_lstm_units , CONFIG.number_dense_units, CONFIG.rate_drop_lstm, CONFIG.rate_drop_dense, CONFIG.activation_function, CONFIG.validation_split_ratio)\n",
        "\n",
        "best_model_path = siamese.train_model(sentences_pair, is_similar, embedding_meta_data, model_save_directory='./')"
      ],
      "execution_count": null,
      "outputs": [
        {
          "output_type": "stream",
          "text": [
            "Embedding matrix shape: (2277, 300)\n",
            "vector not found for word - dog,\n",
            "vector not found for word - isn't\n",
            "vector not found for word - man's\n",
            "vector not found for word - black,\n",
            "vector not found for word - corndogs\n",
            "vector not found for word - little,\n",
            "vector not found for word - young,\n",
            "vector not found for word - white,\n",
            "vector not found for word - small,\n",
            "vector not found for word - girl,\n",
            "vector not found for word - red,\n",
            "vector not found for word - woman,\n",
            "vector not found for word - uniform,\n",
            "vector not found for word - child,\n",
            "vector not found for word - rope,\n",
            "vector not found for word - wagon,\n",
            "vector not found for word - field,\n",
            "vector not found for word - boy,\n",
            "vector not found for word - backbends\n",
            "vector not found for word - necklace,\n",
            "vector not found for word - tree,\n",
            "vector not found for word - pine,\n",
            "vector not found for word - snow,\n",
            "vector not found for word - blue,\n",
            "vector not found for word - gray,\n",
            "vector not found for word - big,\n",
            "vector not found for word - dog's\n",
            "vector not found for word - large,\n",
            "vector not found for word - hair,\n",
            "vector not found for word - one,\n",
            "vector not found for word - stairs,\n",
            "vector not found for word - guitar,\n",
            "vector not found for word - acoustic,\n",
            "vector not found for word - brown,\n",
            "vector not found for word - rock.\n",
            "vector not found for word - arm.\n",
            "vector not found for word - person's\n",
            "vector not found for word - tail.\n",
            "vector not found for word - somebody's\n",
            "vector not found for word - seadoo\n",
            "vector not found for word - suit,\n",
            "vector not found for word - climbing,\n",
            "vector not found for word - t-ball\n",
            "vector not found for word - artist's\n",
            "vector not found for word - bread,\n",
            "vector not found for word - tan,\n",
            "vector not found for word - man,\n",
            "vector not found for word - mouth.\n",
            "vector not found for word - old,\n",
            "vector not found for word - asia,\n",
            "vector not found for word - shirt,\n",
            "vector not found for word - stenograph\n",
            "vector not found for word - coat,\n",
            "vector not found for word - men,\n",
            "vector not found for word - mittened\n",
            "vector not found for word - dogs,\n",
            "vector not found for word - pristine,\n",
            "vector not found for word - road,\n",
            "vector not found for word - graphitized\n",
            "vector not found for word - pants,\n",
            "vector not found for word - someone's\n",
            "vector not found for word - room,\n",
            "vector not found for word - child's\n",
            "vector not found for word - daschunds\n",
            "vector not found for word - aren't\n",
            "vector not found for word - cloak,\n",
            "vector not found for word - age,\n",
            "vector not found for word - pool,\n",
            "vector not found for word - wall.\n",
            "vector not found for word - window,\n",
            "vector not found for word - doesn't\n",
            "vector not found for word - amusedly\n",
            "vector not found for word - running,\n",
            "vector not found for word - badger,\n",
            "vector not found for word - shrewd,\n",
            "vector not found for word - prey.\n",
            "vector not found for word - kid,\n",
            "vector not found for word - magic,\n",
            "vector not found for word - cat's\n",
            "vector not found for word - ball,\n",
            "vector not found for word - car,\n",
            "vector not found for word - monkey's\n",
            "vector not found for word - woman's\n",
            "vector not found for word - shoeless,\n",
            "vector not found for word - male,\n",
            "vector not found for word - skinned,\n",
            "vector not found for word - bikes,\n",
            "vector not found for word - children,\n",
            "vector not found for word - jacket,\n",
            "vector not found for word - midspeech\n",
            "vector not found for word - skit,\n",
            "vector not found for word - funny,\n",
            "vector not found for word - open.\n",
            "vector not found for word - crane,\n",
            "vector not found for word - rollerblader\n",
            "vector not found for word - water's\n",
            "vector not found for word - person,\n",
            "vector not found for word - bike,\n",
            "vector not found for word - bricks,\n",
            "vector not found for word - unprotective\n",
            "vector not found for word - blew,\n",
            "vector not found for word - girl's\n",
            "vector not found for word - red.\n",
            "vector not found for word - riskily\n",
            "vector not found for word - boat's\n",
            "vector not found for word - field.\n",
            "vector not found for word - pony's\n",
            "vector not found for word - bowl,\n",
            "vector not found for word - unstitching\n",
            "vector not found for word - cabinet,\n",
            "vector not found for word - pack,\n",
            "vector not found for word - topless,\n",
            "vector not found for word - swimsuit,\n",
            "vector not found for word - yellow,\n",
            "vector not found for word - arms,\n",
            "vector not found for word - uninterestedly\n",
            "vector not found for word - crowd,\n",
            "vector not found for word - motionlessly\n",
            "vector not found for word - t-shirt,\n",
            "vector not found for word - sand,\n",
            "vector not found for word - air,\n",
            "vector not found for word - vertical,\n",
            "vector not found for word - barren,\n",
            "vector not found for word - motorcycle.\n",
            "vector not found for word - it.\n",
            "vector not found for word - eyebrow,\n",
            "vector not found for word - rhino,\n",
            "vector not found for word - seated,\n",
            "vector not found for word - kangaroo,\n",
            "vector not found for word - baby,\n",
            "vector not found for word - boy's\n",
            "vector not found for word - animal,\n",
            "vector not found for word - mountain,\n",
            "vector not found for word - rocky,\n",
            "vector not found for word - sunset,\n",
            "vector not found for word - waterfall,\n",
            "vector not found for word - challengingly\n",
            "vector not found for word - rocks,\n",
            "vector not found for word - bmxs\n",
            "vector not found for word - family,\n",
            "vector not found for word - happy,\n",
            "vector not found for word - weather,\n",
            "vector not found for word - skirt,\n",
            "vector not found for word - amazedly\n",
            "vector not found for word - eyebrows,\n",
            "Null word embeddings: 146\n",
            "WARNING:tensorflow:Layer lstm will not use cuDNN kernel since it doesn't meet the cuDNN kernel criteria. It will use generic GPU kernel as fallback when running on GPU\n",
            "WARNING:tensorflow:Layer lstm will not use cuDNN kernel since it doesn't meet the cuDNN kernel criteria. It will use generic GPU kernel as fallback when running on GPU\n",
            "WARNING:tensorflow:Layer lstm will not use cuDNN kernel since it doesn't meet the cuDNN kernel criteria. It will use generic GPU kernel as fallback when running on GPU\n",
            "Epoch 1/200\n",
            " 1/54 [..............................] - ETA: 0s - loss: 18.3893 - acc: 0.0000e+00WARNING:tensorflow:From /usr/local/lib/python3.6/dist-packages/tensorflow/python/ops/summary_ops_v2.py:1277: stop (from tensorflow.python.eager.profiler) is deprecated and will be removed after 2020-07-01.\n",
            "Instructions for updating:\n",
            "use `tf.profiler.experimental.stop` instead.\n",
            " 2/54 [>.............................] - ETA: 29s - loss: 18.1654 - acc: 0.0078   WARNING:tensorflow:Callbacks method `on_train_batch_end` is slow compared to the batch time (batch time: 0.2532s vs `on_train_batch_end` time: 0.8731s). Check your callbacks.\n",
            "54/54 [==============================] - 12s 229ms/step - loss: 13.5467 - acc: 0.0133 - val_loss: 6.1147 - val_acc: 0.0261\n",
            "Epoch 2/200\n",
            "54/54 [==============================] - 10s 179ms/step - loss: 9.6653 - acc: 0.0125 - val_loss: 6.6070 - val_acc: 0.0131\n",
            "Epoch 3/200\n",
            "54/54 [==============================] - 10s 194ms/step - loss: 6.4448 - acc: 0.0174 - val_loss: 4.7807 - val_acc: 0.0287\n",
            "Epoch 4/200\n",
            "54/54 [==============================] - 10s 189ms/step - loss: 4.1387 - acc: 0.0223 - val_loss: 2.8861 - val_acc: 0.0392\n",
            "Epoch 5/200\n",
            "54/54 [==============================] - 10s 186ms/step - loss: 2.7174 - acc: 0.0272 - val_loss: 1.4785 - val_acc: 0.0392\n",
            "Epoch 6/200\n",
            "54/54 [==============================] - 10s 187ms/step - loss: 2.0804 - acc: 0.0333 - val_loss: 0.9469 - val_acc: 0.0392\n",
            "Epoch 7/200\n",
            "54/54 [==============================] - 10s 181ms/step - loss: 1.7875 - acc: 0.0345 - val_loss: 0.8405 - val_acc: 0.0392\n",
            "Epoch 8/200\n",
            "54/54 [==============================] - 10s 183ms/step - loss: 1.6710 - acc: 0.0353 - val_loss: 0.6838 - val_acc: 0.0392\n",
            "Epoch 9/200\n",
            "54/54 [==============================] - 10s 193ms/step - loss: 1.5008 - acc: 0.0356 - val_loss: 0.6380 - val_acc: 0.0392\n",
            "Epoch 10/200\n",
            "54/54 [==============================] - 10s 182ms/step - loss: 1.3313 - acc: 0.0359 - val_loss: 0.6917 - val_acc: 0.0392\n",
            "Epoch 11/200\n",
            "54/54 [==============================] - 10s 184ms/step - loss: 1.3035 - acc: 0.0353 - val_loss: 0.7368 - val_acc: 0.0392\n",
            "Epoch 12/200\n",
            "54/54 [==============================] - 10s 181ms/step - loss: 1.2453 - acc: 0.0385 - val_loss: 0.6041 - val_acc: 0.0392\n",
            "Epoch 13/200\n",
            "54/54 [==============================] - 10s 179ms/step - loss: 1.1452 - acc: 0.0339 - val_loss: 0.6189 - val_acc: 0.0366\n",
            "Epoch 14/200\n",
            "54/54 [==============================] - 10s 187ms/step - loss: 1.1377 - acc: 0.0362 - val_loss: 0.6459 - val_acc: 0.0366\n",
            "Epoch 15/200\n",
            "54/54 [==============================] - 10s 186ms/step - loss: 1.0019 - acc: 0.0362 - val_loss: 0.6411 - val_acc: 0.0392\n"
          ],
          "name": "stdout"
        }
      ]
    },
    {
      "cell_type": "code",
      "metadata": {
        "id": "qDwJAlO1J_cw",
        "colab": {
          "base_uri": "https://localhost:8080/"
        },
        "outputId": "a4b36ac4-ddaa-45f8-9c9a-a453660356e2"
      },
      "source": [
        "######## Testing Q/Q pairs ########\n",
        "\n",
        "from operator import itemgetter\n",
        "from keras.models import load_model\n",
        "\n",
        "model = load_model(best_model_path)\n",
        "\n",
        "test_sentence_pairs = [('A man with a jersey is dunking the ball at a basketball game', 'The ball is being dunked by a man with a jersey at a basketball game'),\n",
        "                       ('Two dogs are fighting', 'Two dogs are wrestling and hugging'), \n",
        "                       ('A group of kids is playing in a yard and an old man is standing in the background', 'A group of boys in a yard is playing and a man is standing in the background'), \n",
        "                       ('What can make Physics easy to learn?','How can you make physics easy to learn?'),\n",
        "                       ('How many times a day do a clocks hands overlap?','What does it mean that every time I look at the clock the numbers are the same?')]\n",
        "\n",
        "test_data_x1, test_data_x2, leaks_test = create_test_data(tokenizer,test_sentence_pairs,  siamese_config['MAX_SEQUENCE_LENGTH'])\n",
        "\n",
        "preds = list(model.predict([test_data_x1, test_data_x2, leaks_test], verbose=1).ravel())\n",
        "results = [(x, y, z) for (x, y), z in zip(test_sentence_pairs, preds)]\n",
        "results.sort(key=itemgetter(2), reverse=True)\n",
        "print(results)"
      ],
      "execution_count": null,
      "outputs": [
        {
          "output_type": "stream",
          "text": [
            "WARNING:tensorflow:Layer lstm will not use cuDNN kernel since it doesn't meet the cuDNN kernel criteria. It will use generic GPU kernel as fallback when running on GPU\n",
            "WARNING:tensorflow:Layer lstm will not use cuDNN kernel since it doesn't meet the cuDNN kernel criteria. It will use generic GPU kernel as fallback when running on GPU\n",
            "WARNING:tensorflow:Layer lstm will not use cuDNN kernel since it doesn't meet the cuDNN kernel criteria. It will use generic GPU kernel as fallback when running on GPU\n",
            "WARNING:tensorflow:5 out of the last 5 calls to <function Model.make_predict_function.<locals>.predict_function at 0x7f971163a378> triggered tf.function retracing. Tracing is expensive and the excessive number of tracings could be due to (1) creating @tf.function repeatedly in a loop, (2) passing tensors with different shapes, (3) passing Python objects instead of tensors. For (1), please define your @tf.function outside of the loop. For (2), @tf.function has experimental_relax_shapes=True option that relaxes argument shapes that can avoid unnecessary retracing. For (3), please refer to https://www.tensorflow.org/tutorials/customization/performance#python_or_tensor_args and https://www.tensorflow.org/api_docs/python/tf/function for  more details.\n",
            "1/1 [==============================] - 0s 7ms/step\n",
            "[('A man with a jersey is dunking the ball at a basketball game', 'The ball is being dunked by a man with a jersey at a basketball game', 4.673317), ('A group of kids is playing in a yard and an old man is standing in the background', 'A group of boys in a yard is playing and a man is standing in the background', 3.9694657), ('Two dogs are fighting', 'Two dogs are wrestling and hugging', 3.3925214), ('What can make Physics easy to learn?', 'How can you make physics easy to learn?', 3.1973097), ('How many times a day do a clocks hands overlap?', 'What does it mean that every time I look at the clock the numbers are the same?', 1.8688544)]\n"
          ],
          "name": "stdout"
        }
      ]
    },
    {
      "cell_type": "code",
      "metadata": {
        "colab": {
          "base_uri": "https://localhost:8080/"
        },
        "id": "yKcvBR4l3bZd",
        "outputId": "5421d86e-97d3-4e6e-c411-05c0db6d8e3b"
      },
      "source": [
        "for i, doc in enumerate(paragraphs_text):\n",
        "    test_sentence_pairs = [(doc, passage) for passage in set(paragraphs_text[:i]+paragraphs_text[i+1:])]\n",
        "\n",
        "    test_data_x1, test_data_x2, leaks_test = create_test_data(tokenizer, test_sentence_pairs, siamese_config['MAX_SEQUENCE_LENGTH'])\n",
        "\n",
        "    preds = list(model.predict([test_data_x1, test_data_x2, leaks_test], verbose=1).ravel())\n",
        "    results = [(x, y, z) for (x, y), z in zip(test_sentence_pairs, preds)]\n",
        "    results.sort(key=itemgetter(2), reverse=True)\n",
        "    \n",
        "    print(doc)\n",
        "    print('\\n')\n",
        "    for line in results[:10]:\n",
        "        print(line[1], line[2])\n",
        "\n",
        "    break"
      ],
      "execution_count": null,
      "outputs": [
        {
          "output_type": "stream",
          "text": [
            "2096/2096 [==============================] - 61s 29ms/step\n",
            "the norman norman nourmands french normands latin normanni were the people who in the and century gave their name to normandy region in france they were descended from norse norman come from norseman raider and pirate from denmark iceland and norway who under their leader rollo agreed to swear fealty to king charles iii of west francia through generation of assimilation and mixing with the native frankish and roman gaulish population their descendant would gradually merge with the carolingian based culture of west francia the distinct cultural and ethnic identity of the norman emerged initially in the first half of the century and it continued to evolve over the succeeding century\n",
            "\n",
            "\n",
            "both the ford foundation and the rockefeller foundation were heavily involved one key leader wa norman borlaug the father of the green revolution who received the nobel peace prize in he is credited with saving over billion people from starvation the basic approach wa the development of high yielding variety of cereal grain expansion of irrigation infrastructure modernization of management technique distribution of hybridized seed synthetic fertilizer and pesticide to farmer 3.660336\n",
            "the seventeenth amendment amendment xvii to the united state constitution established the popular election of united state senator by the people of the state the amendment supersedes article clause and of the constitution under which senator were elected by state legislature it also alters the procedure for filling vacancy in the senate allowing for state legislature to permit their governor to make temporary appointment until special election can be held 3.6422997\n",
            "geisel received the laura ingalls wilder medal from the professional child librarian in recognizing his substantial and lasting contribution to child literature at the time it wa awarded every five year he won special pulitzer prize in citing his contribution over nearly half century to the education and enjoyment of america child and their parent 3.6043751\n",
            "valencia vəˈlɛnsiə spanish baˈlenθja or valència valencian vaˈlensia is the capital of the autonomous community of valencia and the third largest city in spain after madrid and barcelona with around inhabitant in the administrative centre it urban area extends beyond the administrative city limit with population of around million people valencia is spain third largest metropolitan area with population ranging from to million the city ha global city status the port of valencia is the busiest container port in europe and the busiest container port on the mediterranean sea 3.603384\n",
            "the third season of the animated television series rick and morty originally aired in the united state on cartoon network late night programming block adult swim it premiered with the rickshank rickdemption which aired unannounced on april and wa replayed every half hour from to et a part of adult swim annual april fool prank the episode wa also simulcast a looping live stream on adult swim site 3.603122\n",
            "although the tory were dismissed from office for half century for most of this period at first under the leadership of sir william wyndham the tory retained party cohesion with occasional hope of regaining office particularly at the accession of george ii and the downfall of the ministry of sir robert walpole in they acted a united though unavailing opposition to whig corruption and scandal at time they cooperated with the opposition whig whig who were in opposition to the whig government however the ideological gap between the tory and the opposition whig prevented them from coalescing a single party they finally regained power with the accession of george iii in under lord bute 3.5911543\n",
            "nasser also attempted to maintain oversight of the country civil service to prevent it from inflating and consequently becoming burden to the state new law provided worker with minimum wage profit share free education free health care reduced working hour and encouragement to participate in management land reform guaranteed the security of tenant farmer promoted agricultural growth and reduced rural poverty a result of the measure government ownership of egyptian business reached percent and the national union wa renamed the arab socialist union asu with these measure came more domestic repression a thousand of islamist were imprisoned including dozen of military officer nasser tilt toward soviet style system led his aide boghdadi and hussein el shafei to submit their resignation in protest 3.5801783\n",
            "the article of confederation and perpetual union wa the first constitution of the united state it wa drafted by the second continental congress from mid through late and ratification by all state wa completed by early under the article of confederation the central government power wa quite limited the confederation congress could make decision but lacked enforcement power implementation of most decision including modification to the article required unanimous approval of all thirteen state legislature 3.5801382\n",
            "dominion were semi independent polity under the british crown constituting the british empire beginning with canadian confederation in they included canada australia new zealand newfoundland south africa and the irish free state and then from the late also india pakistan and ceylon now sri lanka the balfour declaration of recognised the dominion a autonomous community within the british empire and the statute of westminster confirmed their full legislative independence 3.5747845\n",
            "table tr th window version th th release date th th release version th th edition th th latest build th tr tr td window td td july td td nt td td ul li window home li li window pro li li window pro for workstation li li window pro education li li window enterprise li li window enterprise ltsb li li window education li li window iot core li li window iot enterprise li li window li ul see window edition td td april update td tr tr td window td td october td td nt td td ul li window li li window pro li li window enterprise li li window oem li li window with bing li ul see window edition td td april update td tr tr td window td td october td td nt td td ul li window li li window pro li li window enterprise li li window oem li ul see window edition td td td tr tr td window td td july td td nt td td ul li window starter li li window home basic li li window home premium li li window pro li li window enterprise business edition li li window ultimate li li window thin pc li ul see window edition td td service pack td tr tr td window vista td td january td td nt td td ul li window vista starter li li window vista home basic li li window vista home premium li li window vista business li li window vista enterprise li li window vista ultimate li ul see window vista edition td td service pack td tr tr td window xp professional td td april td td nt td td td td service pack td tr tr td window xp td td october td td nt td td ul li window xp starter li li window xp home li li window xp professional li li window xp bit edition li li window fundamental for legacy pc july li ul see window xp edition td td service pack td tr tr td window me td td september td td td td td td td tr tr td window td td february td td nt td td professional td td td tr tr td window td td june td td td td ul li window li li window second edition april li ul td td td tr tr td window nt td td august td td nt td td window nt workstation td td service pack td tr tr td window td td august td td td td ul li window li li window december li li window february li li window august li li window usb supplement to august li li window august li li window november li ul td td td tr tr td window nt td td may td td nt td td window nt workstation td td td tr tr td window nt td td september td td nt td td window nt workstation td td td tr tr td window td td november td td td td td td td tr tr td window for workgroups td td november td td td td td td td tr tr td window nt td td july td td nt td td window nt td td td tr tr td window td td april td td td td ul li window li li window for workgroups october li ul td td td tr tr td window td td may td td td td td td td tr tr td window td td march td td td td ul li window li li window li ul td td td tr tr td window td td may td td td td ul li window li li window li ul td td td tr tr td window td td december td td td td td td td tr tr td window td td april td td td td td td td tr tr td window td td august td td td td td td td tr tr td window td td may td td td td td td td tr tr td window td td november td td td td td td td tr table 3.550599\n"
          ],
          "name": "stdout"
        }
      ]
    },
    {
      "cell_type": "markdown",
      "metadata": {
        "id": "8T1EyGDfjey4"
      },
      "source": [
        "\n",
        "\n",
        "> #### MLP regression model\n",
        "\n"
      ]
    },
    {
      "cell_type": "code",
      "metadata": {
        "colab": {
          "base_uri": "https://localhost:8080/"
        },
        "id": "SqDuMAqPXpEZ",
        "outputId": "0b3052e7-6527-4f04-ce7a-bf809c6e19ad"
      },
      "source": [
        "import pandas as pd\n",
        "\n",
        "df = pd.read_csv('/content/drive/MyDrive/Colab Notebooks/INF8460/Project/MSMARCO/msmarco-docdev-100k.csv')\n",
        "df.drop(['Unnamed: 0'], axis=1, inplace=True)\n",
        "df = df.iloc[:25000,:] \n",
        "print(len(df))\n",
        "\n",
        "df_score = df['score']\n",
        "normalized_df = (df_score - df_score.min())/ (df_score.max()-df_score.min()) #df_score.std()\n",
        "del df_score\n",
        "print(normalized_df.head())\n",
        "\n",
        "y = normalized_df#.multiply(1.0/df[\"rank\"], axis=\"index\")\n",
        "# print(y.head())\n",
        "del normalized_df\n",
        "\n",
        "df.drop(['rank', 'score'], axis=1, inplace=True)\n",
        "\n",
        "# Concatenate queries and docs in pairs\n",
        "\n",
        "# X = df[['query', 'doc']].agg(' [sep] '.join, axis=1)\n",
        "# del df"
      ],
      "execution_count": null,
      "outputs": [
        {
          "output_type": "stream",
          "text": [
            "25000\n",
            "0    0.761969\n",
            "1    0.759416\n",
            "2    0.755649\n",
            "3    0.748219\n",
            "4    0.746034\n",
            "Name: score, dtype: float64\n"
          ],
          "name": "stdout"
        }
      ]
    },
    {
      "cell_type": "code",
      "metadata": {
        "id": "2nSk8IjOd_FY"
      },
      "source": [
        "from data_handling import *\n",
        "pre = Preprocess()\n",
        "\n",
        "paragraphs_tokenized = pre.preprocess_pipeline(df[\"doc\"])\n",
        "questions_tokenized = pre.preprocess_pipeline(df[\"query\"])\n",
        "\n",
        "paragraphs_text = [\" \".join(sentence) for sentence in paragraphs_tokenized]\n",
        "questions_text = [\" \".join(sentence) for sentence in questions_tokenized]\n",
        "\n",
        "del paragraphs_tokenized\n",
        "del questions_tokenized\n",
        "del df"
      ],
      "execution_count": null,
      "outputs": []
    },
    {
      "cell_type": "code",
      "metadata": {
        "id": "VsuAHj0bVvM7"
      },
      "source": [
        "# tfidf embeddings\n",
        "\n",
        "from create_embeddings import buildVocab, getTfIdfReprentation, get_doc_embedded, sklearn_svd\n",
        "from sklearn.feature_extraction.text import TfidfVectorizer\n",
        "\n",
        "# paragraphs_vocab = buildVocab(paragraphs_text) # taille du vocab: 495737\n",
        "# max_feat = int(0.01 * len(paragraphs_vocab))\n",
        "# vectorizer = TfidfVectorizer(max_features=max_feat) # vocabulary=paragraphs_vocab\n",
        "msmarco_paragraphs_tfidf = getTfIdfReprentation(paragraphs_text, vectorizer) # meme vectorizer utilisé pour notre corpus\n",
        "\n",
        "# new_question = vals_questions_text[i]\n",
        "# new_question_tokenized = pre.preprocess_pipeline([new_question])\n",
        "# new_question_text = [\" \".join(sentence) for sentence in new_question_tokenized]\n",
        "\n",
        "msmarco_questions_tfidf = vectorizer.transform(questions_text).todense()"
      ],
      "execution_count": null,
      "outputs": []
    },
    {
      "cell_type": "code",
      "metadata": {
        "id": "2vHlZXReiVpe"
      },
      "source": [
        "# glove embeddings\n",
        "\n",
        "import pickle\n",
        "from sklearn.feature_extraction.text import CountVectorizer\n",
        "from create_embeddings import get_gloves_dict, get_lines_gloves, get_plong_corpus\n",
        "\n",
        "vectorizer = CountVectorizer()\n",
        "vocab_docs = vectorizer.fit(df[\"doc\"]).vocabulary_\n",
        "\n",
        "glove_dict = get_gloves_dict() # \"glove.42B.300d.txt\"\n",
        "key_set = set(vocab_docs.keys()) & set(glove_dict.keys())\n",
        "glove_dict_vocab_corpus = {key: glove_dict[key] for key in key_set}\n",
        "del vocab_docs\n",
        "plongement_docs = get_plong_corpus(df[\"doc\"], glove_dict_vocab_corpus)\n",
        "plongement_queries = get_plong_corpus(df[\"query\"], glove_dict_vocab_corpus)\n",
        "\n",
        "# with open('glove_query_emb_msmarco.txt', 'wb') as fp:\n",
        "#     pickle.dump(plongement_queries, fp)\n",
        "# del plongement_queries\n",
        "# df.drop(['query'], axis=1, inplace=True)"
      ],
      "execution_count": null,
      "outputs": []
    },
    {
      "cell_type": "code",
      "metadata": {
        "id": "Xwe78MVFvnSw"
      },
      "source": [
        "with open('/content/drive/MyDrive/Colab Notebooks/INF8460/Project/glove_query_emb_msmarco.txt', 'wb') as fp:\n",
        "    pickle.dump(plongement_queries, fp)\n",
        "del plongement_queries\n",
        "df.drop(['query'], axis=1, inplace=True)\n",
        "\n",
        "with open('/content/drive/MyDrive/Colab Notebooks/INF8460/Project/glove_doc_emb_msmarco.txt', 'wb') as fp:\n",
        "    pickle.dump(plongement_docs, fp)\n",
        "del plongement_docs\n",
        "df.drop(['doc'], axis=1, inplace=True)"
      ],
      "execution_count": null,
      "outputs": []
    },
    {
      "cell_type": "code",
      "metadata": {
        "id": "9OmraS4ZYS81"
      },
      "source": [
        "import pickle\n",
        "\n",
        "with open('/content/drive/MyDrive/Colab Notebooks/INF8460/Project/glove_query_emb_msmarco.txt', 'rb') as fp:\n",
        "    plongement_queries = pickle.load(fp)\n",
        "\n",
        "with open('/content/drive/MyDrive/Colab Notebooks/INF8460/Project/glove_doc_emb_msmarco.txt', 'rb') as fp:\n",
        "    plongement_docs = pickle.load(fp)"
      ],
      "execution_count": null,
      "outputs": []
    },
    {
      "cell_type": "code",
      "metadata": {
        "colab": {
          "base_uri": "https://localhost:8080/"
        },
        "id": "5fZElGzP7yig",
        "outputId": "67837137-8eb0-403e-fbac-43623a16fbf9"
      },
      "source": [
        "# bert embeddings\n",
        "\n",
        "from scipy import spatial\n",
        "from sent2vec.vectorizer import Vectorizer\n",
        "\n",
        "vectorizer = Vectorizer()\n",
        "vectorizer.bert(df[\"doc\"])\n",
        "docs_bert = vectorizer.vectors\n",
        "\n",
        "vectorizer.bert(df[\"query\"])\n",
        "queries_bert = vectorizer.vectors"
      ],
      "execution_count": null,
      "outputs": [
        {
          "output_type": "stream",
          "text": [
            "Token indices sequence length is longer than the specified maximum sequence length for this model (2831 > 512). Running this sequence through the model will result in indexing errors\n"
          ],
          "name": "stderr"
        }
      ]
    },
    {
      "cell_type": "code",
      "metadata": {
        "id": "d6QMUpaDBQCj"
      },
      "source": [
        "import pickle\n",
        "\n",
        "with open('bert_query_emb_msmarco.txt', 'wb') as fp:\n",
        "    pickle.dump(queries_bert, fp)\n",
        "\n",
        "with open('bert_doc_emb_msmarco.txt', 'wb') as fp:\n",
        "    pickle.dump(docs_bert, fp)"
      ],
      "execution_count": null,
      "outputs": []
    },
    {
      "cell_type": "code",
      "metadata": {
        "colab": {
          "base_uri": "https://localhost:8080/"
        },
        "id": "vKNbPlimXqw0",
        "outputId": "23a4730e-b104-4f61-d247-023f5c433214"
      },
      "source": [
        "import tensorflow as tf\n",
        "from keras.layers import Dense, Embedding, Input\n",
        "from keras.models import Sequential, Model\n",
        "from keras.callbacks import EarlyStopping\n",
        "from sklearn.model_selection import train_test_split\n",
        "\n",
        "X_train, X_test, y_train, y_test = train_test_split(np.concatenate((plongement_queries, plongement_docs), axis=1), y, test_size=0.10, random_state=42)\n",
        "# X_train, X_test, y_train, y_test = train_test_split(np.concatenate((msmarco_questions_tfidf, msmarco_paragraphs_tfidf), axis=1), y, test_size=0.10, random_state=42)\n",
        "# X_train, X_test, y_train, y_test = train_test_split(np.concatenate((queries_bert, docs_bert), axis=1), y, test_size=0.20, random_state=42)\n",
        "\n",
        "def MLPregression(X, y, ndims):\n",
        "    model = Sequential()\n",
        "    model.add(Dense(100, input_dim=ndims, activation='relu'))\n",
        "    model.add(Dense(50, activation='relu'))\n",
        "    model.add(Dense(10, activation='relu'))\n",
        "    model.add(Dense(1, activation='linear'))\n",
        "    model.compile(optimizer=\"adam\", loss=\"mean_squared_error\", metrics=['mse'])\n",
        "\n",
        "    # stop = EarlyStopping(monitor='val_accuracy', patience=2, restore_best_weights=True)\n",
        "    model.fit(X, y, epochs=25, batch_size=100, validation_split=0.15) #, callbacks=[stop])\n",
        "    return model\n",
        "    \n",
        "max_feat = 300\n",
        "MLPmodel = MLPregression(X_train, np.array(y_train), max_feat*2)\n",
        "preds = MLPmodel.predict(X_test)\n",
        "\n",
        "MLPmodel.save('/content/drive/MyDrive/Colab Notebooks/INF8460/Project/mlp_regression_msmarco_glove_300*2.h5')"
      ],
      "execution_count": null,
      "outputs": [
        {
          "output_type": "stream",
          "text": [
            "Epoch 1/25\n",
            "192/192 [==============================] - 1s 4ms/step - loss: 0.0111 - mse: 0.0111 - val_loss: 0.0034 - val_mse: 0.0034\n",
            "Epoch 2/25\n",
            "192/192 [==============================] - 1s 3ms/step - loss: 0.0028 - mse: 0.0028 - val_loss: 0.0026 - val_mse: 0.0026\n",
            "Epoch 3/25\n",
            "192/192 [==============================] - 1s 3ms/step - loss: 0.0022 - mse: 0.0022 - val_loss: 0.0020 - val_mse: 0.0020\n",
            "Epoch 4/25\n",
            "192/192 [==============================] - 1s 3ms/step - loss: 0.0018 - mse: 0.0018 - val_loss: 0.0019 - val_mse: 0.0019\n",
            "Epoch 5/25\n",
            "192/192 [==============================] - 1s 3ms/step - loss: 0.0018 - mse: 0.0018 - val_loss: 0.0018 - val_mse: 0.0018\n",
            "Epoch 6/25\n",
            "192/192 [==============================] - 1s 3ms/step - loss: 0.0016 - mse: 0.0016 - val_loss: 0.0018 - val_mse: 0.0018\n",
            "Epoch 7/25\n",
            "192/192 [==============================] - 1s 3ms/step - loss: 0.0016 - mse: 0.0016 - val_loss: 0.0015 - val_mse: 0.0015\n",
            "Epoch 8/25\n",
            "192/192 [==============================] - 1s 3ms/step - loss: 0.0015 - mse: 0.0015 - val_loss: 0.0018 - val_mse: 0.0018\n",
            "Epoch 9/25\n",
            "192/192 [==============================] - 1s 3ms/step - loss: 0.0014 - mse: 0.0014 - val_loss: 0.0016 - val_mse: 0.0016\n",
            "Epoch 10/25\n",
            "192/192 [==============================] - 1s 3ms/step - loss: 0.0014 - mse: 0.0014 - val_loss: 0.0016 - val_mse: 0.0016\n",
            "Epoch 11/25\n",
            "192/192 [==============================] - 1s 3ms/step - loss: 0.0013 - mse: 0.0013 - val_loss: 0.0015 - val_mse: 0.0015\n",
            "Epoch 12/25\n",
            "192/192 [==============================] - 1s 3ms/step - loss: 0.0012 - mse: 0.0012 - val_loss: 0.0014 - val_mse: 0.0014\n",
            "Epoch 13/25\n",
            "192/192 [==============================] - 1s 3ms/step - loss: 0.0012 - mse: 0.0012 - val_loss: 0.0015 - val_mse: 0.0015\n",
            "Epoch 14/25\n",
            "192/192 [==============================] - 1s 3ms/step - loss: 0.0012 - mse: 0.0012 - val_loss: 0.0016 - val_mse: 0.0016\n",
            "Epoch 15/25\n",
            "192/192 [==============================] - 1s 3ms/step - loss: 0.0011 - mse: 0.0011 - val_loss: 0.0014 - val_mse: 0.0014\n",
            "Epoch 16/25\n",
            "192/192 [==============================] - 1s 3ms/step - loss: 0.0012 - mse: 0.0012 - val_loss: 0.0013 - val_mse: 0.0013\n",
            "Epoch 17/25\n",
            "192/192 [==============================] - 1s 3ms/step - loss: 0.0011 - mse: 0.0011 - val_loss: 0.0014 - val_mse: 0.0014\n",
            "Epoch 18/25\n",
            "192/192 [==============================] - 1s 3ms/step - loss: 0.0011 - mse: 0.0011 - val_loss: 0.0016 - val_mse: 0.0016\n",
            "Epoch 19/25\n",
            "192/192 [==============================] - 1s 3ms/step - loss: 0.0011 - mse: 0.0011 - val_loss: 0.0014 - val_mse: 0.0014\n",
            "Epoch 20/25\n",
            "192/192 [==============================] - 1s 3ms/step - loss: 0.0011 - mse: 0.0011 - val_loss: 0.0015 - val_mse: 0.0015\n",
            "Epoch 21/25\n",
            "192/192 [==============================] - 1s 3ms/step - loss: 0.0011 - mse: 0.0011 - val_loss: 0.0013 - val_mse: 0.0013\n",
            "Epoch 22/25\n",
            "192/192 [==============================] - 1s 3ms/step - loss: 0.0010 - mse: 0.0010 - val_loss: 0.0013 - val_mse: 0.0013\n",
            "Epoch 23/25\n",
            "192/192 [==============================] - 1s 3ms/step - loss: 9.8528e-04 - mse: 9.8528e-04 - val_loss: 0.0015 - val_mse: 0.0015\n",
            "Epoch 24/25\n",
            "192/192 [==============================] - 1s 3ms/step - loss: 9.7932e-04 - mse: 9.7932e-04 - val_loss: 0.0013 - val_mse: 0.0013\n",
            "Epoch 25/25\n",
            "192/192 [==============================] - 1s 3ms/step - loss: 9.2542e-04 - mse: 9.2542e-04 - val_loss: 0.0014 - val_mse: 0.0014\n"
          ],
          "name": "stdout"
        }
      ]
    },
    {
      "cell_type": "code",
      "metadata": {
        "colab": {
          "base_uri": "https://localhost:8080/"
        },
        "id": "_U_0u6QeKOlM",
        "outputId": "aa3e71b6-40ea-46ff-8082-2ca742b23f83"
      },
      "source": [
        "print(np.array(y_test)[:5])\n",
        "print(preds[:5])"
      ],
      "execution_count": null,
      "outputs": [
        {
          "output_type": "stream",
          "text": [
            "[0.74325098 0.78950238 0.78060363 0.78547908 0.74975728]\n",
            "[[0.7599584 ]\n",
            " [0.77603745]\n",
            " [0.79252803]\n",
            " [0.7936619 ]\n",
            " [0.75642383]]\n"
          ],
          "name": "stdout"
        }
      ]
    },
    {
      "cell_type": "code",
      "metadata": {
        "colab": {
          "base_uri": "https://localhost:8080/",
          "height": 822
        },
        "id": "z-4W_BjDa9V9",
        "outputId": "894c3858-9ccc-4719-c126-a6d6fe6af6fe"
      },
      "source": [
        "import keras\n",
        "from operator import itemgetter\n",
        "\n",
        "reconstructed_MLPmodel = keras.models.load_model('/content/drive/MyDrive/Colab Notebooks/INF8460/Project/mlp_regression_msmarco_glove_300*2.h5')\n",
        "\n",
        "val_results = {}\n",
        "for i, query in enumerate(plongement_queries): # val_questions_tfidf\n",
        "    results = []\n",
        "    query = query.tolist()\n",
        "    test_sentence_pairs = np.matrix([query for n in range(len(plongement_docs))]) # paragraphs_tfidf\n",
        "    # for j, doc in enumerate(paragraphs_tfidf):\n",
        "    test_sentence_pairs = np.concatenate((test_sentence_pairs, plongement_docs), axis=1)\n",
        "    preds = reconstructed_MLPmodel.predict(test_sentence_pairs)\n",
        "\n",
        "    for j in train_data[0]:\n",
        "        results.append((j, preds[j][0]))\n",
        "    results.sort(key=itemgetter(1), reverse=True)\n",
        "    val_results[i] = results[:1000]\n",
        "        \n",
        "    print(val_ids[2][i])\n",
        "    correct = False\n",
        "    if val_ids[2][i] != -1:\n",
        "        print(val_results[i])\n",
        "        for line in val_results[i]:\n",
        "            # print(line[0], line[1])\n",
        "            if line[0] == int(val_ids[2][i]):\n",
        "                correct = True \n",
        "    print(correct)"
      ],
      "execution_count": null,
      "outputs": [
        {
          "output_type": "stream",
          "text": [
            "17134.0\n",
            "[(83271, 1.0017147), (32963, 1.0002354), (13147, 0.99690825), (35427, 0.99501556), (7252, 0.98948896), (3812, 0.9885626), (2293, 0.9844908), (31397, 0.98320943), (49012, 0.981814), (5113, 0.98158914), (13142, 0.97977966), (3601, 0.9747692), (68873, 0.97109145), (3981, 0.970495), (14436, 0.96938306), (4694, 0.9682901), (13144, 0.9674437), (13169, 0.9653858), (13174, 0.9653855), (79777, 0.96391326), (5969, 0.9635116), (6504, 0.96326554), (26284, 0.9628693), (76099, 0.96239895), (4714, 0.9610033), (4451, 0.95820254), (3465, 0.95779675), (75907, 0.9572347), (53798, 0.95601046), (46150, 0.95590055), (83137, 0.9556515), (15028, 0.9555307), (57286, 0.95513546), (7123, 0.9548602), (986, 0.95359796), (25323, 0.9533777), (2547, 0.9528138), (21863, 0.952201), (6488, 0.9521107), (4754, 0.9511115), (77550, 0.95049906), (13170, 0.9504017), (37161, 0.9502999), (13205, 0.94987464), (38328, 0.9491012), (19443, 0.94879085), (13161, 0.94874096), (12778, 0.9485541), (83165, 0.9482688), (16861, 0.9474792), (71987, 0.94729316), (71177, 0.9468149), (14294, 0.94673616), (71853, 0.9467167), (2600, 0.94570464), (77059, 0.9455144), (23008, 0.9454195), (14936, 0.9453862), (64521, 0.94485337), (61077, 0.9448101), (13163, 0.94458395), (4698, 0.94454485), (13243, 0.94441897), (57687, 0.9443475), (75854, 0.9437425), (22458, 0.9435728), (76054, 0.94329125), (35386, 0.9432762), (13181, 0.9432637), (15019, 0.9428413), (47754, 0.9427818), (56103, 0.9426808), (51202, 0.94266057), (27805, 0.94253314), (34714, 0.94253314), (73453, 0.9425105), (6518, 0.94228035), (13189, 0.9421292), (951, 0.9418848), (19448, 0.941784), (56185, 0.94062257), (75279, 0.9405465), (54716, 0.94041204), (11245, 0.9402101), (39197, 0.9400465), (69035, 0.94003665), (60513, 0.9394806), (10677, 0.93935364), (38347, 0.93935364), (44747, 0.93935364), (55284, 0.93935364), (14719, 0.9391767), (78, 0.93910605), (14753, 0.938818), (13204, 0.9386617), (26390, 0.9382087), (52223, 0.9380084), (56329, 0.9380084), (2570, 0.9378637), (12738, 0.9373056), (44783, 0.9369939), (74769, 0.93698746), (3477, 0.93677837), (23814, 0.93620914), (18235, 0.9361605), (15801, 0.93515813), (13150, 0.93511367), (78807, 0.9348783), (13251, 0.934805), (75853, 0.9343166), (62268, 0.9336739), (984, 0.93356764), (70672, 0.93324727), (59360, 0.9329588), (64758, 0.9329588), (63858, 0.93280965), (5790, 0.9328022), (41055, 0.93275), (79904, 0.93275), (21402, 0.9327173), (33092, 0.9321272), (4470, 0.9321196), (72838, 0.9318757), (15293, 0.93180716), (19975, 0.93179035), (5217, 0.9316934), (35531, 0.9316922), (71822, 0.93163043), (22439, 0.9316001), (43971, 0.9316001), (78130, 0.9316001), (80657, 0.9316001), (12608, 0.93147135), (29399, 0.9313271), (66919, 0.9313159), (76591, 0.9313159), (948, 0.9312983), (27575, 0.9312833), (34382, 0.9312833), (28754, 0.93125254), (80584, 0.93125254), (47142, 0.9311853), (43306, 0.93097156), (36679, 0.9308931), (12818, 0.93087745), (17869, 0.9305937), (15032, 0.9305282), (34417, 0.93045855), (1169, 0.9302543), (33952, 0.9301923), (36021, 0.93009007), (41812, 0.93009007), (71125, 0.93009007), (76122, 0.93009007), (81957, 0.9300739), (28667, 0.92980194), (30522, 0.92970264), (37357, 0.92970264), (38008, 0.92970264), (64094, 0.92970264), (72943, 0.92970264), (74024, 0.92970264), (77471, 0.92970264), (81523, 0.92970264), (57938, 0.9296203), (40068, 0.9294733), (23352, 0.9291742), (41044, 0.9291742), (78277, 0.9291742), (66905, 0.9289252), (6133, 0.9289238), (81604, 0.92890805), (13206, 0.9288341), (3486, 0.92870694), (11534, 0.9285634), (41274, 0.92852867), (54086, 0.928504), (15515, 0.9282973), (48518, 0.92829114), (37311, 0.9281696), (72631, 0.92765194), (13159, 0.927647), (5707, 0.927233), (13162, 0.92710644), (39872, 0.9270951), (2675, 0.9270001), (62753, 0.9269015), (64042, 0.92671114), (5869, 0.9266946), (56168, 0.9266457), (5641, 0.9266397), (48446, 0.9266397), (40065, 0.9266261), (71222, 0.9266261), (15862, 0.92644346), (14706, 0.92640686), (2772, 0.92632365), (65127, 0.9262748), (13180, 0.92621124), (24693, 0.9262093), (13168, 0.92616916), (5118, 0.9261536), (72648, 0.9260668), (12765, 0.9260581), (20314, 0.9260366), (4691, 0.9260022), (66181, 0.9254824), (12202, 0.9253211), (66506, 0.92520636), (65280, 0.9251017), (65816, 0.92503524), (77162, 0.9249703), (82160, 0.9249703), (19987, 0.92489964), (18508, 0.9247194), (52447, 0.9247), (56196, 0.9247), (14937, 0.92466736), (36059, 0.92464405), (77195, 0.92464405), (8566, 0.9246244), (56233, 0.92430526), (66635, 0.92427635), (7254, 0.92419875), (64310, 0.92419326), (5968, 0.92419136), (25235, 0.9240895), (36596, 0.9239879), (38625, 0.9239879), (80323, 0.92387545), (44084, 0.92386264), (54565, 0.92384017), (16501, 0.923776), (20020, 0.92375875), (15890, 0.9233264), (2568, 0.9232403), (10304, 0.92316234), (52248, 0.9231521), (52103, 0.9231511), (83224, 0.9231511), (14360, 0.9231085), (26353, 0.92301375), (28773, 0.92298436), (7391, 0.9229236), (72004, 0.9229132), (74957, 0.9229132), (64574, 0.922894), (32268, 0.92286384), (4128, 0.922759), (48688, 0.9227494), (73450, 0.92270136), (76743, 0.9225642), (33153, 0.92255676), (36630, 0.92255676), (80068, 0.92255676), (13420, 0.92241085), (20981, 0.92237484), (37545, 0.92237484), (40537, 0.92237484), (57330, 0.92237484), (57647, 0.92237484), (61798, 0.92237484), (73376, 0.92237484), (77831, 0.92237484), (79557, 0.92237484), (24923, 0.92223424), (6084, 0.922127), (2440, 0.92206645), (9704, 0.922037), (66375, 0.9218519), (15045, 0.9218184), (25435, 0.92178965), (26344, 0.9217862), (67747, 0.9217862), (23250, 0.9217045), (20232, 0.9216579), (22674, 0.92164916), (71282, 0.9215566), (32675, 0.92110074), (39124, 0.92110074), (56413, 0.92110074), (77770, 0.92110074), (80727, 0.92110074), (33105, 0.9210735), (49992, 0.92083776), (9945, 0.92083716), (6963, 0.920734), (81777, 0.92073244), (28493, 0.9207314), (4693, 0.9206621), (45370, 0.92059314), (6086, 0.92051184), (52615, 0.92047596), (12775, 0.9204232), (25784, 0.9203886), (78322, 0.9203886), (6484, 0.92024636), (67157, 0.9201305), (80066, 0.9201085), (10862, 0.9200936), (37510, 0.9200605), (42058, 0.9200605), (53838, 0.9200605), (55563, 0.92005676), (60175, 0.92005676), (4068, 0.91987604), (59481, 0.91987175), (7153, 0.9198588), (6418, 0.9198212), (6471, 0.91979754), (8991, 0.9197916), (36075, 0.91963625), (57838, 0.91963625), (78955, 0.91963625), (80767, 0.91963625), (36223, 0.9195223), (81423, 0.9194374), (6473, 0.91942817), (3796, 0.9193806), (4121, 0.91936064), (18137, 0.9192606), (82045, 0.9191821), (11244, 0.9191528), (349, 0.91914845), (41089, 0.9190298), (43430, 0.9190298), (54902, 0.9190298), (58525, 0.9190298), (62859, 0.9190298), (39673, 0.918997), (8722, 0.9189236), (50960, 0.9188804), (73389, 0.9188804), (49233, 0.9188648), (7408, 0.91883737), (9926, 0.918778), (67996, 0.9187412), (5044, 0.91869205), (33330, 0.91866964), (76493, 0.91855127), (74186, 0.918517), (56003, 0.91851616), (60098, 0.91849124), (19033, 0.918383), (2716, 0.9183332), (8355, 0.91815764), (7762, 0.9180741), (24173, 0.9178047), (66885, 0.9178047), (71255, 0.9177492), (48185, 0.91771233), (17384, 0.9176407), (1093, 0.9175793), (17326, 0.9175682), (29269, 0.91754276), (80440, 0.91754276), (62980, 0.91752815), (8958, 0.9174611), (2471, 0.9174525), (18074, 0.9174323), (48020, 0.91723293), (44547, 0.91717744), (18065, 0.9170434), (70219, 0.91699636), (21651, 0.9169311), (54798, 0.91692585), (65968, 0.9168958), (73373, 0.9168958), (7736, 0.9168773), (12768, 0.91687155), (6490, 0.91665095), (5536, 0.9166375), (3480, 0.9163441), (39828, 0.9163131), (77449, 0.9162962), (31197, 0.91622233), (78795, 0.91622233), (13167, 0.91616356), (18062, 0.91614753), (22271, 0.9159542), (41746, 0.91594696), (29513, 0.9159453), (50929, 0.9158833), (26152, 0.91586137), (38182, 0.91586137), (54053, 0.91586137), (71547, 0.91586137), (82321, 0.91586137), (18224, 0.91579926), (12223, 0.91571015), (54054, 0.9156829), (71234, 0.9155871), (24885, 0.9155078), (45515, 0.91546595), (37956, 0.9153999), (47632, 0.9153999), (54369, 0.9153831), (24075, 0.9152994), (26094, 0.91516644), (49771, 0.9151258), (78571, 0.9151258), (56877, 0.9150725), (57663, 0.9150378), (13478, 0.91500854), (23807, 0.9150062), (5505, 0.91494274), (30358, 0.91490775), (24435, 0.9148748), (44346, 0.9148748), (22504, 0.9148644), (33508, 0.9148644), (34025, 0.9148644), (39684, 0.9148644), (51891, 0.9148644), (58374, 0.9148644), (63966, 0.9148644), (64676, 0.9148644), (70189, 0.9148644), (76703, 0.9148644), (77948, 0.9148644), (5485, 0.91486317), (14468, 0.9148264), (19973, 0.91482586), (57053, 0.91480666), (7733, 0.9148021), (57324, 0.9147878), (28294, 0.91463345), (82457, 0.91462314), (47986, 0.9146), (37441, 0.91452193), (24280, 0.9144699), (4833, 0.91442704), (22521, 0.9144125), (15913, 0.9142927), (35641, 0.91427624), (40422, 0.91427624), (3633, 0.91426533), (49245, 0.91420895), (6487, 0.9142076), (805, 0.9142072), (50270, 0.9140508), (66801, 0.9140508), (68466, 0.9140508), (61466, 0.91404796), (7400, 0.9139634), (6425, 0.91391164), (69053, 0.91387033), (6421, 0.91380197), (68394, 0.91369945), (69887, 0.91369945), (80050, 0.91369945), (16401, 0.91356015), (13183, 0.9135056), (13143, 0.9134318), (6519, 0.9132765), (5831, 0.91314995), (77734, 0.9130721), (13255, 0.91303974), (75660, 0.91302115), (37944, 0.91298753), (70936, 0.9129733), (27386, 0.9129686), (13263, 0.9129523), (70169, 0.9129373), (21131, 0.9129242), (61322, 0.9129115), (607, 0.91284573), (13477, 0.91281193), (19756, 0.91277015), (82830, 0.9127508), (34799, 0.9127148), (68753, 0.9127148), (66143, 0.9127085), (80455, 0.9126877), (20875, 0.9126859), (58250, 0.91266984), (25603, 0.91265035), (78255, 0.912601), (39117, 0.91255903), (46070, 0.91240674), (15523, 0.91236126), (34948, 0.91234237), (31847, 0.9122459), (14222, 0.91222525), (66762, 0.9121732), (67903, 0.91216415), (17019, 0.9121542), (58510, 0.9120594), (17290, 0.9119197), (69491, 0.9118601), (78388, 0.9118441), (72328, 0.9117664), (45495, 0.9117574), (58529, 0.9116481), (65944, 0.91146296), (17071, 0.911455), (17289, 0.9113839), (47951, 0.9113721), (13220, 0.9113192), (53818, 0.9111857), (13918, 0.91116846), (36530, 0.9110982), (355, 0.91097134), (445, 0.91095173), (2653, 0.91094285), (65235, 0.9109117), (82875, 0.91089934), (8327, 0.91088027), (64581, 0.91083515), (82093, 0.91083515), (80344, 0.91082686), (46002, 0.9107789), (77686, 0.91073847), (51209, 0.9107228), (3467, 0.91065764), (80599, 0.9106258), (42649, 0.91054595), (7741, 0.9104797), (6168, 0.91046476), (2474, 0.91044873), (75340, 0.91041905), (73826, 0.9103575), (69013, 0.9103194), (18097, 0.91020447), (12763, 0.91017413), (57618, 0.9101676), (63056, 0.9101137), (14071, 0.91009635), (17080, 0.91000766), (6167, 0.90996414), (14083, 0.9099627), (7452, 0.9099389), (8584, 0.9099114), (2532, 0.90989786), (5823, 0.90982825), (5859, 0.909826), (54688, 0.90981275), (28776, 0.9096781), (14725, 0.9096458), (7246, 0.9096199), (28034, 0.90958416), (3470, 0.909515), (20420, 0.9095089), (22539, 0.90947914), (22117, 0.9094773), (15888, 0.9094665), (62914, 0.90945655), (5130, 0.90945095), (59213, 0.9094317), (335, 0.9093639), (69313, 0.9093386), (14206, 0.9093373), (65531, 0.9093093), (71866, 0.909277), (15519, 0.9092043), (56839, 0.90918654), (35292, 0.90918136), (9573, 0.9090979), (15317, 0.9090965), (1446, 0.9089837), (3636, 0.9089715), (32532, 0.908969), (21943, 0.9088982), (33728, 0.90884554), (6189, 0.9087355), (77610, 0.9086954), (1587, 0.9086804), (68238, 0.90867925), (53013, 0.9086189), (28909, 0.9086152), (37487, 0.9086152), (26813, 0.9085887), (26265, 0.90845925), (44138, 0.90845925), (63205, 0.90845925), (2911, 0.9084044), (5613, 0.90840024), (43928, 0.9083512), (59129, 0.9083354), (14720, 0.9082706), (31563, 0.9082307), (3484, 0.9082099), (48644, 0.90815735), (71754, 0.90815735), (73286, 0.9081242), (30000, 0.908117), (19633, 0.9081023), (16988, 0.90809536), (15902, 0.90806013), (26433, 0.90800476), (69016, 0.90800476), (71613, 0.90800476), (37950, 0.9079682), (70548, 0.9079518), (41328, 0.9078943), (17269, 0.90789133), (14740, 0.90773094), (44239, 0.9076964), (58049, 0.9076764), (46127, 0.90766716), (4119, 0.90763545), (58637, 0.90761167), (17072, 0.9075456), (35490, 0.9075371), (56436, 0.90744513), (67856, 0.90744513), (13249, 0.90740347), (45007, 0.9073154), (9016, 0.90730774), (73595, 0.90729785), (48016, 0.9072373), (47450, 0.90719724), (58990, 0.90719247), (76774, 0.90716964), (74426, 0.9071436), (76987, 0.9071436), (27463, 0.9071381), (36671, 0.90702796), (38327, 0.9069993), (60730, 0.9069785), (1361, 0.9069674), (27464, 0.90693927), (64636, 0.90693927), (66464, 0.90688676), (13148, 0.9068862), (21416, 0.906869), (59222, 0.906858), (36171, 0.90684295), (2719, 0.90682137), (80475, 0.90673757), (11506, 0.9067218), (23311, 0.9065964), (3215, 0.90658313), (13160, 0.9065797), (5069, 0.90656316), (23165, 0.9065564), (30041, 0.9065564), (38163, 0.9065564), (46350, 0.9065564), (59861, 0.9065564), (63281, 0.9065564), (68467, 0.9065564), (69926, 0.9065564), (82168, 0.9065564), (5491, 0.90651155), (37882, 0.90649766), (64313, 0.9064849), (27758, 0.9063503), (56969, 0.9063503), (53676, 0.90629977), (14201, 0.9061808), (5789, 0.9060928), (45094, 0.90608484), (18101, 0.90606755), (10381, 0.9060475), (53288, 0.9060131), (76206, 0.9059963), (16408, 0.9059693), (47503, 0.90585023), (29492, 0.905749), (67759, 0.905749), (5111, 0.90567565), (4317, 0.9056452), (5122, 0.90558267), (63535, 0.90551263), (65253, 0.90551263), (45, 0.9054778), (10694, 0.9053823), (82085, 0.90536916), (14916, 0.90535897), (7350, 0.9052965), (42834, 0.9052884), (51040, 0.9052662), (15128, 0.9052429), (40659, 0.9052362), (5027, 0.90520626), (2824, 0.9051926), (13250, 0.9051762), (15984, 0.9051142), (2516, 0.9050512), (14404, 0.9050224), (14732, 0.9049987), (52033, 0.9049942), (29531, 0.9049569), (12219, 0.9049412), (29863, 0.90492666), (72366, 0.9048977), (58446, 0.9048119), (49923, 0.90480494), (3755, 0.90468025), (13259, 0.9046785), (950, 0.90465707), (53400, 0.90461886), (5150, 0.9046094), (24046, 0.9045836), (24089, 0.90454644), (64710, 0.9045164), (68735, 0.9045164), (28715, 0.904447), (58047, 0.904447), (82778, 0.90442276), (43257, 0.90433884), (51373, 0.90433884), (61135, 0.90433884), (77555, 0.90433884), (13191, 0.9043221), (13241, 0.90420693), (5104, 0.9041863), (38711, 0.9041664), (77945, 0.9040861), (24004, 0.90406066), (14724, 0.90405786), (35806, 0.90404797), (37048, 0.90404797), (43053, 0.90404797), (80469, 0.9040209), (62851, 0.9039901), (12471, 0.9039877), (34216, 0.9039653), (25978, 0.9039466), (45630, 0.9039466), (64434, 0.9039466), (4108, 0.9038835), (53218, 0.90386814), (63976, 0.90382105), (19171, 0.9038199), (26696, 0.90381056), (586, 0.9037848), (25153, 0.90377736), (58051, 0.90377545), (10399, 0.9037524), (38759, 0.9037306), (41231, 0.9037264), (42726, 0.9037169), (13179, 0.90371233), (38112, 0.9036682), (9651, 0.9036638), (23228, 0.9036632), (57667, 0.90363294), (38628, 0.9036295), (42971, 0.90361947), (14282, 0.9035786), (5043, 0.9035699), (7789, 0.90353817), (66405, 0.90352726), (957, 0.90352035), (13669, 0.9034996), (77927, 0.9034894), (20339, 0.9034798), (55677, 0.903437), (59946, 0.903437), (15030, 0.9034309), (12759, 0.90340406), (17036, 0.90333205), (32599, 0.9033116), (34446, 0.90331155), (33403, 0.9032925), (43987, 0.9032925), (7054, 0.90323055), (41735, 0.9032129), (4832, 0.9032098), (40383, 0.90318966), (56787, 0.90318966), (69689, 0.90318966), (9464, 0.9031864), (46176, 0.9031806), (78849, 0.90314347), (11672, 0.903133), (32872, 0.90302604), (47168, 0.90302604), (70955, 0.90297455), (76306, 0.90293574), (7909, 0.9029177), (7018, 0.9028816), (67294, 0.90287757), (65460, 0.90280366), (79096, 0.90278345), (5481, 0.90275526), (19961, 0.9027146), (4842, 0.90270406), (50667, 0.9027025), (12666, 0.9026283), (51815, 0.9025927), (6660, 0.90257764), (20230, 0.90252024), (41430, 0.902483), (72694, 0.90248245), (30755, 0.9024642), (13369, 0.9024524), (78751, 0.90243924), (19753, 0.9024357), (13089, 0.9024038), (60387, 0.90236413), (73663, 0.9023542), (76710, 0.90232444), (73519, 0.9022131), (14578, 0.9021885), (57778, 0.90217817), (64451, 0.90217817), (21289, 0.9021575), (68102, 0.9021259), (30514, 0.9021149), (40209, 0.9021149), (5138, 0.9020771), (64077, 0.9020663), (14243, 0.90205705), (7256, 0.9020405), (21367, 0.9020292), (5832, 0.9020179), (83058, 0.9020084), (76278, 0.9020042), (41101, 0.90195996), (46858, 0.90194625), (81433, 0.9018976), (14595, 0.90189284), (13916, 0.9018916), (7779, 0.90186614), (82451, 0.90186334), (8065, 0.9018595), (66141, 0.90183383), (11018, 0.9018178), (56368, 0.90178937), (19127, 0.9017577), (36048, 0.9017425), (39415, 0.9017425), (48506, 0.9017425), (50409, 0.9017425), (51354, 0.9017425), (80134, 0.9017425), (5928, 0.9017212), (45989, 0.9017043), (9903, 0.9016339), (7462, 0.901609), (30962, 0.9015779), (27212, 0.90157586), (33166, 0.9015642), (51507, 0.9015642), (12422, 0.9015484), (5146, 0.9015186), (4978, 0.9015133), (31963, 0.9015096), (7958, 0.90144527), (2435, 0.9014244), (3795, 0.9013973), (29465, 0.9013436), (18466, 0.9013413), (54393, 0.90132236), (8714, 0.90129447), (36554, 0.90128696), (22440, 0.90125567), (5821, 0.9012511), (871, 0.90121937), (18219, 0.9012184), (35448, 0.9011641), (50985, 0.9011388), (7745, 0.90110254), (14527, 0.9010985), (73699, 0.90100175), (69911, 0.9009914), (9941, 0.9009709), (5134, 0.9009557), (51766, 0.90083563), (63082, 0.90078443), (82038, 0.90075696), (18102, 0.90075266), (7372, 0.9007203), (2766, 0.9006923), (13687, 0.9006864), (5846, 0.90065867), (50356, 0.90063244), (20631, 0.9006321), (69190, 0.9006321), (13366, 0.9005725), (33979, 0.90056014), (32082, 0.90055823), (55860, 0.90055823), (19940, 0.9005456), (47947, 0.90052366), (64033, 0.9005219), (17558, 0.9004951), (77473, 0.9004865), (16873, 0.9004696), (10425, 0.900425), (23137, 0.90040904), (40121, 0.90040904), (41680, 0.90036863), (46602, 0.90036863), (12199, 0.900355), (27011, 0.90032154), (39149, 0.9002295), (41144, 0.9002295), (12745, 0.90013295), (19955, 0.90008), (2430, 0.9000582), (61287, 0.90003794), (16863, 0.8999989), (76903, 0.89996725), (80227, 0.89996725), (42179, 0.8999659), (17444, 0.8999604), (36501, 0.89991087), (59277, 0.8998994), (74100, 0.8998994), (77767, 0.8998941), (66653, 0.899854), (69230, 0.8998521), (2580, 0.8998449), (31828, 0.8998335), (37533, 0.8998307), (2416, 0.8998213), (58815, 0.8998153), (14575, 0.89980423), (3799, 0.899802), (29377, 0.8997751), (10843, 0.8997214), (31412, 0.899707), (47027, 0.8996735), (3485, 0.89967), (35431, 0.8996616), (43983, 0.8996609), (64222, 0.8996521), (36973, 0.8996403), (62688, 0.8996403), (82869, 0.8995676), (27691, 0.8995161), (24187, 0.8994816), (64919, 0.8994721), (53986, 0.89946026), (70205, 0.89946026), (970, 0.899446), (6503, 0.89943933), (5303, 0.8994265), (47112, 0.89940494), (49041, 0.89939827), (62, 0.89933515), (4548, 0.8993166), (60073, 0.8992586), (12741, 0.89921737), (44723, 0.8991478), (7407, 0.8991106), (17041, 0.8990864), (72910, 0.89908254), (52869, 0.89907), (17092, 0.8990646), (7740, 0.89905065), (15020, 0.8990493), (81241, 0.89901567), (6491, 0.89899343), (66575, 0.8989672), (50331, 0.89896417), (18517, 0.89895076), (62720, 0.8989299), (33720, 0.8989141), (19088, 0.8988902), (15046, 0.8988893), (74620, 0.89885974), (20684, 0.89878255), (28082, 0.89878255), (42430, 0.89878255), (60584, 0.89876246), (14401, 0.8987438), (8785, 0.8987309), (3129, 0.8987092), (14351, 0.8986807), (29625, 0.89864564), (22476, 0.8986438), (10693, 0.8986357), (13182, 0.89861584), (3474, 0.8986108), (59298, 0.8986032), (65833, 0.8986032), (79971, 0.8985897), (14091, 0.8985615), (79340, 0.89852166), (12831, 0.8985166), (32315, 0.8984892), (43700, 0.8984866), (51787, 0.8984669), (74565, 0.8984402), (79876, 0.8984402), (50096, 0.898398), (33827, 0.8983807), (35775, 0.8983807), (50519, 0.8983807), (65022, 0.8983807), (48201, 0.89833546), (41070, 0.8983224), (61285, 0.89829886), (33151, 0.89822954), (37060, 0.89822954), (71786, 0.89822954), (79601, 0.8981596), (9478, 0.8981182), (59237, 0.89810556), (613, 0.8980729), (7569, 0.89803773), (68415, 0.89799285), (14739, 0.89796716), (62142, 0.89792955), (77543, 0.89792955)]\n",
            "False\n",
            "-1.0\n",
            "False\n",
            "6902.0\n",
            "[(71234, 0.9269672), (30358, 0.9260552), (3477, 0.92333096), (77550, 0.89201003), (3465, 0.8865821), (81957, 0.88251054), (39828, 0.881333), (39872, 0.87863743), (63431, 0.87073517), (5505, 0.8699729), (78807, 0.8609108), (64310, 0.8607634), (71866, 0.8601309), (79777, 0.85884035), (77945, 0.8585234), (58529, 0.85704315), (58990, 0.85497713), (64888, 0.8548576), (38464, 0.8540673), (65994, 0.8540673), (73758, 0.8540673), (62914, 0.8536293), (57687, 0.8514304), (21863, 0.85102636), (23008, 0.85074514), (3467, 0.84952545), (30858, 0.8494741), (3484, 0.8482233), (3486, 0.84678674), (3490, 0.8457134), (56732, 0.8456871), (34417, 0.84545684), (40982, 0.84517246), (57286, 0.844463), (17925, 0.8439914), (27607, 0.8439905), (56402, 0.8439905), (4590, 0.84398514), (35863, 0.84272), (57566, 0.84245694), (25251, 0.84228015), (10025, 0.84194016), (64835, 0.84191203), (3480, 0.8417304), (74565, 0.84044063), (79876, 0.84044063), (19448, 0.83945423), (55092, 0.8387809), (78377, 0.8387809), (3982, 0.83834946), (3485, 0.8380196), (32535, 0.8380012), (4123, 0.8374754), (4289, 0.83718216), (22658, 0.8370375), (69452, 0.8369185), (51138, 0.836313), (37308, 0.8359192), (62699, 0.8356817), (64112, 0.8356817), (19975, 0.83518755), (38523, 0.8351052), (52031, 0.8351052), (60009, 0.8351052), (70496, 0.8351052), (82394, 0.8351052), (74271, 0.8350602), (10022, 0.8349319), (80455, 0.83482236), (3489, 0.8347426), (57649, 0.83474064), (2473, 0.83449996), (19973, 0.8344366), (47730, 0.83413297), (81650, 0.8341064), (28932, 0.8340894), (19590, 0.8340333), (3665, 0.8335348), (28720, 0.83352727), (21402, 0.8331284), (5725, 0.8328774), (2823, 0.83286417), (6200, 0.83236265), (72448, 0.8316757), (58151, 0.8313102), (4121, 0.8313014), (23250, 0.8309219), (52223, 0.8308208), (56329, 0.8308208), (24285, 0.83032614), (76776, 0.8300269), (2474, 0.82988274), (79759, 0.82971096), (13220, 0.8295326), (61466, 0.8292971), (35145, 0.8292527), (9704, 0.82795906), (21459, 0.82787895), (78013, 0.82787895), (43320, 0.82698584), (53692, 0.8269645), (57618, 0.8268737), (32822, 0.8268438), (67208, 0.8268438), (68838, 0.8264113), (34818, 0.82626265), (23029, 0.82611394), (60072, 0.82611394), (71436, 0.82611394), (80877, 0.82611394), (29536, 0.8260571), (56694, 0.8260571), (35684, 0.82601494), (58912, 0.82601494), (59509, 0.8259535), (80469, 0.8258155), (6133, 0.8255517), (61077, 0.8255065), (34767, 0.8254983), (45722, 0.825176), (66440, 0.825176), (70208, 0.825176), (76183, 0.825176), (41274, 0.8251363), (19189, 0.82513195), (26047, 0.8248186), (27612, 0.8248186), (56576, 0.8248186), (59574, 0.8248186), (45772, 0.8246228), (5746, 0.82452), (4714, 0.82450074), (59237, 0.82431793), (22344, 0.8242489), (2386, 0.8242285), (26344, 0.82419735), (67747, 0.82419735), (51844, 0.82402027), (35676, 0.8240113), (21943, 0.8239953), (52447, 0.8237932), (56196, 0.8237932), (3667, 0.82373464), (65582, 0.8236362), (23291, 0.8236253), (61515, 0.8236253), (3470, 0.82355696), (14772, 0.82322043), (2452, 0.82309055), (30522, 0.8230486), (37357, 0.8230486), (38008, 0.8230486), (64094, 0.8230486), (72943, 0.8230486), (74024, 0.8230486), (77471, 0.8230486), (81523, 0.8230486), (50270, 0.8229893), (66801, 0.8229893), (68466, 0.8229893), (65288, 0.82286805), (37189, 0.82274085), (29772, 0.82257867), (4294, 0.8223855), (26813, 0.82231164), (4317, 0.8222209), (56063, 0.822182), (37206, 0.82215655), (69920, 0.82215655), (32082, 0.82213145), (55860, 0.82213145), (37142, 0.82202435), (49010, 0.82202435), (71013, 0.82202435), (72906, 0.82202435), (82715, 0.82202435), (37441, 0.82201654), (24779, 0.8218373), (72004, 0.8218082), (74957, 0.8218082), (44783, 0.82144934), (73127, 0.82099026), (78389, 0.82099026), (47986, 0.8209107), (24180, 0.82086676), (29668, 0.8208255), (69741, 0.8208255), (52290, 0.82078886), (72648, 0.8205283), (54127, 0.8204844), (37258, 0.82043433), (5536, 0.82037956), (48383, 0.82028115), (53053, 0.81996894), (24980, 0.8197778), (60779, 0.8194791), (22761, 0.81938416), (31340, 0.8193302), (4278, 0.8192352), (33153, 0.81895834), (36630, 0.81895834), (80068, 0.81895834), (79733, 0.8188984), (53306, 0.81885725), (3765, 0.81876874), (54798, 0.8187473), (60762, 0.8186366), (10023, 0.818415), (14122, 0.81835145), (77425, 0.81802094), (7492, 0.8179007), (50883, 0.8178133), (66476, 0.8178133), (29141, 0.81769127), (31929, 0.81769127), (43112, 0.81769127), (47248, 0.81769127), (78964, 0.81769127), (10721, 0.81755084), (69035, 0.817498), (74726, 0.8174279), (27027, 0.8172332), (29909, 0.8172332), (36206, 0.8172332), (49053, 0.8172332), (53866, 0.8172332), (67119, 0.81722355), (70909, 0.8171986), (4298, 0.81713724), (1699, 0.81700075), (48987, 0.8169236), (4081, 0.8169208), (77982, 0.816893), (12402, 0.8166357), (57053, 0.8165809), (41328, 0.81651664), (73699, 0.8164624), (3461, 0.8164064), (24293, 0.8163982), (36554, 0.8163941), (4211, 0.8162693), (34032, 0.8162381), (35973, 0.8162381), (45565, 0.8162381), (2559, 0.8162274), (24219, 0.81616753), (1582, 0.81606543), (39934, 0.81602675), (58905, 0.81602675), (44239, 0.81601596), (48828, 0.8159973), (2551, 0.8159885), (60655, 0.8159855), (45607, 0.8159659), (5166, 0.8158728), (64387, 0.81582534), (26433, 0.8156936), (69016, 0.8156936), (71613, 0.8156936), (32268, 0.8156922), (73453, 0.81567645), (18372, 0.8156521), (71037, 0.81560975), (29625, 0.81559485), (49350, 0.8155855), (56659, 0.8155855), (61005, 0.8155855), (35765, 0.81557775), (49569, 0.8154646), (37956, 0.8153502), (47632, 0.8153502), (28185, 0.8152563), (27125, 0.8152248), (21626, 0.8151939), (54806, 0.81518567), (30040, 0.8151505), (54716, 0.8150956), (47957, 0.81504875), (72758, 0.8149517), (19598, 0.8149377), (26485, 0.8149086), (71514, 0.8149086), (40470, 0.8148392), (3482, 0.8146746), (65235, 0.81465083), (6813, 0.8145011), (64139, 0.8144693), (25875, 0.8143905), (36053, 0.81438684), (77767, 0.81434), (35641, 0.81433934), (40422, 0.81433934), (24698, 0.8143078), (10006, 0.81422687), (59056, 0.81420696), (63976, 0.81373715), (54182, 0.8137136), (4084, 0.81370586), (5779, 0.8136957), (3458, 0.81362385), (33050, 0.81361526), (6302, 0.8135689), (69212, 0.813549), (125, 0.81350213), (56407, 0.8134423), (27691, 0.81326216), (59482, 0.81322646), (68620, 0.81319016), (39135, 0.81317234), (74152, 0.81317234), (58258, 0.813052), (56877, 0.81301874), (34130, 0.8129934), (2703, 0.8129918), (4122, 0.81293845), (66397, 0.812921), (17956, 0.8129088), (31397, 0.8129081), (40068, 0.81287235), (3474, 0.81283665), (13518, 0.81280345), (46002, 0.8127306), (36816, 0.81263983), (66464, 0.8125495), (83137, 0.812527), (67402, 0.81241846), (47919, 0.8123603), (41162, 0.8123347), (32353, 0.8122822), (40918, 0.8122677), (74993, 0.81226677), (29737, 0.8121481), (13916, 0.81209487), (20930, 0.8120448), (25978, 0.8120141), (45630, 0.8120141), (64434, 0.8120141), (22112, 0.81198925), (65560, 0.8119008), (2528, 0.8118846), (37106, 0.8118094), (18459, 0.8117877), (24083, 0.81164294), (29958, 0.8115374), (30613, 0.8114842), (32069, 0.81147057), (70219, 0.81132543), (39555, 0.8113218), (72357, 0.81130075), (19990, 0.8111993), (63222, 0.8111451), (30821, 0.81114143), (4975, 0.8111255), (11505, 0.81109285), (4754, 0.81108755), (73075, 0.8110545), (66181, 0.81095195), (27339, 0.8109319), (29766, 0.8109319), (30448, 0.8108782), (48456, 0.8108782), (68335, 0.8108782), (72447, 0.8108782), (60278, 0.81083524), (73450, 0.8107799), (56032, 0.81075525), (5514, 0.810734), (41430, 0.8107318), (33330, 0.8107124), (76739, 0.8106814), (54449, 0.8105891), (81254, 0.81053483), (74620, 0.8105239), (78696, 0.8103974), (32391, 0.81039727), (45236, 0.81039727), (2927, 0.81030047), (2947, 0.81030047), (43205, 0.8102403), (44952, 0.8102403), (59664, 0.8102403), (57939, 0.81020826), (5862, 0.8101022), (51698, 0.81007177), (28848, 0.8099334), (66388, 0.8099092), (37455, 0.8098854), (49003, 0.8098694), (11096, 0.8098449), (40022, 0.8098112), (79937, 0.8098041), (47318, 0.809675), (64882, 0.809675), (75464, 0.8096606), (27464, 0.80962574), (64636, 0.80962574), (22626, 0.80962205), (35171, 0.80954653), (32534, 0.8095031), (34431, 0.8095031), (2527, 0.80947155), (1006, 0.80944335), (7462, 0.80941904), (1559, 0.8094148), (4451, 0.8091651), (30504, 0.8091485), (80110, 0.8091485), (16979, 0.80911905), (38847, 0.80910295), (49966, 0.80910295), (66907, 0.80910295), (57936, 0.809095), (33209, 0.80909234), (81498, 0.8090563), (50615, 0.8089896), (71987, 0.8089716), (17384, 0.8089435), (7274, 0.8087276), (77183, 0.80871), (26224, 0.8087067), (59804, 0.8087067), (51560, 0.80869865), (79432, 0.8086693), (82667, 0.8085628), (43983, 0.808431), (33550, 0.8084304), (79971, 0.80841756), (60412, 0.808415), (79558, 0.8084138), (78388, 0.8081814), (18434, 0.808141), (30190, 0.80807596), (39930, 0.80807596), (35427, 0.808036), (63495, 0.8079847), (74186, 0.80798143), (24249, 0.8079591), (58008, 0.8079591), (13517, 0.8079402), (41089, 0.80791503), (43430, 0.80791503), (54902, 0.80791503), (58525, 0.80791503), (62859, 0.80791503), (64462, 0.80787563), (40927, 0.80787337), (77444, 0.80787337), (27575, 0.8078348), (34382, 0.8078348), (75279, 0.80782944), (48413, 0.8078045), (55934, 0.8077002), (56368, 0.8076714), (31309, 0.80765885), (77955, 0.807642), (5513, 0.8076206), (13217, 0.8075714), (25139, 0.80753994), (65891, 0.8075038), (35887, 0.80750316), (68767, 0.80737525), (23137, 0.8072989), (40121, 0.8072989), (62432, 0.8072927), (4584, 0.8072497), (61584, 0.80724484), (38145, 0.8072332), (44335, 0.8072174), (46989, 0.80719715), (9559, 0.8071659), (6488, 0.8071296), (31197, 0.80711824), (78795, 0.80711824), (72533, 0.8071142), (26094, 0.8070752), (21651, 0.8070612), (5511, 0.80702585), (64542, 0.80701923), (73826, 0.8069876), (25478, 0.8069781), (67387, 0.8069781), (6618, 0.8069773), (48831, 0.8069672), (81528, 0.8069579), (68675, 0.80691725), (28057, 0.80689675), (79188, 0.8068741), (67343, 0.8068715), (29513, 0.8068327), (21990, 0.80682564), (66117, 0.80682456), (4833, 0.8068091), (1361, 0.806801), (31007, 0.8067793), (22291, 0.8067605), (60972, 0.80674154), (6935, 0.806735), (50793, 0.8067182), (19555, 0.8066748), (26854, 0.80663645), (30998, 0.80663645), (55223, 0.80663645), (2544, 0.8066357), (79654, 0.8065604), (27674, 0.8065313), (51253, 0.806492), (57978, 0.80646807), (76572, 0.80646664), (67157, 0.8064544), (54173, 0.8063261), (46070, 0.8063198), (3608, 0.80629766), (30139, 0.80620456), (35787, 0.80620456), (70153, 0.80620456), (9472, 0.8061666), (76435, 0.8061576), (53190, 0.80613226), (10399, 0.8061288), (63308, 0.8061153), (78755, 0.8060065), (19652, 0.8059387), (80402, 0.8059293), (64131, 0.80591154), (33963, 0.8058673), (65661, 0.8058673), (74870, 0.80586034), (13497, 0.8058421), (6147, 0.8058318), (47366, 0.8058316), (35245, 0.8057563), (77604, 0.8057355), (15768, 0.8057298), (18361, 0.80569506), (39216, 0.80566734), (48884, 0.8056624), (75603, 0.8055958), (8181, 0.8055699), (22650, 0.805442), (66069, 0.8054399), (67839, 0.8054399), (40302, 0.80543303), (73441, 0.80537623), (42444, 0.8053231), (50587, 0.80527097), (36668, 0.8052555), (73286, 0.80519253), (2553, 0.80516654), (2716, 0.80514914), (37715, 0.80508465), (38711, 0.8050633), (15861, 0.8050608), (11502, 0.80505943), (73439, 0.80499876), (19593, 0.8049925), (36205, 0.8049679), (2460, 0.8049667), (30525, 0.8049643), (30264, 0.80495226), (37886, 0.80495226), (52375, 0.80495226), (67806, 0.80495226), (74044, 0.80495226), (56233, 0.80494374), (64742, 0.8048202), (4987, 0.80479854), (26302, 0.80478925), (52453, 0.80478925), (5772, 0.8047703), (4897, 0.80475533), (53312, 0.80471873), (4588, 0.8047108), (22117, 0.80468947), (29001, 0.8046727), (2919, 0.80458057), (17377, 0.8044701), (51980, 0.8044444), (76638, 0.8044444), (75673, 0.80439276), (41442, 0.8043867), (7463, 0.8043692), (16982, 0.8043585), (14490, 0.80434185), (5156, 0.80425525), (2630, 0.8042054), (25015, 0.80419713), (19649, 0.8041829), (26630, 0.8041634), (56840, 0.8041634), (40756, 0.8040912), (28939, 0.80406886), (12141, 0.80401146), (66754, 0.8039699), (78231, 0.80392003), (58570, 0.80388707), (42988, 0.8038846), (56679, 0.8038846), (27483, 0.8038662), (14398, 0.8038537), (5150, 0.803837), (29901, 0.80381656), (32473, 0.8037604), (3690, 0.8037537), (37345, 0.8037536), (37859, 0.8037536), (39387, 0.8037536), (56994, 0.8037536), (82390, 0.8037536), (61518, 0.8037148), (57071, 0.8037003), (22603, 0.80366075), (41315, 0.803612), (19651, 0.80359787), (3475, 0.8035543), (83042, 0.8035336), (19804, 0.8035146), (60262, 0.8034618), (53129, 0.80340654), (5545, 0.8033816), (19267, 0.8033279), (13109, 0.80326974), (71822, 0.8032076), (22881, 0.8032046), (6138, 0.80316496), (24760, 0.80312294), (19451, 0.80310977), (60616, 0.8031035), (45743, 0.8030737), (53112, 0.80306476), (70518, 0.80306476), (77570, 0.8030596), (29423, 0.8030092), (51689, 0.8030083), (4615, 0.8029818), (82300, 0.8029784), (11832, 0.80295855), (52284, 0.80294675), (5104, 0.80291903), (82048, 0.80289954), (70455, 0.80283594), (72296, 0.80283594), (3476, 0.80283517), (34261, 0.8027982), (68631, 0.8027982), (2859, 0.80278385), (49819, 0.80273265), (77927, 0.80271375), (34369, 0.80270916), (77983, 0.80270916), (2557, 0.8026906), (78090, 0.80267143), (45515, 0.802662), (58410, 0.80262554), (2600, 0.8026134), (73182, 0.8025716), (75649, 0.8025716), (46798, 0.8025539), (23300, 0.8024894), (31640, 0.8024709), (60136, 0.8024623), (64495, 0.8024623), (26639, 0.80245167), (56449, 0.80242145), (81118, 0.8024017), (22755, 0.80235595), (23911, 0.8023499), (48189, 0.8023276), (60135, 0.8023094), (81174, 0.8023094), (2840, 0.80229646), (59940, 0.80227935), (41528, 0.8022643), (37267, 0.80219114), (26330, 0.8021711), (13112, 0.80215317), (36214, 0.8021151), (37978, 0.8021151), (986, 0.802105), (36622, 0.80210274), (60699, 0.80210274), (76251, 0.80210274), (62075, 0.8020295), (4045, 0.8020276), (9478, 0.80201596), (47232, 0.80197376), (13534, 0.80195785), (73065, 0.8019332), (73329, 0.8018883), (6504, 0.8018828), (68955, 0.8018387), (9750, 0.8018313), (64793, 0.8018163), (83226, 0.8018081), (48823, 0.80180657), (59076, 0.80174905), (43832, 0.8017485), (13508, 0.8017456), (68996, 0.8017197), (75241, 0.80169463), (45315, 0.80169386), (63182, 0.8016618), (11307, 0.80165327), (40881, 0.8016492), (75133, 0.8016428), (20775, 0.8016427), (20712, 0.8016352), (44599, 0.8016352), (53061, 0.8016352), (66165, 0.8016352), (21707, 0.8016129), (70837, 0.8016129), (46902, 0.8015863), (56366, 0.8015863), (62680, 0.8015863), (76953, 0.8015863), (79288, 0.8015863), (44356, 0.80158097), (52857, 0.8015671), (33151, 0.8015465), (37060, 0.8015465), (71786, 0.8015465), (81569, 0.80153793), (41147, 0.80152386), (36148, 0.80151534), (52774, 0.80151534), (54095, 0.80151534), (64051, 0.80151534), (73382, 0.80151534), (53757, 0.80150986), (43663, 0.80149364), (25914, 0.80149347), (67500, 0.8014751), (81392, 0.80146545), (11504, 0.8014345), (72910, 0.80141985), (64664, 0.80137914), (30419, 0.80136406), (66358, 0.80136406), (55675, 0.8013611), (4462, 0.8013594), (63795, 0.8013592), (22328, 0.8013498), (14294, 0.8013062), (80340, 0.801269), (45455, 0.80122566), (6784, 0.8011577), (77149, 0.80115664), (20978, 0.80115193), (36453, 0.80115086), (46525, 0.80115086), (52248, 0.8011311), (50066, 0.8011101), (37452, 0.80107373), (6146, 0.80106336), (19643, 0.8010473), (32942, 0.80104357), (49230, 0.80104357), (74878, 0.8010065), (11677, 0.80100036), (29531, 0.80097264), (19940, 0.80095565), (41906, 0.80095464), (80250, 0.80094486), (7272, 0.8009175), (33403, 0.8009084), (43987, 0.8009084), (38628, 0.80090183), (43047, 0.8008695), (4108, 0.80085236), (27183, 0.8008306), (55804, 0.80079657), (61668, 0.8007447), (33698, 0.8007378), (25681, 0.8007325), (42649, 0.8007191), (5113, 0.80070883), (72469, 0.80070823), (73098, 0.80070573), (31469, 0.8006986), (12445, 0.8006847), (69770, 0.8006543), (40049, 0.8006293), (58757, 0.8006293), (48201, 0.8005708), (82091, 0.8005595), (24864, 0.8005519), (68901, 0.800529), (3976, 0.80049926), (5089, 0.80048007), (20554, 0.8004639), (42470, 0.8004639), (63830, 0.8004639), (22138, 0.8004151), (34687, 0.8004146), (36606, 0.8004146), (44437, 0.8004146), (36081, 0.8003923), (42035, 0.80037385), (25334, 0.8003629), (52035, 0.8003279), (65956, 0.800324), (72098, 0.800324), (76557, 0.800324), (28295, 0.80031914), (77957, 0.8003034), (35159, 0.8002953), (73312, 0.80028975), (5962, 0.80027586), (36444, 0.8002427), (62689, 0.8002427), (41662, 0.8002374), (34642, 0.80020756), (14436, 0.8001752), (3462, 0.8001336), (27039, 0.8001042), (33639, 0.8000947), (38533, 0.8000871), (24040, 0.8000794), (4780, 0.80006474), (39932, 0.8000579), (49387, 0.8000579), (15695, 0.80005664), (38656, 0.8000554), (59310, 0.8000554), (78606, 0.8000554), (76352, 0.8000433), (4988, 0.80004025), (42484, 0.80004), (51205, 0.80004), (59732, 0.80004), (68995, 0.80004), (72186, 0.80004), (73779, 0.80004), (80080, 0.80004), (81215, 0.80004), (81605, 0.80004), (13511, 0.79994243), (12749, 0.79992944), (52283, 0.7999221), (40511, 0.7999125), (66278, 0.79991215), (79570, 0.79991186), (13190, 0.7998706), (24624, 0.7998496), (34406, 0.7997726), (3311, 0.7997643), (13222, 0.79975015), (2564, 0.79973215), (61019, 0.79972297), (12397, 0.7997183), (40416, 0.7996668), (54936, 0.7996591), (79892, 0.7996408), (73464, 0.79963994), (62880, 0.7996295), (65202, 0.79961044), (40802, 0.7996032), (63614, 0.79959905), (7456, 0.79959303), (47996, 0.7995587), (7909, 0.79954034), (10007, 0.7995216), (30426, 0.7995108), (23210, 0.7995043), (4090, 0.799502), (65413, 0.7994981), (67671, 0.79949373), (79433, 0.79949373), (13230, 0.7994925), (13142, 0.7994718), (16287, 0.7994716), (13144, 0.79946786), (22285, 0.79946655), (4068, 0.79945743), (71279, 0.7994509), (76005, 0.7993987), (65565, 0.7993899), (33332, 0.79938346), (34229, 0.79938346), (35254, 0.79938346), (36431, 0.79938346), (36872, 0.79938346), (39496, 0.79938346), (40372, 0.79938346), (41072, 0.79938346), (41395, 0.79938346), (42680, 0.79938346), (42733, 0.79938346), (47658, 0.79938346), (48743, 0.79938346), (49884, 0.79938346), (55323, 0.79938346), (58363, 0.79938346), (59394, 0.79938346), (60369, 0.79938346), (63704, 0.79938346), (64469, 0.79938346), (64590, 0.79938346), (68485, 0.79938346), (70979, 0.79938346), (73820, 0.79938346), (75320, 0.79938346), (83185, 0.79938346), (799, 0.79935884), (38534, 0.79934335), (10020, 0.7993331), (24920, 0.79932785), (65694, 0.7993201), (83165, 0.7993114), (39284, 0.7993104), (58072, 0.7993102), (59439, 0.7993052), (27448, 0.79927784), (29689, 0.7992734), (22559, 0.7992655), (32711, 0.7992551), (49233, 0.79924005), (58144, 0.79923904), (31663, 0.7992329), (42769, 0.7992329), (43628, 0.7992329), (54760, 0.7992329), (10731, 0.7992255), (13926, 0.79921913), (67091, 0.79921705), (12741, 0.7991978), (10583, 0.7991852), (67996, 0.79918414), (44873, 0.7991354), (75853, 0.7990623), (170, 0.7990463), (36562, 0.7990278), (10024, 0.79901963), (54668, 0.7990167), (54086, 0.79900455), (44531, 0.7989904), (34531, 0.7989711), (77750, 0.7989418), (21850, 0.798925), (16980, 0.79891974), (25377, 0.7989102), (24084, 0.79888463), (48723, 0.79888463), (72773, 0.79888463), (78620, 0.79888463), (80650, 0.79888463), (81551, 0.79888463), (22544, 0.7988791), (23535, 0.7988791), (23877, 0.7988791), (28609, 0.7988791), (30581, 0.7988791), (32261, 0.7988791), (34469, 0.7988791), (35866, 0.7988791), (44586, 0.7988791), (45080, 0.7988791), (53681, 0.7988791), (57702, 0.7988791), (65351, 0.7988791), (65626, 0.7988791), (67329, 0.7988791), (68172, 0.7988791), (74659, 0.7988791), (33952, 0.79887074), (41164, 0.798865), (60303, 0.79886216), (33264, 0.79884404), (34634, 0.79884404), (69162, 0.79884404), (78681, 0.79884404), (28429, 0.7988055), (41084, 0.7987594), (48673, 0.7987594), (2468, 0.7987321), (33882, 0.7987276), (54767, 0.79871887), (45285, 0.7987121), (35672, 0.79870564), (52568, 0.79870564), (9980, 0.79870385), (78271, 0.79868156), (5547, 0.798674), (70013, 0.7986683), (58430, 0.79866153), (72328, 0.7986348), (22384, 0.79860896), (43886, 0.79857), (35937, 0.7985648), (43257, 0.79853314), (51373, 0.79853314), (61135, 0.79853314), (77555, 0.79853314), (3054, 0.79848886), (17219, 0.79848665), (62725, 0.79847544), (39136, 0.79845184), (25323, 0.79844666), (24872, 0.79844487), (76422, 0.79844487)]\n",
            "False\n",
            "2178.0\n",
            "[(71234, 0.90698427), (30358, 0.90522754), (3982, 0.8976516), (79188, 0.88791275), (79777, 0.8862682), (58529, 0.8856863), (47366, 0.88510484), (45772, 0.88199246), (24386, 0.8735955), (29901, 0.873263), (56732, 0.8679783), (77550, 0.8667699), (55240, 0.8659153), (90, 0.8657273), (80402, 0.8654485), (68838, 0.861118), (26433, 0.85861486), (69016, 0.85861486), (71613, 0.85861486), (27607, 0.85820955), (56402, 0.85820955), (3465, 0.85774237), (5505, 0.8571722), (49971, 0.856553), (73075, 0.85332537), (21321, 0.8526707), (19975, 0.8517147), (34498, 0.85158783), (5896, 0.850654), (63218, 0.8502558), (64117, 0.8497579), (51441, 0.84854543), (74103, 0.84740126), (58279, 0.84734243), (61548, 0.8472867), (17315, 0.8470903), (21678, 0.8468265), (3477, 0.8466997), (72469, 0.84654564), (39532, 0.84644234), (34394, 0.8460933), (3484, 0.8459064), (23277, 0.84473366), (36310, 0.84473366), (43945, 0.84473366), (35145, 0.8447043), (76162, 0.84469545), (35765, 0.844671), (50270, 0.844358), (66801, 0.844358), (68466, 0.844358), (60513, 0.8438832), (62880, 0.8429872), (81957, 0.8429199), (38656, 0.84279335), (59310, 0.84279335), (78606, 0.84279335), (3390, 0.8427659), (46893, 0.84269506), (47820, 0.84269506), (33931, 0.8423885), (56063, 0.8421735), (29377, 0.84133613), (26258, 0.84096855), (3392, 0.84082174), (26344, 0.84055954), (67747, 0.84055954), (64355, 0.8404742), (72029, 0.8404742), (46865, 0.8404584), (56877, 0.8402602), (54806, 0.8402091), (21863, 0.84007484), (45566, 0.8400492), (78271, 0.8400232), (34767, 0.8398265), (26813, 0.839712), (54182, 0.8396952), (33390, 0.839609), (43003, 0.839609), (53218, 0.8394773), (3480, 0.8388913), (70321, 0.83888584), (38523, 0.83878297), (52031, 0.83878297), (60009, 0.83878297), (70496, 0.83878297), (82394, 0.83878297), (79759, 0.8387512), (76979, 0.8385187), (6449, 0.83808607), (34818, 0.8379216), (58495, 0.8378894), (13570, 0.8378443), (3470, 0.83770627), (74878, 0.83728415), (4585, 0.83723444), (6611, 0.83716446), (81650, 0.83712447), (5570, 0.8369611), (53406, 0.8367333), (27697, 0.8365901), (24257, 0.8365795), (63036, 0.8361324), (77149, 0.83546686), (54051, 0.8353988), (68740, 0.8353988), (32912, 0.83518904), (37119, 0.8351552), (31062, 0.8351189), (40068, 0.8350799), (53190, 0.8350482), (23370, 0.83490777), (3377, 0.8345553), (30176, 0.83451366), (40408, 0.83451366), (50363, 0.8339481), (61134, 0.8339142), (35171, 0.83385396), (43712, 0.833608), (66397, 0.8335299), (57286, 0.83350074), (45743, 0.8331408), (22193, 0.83291394), (74974, 0.83284116), (53312, 0.83279324), (48472, 0.8327729), (34370, 0.8327583), (19973, 0.83267355), (51870, 0.83266765), (3467, 0.83249974), (33261, 0.8323733), (64276, 0.8323733), (36404, 0.83236945), (54648, 0.83236945), (81074, 0.83236945), (25072, 0.83227813), (71273, 0.83227813), (10731, 0.8320614), (81286, 0.831943), (19590, 0.83184206), (43700, 0.83174115), (76903, 0.83171207), (80227, 0.83171207), (62914, 0.83170235), (22183, 0.831661), (67306, 0.8315414), (63431, 0.83098614), (78755, 0.8309219), (72952, 0.83082634), (125, 0.8308058), (83226, 0.830797), (52666, 0.83077246), (57849, 0.83072805), (49350, 0.8306208), (56659, 0.8306208), (61005, 0.8306208), (58990, 0.83058953), (36152, 0.8304042), (75207, 0.83026856), (64888, 0.83024734), (75402, 0.8301859), (80272, 0.8301859), (48888, 0.829999), (26846, 0.8298765), (22232, 0.82982355), (24399, 0.82982355), (53540, 0.82982355), (64704, 0.82982355), (50422, 0.82980984), (64157, 0.82980984), (35884, 0.82979625), (46503, 0.82935494), (38685, 0.8292593), (49624, 0.8292593), (15324, 0.8292124), (26708, 0.82895887), (39206, 0.82895887), (34424, 0.82893634), (21717, 0.8289173), (59940, 0.82850647), (70823, 0.8285004), (30022, 0.8284764), (17305, 0.82845366), (32734, 0.8282584), (32642, 0.8281753), (24870, 0.82811546), (32268, 0.82809687), (40617, 0.82808363), (82265, 0.8280439), (33278, 0.82803166), (74037, 0.82801497), (37308, 0.8279592), (77617, 0.82789725), (15768, 0.827656), (76766, 0.827622), (21943, 0.8275256), (30858, 0.8274524), (30239, 0.8272261), (15759, 0.8272245), (66843, 0.8272073), (66204, 0.827078), (5089, 0.82699734), (5884, 0.82698494), (23757, 0.8269598), (4573, 0.8269087), (13344, 0.8267459), (77832, 0.8267446), (29141, 0.8267408), (31929, 0.8267408), (43112, 0.8267408), (47248, 0.8267408), (78964, 0.8267408), (55092, 0.82659465), (78377, 0.82659465), (56032, 0.82655895), (22298, 0.8264933), (51766, 0.82647866), (58928, 0.8264141), (67903, 0.82639223), (2031, 0.8262201), (77945, 0.8261189), (61077, 0.82603383), (61147, 0.82599443), (54173, 0.825978), (44561, 0.8259372), (38729, 0.8259348), (11882, 0.8258305), (4108, 0.82566553), (29668, 0.8254992), (69741, 0.8254992), (40627, 0.825365), (49112, 0.825365), (68286, 0.825365), (50644, 0.8253175), (22740, 0.8251517), (73221, 0.825015), (46264, 0.8249263), (13530, 0.82484514), (33140, 0.8248236), (9704, 0.8247969), (67160, 0.82458156), (3399, 0.8245677), (82648, 0.8245187), (38304, 0.8244726), (22024, 0.8244513), (7779, 0.824424), (47573, 0.8244191), (76572, 0.8242003), (74271, 0.8241824), (80135, 0.8241499), (82763, 0.8240894), (43983, 0.823944), (61197, 0.823919), (72724, 0.82390356), (6618, 0.82376605), (31340, 0.8237522), (81058, 0.8237062), (47158, 0.82362366), (9531, 0.823601), (6587, 0.8235998), (47421, 0.82359797), (30991, 0.8233928), (78420, 0.82327217), (49819, 0.82323045), (73699, 0.82320774), (27882, 0.8231927), (3378, 0.82318497), (51170, 0.8231623), (11808, 0.82304394), (61605, 0.8229492), (28156, 0.8228618), (4568, 0.82269824), (19999, 0.8223932), (799, 0.82231563), (22614, 0.82230306), (1582, 0.82227576), (64966, 0.8222431), (61922, 0.8221561), (83058, 0.82203317), (39828, 0.82199854), (62177, 0.8219561), (68338, 0.821931), (43050, 0.82190394), (74918, 0.82190394), (76852, 0.82190394), (53152, 0.8218472), (13635, 0.8217439), (650, 0.8217403), (33153, 0.8217249), (36630, 0.8217249), (80068, 0.8217249), (71622, 0.82171553), (41332, 0.8216687), (47329, 0.8216616), (68275, 0.82163554), (78614, 0.82163554), (59546, 0.8216341), (56962, 0.82155585), (25293, 0.8215123), (62278, 0.8215123), (19990, 0.8213669), (70270, 0.82125175), (41043, 0.82124215), (73453, 0.82117766), (47512, 0.821103), (53329, 0.821103), (2474, 0.82105476), (23733, 0.82103103), (70269, 0.82087994), (54513, 0.8208622), (3159, 0.8207934), (80820, 0.82076347), (45171, 0.82074946), (40133, 0.82061875), (44703, 0.8205965), (58933, 0.8205478), (51928, 0.8205403), (35166, 0.82052463), (34454, 0.82051826), (83160, 0.82044655), (20904, 0.82044125), (34896, 0.82043344), (28527, 0.82042706), (41740, 0.82042706), (42328, 0.82042706), (56124, 0.82042706), (56934, 0.82042706), (72100, 0.8203588), (51259, 0.8203374), (63471, 0.8202954), (29001, 0.82015544), (33977, 0.8201399), (51250, 0.8201239), (31964, 0.8201225), (35213, 0.82010764), (67353, 0.82010764), (72148, 0.8200059), (33225, 0.8199721), (21570, 0.81991047), (55919, 0.8199053), (58299, 0.8199053), (20847, 0.8198941), (9946, 0.81984323), (22112, 0.81981313), (15695, 0.8197815), (39872, 0.81976974), (82729, 0.8197658), (21850, 0.8196887), (30395, 0.8195964), (46902, 0.819588), (56366, 0.819588), (62680, 0.819588), (76953, 0.819588), (79288, 0.819588), (22733, 0.81954604), (34052, 0.81954604), (47331, 0.8194379), (16738, 0.81942695), (74620, 0.8193878), (21214, 0.8192273), (23967, 0.8192028), (50121, 0.8191509), (73955, 0.8191509), (5596, 0.81911874), (27587, 0.8190717), (48702, 0.8190717), (60654, 0.8190717), (67237, 0.8190717), (35800, 0.81893086), (78311, 0.81889856), (34078, 0.8188707), (26883, 0.81884193), (39352, 0.81884193), (42591, 0.81884193), (51177, 0.81884193), (72807, 0.81884193), (74771, 0.81884193), (26110, 0.8188228), (39443, 0.8188228), (74939, 0.8187455), (79376, 0.8186602), (29625, 0.8185888), (48189, 0.8185025), (37888, 0.81846887), (77637, 0.8183834), (32936, 0.8183238), (50359, 0.81825745), (16500, 0.8182223), (32822, 0.81820303), (67208, 0.81820303), (649, 0.81814915), (28932, 0.81807876), (50562, 0.8180774), (23172, 0.81799227), (82136, 0.8178603), (58333, 0.8178516), (81055, 0.8178484), (32581, 0.8178175), (77767, 0.81776), (5261, 0.81762457), (78367, 0.81761324), (35863, 0.8175959), (49844, 0.8175775), (32602, 0.8175283), (21402, 0.8174341), (55440, 0.8174258), (77619, 0.8174187), (63253, 0.817415), (68398, 0.8173739), (46446, 0.8173582), (53947, 0.8173422), (40470, 0.8173265), (38655, 0.81731427), (82084, 0.8173099), (46795, 0.81729287), (40491, 0.8172157), (1846, 0.8171238), (28495, 0.8171114), (44622, 0.8170995), (34893, 0.8170994), (39444, 0.81704503), (113, 0.81700605), (26475, 0.81696504), (68955, 0.8169033), (72771, 0.8167585), (56992, 0.8167292), (45883, 0.8165607), (47232, 0.81654704), (21306, 0.8165389), (67562, 0.8165389), (30522, 0.8165375), (37357, 0.8165375), (38008, 0.8165375), (64094, 0.8165375), (72943, 0.8165375), (74024, 0.8165375), (77471, 0.8165375), (81523, 0.8165375), (26696, 0.8164776), (5271, 0.8164109), (42179, 0.8163929), (30120, 0.8163301), (5746, 0.81629246), (23137, 0.8162671), (40121, 0.8162671), (76257, 0.8162505), (34668, 0.8162314), (64387, 0.8161075), (4584, 0.81609553), (58072, 0.8160554), (36245, 0.8160314), (73485, 0.8160314), (40258, 0.8160221), (81096, 0.8160124), (41528, 0.8159904), (38204, 0.81591916), (52353, 0.81591916), (76776, 0.8159035), (82830, 0.8159035), (6591, 0.8158756), (22095, 0.81581646), (61325, 0.81581646), (70428, 0.8158093), (36609, 0.8157315), (30928, 0.81572324), (66159, 0.81571263), (449, 0.81567943), (49459, 0.81566507), (34156, 0.8156292), (47749, 0.81560755), (3129, 0.81559294), (37828, 0.8155675), (1699, 0.81548846), (10278, 0.81548303), (53392, 0.81545997), (37189, 0.81545883), (49648, 0.8154453), (4317, 0.8153086), (40660, 0.8153075), (58210, 0.81530327), (59553, 0.8153019), (33434, 0.8153015), (1831, 0.8152728), (72448, 0.81524193), (42322, 0.81520766), (33423, 0.815198), (59374, 0.815198), (16988, 0.8151842), (20876, 0.81516683), (65891, 0.81513715), (5829, 0.8151142), (41164, 0.815071), (42048, 0.8150416), (60308, 0.8149973), (45589, 0.8149641), (62736, 0.81493837), (22328, 0.81491137), (34015, 0.8148769), (4774, 0.8148744), (52447, 0.814855), (56196, 0.814855), (33122, 0.81482226), (9223, 0.8147952), (56504, 0.814664), (57164, 0.81465846), (65565, 0.8146416), (3321, 0.81463647), (4123, 0.814614), (3360, 0.81460017), (47722, 0.8145548), (63321, 0.8145341), (53655, 0.81448025), (60500, 0.8144752), (5939, 0.8143953), (60562, 0.8143644), (2477, 0.81434584), (70667, 0.8143383), (4780, 0.8143279), (30749, 0.81431246), (34234, 0.81431246), (46356, 0.81431246), (50273, 0.81431246), (68392, 0.81431246), (81138, 0.81431246), (31197, 0.8143064), (78795, 0.8143064), (39377, 0.81430537), (49716, 0.81430537), (62572, 0.8142942), (79145, 0.81429106), (34356, 0.8142732), (59056, 0.8142647), (74500, 0.8142612), (20020, 0.8142502), (32245, 0.8142226), (17956, 0.8141176), (18634, 0.8141145), (16003, 0.81410235), (6302, 0.8140942), (25370, 0.81406283), (71866, 0.8140628), (38868, 0.81405), (115, 0.81401926), (51971, 0.814008), (37309, 0.8140052), (13230, 0.813936), (61527, 0.8139144), (34674, 0.8138756), (19598, 0.8138658), (27004, 0.8138515), (1607, 0.81383103), (79959, 0.8137995), (53969, 0.8137711), (37263, 0.81377023), (3455, 0.8137525), (20483, 0.81373847), (26288, 0.81373847), (29562, 0.81373847), (38901, 0.81373847), (46225, 0.81373847), (46737, 0.81373847), (48319, 0.81373847), (51654, 0.81373847), (54976, 0.81373847), (55857, 0.81373847), (58790, 0.81373847), (61074, 0.81373847), (61756, 0.81373847), (63173, 0.81373847), (75674, 0.81373847), (80801, 0.81373847), (24056, 0.81372595), (3667, 0.81367576), (17384, 0.8136265), (9244, 0.8136029), (79391, 0.8136016), (44531, 0.8135938), (22537, 0.8135169), (36800, 0.8135169), (74790, 0.81343156), (11539, 0.8134244), (63678, 0.8134134), (15825, 0.8134091), (3490, 0.8134008), (6194, 0.81338006), (63535, 0.8132917), (65253, 0.8132917), (88, 0.81326336), (47116, 0.8132288), (76103, 0.8132288), (48244, 0.81315225), (70814, 0.8130866), (22158, 0.8130706), (34105, 0.8130706), (56680, 0.813002), (56618, 0.8129874), (63946, 0.81298697), (32711, 0.8129213), (37682, 0.8128995), (73464, 0.8128961), (24624, 0.81288743), (5593, 0.81282496), (67798, 0.812817), (48228, 0.8128076), (77769, 0.81279945), (76739, 0.8127751), (1775, 0.8127725), (79527, 0.8127579), (40024, 0.8127572), (49730, 0.8126513), (40726, 0.8125998), (47114, 0.8125998), (61411, 0.8125998), (76582, 0.81259817), (60655, 0.812526), (20907, 0.81247514), (40317, 0.81247514), (63017, 0.81247514), (68918, 0.81247514), (79187, 0.81247514), (81913, 0.81247514), (37313, 0.8124703), (34362, 0.8124646), (30755, 0.8124573), (21038, 0.812452), (21881, 0.8124108), (66583, 0.8124108), (19555, 0.81238586), (55330, 0.81238204), (43205, 0.81238186), (44952, 0.81238186), (59664, 0.81238186), (48884, 0.8123284), (44776, 0.8122947), (65288, 0.8122613), (3486, 0.8122373), (5725, 0.81221485), (65284, 0.81220704), (80691, 0.8121745), (30113, 0.8121136), (32117, 0.8120926), (50450, 0.8120847), (35343, 0.81207466), (22550, 0.81204647), (26074, 0.81204647), (29263, 0.81204647), (35332, 0.81204647), (45375, 0.81204647), (47157, 0.81204647), (56972, 0.81204647), (64762, 0.81204647), (22968, 0.8119822), (32662, 0.8119822), (33167, 0.8119822), (43969, 0.8119822), (4590, 0.81195444), (45729, 0.8119443), (30190, 0.81194246), (39930, 0.81194246), (76308, 0.81192744), (78425, 0.81192744), (42833, 0.8119115), (62655, 0.8119077), (66293, 0.8118959), (6703, 0.8118811), (20712, 0.81184906), (44599, 0.81184906), (53061, 0.81184906), (66165, 0.81184906), (47587, 0.81184477), (82372, 0.8118437), (41957, 0.811828), (73224, 0.8118121), (62391, 0.81178486), (3396, 0.81175935), (53798, 0.81174535), (81352, 0.8117445), (42874, 0.81172997), (65196, 0.81171596), (29011, 0.8117064), (72459, 0.8117064), (75251, 0.8117064), (76797, 0.8117064), (82684, 0.8117064), (72182, 0.8116763), (78807, 0.8116706), (52392, 0.81162244), (74108, 0.8115718), (79974, 0.8115718), (1593, 0.8115699), (74763, 0.81151646), (37142, 0.8115099), (49010, 0.8115099), (71013, 0.8115099), (72906, 0.8115099), (82715, 0.8115099), (3461, 0.81149924), (45681, 0.8114243), (32942, 0.81138587), (49230, 0.81138587), (81511, 0.81137955), (2333, 0.8113673), (38464, 0.8113552), (65994, 0.8113552), (73758, 0.8113552), (71824, 0.81134135), (59182, 0.811279), (34377, 0.81127095), (37913, 0.81127095), (73245, 0.8112517), (27076, 0.81125045), (50876, 0.811249), (63498, 0.811249), (43320, 0.81123817), (23281, 0.81122744), (52478, 0.81121033), (64104, 0.81121033), (31324, 0.8112064), (41075, 0.8112064), (81732, 0.8112064), (18791, 0.8111611), (27676, 0.8111605), (26942, 0.8111519), (38112, 0.81113267), (11072, 0.81109923), (77167, 0.8110457), (53888, 0.8110353), (25377, 0.8110254), (66181, 0.8110176), (52780, 0.81098497), (48716, 0.81097174), (22117, 0.8109644), (54297, 0.8109359), (64083, 0.8109359), (26716, 0.8109259), (82977, 0.8109259), (29432, 0.81092536), (57990, 0.8108756), (70392, 0.8108756), (51416, 0.81087434), (5880, 0.8108729), (2258, 0.8108683), (29153, 0.8108622), (56233, 0.81084406), (63172, 0.81079406), (12548, 0.8107923), (2452, 0.810772), (31136, 0.8107576), (45339, 0.8107576), (53560, 0.8107576), (52882, 0.81075585), (30820, 0.8107509), (41861, 0.8107509), (79317, 0.8106894), (63119, 0.81068313), (45829, 0.8106742), (28931, 0.81066614), (27067, 0.81059057), (52488, 0.8105525), (81973, 0.8105495), (23250, 0.81050825), (37635, 0.81049824), (71987, 0.81048906), (76626, 0.81047934), (27126, 0.8104609), (4531, 0.81044596), (32858, 0.81043166), (62195, 0.8104151), (63576, 0.8104151), (7332, 0.81040764), (34369, 0.81036794), (77983, 0.81036794), (34802, 0.8103461), (35087, 0.8103461), (38315, 0.8103461), (52332, 0.8103461), (54058, 0.8103461), (64502, 0.8103461), (66883, 0.8103461), (75974, 0.8103461), (36822, 0.81033236), (45563, 0.8102682), (42601, 0.8102528), (75115, 0.8102325), (41420, 0.81020296), (49344, 0.8101874), (82549, 0.81012696), (28154, 0.81012183), (29003, 0.81012183), (55675, 0.81005806), (74408, 0.81004375), (35684, 0.8100278), (58912, 0.8100278), (80076, 0.81002617), (53513, 0.8099901), (72619, 0.8099901), (5565, 0.8099838), (54798, 0.8099784), (50530, 0.8099479), (5745, 0.80994004), (19974, 0.8099232), (75279, 0.8099068), (61508, 0.80990237), (79948, 0.80989975), (67647, 0.8098821), (21849, 0.80986214), (4736, 0.8098542), (1631, 0.80984837), (24534, 0.80984545), (18977, 0.80983174), (36938, 0.80981445), (44310, 0.8098036), (28443, 0.80980253), (62524, 0.80980253), (64418, 0.80980253), (77040, 0.8097982), (80455, 0.80975336), (58289, 0.80975324), (65330, 0.809682), (5040, 0.8096608), (80366, 0.80963004), (2952, 0.80961734), (32691, 0.80957454), (40653, 0.80957454), (54682, 0.80957454), (24251, 0.80956984), (76654, 0.80956984), (38766, 0.8095536), (7274, 0.80954903), (4216, 0.8095447), (54716, 0.80953014), (31397, 0.80949545), (36094, 0.8094778), (38753, 0.8094778), (1606, 0.80945724), (4211, 0.80944836), (44505, 0.80944294), (78341, 0.809412), (37267, 0.80937475), (13508, 0.80937165), (26129, 0.8093116), (64593, 0.8093116), (15861, 0.80924684), (43104, 0.8091975), (55921, 0.80918825), (6421, 0.8091803), (42685, 0.80915767), (77821, 0.80915767), (34884, 0.8091485), (45419, 0.8091485), (58842, 0.8091485), (60543, 0.8091485), (64513, 0.8091485), (76645, 0.8091485), (52727, 0.80913526), (76354, 0.8091266), (23745, 0.8091134), (69076, 0.8090833), (63741, 0.8090655), (78384, 0.80904144), (33550, 0.8090406), (24807, 0.80902517), (70820, 0.80901825), (41366, 0.8090129), (17200, 0.8089933), (16490, 0.80895936), (27357, 0.8089501), (34350, 0.8089501), (80947, 0.8089501), (10022, 0.80893296), (25880, 0.8088919), (28483, 0.8088919), (31569, 0.8088919), (34895, 0.8088919), (59137, 0.8088919), (64828, 0.8088919), (65197, 0.8088919), (71858, 0.8088919), (72800, 0.8088919), (73001, 0.8088919), (80156, 0.8088919), (80469, 0.80888796), (55067, 0.80886835), (71510, 0.80882055), (67823, 0.8088174), (44557, 0.80878323), (48871, 0.80878323), (28044, 0.80874234), (34261, 0.8087294), (68631, 0.8087294), (27575, 0.8087086), (34382, 0.8087086), (67884, 0.8086992), (30875, 0.8086572), (64764, 0.8086572), (12546, 0.80863583), (44691, 0.8086222), (48159, 0.8086222), (30256, 0.8086173), (22094, 0.80858755), (60171, 0.8085593), (29103, 0.80854654), (38474, 0.8085418), (48503, 0.8085418), (29513, 0.8085358), (29799, 0.80853575), (64506, 0.80853397), (40757, 0.8085039), (70029, 0.80850023), (43826, 0.8084898), (32535, 0.80843186), (13500, 0.80843115), (77121, 0.80840904), (17326, 0.80840856), (5517, 0.80839336), (75977, 0.8083757), (43089, 0.8083572), (3216, 0.80835426), (49081, 0.8083226), (71630, 0.80831426), (108, 0.80825794), (51697, 0.80820686), (71143, 0.80820686), (6425, 0.80820554), (47318, 0.8081704), (64882, 0.8081704), (4510, 0.80816), (22565, 0.80814093), (77090, 0.80814093), (61759, 0.8081343), (14819, 0.80813307), (74404, 0.8081097), (23795, 0.8080933), (24858, 0.8080933), (59597, 0.8080855), (81433, 0.80808216), (14772, 0.8080383), (71979, 0.80803716), (17304, 0.8080216), (24789, 0.8079496), (46070, 0.80791837), (23078, 0.80788106), (13211, 0.80787945), (23961, 0.80786073), (36501, 0.80785197), (21502, 0.80784434), (59129, 0.8078417), (81929, 0.8078379), (66499, 0.8078252), (29785, 0.8078127), (32606, 0.8078109), (61523, 0.8078109), (73488, 0.80780375), (26224, 0.8078016), (59804, 0.8078016), (61852, 0.80776507), (72701, 0.80776507), (20375, 0.8077083), (17665, 0.80769956), (13267, 0.8076691), (36149, 0.8076569), (23022, 0.80763227), (61009, 0.8076238), (2487, 0.8076144), (56662, 0.8076051), (18735, 0.80756193), (37453, 0.80755764), (62921, 0.80755764), (39897, 0.80754834), (17159, 0.8075385), (59361, 0.807538), (7270, 0.8075215), (68313, 0.80752146), (31880, 0.8075192), (58247, 0.80749243), (25515, 0.807488), (25719, 0.807488), (55552, 0.80747926), (109, 0.80747896), (33330, 0.8074755), (34265, 0.80745375), (81727, 0.80745375), (56003, 0.8074488), (43661, 0.80742174), (1901, 0.80741626), (70053, 0.80736434), (14528, 0.80734354), (47530, 0.8073394), (40022, 0.80730075), (42411, 0.8072876), (44702, 0.807283), (35127, 0.8072636), (61235, 0.8072538), (52541, 0.80723643), (77398, 0.8072046), (66149, 0.80719787), (13220, 0.8071844), (26148, 0.8071462), (67878, 0.80713654)]\n",
            "False\n",
            "-1.0\n",
            "False\n",
            "10150.0\n",
            "[(20020, 1.0356841), (6421, 1.0318857), (83137, 1.0309447), (6418, 1.0288622), (6425, 1.0279973), (17326, 1.0270817), (11534, 1.0256531), (5969, 1.0233523), (17753, 1.0180843), (445, 1.017679), (3601, 1.0165288), (49992, 1.0138192), (4714, 1.0107507), (50270, 1.0104864), (66801, 1.0104864), (68466, 1.0104864), (68873, 1.0095066), (83165, 1.0056796), (19443, 1.0013174), (60513, 1.0000384), (4978, 0.9997584), (66905, 0.999634), (5044, 0.997729), (443, 0.9952409), (50562, 0.99518687), (613, 0.99056566), (55563, 0.9889055), (60175, 0.9889055), (13170, 0.9873942), (5113, 0.9872122), (17173, 0.9868709), (2772, 0.98633105), (17162, 0.98629934), (37944, 0.985475), (4691, 0.98467964), (31397, 0.9845828), (49012, 0.98402196), (71853, 0.983973), (21863, 0.9838074), (19955, 0.9834151), (69035, 0.98279506), (16738, 0.98197716), (8707, 0.9810714), (56185, 0.9806243), (25251, 0.980578), (19961, 0.98046255), (19962, 0.9796925), (58510, 0.9790325), (3129, 0.9790016), (58176, 0.9786115), (4181, 0.97853386), (4128, 0.9772409), (29377, 0.9772236), (16501, 0.9769567), (23165, 0.9767695), (30041, 0.9767695), (38163, 0.9767695), (46350, 0.9767695), (59861, 0.9767695), (63281, 0.9767695), (68467, 0.9767695), (69926, 0.9767695), (82168, 0.9767695), (19448, 0.97630054), (77133, 0.97624505), (19975, 0.97611415), (2570, 0.97602236), (70955, 0.97582996), (74878, 0.97575575), (2293, 0.9752655), (4451, 0.9752528), (2600, 0.97516894), (70548, 0.9747122), (2675, 0.9743166), (81604, 0.97419786), (3982, 0.97347313), (6189, 0.97340304), (15727, 0.9732862), (46777, 0.9730839), (61548, 0.9726246), (22812, 0.9724864), (27004, 0.97242737), (2716, 0.9722647), (72204, 0.97212994), (58049, 0.9716004), (58529, 0.971584), (61527, 0.97158104), (2799, 0.971076), (80599, 0.9708991), (71177, 0.97073746), (3477, 0.97049856), (14294, 0.97035897), (59213, 0.9702377), (44084, 0.97000724), (15293, 0.969718), (5859, 0.9695905), (7252, 0.9695849), (11077, 0.96934795), (24293, 0.9691262), (18712, 0.96905845), (32963, 0.96896577), (36223, 0.96890837), (57687, 0.96812487), (5272, 0.96783006), (24173, 0.9670249), (66885, 0.9670249), (4585, 0.9669828), (2120, 0.96652937), (8722, 0.9660002), (6708, 0.9659499), (10425, 0.9656521), (36152, 0.96542776), (62268, 0.9652539), (78483, 0.96510655), (23733, 0.96476656), (28044, 0.9642353), (3399, 0.96419734), (13205, 0.9641813), (7153, 0.9638352), (20139, 0.96373063), (73453, 0.96365064), (3981, 0.9634803), (64033, 0.9632914), (5968, 0.96314496), (35386, 0.9631191), (76099, 0.96301657), (21651, 0.96294194), (7274, 0.9626765), (7736, 0.96259445), (42179, 0.9625403), (80344, 0.96238256), (7123, 0.9623747), (82340, 0.9622865), (79777, 0.9621456), (78751, 0.96194464), (19280, 0.9619283), (20025, 0.9618937), (17869, 0.9618813), (48518, 0.96162194), (20420, 0.96087813), (43147, 0.96051395), (63151, 0.96051395), (36596, 0.96039927), (38625, 0.96039927), (70478, 0.96029365), (79825, 0.96026677), (74271, 0.96023285), (3633, 0.96019846), (3465, 0.9601528), (20474, 0.9599291), (5043, 0.95992285), (63036, 0.9597036), (74372, 0.95942813), (55016, 0.9594273), (65187, 0.9594273), (39197, 0.9593458), (37106, 0.9592951), (3812, 0.95926553), (31439, 0.9589073), (25827, 0.9586647), (19973, 0.9583773), (77059, 0.9583474), (14517, 0.9582796), (41328, 0.9580519), (37510, 0.9580504), (42058, 0.9580504), (53838, 0.9580504), (4694, 0.95762783), (24542, 0.9572005), (35819, 0.95717496), (66375, 0.9571081), (53783, 0.9569965), (40686, 0.95696175), (71869, 0.95696175), (70169, 0.956905), (13478, 0.956817), (68238, 0.9567616), (67157, 0.9567433), (2440, 0.9567343), (58250, 0.9566724), (79395, 0.95665884), (79090, 0.9566512), (42048, 0.9564529), (10767, 0.9563169), (80455, 0.95621115), (57731, 0.95604527), (5864, 0.9560116), (8648, 0.9560099), (3349, 0.9559184), (61783, 0.9558444), (29399, 0.9555473), (29902, 0.9553579), (8991, 0.95522314), (32322, 0.95519865), (18508, 0.9551726), (15421, 0.9551496), (46127, 0.95500326), (56743, 0.9549189), (28773, 0.95484763), (62615, 0.95472485), (66506, 0.95466363), (13477, 0.95460284), (18717, 0.9545792), (6788, 0.9544674), (70219, 0.95444745), (66181, 0.9544469), (34948, 0.9541166), (58990, 0.9539165), (11535, 0.95382833), (79760, 0.95381266), (31847, 0.9537328), (24885, 0.95363927), (75026, 0.95357203), (48446, 0.95355874), (69303, 0.95355093), (2031, 0.95347524), (77162, 0.95336694), (82160, 0.95336694), (2766, 0.9532827), (31227, 0.953143), (63379, 0.953143), (57286, 0.9531201), (17384, 0.95274097), (8714, 0.9527409), (12738, 0.95273), (72469, 0.95269775), (13508, 0.95266694), (54173, 0.95249844), (5271, 0.9524461), (60412, 0.95234406), (5226, 0.9523373), (8737, 0.9523238), (36694, 0.9521904), (50359, 0.9521418), (5276, 0.95201457), (23661, 0.95199895), (42702, 0.95199895), (9332, 0.9518481), (44547, 0.9518237), (13530, 0.95178694), (30272, 0.9517606), (51156, 0.9517606), (63187, 0.9517606), (26284, 0.9517167), (20875, 0.9515816), (77550, 0.9515613), (11245, 0.95124716), (57976, 0.9511992), (83009, 0.9511992), (62720, 0.95114934), (49648, 0.95095426), (56233, 0.95084506), (3775, 0.95082635), (64521, 0.95078754), (51209, 0.95047474), (6319, 0.9504424), (607, 0.9504407), (78111, 0.950322), (56504, 0.9502931), (55018, 0.9502661), (24886, 0.9502398), (28575, 0.9502398), (77649, 0.9502398), (55575, 0.95018256), (3794, 0.95015144), (8327, 0.95010036), (4584, 0.95009565), (62949, 0.95002484), (19088, 0.9498164), (8419, 0.9497984), (63760, 0.94968146), (47450, 0.94946945), (53500, 0.9494547), (2547, 0.949418), (49577, 0.949417), (28754, 0.9493251), (80584, 0.9493251), (31473, 0.94925845), (11506, 0.94915307), (78475, 0.9491442), (57622, 0.9490351), (31527, 0.94899356), (29513, 0.9489358), (65582, 0.9488638), (76054, 0.9487147), (60134, 0.94870085), (5217, 0.948483), (20970, 0.94845134), (47182, 0.94845134), (799, 0.94839007), (38176, 0.94838685), (49089, 0.94838685), (64287, 0.94838685), (69507, 0.94838685), (79512, 0.94838685), (2717, 0.9482905), (25911, 0.9482283), (78912, 0.9482283), (11672, 0.94819593), (23291, 0.9481891), (61515, 0.9481891), (18728, 0.9481677), (75001, 0.94814277), (35800, 0.9481249), (8065, 0.9480643), (25996, 0.94795704), (2122, 0.9479404), (6086, 0.9479121), (15862, 0.9479028), (24212, 0.94787496), (5882, 0.94782877), (8709, 0.9476062), (34916, 0.9474019), (36021, 0.94730234), (41812, 0.94730234), (71125, 0.94730234), (76122, 0.94730234), (29798, 0.9472399), (80511, 0.94709533), (37206, 0.94697446), (69920, 0.94697446), (1414, 0.9469375), (62914, 0.9468707), (11075, 0.94686645), (14753, 0.9468072), (36218, 0.94671357), (13507, 0.94670546), (69491, 0.9465527), (22458, 0.9465182), (34472, 0.9464105), (9483, 0.94614774), (13509, 0.94612926), (41746, 0.94608533), (17002, 0.94604355), (27575, 0.9460002), (34382, 0.9460002), (26036, 0.9459252), (6785, 0.9458804), (32315, 0.9458537), (13074, 0.9458263), (7762, 0.94579244), (41989, 0.94575304), (83271, 0.9456895), (6716, 0.94554657), (4051, 0.94547313), (71822, 0.9454302), (59237, 0.94539607), (71987, 0.9453395), (18101, 0.94527113), (2568, 0.94526184), (22439, 0.94516796), (43971, 0.94516796), (78130, 0.94516796), (80657, 0.94516796), (81137, 0.9451576), (5707, 0.94504136), (30837, 0.94501853), (4552, 0.9449578), (54579, 0.94495296), (24582, 0.9447487), (32721, 0.9447487), (17092, 0.944568), (43297, 0.94452316), (36501, 0.94451785), (22164, 0.94443434), (27882, 0.94431067), (17968, 0.9443051), (15032, 0.944289), (4965, 0.94423556), (16529, 0.9442298), (78271, 0.94420516), (45142, 0.9441935), (77695, 0.9441849), (2489, 0.9441023), (4698, 0.94405603), (36822, 0.9440171), (41209, 0.94401115), (51711, 0.94401115), (29358, 0.9440089), (59034, 0.9439512), (1093, 0.9439449), (4121, 0.94393027), (33444, 0.9439264), (49344, 0.9438977), (31963, 0.9437123), (29863, 0.9436677), (22794, 0.9435468), (47003, 0.9435468), (39696, 0.94354063), (32117, 0.9435335), (17172, 0.94350106), (22071, 0.9434887), (33366, 0.9434887), (39968, 0.94346493), (13204, 0.9434072), (77149, 0.9433971), (13142, 0.9433961), (72328, 0.9433661), (5153, 0.9433149), (59129, 0.9432402), (444, 0.9432336), (6793, 0.9432251), (70495, 0.9431962), (56194, 0.9431654), (13682, 0.94312894), (60098, 0.94302624), (80483, 0.9429668), (13143, 0.942914), (2106, 0.9428977), (75034, 0.9428973), (16515, 0.9428906), (6303, 0.9428531), (32872, 0.94282144), (47168, 0.94282144), (12775, 0.9428145), (4568, 0.9427882), (59222, 0.94277203), (28700, 0.94273525), (5212, 0.94273347), (61058, 0.9427111), (16757, 0.9426456), (3340, 0.9425879), (26511, 0.9425641), (39300, 0.9425641), (47051, 0.9425641), (55430, 0.9424773), (19987, 0.9423288), (15657, 0.94217175), (66527, 0.94215274), (586, 0.94205916), (5869, 0.9420387), (3215, 0.9420344), (17662, 0.9419094), (71255, 0.9418727), (6422, 0.9418263), (28848, 0.9418064), (66762, 0.9417941), (7770, 0.9417514), (18634, 0.94175005), (50960, 0.9417334), (73389, 0.9417334), (82776, 0.94168216), (18730, 0.94168144), (25110, 0.9416669), (5119, 0.94160336), (2471, 0.94149226), (24847, 0.941464), (37457, 0.941464), (75853, 0.9414612), (52198, 0.9414379), (7733, 0.9413985), (3341, 0.9413877), (79076, 0.94138026), (29288, 0.94135755), (32355, 0.94135755), (31824, 0.94133466), (6640, 0.9412854), (75972, 0.9412834), (50144, 0.94126636), (2442, 0.9412557), (36892, 0.94119954), (67942, 0.94119954), (80097, 0.94116557), (25563, 0.9410798), (55468, 0.941059), (28153, 0.9409803), (41027, 0.94097435), (3567, 0.9409147), (12202, 0.9408879), (53513, 0.9408165), (72619, 0.9408165), (65127, 0.9407897), (5079, 0.94076633), (33403, 0.9406567), (43987, 0.9406567), (46002, 0.94062275), (53986, 0.94060606), (70205, 0.94060606), (13724, 0.9405918), (46070, 0.9405759), (13147, 0.9405579), (47027, 0.9405542), (76257, 0.9405229), (12716, 0.94051933), (43422, 0.94050246), (5771, 0.9404593), (6471, 0.94044185), (9561, 0.94038236), (15723, 0.9403581), (16723, 0.94033396), (57881, 0.9403261), (55552, 0.94028634), (27613, 0.94020873), (73864, 0.94017), (65808, 0.94013727), (5892, 0.9401167), (66497, 0.9400808), (64574, 0.93993354), (2919, 0.9398641), (42524, 0.9398551), (78304, 0.9397875), (53798, 0.9397384), (22515, 0.93971807), (20163, 0.93964446), (54113, 0.93963796), (2261, 0.9395302), (41383, 0.9395103), (58075, 0.9394881), (75806, 0.9394881), (2719, 0.93943685), (18726, 0.93939066), (42649, 0.9393657), (54086, 0.939363), (35961, 0.9392857), (13169, 0.9392839), (49652, 0.93927133), (8566, 0.93926865), (32111, 0.9392597), (21595, 0.93923855), (48228, 0.9391929), (77006, 0.93917984), (35359, 0.9391654), (69014, 0.9390914), (80296, 0.9390844), (76572, 0.9390552), (51017, 0.939052), (14276, 0.939036), (10406, 0.93903434), (56290, 0.939018), (70948, 0.939018), (82688, 0.939018), (60693, 0.939008), (18659, 0.93900025), (66596, 0.9389994), (27805, 0.9389765), (34714, 0.9389765), (2103, 0.9389648), (13964, 0.9389401), (34799, 0.9389173), (68753, 0.9389173), (74769, 0.93888897), (2653, 0.938879), (70174, 0.93881), (53118, 0.9388045), (45495, 0.93876976), (42437, 0.9387669), (62540, 0.93875736), (51202, 0.9387067), (35909, 0.93869823), (62856, 0.93869823), (82472, 0.9386867), (40335, 0.9386205), (53710, 0.93861926), (82506, 0.9385441), (30042, 0.9385265), (10023, 0.9385086), (83270, 0.93846875), (18074, 0.9383588), (6924, 0.93831855), (35741, 0.9383093), (5323, 0.9382351), (3484, 0.9381435), (73633, 0.9381059), (29227, 0.9380715), (53950, 0.9380715), (13516, 0.93805873), (28577, 0.93804485), (80517, 0.93804485), (81807, 0.93804485), (14436, 0.9380214), (60782, 0.93796885), (27541, 0.9379364), (10731, 0.9379354), (42465, 0.93792355), (8184, 0.93792075), (12782, 0.9379099), (13159, 0.9378958), (41578, 0.93784297), (71690, 0.9378351), (12608, 0.93775505), (44119, 0.937738), (2474, 0.93772423), (79391, 0.9376833), (77879, 0.93767035), (34297, 0.9376636), (72979, 0.93765074), (16751, 0.9375545), (52886, 0.9374549), (1408, 0.93744516), (14984, 0.9374266), (12613, 0.9374026), (22539, 0.9373925), (33362, 0.9373709), (6426, 0.9373), (25323, 0.937264), (20232, 0.93724823), (5757, 0.9371987), (6133, 0.9371537), (35778, 0.9371366), (81480, 0.9371184), (3467, 0.9371129), (60562, 0.93711114), (15202, 0.9371034), (56063, 0.9370667), (2473, 0.93705326), (52168, 0.9369936), (8716, 0.93695533), (1990, 0.936868), (22934, 0.93685657), (80402, 0.93682224), (3489, 0.93674463), (5924, 0.93673086), (16765, 0.9367305), (25237, 0.9367164), (13373, 0.93669415), (18445, 0.936692), (65142, 0.9366618), (4470, 0.93666023), (70667, 0.93658715), (9574, 0.9365863), (38915, 0.9365098), (14720, 0.93644553), (28857, 0.93643475), (37372, 0.93643475), (61126, 0.93643475), (27984, 0.93641526), (36571, 0.93641526), (63414, 0.93641526), (65311, 0.93641526), (77925, 0.93641526), (43260, 0.936403), (6935, 0.9363935), (2091, 0.93633884), (22382, 0.93627715), (50666, 0.9362512), (6795, 0.93620086), (49771, 0.9361936), (78571, 0.9361936), (67994, 0.93618107), (23008, 0.93618065), (36458, 0.9361664), (46611, 0.9361295), (73221, 0.9361256), (48831, 0.9360906), (72652, 0.93608546), (81360, 0.93608546), (22426, 0.9360649), (45514, 0.9360649), (28315, 0.93605095), (32007, 0.93605095), (7408, 0.93604016), (3599, 0.93601453), (55687, 0.9360108), (54716, 0.9359611), (64551, 0.9359254), (82421, 0.9358832), (57270, 0.9358525), (8164, 0.93573934), (56941, 0.9357299), (2104, 0.9357179), (41363, 0.93571216), (75464, 0.935569), (12504, 0.9355286), (13753, 0.9355197), (10695, 0.93549216), (47310, 0.9354908), (38474, 0.9354876), (48503, 0.9354876), (37311, 0.9354747), (26304, 0.9354686), (18719, 0.93542016), (66445, 0.93539184), (19930, 0.9353297), (16861, 0.93531924), (48794, 0.9352232), (49495, 0.9352232), (57118, 0.9352232), (20357, 0.9352121), (41491, 0.93520933), (83041, 0.93520933), (75279, 0.9351729), (19142, 0.9351393), (77426, 0.9351344), (19917, 0.93507785), (82875, 0.93499285), (21943, 0.9349852), (78384, 0.93493474), (3820, 0.93492997), (28006, 0.93491423), (80066, 0.93480957), (63119, 0.93470246), (10583, 0.93469256), (32912, 0.9346834), (6191, 0.93465936), (12778, 0.93465817), (10387, 0.9346531), (30639, 0.93465143), (50481, 0.93465143), (69931, 0.93464065), (68973, 0.93459594), (63841, 0.93456715), (56368, 0.93454844), (10381, 0.9345429), (2512, 0.9345404), (81340, 0.9345222), (43054, 0.9344994), (6223, 0.93446666), (15283, 0.9344048), (26081, 0.934387), (27325, 0.934387), (57762, 0.934387), (67438, 0.934387), (71769, 0.934387), (81650, 0.93437743), (34250, 0.9343322), (72899, 0.9343185), (42611, 0.9342675), (7778, 0.93424153), (15768, 0.9342353), (1354, 0.93422496), (10399, 0.9341988), (5156, 0.93418115), (60972, 0.93410736), (13653, 0.9340929), (35427, 0.93407416), (30514, 0.93406856), (40209, 0.93406856), (55376, 0.93405277), (6186, 0.9340417), (1993, 0.9340192), (12057, 0.93401706), (50331, 0.93399656), (71991, 0.9339223), (23800, 0.93387115), (34498, 0.93387026), (5505, 0.9338572), (62267, 0.9338516), (12285, 0.9338268), (78542, 0.933798), (27463, 0.9337921), (38304, 0.9337915), (22528, 0.9337648), (68641, 0.9337592), (51894, 0.9337201), (60658, 0.9336715), (31413, 0.93360883), (38824, 0.93360883), (62685, 0.93360883), (79428, 0.93360883), (26747, 0.9336018), (75854, 0.93355995), (7161, 0.93355155), (1355, 0.93354017), (756, 0.9335344), (25435, 0.9334961), (47947, 0.9334885), (82521, 0.93346703), (68458, 0.9334194), (48688, 0.93340856), (60318, 0.9333932), (72134, 0.9333932), (82308, 0.9333911), (32397, 0.93336076), (53476, 0.93336076), (17953, 0.93334025), (32535, 0.93329257), (754, 0.9332564), (61508, 0.93324053), (67294, 0.9331853), (13305, 0.9331393), (6938, 0.93313354), (1394, 0.9331335), (8748, 0.93307996), (671, 0.9330678), (77832, 0.93306494), (41055, 0.93304664), (79904, 0.93304664), (66421, 0.93304574), (77473, 0.93302697), (74426, 0.93302304), (76987, 0.93302304), (43700, 0.932927), (82085, 0.9329139), (14258, 0.93289113), (41332, 0.9328833), (65326, 0.9328525), (32680, 0.93280524), (43573, 0.93280524), (47915, 0.93280524), (49027, 0.93280524), (53463, 0.93280524), (58482, 0.93280524), (61043, 0.93280524), (63681, 0.93280524), (64918, 0.93280524), (68299, 0.93280524), (72413, 0.93280524), (79108, 0.93280524), (83153, 0.93280524), (21214, 0.93279445), (81455, 0.9327879), (23221, 0.93276983), (43206, 0.93274194), (21801, 0.9327121), (2705, 0.9326414), (34187, 0.93262655), (14527, 0.9326157), (61077, 0.9325547), (76118, 0.93247974), (6084, 0.9324583), (61466, 0.9324444), (62718, 0.93243694), (28337, 0.93242955), (49619, 0.9324258), (3573, 0.9324247), (61355, 0.9324124), (51040, 0.9323984), (6490, 0.9323983), (15189, 0.93239784), (43983, 0.93237466), (43633, 0.9323666), (5166, 0.93234146), (26121, 0.93233067), (33418, 0.93233067), (37850, 0.93233067), (71062, 0.93233067), (23250, 0.93232876), (21402, 0.9323007), (73447, 0.9322496), (729, 0.93222326), (64891, 0.932216), (60557, 0.9321976), (17315, 0.9321601), (39016, 0.932105), (46535, 0.932105), (47761, 0.932105), (49021, 0.932105), (51852, 0.932105), (59515, 0.932105), (59994, 0.93207574), (66466, 0.93207574), (2441, 0.93206775), (12741, 0.93205976), (3667, 0.93205845), (27607, 0.93203044), (56402, 0.93203044), (56933, 0.9320111), (34369, 0.9320066), (77983, 0.9320066), (39361, 0.93200064), (55899, 0.93199784), (34153, 0.9319125), (7267, 0.93189055), (6977, 0.9318339), (63651, 0.9317941), (71561, 0.9317941), (79159, 0.9317941), (34288, 0.93172973), (5275, 0.93171644), (18070, 0.93171626), (39702, 0.9316387), (26344, 0.9315933), (67747, 0.9315933), (40068, 0.93158376), (23352, 0.9315662), (41044, 0.9315662), (78277, 0.9315662), (54054, 0.93155766), (29125, 0.9315333), (71658, 0.9315333), (38078, 0.9315182), (40803, 0.9315123), (64118, 0.9315123), (5077, 0.93150175), (48201, 0.9315015), (6090, 0.9314947), (45024, 0.9314787), (50202, 0.9314506), (75759, 0.9314182), (38868, 0.9314108), (77425, 0.93140626), (81968, 0.9314003), (45500, 0.93139493), (45555, 0.9313593), (73663, 0.93133324), (11509, 0.9312983), (31136, 0.9312702), (45339, 0.9312702), (53560, 0.9312702), (18229, 0.93125576), (4926, 0.9312557), (20155, 0.93121505), (65968, 0.9311913), (73373, 0.9311913), (4570, 0.9311283), (18657, 0.9311114), (7272, 0.93110377), (59644, 0.93108624), (42216, 0.9310745), (8741, 0.9310718), (21234, 0.93107057), (41833, 0.93107057), (73612, 0.9310582), (74128, 0.9310582), (13211, 0.93105364), (62602, 0.93104786), (34015, 0.93102145), (5846, 0.9310085), (30522, 0.93097156), (37357, 0.93097156), (38008, 0.93097156), (64094, 0.93097156), (72943, 0.93097156), (74024, 0.93097156), (77471, 0.93097156), (81523, 0.93097156), (13681, 0.93096155), (38505, 0.9309451), (67406, 0.9309451), (73947, 0.93091744), (8727, 0.9309148), (66353, 0.93091226), (27108, 0.93089926), (68135, 0.93089926), (15838, 0.9308895), (38359, 0.93086946), (3636, 0.9308253), (35629, 0.93082005), (6784, 0.93079245), (14039, 0.93074703), (2444, 0.93072885), (1363, 0.93071127), (75480, 0.93069476), (65816, 0.9306785), (45772, 0.9306396), (16401, 0.93063545), (77173, 0.93056595), (61520, 0.9305401), (81751, 0.9305401), (23137, 0.9305066), (40121, 0.9305066), (73929, 0.93049866), (65978, 0.93049437), (33667, 0.9304889), (38903, 0.9304889), (2432, 0.93048704), (41139, 0.930477), (22694, 0.9304746), (38500, 0.93039757), (48157, 0.93037707), (35732, 0.9303582), (16758, 0.93035614), (10691, 0.93035305), (37878, 0.93035305), (791, 0.9303227), (27470, 0.9303171), (37397, 0.9303116), (13500, 0.93030703), (26274, 0.9302756), (64506, 0.9302642), (25168, 0.9302607), (18607, 0.93023163), (29036, 0.9302166), (26567, 0.9302082), (47366, 0.93020505), (34284, 0.9301964), (16287, 0.9301808), (6082, 0.9301764), (26390, 0.93017113), (36163, 0.9301675), (68292, 0.9301245), (45478, 0.9301216), (23781, 0.93010354), (57623, 0.93009686), (69630, 0.93009686), (72219, 0.93009686), (2301, 0.9300913), (82556, 0.93008494), (78240, 0.93007624), (14270, 0.93005145), (12818, 0.93003863), (66587, 0.93003505), (75207, 0.9299778), (26560, 0.9299644), (63976, 0.9299634), (54279, 0.92992216), (4035, 0.9299175), (3739, 0.92991513), (9585, 0.92991114), (55653, 0.9298473), (79495, 0.9298473), (68074, 0.92984474), (8749, 0.92983097), (18584, 0.9298073), (11569, 0.92980653), (41974, 0.9298029), (1387, 0.92977), (15852, 0.9297654), (5544, 0.9297646), (32760, 0.9297608)]\n",
            "False\n",
            "1928.0\n",
            "[(79777, 0.8401463), (77550, 0.83014417), (71234, 0.8297441), (30358, 0.8278908), (81957, 0.8120675), (63431, 0.793378), (61077, 0.7897081), (26883, 0.7896815), (39352, 0.7896815), (42591, 0.7896815), (51177, 0.7896815), (72807, 0.7896815), (74771, 0.7896815), (32819, 0.78809947), (76105, 0.78809947), (81650, 0.788056), (50270, 0.78282994), (66801, 0.78282994), (68466, 0.78282994), (24386, 0.7824833), (56877, 0.78168404), (27607, 0.78058475), (56402, 0.78058475), (43320, 0.7798669), (2766, 0.77931005), (5505, 0.77802324), (19975, 0.77707344), (58529, 0.77674526), (66397, 0.77663684), (26433, 0.77661186), (69016, 0.77661186), (71613, 0.77661186), (53776, 0.776496), (3477, 0.7759437), (74303, 0.7751295), (83137, 0.7742225), (64888, 0.7742), (43393, 0.7740513), (3465, 0.77363384), (47366, 0.77362806), (45772, 0.7735143), (35145, 0.7728991), (72469, 0.7723695), (76739, 0.7721816), (2547, 0.77215016), (39828, 0.77136487), (58990, 0.77043957), (65235, 0.7704067), (37308, 0.76884174), (38523, 0.7687269), (52031, 0.7687269), (60009, 0.7687269), (70496, 0.7687269), (82394, 0.7687269), (64355, 0.76798075), (72029, 0.76798075), (68838, 0.7679675), (21863, 0.7677947), (49350, 0.7673069), (56659, 0.7673069), (61005, 0.7673069), (62880, 0.7669297), (80402, 0.7668704), (62914, 0.7668576), (2473, 0.7667391), (38656, 0.7665359), (59310, 0.7665359), (78606, 0.7665359), (83165, 0.7656475), (1699, 0.76547986), (64117, 0.76490486), (78271, 0.7644603), (66204, 0.7644499), (21678, 0.7637559), (33931, 0.76358193), (23277, 0.7631761), (36310, 0.7631761), (43945, 0.7631761), (77149, 0.7628082), (26813, 0.7621858), (10025, 0.76212853), (38464, 0.7610556), (65994, 0.7610556), (73758, 0.7610556), (19448, 0.76100975), (59940, 0.7603236), (22328, 0.7601871), (32268, 0.7601402), (6421, 0.7600789), (21943, 0.75984836), (48888, 0.7597587), (72648, 0.7595555), (20490, 0.7592369), (4988, 0.75912786), (2452, 0.7591205), (20020, 0.7589938), (6425, 0.75895053), (33334, 0.75879306), (19962, 0.75869954), (57286, 0.7586816), (17315, 0.7585829), (34394, 0.75824904), (43700, 0.7582212), (36051, 0.7578989), (56732, 0.75786644), (78807, 0.75773335), (15727, 0.75766444), (52290, 0.7576314), (40068, 0.75748956), (25603, 0.7573449), (90, 0.75730515), (4978, 0.7571351), (77767, 0.75702626), (125, 0.75687397), (41112, 0.75628495), (74974, 0.75620025), (15768, 0.7561408), (66181, 0.7560744), (82763, 0.75607115), (3360, 0.7559696), (23137, 0.75592214), (40121, 0.75592214), (54182, 0.7554352), (79188, 0.7551063), (3484, 0.7550431), (74103, 0.7545688), (82778, 0.75414157), (83226, 0.7537215), (35765, 0.753631), (31397, 0.7535518), (56063, 0.7532335), (26344, 0.75320137), (67747, 0.75320137), (56185, 0.75318533), (21849, 0.7531369), (72004, 0.7530715), (74957, 0.7530715), (35245, 0.7529557), (21402, 0.75273925), (52666, 0.7526845), (13420, 0.75257427), (73075, 0.7525696), (57687, 0.7524791), (33550, 0.7523378), (58279, 0.75228834), (14436, 0.75226307), (34417, 0.7522222), (74939, 0.75219643), (21306, 0.7521077), (67562, 0.7521077), (48716, 0.752081), (22024, 0.7519458), (33050, 0.7517448), (42179, 0.751474), (26224, 0.7510749), (59804, 0.7510749), (2474, 0.750995), (30522, 0.750986), (37357, 0.750986), (38008, 0.750986), (64094, 0.750986), (72943, 0.750986), (74024, 0.750986), (77471, 0.750986), (81523, 0.750986), (23370, 0.75096107), (58495, 0.7508021), (19961, 0.7507389), (62736, 0.75069946), (48518, 0.7506906), (66919, 0.75054675), (76591, 0.75054675), (17326, 0.7502519), (33153, 0.75001204), (36630, 0.75001204), (80068, 0.75001204), (986, 0.7499016), (31227, 0.74986386), (63379, 0.74986386), (30283, 0.7495955), (53152, 0.7495183), (11534, 0.7494096), (51441, 0.7493765), (62065, 0.7492362), (69597, 0.7492362), (3377, 0.74918413), (33977, 0.74854565), (31062, 0.7485069), (77945, 0.74810964), (57649, 0.74801373), (31340, 0.7479928), (32509, 0.7478581), (54716, 0.74781203), (3486, 0.7477225), (21321, 0.7473971), (30815, 0.7473239), (76529, 0.7473239), (3480, 0.7473137), (22298, 0.747179), (39872, 0.74710053), (29901, 0.74704695), (6200, 0.74693114), (20410, 0.7468883), (80049, 0.7468883), (75853, 0.7468644), (24807, 0.7467287), (46070, 0.74664325), (22117, 0.74640685), (2570, 0.74639904), (44531, 0.7463452), (17314, 0.7460758), (65891, 0.74607116), (33330, 0.7458037), (23078, 0.74571484), (34818, 0.7457009), (70321, 0.7456838), (83271, 0.7455181), (54638, 0.74548763), (22095, 0.7453522), (61325, 0.7453522), (38685, 0.7453349), (49624, 0.7453349), (5886, 0.7452), (19973, 0.74512315), (3470, 0.74508595), (59308, 0.7450269), (77081, 0.7450269), (49147, 0.7449943), (74500, 0.7448558), (19598, 0.74476916), (62699, 0.7446133), (64112, 0.7446133), (7274, 0.744513), (40627, 0.74427307), (49112, 0.74427307), (68286, 0.74427307), (17384, 0.7442604), (8327, 0.74422914), (81604, 0.74418455), (10022, 0.744017), (53218, 0.7439158), (55092, 0.74381846), (78377, 0.74381846), (10731, 0.743718), (3440, 0.7436398), (34767, 0.7436285), (15796, 0.743577), (76979, 0.7435427), (73699, 0.74350685), (32734, 0.74346787), (77059, 0.74342984), (6671, 0.74340075), (38416, 0.74333924), (74565, 0.74315363), (79876, 0.74315363), (9704, 0.7429331), (52882, 0.742913), (76903, 0.7428841), (80227, 0.7428841), (13570, 0.7428012), (2544, 0.74279946), (22733, 0.7427158), (34052, 0.7427158), (34208, 0.7425678), (80135, 0.7425478), (57802, 0.7425454), (61896, 0.7425454), (5896, 0.7424236), (31197, 0.74241596), (78795, 0.74241596), (46248, 0.742378), (32299, 0.7422779), (34498, 0.7422116), (7923, 0.74218184), (37690, 0.74215454), (40258, 0.742095), (4714, 0.74208283), (71987, 0.7420209), (76162, 0.7419719), (21845, 0.7418433), (46348, 0.74178493), (40036, 0.7417723), (28156, 0.74176496), (37322, 0.7417417), (68364, 0.74128455), (52319, 0.7412754), (53190, 0.74120104), (81055, 0.74115527), (41101, 0.7411064), (49012, 0.7409804), (57008, 0.7409047), (22161, 0.7409019), (53809, 0.7409019), (50793, 0.7408808), (1831, 0.7408569), (3601, 0.7407362), (53070, 0.74069834), (45798, 0.7406293), (15293, 0.74059886), (51928, 0.7405727), (56233, 0.7405702), (14772, 0.74055684), (5089, 0.74046236), (80101, 0.7403977), (37441, 0.7403821), (77538, 0.7403604), (73743, 0.74033767), (2919, 0.74017876), (19590, 0.74017096), (80455, 0.7399312), (5406, 0.73987424), (33140, 0.73985654), (5271, 0.7398356), (5069, 0.73981476), (4121, 0.73973393), (65565, 0.73971605), (650, 0.7396871), (649, 0.7396082), (25415, 0.73959184), (29668, 0.7395905), (69741, 0.7395905), (78388, 0.7395438), (54051, 0.73929024), (68740, 0.73929024), (16988, 0.7392676), (64521, 0.73923415), (72448, 0.7391049), (11457, 0.7390151), (56003, 0.73890626), (29625, 0.73882806), (36303, 0.7388152), (75168, 0.7388152), (79759, 0.7388019), (61147, 0.73878485), (15861, 0.7386941), (5521, 0.7385531), (27076, 0.7384213), (445, 0.7384113), (4317, 0.7383795), (81286, 0.7382856), (5517, 0.73827034), (24870, 0.7382393), (30176, 0.7381072), (40408, 0.7381072), (53773, 0.73801875), (43205, 0.7380161), (44952, 0.7380161), (59664, 0.7380161), (63528, 0.73801064), (4123, 0.73798805), (67343, 0.73782307), (74620, 0.7378112), (46902, 0.73768246), (56366, 0.73768246), (62680, 0.73768246), (76953, 0.73768246), (79288, 0.73768246), (69539, 0.73767924), (81042, 0.737617), (30755, 0.73754185), (70270, 0.7375223), (19990, 0.73750323), (41957, 0.7372179), (70814, 0.737137), (76221, 0.73713577), (73453, 0.7370616), (49459, 0.7369852), (62640, 0.7369508), (57936, 0.7368921), (26390, 0.7368539), (67473, 0.73678404), (24506, 0.73676103), (15128, 0.7367428), (42051, 0.736728), (57508, 0.73672706), (36152, 0.7367181), (64310, 0.7366702), (26942, 0.736478), (49081, 0.73644227), (53569, 0.73629385), (44064, 0.736257), (47530, 0.7362135), (59056, 0.7362071), (37119, 0.7361086), (60308, 0.73609596), (40091, 0.73588455), (55240, 0.7358609), (74763, 0.73579735), (56618, 0.73576146), (72771, 0.7356326), (4211, 0.73557913), (33390, 0.7355767), (43003, 0.7355767), (81058, 0.7355724), (19189, 0.73553336), (36117, 0.7354408), (40065, 0.73539805), (71222, 0.73539805), (75299, 0.7353863), (77121, 0.7353676), (44912, 0.73530823), (78448, 0.73530823), (3159, 0.7352843), (49754, 0.7351896), (7492, 0.7351812), (29268, 0.73515403), (27575, 0.7351232), (34382, 0.7351232), (68598, 0.73511034), (74726, 0.7349363), (56662, 0.73493594), (4108, 0.7349326), (19955, 0.73491997), (58410, 0.73488253), (35171, 0.73479885), (3390, 0.7347975), (67271, 0.7347925), (33225, 0.73476964), (45883, 0.7347446), (58149, 0.73471594), (12402, 0.73470706), (64688, 0.73465246), (76657, 0.7345895), (5746, 0.7345833), (39176, 0.7345556), (48813, 0.7345556), (30120, 0.73453027), (75279, 0.7345097), (5725, 0.7344952), (80469, 0.7344666), (5049, 0.7344181), (3086, 0.7343394), (17377, 0.7343382), (32822, 0.73420006), (67208, 0.73420006), (73253, 0.73416656), (23782, 0.73414433), (47350, 0.73414433), (77617, 0.73408777), (28185, 0.7340546), (82300, 0.7340111), (5667, 0.73400646), (19443, 0.7339905), (28720, 0.73386765), (32535, 0.73386556), (58333, 0.73383904), (3054, 0.7338182), (28983, 0.73381317), (26258, 0.7337986), (73268, 0.7337381), (5570, 0.73362744), (12535, 0.7336001), (23501, 0.73357743), (61263, 0.73355836), (49905, 0.73352975), (4677, 0.73351765), (23674, 0.73346215), (55900, 0.73346215), (17565, 0.733349), (28932, 0.7332637), (76626, 0.7332522), (55440, 0.7331779), (33649, 0.7331463), (79231, 0.7331288), (70761, 0.73311573), (15695, 0.7330673), (5772, 0.7330654), (76572, 0.73304397), (81433, 0.733035), (34802, 0.73293227), (35087, 0.73293227), (38315, 0.73293227), (52332, 0.73293227), (54058, 0.73293227), (64502, 0.73293227), (66883, 0.73293227), (75974, 0.73293227), (27532, 0.7329202), (57938, 0.7328707), (45743, 0.7327341), (13220, 0.7327034), (49245, 0.73259336), (43327, 0.732585), (44277, 0.732585), (25784, 0.7325699), (78322, 0.7325699), (34369, 0.73252016), (77983, 0.73252016), (20930, 0.73251665), (4051, 0.7324904), (35887, 0.73242265), (19940, 0.7323836), (11882, 0.7323774), (61287, 0.7323007), (31063, 0.73229766), (36008, 0.73229766), (81137, 0.73227626), (13652, 0.7322367), (65579, 0.7322072), (17925, 0.7321235), (23961, 0.732077), (10399, 0.7320662), (78426, 0.73193836), (58928, 0.73186976), (26284, 0.73185647), (2600, 0.73169416), (27614, 0.7316653), (71866, 0.73159117), (32897, 0.7315), (62195, 0.7314527), (63576, 0.7314527), (28848, 0.731418), (36274, 0.7314036), (5969, 0.7313608), (60522, 0.7313408), (3399, 0.7313308), (55675, 0.73130554), (39135, 0.73127174), (74152, 0.73127174), (58060, 0.73121), (22458, 0.7311887), (29141, 0.73114395), (31929, 0.73114395), (43112, 0.73114395), (47248, 0.73114395), (78964, 0.73114395), (12540, 0.7311289), (76054, 0.73108387), (50165, 0.7310499), (60217, 0.7310499), (82203, 0.73103243), (3392, 0.7309985), (10677, 0.73099697), (38347, 0.73099697), (44747, 0.73099697), (55284, 0.73099697), (70219, 0.7308855), (27048, 0.73088497), (5031, 0.7308642), (11096, 0.7307675), (64371, 0.7307361), (56368, 0.7307297), (58258, 0.7307138), (28699, 0.7307027), (39024, 0.73056257), (24756, 0.730525), (48824, 0.730525), (53469, 0.730525), (65221, 0.73044413), (30858, 0.73042643), (3383, 0.73039323), (4460, 0.7303913), (23013, 0.7302505), (24775, 0.7302505), (65976, 0.7302505), (24180, 0.73019), (42855, 0.73018044), (25880, 0.73007923), (28483, 0.73007923), (31569, 0.73007923), (34895, 0.73007923), (59137, 0.73007923), (64828, 0.73007923), (65197, 0.73007923), (71858, 0.73007923), (72800, 0.73007923), (73001, 0.73007923), (80156, 0.73007923), (67059, 0.73001146), (53406, 0.72999865), (59094, 0.72997665), (21707, 0.7299152), (70837, 0.7299152), (20847, 0.7299149), (48257, 0.72985446), (39963, 0.72984034), (33082, 0.7296871), (70235, 0.7296871), (47421, 0.72962916), (3812, 0.7295578), (50363, 0.72955394), (61962, 0.72951716), (70083, 0.72948855), (22650, 0.72947305), (9946, 0.7294475), (4754, 0.72944397), (4691, 0.729425), (22138, 0.7294089), (32358, 0.7293521), (47457, 0.7293521), (75657, 0.72934234), (22439, 0.7292644), (43971, 0.7292644), (78130, 0.7292644), (80657, 0.7292644), (57324, 0.7292378), (60762, 0.72922033), (30224, 0.72917706), (48472, 0.72914225), (65406, 0.72909427), (68716, 0.7290597), (38668, 0.72903246), (45326, 0.72903246), (29785, 0.72899204), (60655, 0.7289853), (38628, 0.7289768), (68338, 0.728974), (47408, 0.7288614), (43983, 0.7288378), (80493, 0.72882354), (51138, 0.7288067), (746, 0.7288035), (76710, 0.7287801), (28154, 0.72877246), (29003, 0.72877246), (58210, 0.7287709), (14468, 0.728766), (56692, 0.728755), (64951, 0.728755), (77592, 0.728755), (78884, 0.7287489), (60779, 0.72873545), (25704, 0.7287326), (17551, 0.7287168), (53643, 0.728714), (54086, 0.7286584), (42251, 0.72862315), (43820, 0.72862315), (59929, 0.72862315), (62046, 0.72862315), (75281, 0.72862315), (52727, 0.7285881), (26195, 0.7285671), (16501, 0.72852224), (60651, 0.7284643), (25123, 0.72846335), (75189, 0.7284368), (62518, 0.7284035), (65816, 0.72835934), (53795, 0.72834986), (25021, 0.7283421), (28425, 0.7283421), (61584, 0.7283087), (28776, 0.7282558), (3461, 0.72813183), (675, 0.72811633), (45589, 0.7280644), (1775, 0.7280225), (30129, 0.7280069), (23632, 0.727991), (59776, 0.7279704), (35806, 0.7279293), (37048, 0.7279293), (43053, 0.7279293), (39216, 0.72785985), (38112, 0.7278414), (26747, 0.72783333), (79971, 0.7278199), (72979, 0.7277988), (43169, 0.7277099), (51870, 0.72770786), (77964, 0.7276768), (29233, 0.72764766), (47854, 0.72764766), (24219, 0.72763383), (43755, 0.7276297), (72754, 0.727601), (54043, 0.7275789), (25110, 0.7274998), (81686, 0.72744286), (39701, 0.7274403), (47749, 0.72735566), (37309, 0.7273281), (5944, 0.72728527), (18685, 0.72725666), (14916, 0.727254), (38126, 0.72724766), (75592, 0.72723824), (34984, 0.72722334), (7061, 0.7272109), (73182, 0.727169), (75649, 0.727169), (18814, 0.72712296), (18100, 0.7271126), (51555, 0.7270613), (19987, 0.72705877), (26897, 0.7269997), (42557, 0.7269997), (55576, 0.7269997), (57979, 0.7269741), (62101, 0.7269741), (39762, 0.7269724), (53657, 0.7269724), (19874, 0.7269658), (45566, 0.72690433), (4289, 0.7268803), (66964, 0.72685856), (48201, 0.7268539), (40726, 0.72685146), (47114, 0.72685146), (61411, 0.72685146), (27078, 0.7268405), (61235, 0.72683537), (7487, 0.7268334), (22334, 0.72678727), (44146, 0.72678727), (57527, 0.72678727), (73165, 0.72678727), (15032, 0.72671306), (1596, 0.72669977), (19780, 0.7266519), (50716, 0.7266345), (52248, 0.72663075), (26324, 0.72661567), (19555, 0.72653013), (36053, 0.7265245), (71635, 0.7264843), (69997, 0.72647506), (17753, 0.72643507), (4278, 0.726392), (2812, 0.7263816), (17539, 0.72637093), (10305, 0.7263154), (5163, 0.7263026), (27697, 0.72626585), (60927, 0.7262499), (83160, 0.7261941), (62844, 0.7261661), (63537, 0.7261661), (75646, 0.7261661), (33423, 0.7261389), (34454, 0.72613347), (79152, 0.7261314), (30256, 0.7261217), (27240, 0.7260236), (78145, 0.7260236), (41430, 0.7259883), (71687, 0.7259734), (69149, 0.72596085), (20684, 0.72592974), (28082, 0.72592974), (42430, 0.72592974), (7456, 0.7259222), (32315, 0.7259212), (72514, 0.7259151), (69785, 0.7258065), (36404, 0.72577995), (54648, 0.72577995), (81074, 0.72577995), (4045, 0.72574425), (17796, 0.7257084), (76350, 0.7256515), (81009, 0.7256295), (48399, 0.725613), (61518, 0.72561175), (11808, 0.72560173), (67382, 0.7255934), (78428, 0.7255884), (19451, 0.72557974), (73450, 0.72556716), (54806, 0.7255464), (5574, 0.72552294), (59546, 0.72552025), (62540, 0.7255128), (27386, 0.72550964), (39283, 0.7254926), (17960, 0.7254728), (67996, 0.72546816), (57624, 0.7254347), (74757, 0.7254129), (20904, 0.7254088), (62848, 0.72540385), (67306, 0.72539765), (57418, 0.7253662), (68023, 0.7253662), (53392, 0.7253491), (70820, 0.725314), (47331, 0.72528505), (68829, 0.72519886), (39549, 0.72517467), (75175, 0.72517467), (81657, 0.7251496), (24327, 0.7251361), (49731, 0.7251361), (58918, 0.7251361), (74739, 0.7251361), (2471, 0.72502774), (71853, 0.7250075), (47778, 0.7250001), (65300, 0.7250001), (57162, 0.724977), (76278, 0.7249668), (37141, 0.72494435), (83239, 0.7249114), (54297, 0.724873), (64083, 0.724873), (33151, 0.72486234), (37060, 0.72486234), (71786, 0.72486234), (72111, 0.72485936), (23841, 0.7247753), (56880, 0.72476006), (24233, 0.7247222), (39053, 0.7247222), (58644, 0.7247222), (68253, 0.7246896), (80691, 0.72467524), (53537, 0.7246749), (40076, 0.7246729), (18305, 0.72466874), (35884, 0.7246667), (6194, 0.7246611), (52284, 0.72462), (44979, 0.72461855), (45729, 0.7246083), (28698, 0.7245774), (55831, 0.7245702), (46433, 0.7245513), (59436, 0.7244874), (19447, 0.72447747), (72026, 0.7244715), (79093, 0.7244715), (44703, 0.7244381), (21038, 0.7244379), (77734, 0.7243571), (42206, 0.72435105), (60674, 0.72435105), (35684, 0.72431934), (58912, 0.72431934), (54253, 0.7242496), (42619, 0.7242337), (80514, 0.7242328), (46264, 0.72422886), (63253, 0.7242092), (30395, 0.72418576), (46353, 0.72418135), (72755, 0.72418135), (71225, 0.724133), (22544, 0.7241129), (23535, 0.7241129), (23877, 0.7241129), (28609, 0.7241129), (30581, 0.7241129), (32261, 0.7241129), (34469, 0.7241129), (35866, 0.7241129), (44586, 0.7241129), (45080, 0.7241129), (53681, 0.7241129), (57702, 0.7241129), (65351, 0.7241129), (65626, 0.7241129), (67329, 0.7241129), (68172, 0.7241129), (74659, 0.7241129), (75854, 0.724109), (76776, 0.7240799), (53078, 0.7240476), (5381, 0.7240186), (3635, 0.7240139), (49662, 0.7240079), (66149, 0.72400767), (2586, 0.72398406), (15324, 0.7239696), (59481, 0.72390944), (4550, 0.72390586), (28627, 0.72387695), (34975, 0.72387695), (50382, 0.72387695), (60355, 0.72387695), (80667, 0.72387695), (81497, 0.72387695), (72631, 0.7238749), (4181, 0.7238738), (30139, 0.7238691), (35787, 0.7238691), (70153, 0.7238691), (32872, 0.7238667), (47168, 0.7238667), (33403, 0.72385824), (43987, 0.72385824), (2478, 0.72385746), (40825, 0.7238249), (82061, 0.7238214), (44002, 0.7238202), (14398, 0.7238135), (63321, 0.72376883), (58184, 0.72376114), (43255, 0.7237032), (20901, 0.72366303), (42564, 0.7236571), (22658, 0.723646), (6686, 0.72364026), (45455, 0.72362643), (30190, 0.72362095), (39930, 0.72362095), (72230, 0.72362), (28062, 0.7236182), (52447, 0.72361755), (56196, 0.72361755), (39809, 0.7236022), (81133, 0.7236022), (74271, 0.72358614), (29493, 0.7235748), (34519, 0.72357357), (79948, 0.7235437), (5068, 0.7235135), (54835, 0.72346383), (29970, 0.7234475), (34578, 0.7234425), (52425, 0.7234425), (73553, 0.7233912), (26109, 0.7233298), (76148, 0.7232846), (25183, 0.7232714), (27551, 0.7232696), (36474, 0.7232696), (48010, 0.7232696), (65986, 0.7232696), (57618, 0.7232272), (52250, 0.7232091), (45400, 0.7231869), (3467, 0.72316504), (16491, 0.7231619), (6433, 0.72316176), (73783, 0.72316027), (37189, 0.72313607), (71584, 0.7231226), (6935, 0.72312075), (5596, 0.7230915), (76102, 0.7230784), (78471, 0.7230784), (79133, 0.7230784), (80617, 0.723065), (3457, 0.7230585), (22478, 0.7230398), (53312, 0.72303945), (54565, 0.723003), (42834, 0.72296304), (49992, 0.7229078), (51339, 0.72290057), (54697, 0.72290057), (69681, 0.72289854), (14557, 0.7228913), (7909, 0.7228882), (21971, 0.7228804), (41528, 0.72287834), (80984, 0.7228594), (27259, 0.7228561), (50876, 0.7228219), (63498, 0.7228219), (64027, 0.7228128), (22094, 0.7228053), (3129, 0.7227903), (82091, 0.7227612), (53289, 0.722741), (61852, 0.7227356), (72701, 0.7227356), (37856, 0.7227292), (28476, 0.72272915), (66293, 0.722679), (64387, 0.7226729), (82458, 0.7226538), (3490, 0.7226476), (73286, 0.7226019), (59291, 0.7225998), (28593, 0.7225853), (32434, 0.7225853), (74897, 0.7225853), (79882, 0.72250324), (28057, 0.72249573), (55563, 0.72248966), (60175, 0.72248966), (25780, 0.72247756), (41147, 0.72245806), (61966, 0.722444), (6639, 0.7223427), (63004, 0.72233653), (11543, 0.7223337), (27382, 0.7223258), (30683, 0.72231716), (51961, 0.72231716), (75185, 0.7222866), (39538, 0.722281), (25072, 0.7222795), (71273, 0.7222795), (35443, 0.72226244), (58277, 0.72226244), (71282, 0.72226244), (27586, 0.72225654), (71622, 0.7222381), (35863, 0.7222358), (12749, 0.7221964), (2969, 0.7221937), (33827, 0.7220691), (35775, 0.7220691), (50519, 0.7220691), (65022, 0.7220691), (50340, 0.7220494), (15803, 0.7220464)]\n",
            "False\n",
            "17810.0\n",
            "[(71234, 0.9246296), (30358, 0.92298967), (81957, 0.90648556), (40982, 0.87704617), (77982, 0.87626284), (22658, 0.87286335), (34369, 0.8662997), (77983, 0.8662997), (72469, 0.86581826), (10022, 0.8650573), (64139, 0.8649553), (66278, 0.86486393), (62757, 0.8591947), (56032, 0.8591848), (26708, 0.85908), (39206, 0.85908), (51138, 0.8589214), (19975, 0.858843), (49350, 0.8569944), (56659, 0.8569944), (61005, 0.8569944), (31340, 0.8553396), (34674, 0.85523933), (76776, 0.8551674), (68838, 0.8544342), (2559, 0.8538887), (19189, 0.8523969), (3465, 0.85238737), (68901, 0.8519842), (47366, 0.85135025), (58990, 0.8501936), (80402, 0.8497409), (76162, 0.84926736), (3477, 0.849053), (39828, 0.84882766), (62914, 0.8486505), (2452, 0.8477087), (34767, 0.8463951), (60762, 0.8463187), (79188, 0.84623414), (17009, 0.84612554), (29901, 0.8457806), (50793, 0.8455139), (25072, 0.8454466), (71273, 0.8454466), (72448, 0.84430015), (56003, 0.84396476), (48417, 0.84382385), (72724, 0.8435882), (55091, 0.84326786), (46893, 0.842802), (47820, 0.842802), (73464, 0.84272516), (72875, 0.84209085), (12749, 0.8418918), (79777, 0.8416231), (37189, 0.8415192), (54182, 0.84119844), (33050, 0.8408406), (34498, 0.84069914), (3470, 0.8406601), (36609, 0.8405306), (11374, 0.84032816), (24257, 0.8402218), (33931, 0.84009594), (50270, 0.83983964), (66801, 0.83983964), (68466, 0.83983964), (47885, 0.83976954), (45729, 0.83954144), (73075, 0.83937514), (66644, 0.8393034), (47331, 0.8391992), (22161, 0.8389578), (53809, 0.8389578), (5505, 0.83833086), (72004, 0.8382869), (74957, 0.8382869), (60171, 0.83796644), (56063, 0.8377447), (38358, 0.8374957), (77650, 0.8374957), (2558, 0.8363204), (77767, 0.8362599), (32391, 0.8362493), (45236, 0.8362493), (58072, 0.8358947), (42528, 0.83528805), (81719, 0.8351261), (48189, 0.8349885), (64355, 0.83475316), (72029, 0.83475316), (21850, 0.8345757), (53190, 0.8344491), (26813, 0.834131), (63431, 0.83405775), (75603, 0.8337842), (228, 0.8333463), (75434, 0.8333315), (82751, 0.8333304), (41528, 0.8333051), (50615, 0.83318144), (82325, 0.8330882), (35171, 0.8329697), (28053, 0.83293873), (67138, 0.832902), (1699, 0.8328763), (21678, 0.8327811), (77550, 0.8327792), (27076, 0.8327167), (41662, 0.8326448), (23277, 0.83257926), (36310, 0.83257926), (43945, 0.83257926), (13230, 0.8324648), (33261, 0.83231586), (64276, 0.83231586), (55092, 0.8323026), (78377, 0.8323026), (26846, 0.8320038), (76572, 0.83179176), (50585, 0.8313288), (57406, 0.8313288), (58180, 0.8313288), (73449, 0.8313288), (28848, 0.83106005), (30176, 0.83105075), (40408, 0.83105075), (32968, 0.83103424), (23029, 0.83083284), (60072, 0.83083284), (71436, 0.83083284), (80877, 0.83083284), (65196, 0.83076775), (64542, 0.8305672), (19593, 0.83055544), (74487, 0.83048236), (36640, 0.83032703), (54641, 0.83032703), (19973, 0.8301734), (34417, 0.82976556), (35443, 0.82972556), (58277, 0.82972556), (2702, 0.82946754), (52557, 0.8294527), (54536, 0.8294527), (81511, 0.829409), (7538, 0.8292081), (20511, 0.82912976), (2474, 0.8289093), (34394, 0.82878846), (21870, 0.8286551), (6194, 0.8285536), (40302, 0.8284568), (26258, 0.8282277), (64891, 0.8281308), (20567, 0.82808614), (58529, 0.82807827), (60693, 0.8280197), (19990, 0.8277361), (26433, 0.82745135), (69016, 0.82745135), (71613, 0.82745135), (64506, 0.8272322), (49971, 0.8271427), (14846, 0.8270097), (66819, 0.8267303), (35865, 0.8266583), (52954, 0.82662314), (47859, 0.8263015), (26485, 0.8262781), (71514, 0.8262781), (60120, 0.8259355), (15114, 0.8259211), (42124, 0.8258834), (52551, 0.8258834), (35145, 0.8258569), (71020, 0.82576096), (63629, 0.8255273), (20258, 0.825378), (58487, 0.8253232), (67332, 0.8251888), (42106, 0.82488185), (3608, 0.82484645), (39135, 0.824727), (74152, 0.824727), (45171, 0.8246504), (73286, 0.82461506), (48884, 0.8245621), (19723, 0.82456094), (54575, 0.8245369), (34818, 0.82386106), (39071, 0.823807), (64022, 0.82352966), (21482, 0.82346827), (19636, 0.8234652), (64966, 0.8234495), (54173, 0.82344687), (9946, 0.8234091), (3480, 0.82340044), (58862, 0.82310456), (37267, 0.8230957), (41341, 0.82306486), (22094, 0.8229688), (31724, 0.8229245), (20819, 0.8228514), (67283, 0.8227694), (33520, 0.82265466), (72979, 0.8226336), (70974, 0.8224639), (53888, 0.8224364), (45772, 0.8223598), (60779, 0.82215124), (76278, 0.822011), (65978, 0.82197374), (34370, 0.8218794), (56732, 0.8218634), (32711, 0.8218605), (51250, 0.8218286), (38647, 0.8217673), (5944, 0.82153887), (58258, 0.821523), (51325, 0.8214956), (1582, 0.82143503), (37331, 0.8214), (19649, 0.82139695), (48521, 0.8213901), (79840, 0.82130456), (40438, 0.8212172), (15118, 0.8210421), (69287, 0.82094926), (50929, 0.82092947), (13267, 0.8208423), (50121, 0.82074785), (73955, 0.82074785), (29625, 0.82071066), (2473, 0.8206862), (25110, 0.82062614), (7188, 0.82055354), (34884, 0.8204829), (45419, 0.8204829), (58842, 0.8204829), (60543, 0.8204829), (64513, 0.8204829), (76645, 0.8204829), (70321, 0.8204774), (51259, 0.8204075), (56401, 0.82040685), (59374, 0.8203728), (33269, 0.8203295), (63321, 0.8203024), (22488, 0.8202681), (64742, 0.8201395), (3880, 0.8200926), (64097, 0.8200478), (75977, 0.82004565), (10731, 0.82001454), (17050, 0.81997967), (67257, 0.8199279), (17384, 0.8197736), (24386, 0.8197712), (51663, 0.81969476), (54690, 0.81969476), (76129, 0.81969476), (76501, 0.81969476), (64117, 0.8196839), (77121, 0.81945115), (24590, 0.8193592), (79800, 0.8193497), (61759, 0.81932247), (52234, 0.81932014), (55899, 0.8192884), (73212, 0.81924963), (53655, 0.819239), (57849, 0.819185), (2630, 0.8191177), (68581, 0.819052), (63741, 0.8189385), (22625, 0.8188534), (63444, 0.8188028), (70270, 0.81880057), (11864, 0.8187775), (65704, 0.8186797), (68683, 0.8186797), (3377, 0.8185747), (43505, 0.8185527), (26942, 0.81854004), (39872, 0.81853604), (79793, 0.81844956), (71744, 0.81843287), (47232, 0.8183882), (53053, 0.8183817), (80838, 0.818374), (63678, 0.8183563), (4863, 0.818339), (41125, 0.81827766), (76761, 0.81827235), (35765, 0.8182531), (70941, 0.81818557), (41583, 0.81814843), (54016, 0.81814843), (6788, 0.8181452), (11450, 0.818141), (34536, 0.8180804), (29181, 0.81802154), (47421, 0.81799567), (33160, 0.81797206), (5593, 0.81797105), (21707, 0.81796443), (70837, 0.81796443), (71866, 0.81795347), (63946, 0.8179195), (54051, 0.8178837), (68740, 0.8178837), (62813, 0.81783974), (72758, 0.81783277), (17315, 0.8178221), (45589, 0.8177881), (81286, 0.817603), (27635, 0.81760055), (53312, 0.8175972), (13220, 0.8175896), (47173, 0.81758195), (71987, 0.81755984), (22693, 0.8175396), (16879, 0.8175335), (22988, 0.8175204), (81007, 0.8174947), (16003, 0.8173606), (3664, 0.81731063), (73100, 0.81721777), (53218, 0.8171338), (40571, 0.81711006), (62896, 0.81711006), (82136, 0.8170881), (83227, 0.8170662), (28141, 0.81705827), (32734, 0.8170462), (29737, 0.81704605), (61009, 0.8169993), (24443, 0.81697595), (4289, 0.8169123), (6935, 0.81683475), (77329, 0.81682456), (46754, 0.816743), (56877, 0.81673306), (28138, 0.8166966), (3665, 0.8166949), (50736, 0.81649715), (56110, 0.8164741), (55796, 0.81643295), (4026, 0.8163856), (10235, 0.8163396), (57286, 0.8163202), (51479, 0.81628984), (5533, 0.816276), (27803, 0.81619817), (81985, 0.81619817), (48655, 0.8161723), (4048, 0.8161375), (49720, 0.8161334), (4590, 0.8161299), (49286, 0.81610656), (11882, 0.8160294), (28185, 0.81601405), (37828, 0.8160035), (27575, 0.8159891), (34382, 0.8159891), (10006, 0.8159612), (81392, 0.8159413), (51870, 0.815939), (69159, 0.8159031), (33737, 0.81590164), (54506, 0.81590164), (22656, 0.81585515), (26548, 0.8157958), (27823, 0.815789), (5745, 0.8156565), (62261, 0.8156235), (11493, 0.8155047), (3604, 0.8154934), (5793, 0.81532043), (64512, 0.8153139), (53279, 0.8152901), (70269, 0.81517917), (51857, 0.8151788), (54881, 0.815161), (73658, 0.815161), (78004, 0.815161), (34413, 0.81512946), (41442, 0.8151224), (44310, 0.8151193), (70665, 0.81504655), (4024, 0.8149771), (29922, 0.81497353), (33529, 0.81491554), (52327, 0.8148577), (30522, 0.81485236), (37357, 0.81485236), (38008, 0.81485236), (64094, 0.81485236), (72943, 0.81485236), (74024, 0.81485236), (77471, 0.81485236), (81523, 0.81485236), (5937, 0.81482244), (41337, 0.81477046), (33625, 0.8147263), (74332, 0.8147263), (47512, 0.8146386), (53329, 0.8146386), (32634, 0.81459266), (21863, 0.81453806), (60152, 0.81451553), (61392, 0.8144981), (73378, 0.81443524), (8159, 0.81440187), (63253, 0.8143725), (37682, 0.8143672), (40361, 0.81435746), (17956, 0.8142851), (56416, 0.81421906), (532, 0.81419086), (31053, 0.8141529), (90, 0.8139265), (34687, 0.8139171), (36606, 0.8139171), (44437, 0.8139171), (31196, 0.81385034), (74893, 0.81385034), (3321, 0.813775), (70750, 0.8136291), (80617, 0.813624), (77617, 0.8136211), (24764, 0.8135679), (5372, 0.8135155), (63583, 0.81347704), (77865, 0.81346005), (1893, 0.8133181), (78335, 0.8133024), (61605, 0.81325996), (43953, 0.81320447), (3392, 0.81313175), (34432, 0.81311625), (38807, 0.8130956), (14528, 0.8130499), (31593, 0.8129576), (76734, 0.8129576), (60308, 0.8129429), (71198, 0.81289184), (51971, 0.81285304), (1593, 0.8127434), (34130, 0.8127352), (52986, 0.81273484), (58090, 0.8127231), (17107, 0.8127214), (79948, 0.8126328), (23028, 0.81259245), (53449, 0.81259245), (59424, 0.81259245), (33436, 0.8125408), (37056, 0.8124769), (12015, 0.81234837), (14853, 0.81228894), (81786, 0.8122086), (56671, 0.8120655), (1775, 0.81205463), (217, 0.81202215), (54806, 0.81199735), (46505, 0.81196034), (43205, 0.8119571), (44952, 0.8119571), (59664, 0.8119571), (70848, 0.8119421), (39532, 0.81191945), (54529, 0.8118581), (70273, 0.8118187), (32627, 0.8118139), (55240, 0.81178814), (49665, 0.81178206), (75536, 0.81173545), (36668, 0.8117167), (14796, 0.8117136), (14371, 0.81169075), (44531, 0.8116456), (49247, 0.81162214), (5272, 0.81161934), (537, 0.8115991), (51568, 0.81158334), (29388, 0.81154984), (72918, 0.81154984), (37888, 0.81152433), (27747, 0.81152254), (35579, 0.81148976), (67234, 0.81148154), (4780, 0.8114021), (3473, 0.8113485), (77780, 0.8113434), (17790, 0.81131774), (63103, 0.81130844), (32038, 0.81129616), (39161, 0.81128246), (51736, 0.81128246), (55681, 0.81128246), (75408, 0.81128246), (66247, 0.8112545), (9980, 0.8112355), (39002, 0.8112145), (54120, 0.8112145), (68491, 0.8112145), (29141, 0.81120145), (31929, 0.81120145), (43112, 0.81120145), (47248, 0.81120145), (78964, 0.81120145), (45694, 0.8111412), (58151, 0.8111283), (5511, 0.8111234), (3484, 0.8111159), (80514, 0.8110784), (22471, 0.81107044), (65930, 0.81107044), (77190, 0.81107044), (74404, 0.81101567), (20483, 0.8109725), (26288, 0.8109725), (29562, 0.8109725), (38901, 0.8109725), (46225, 0.8109725), (46737, 0.8109725), (48319, 0.8109725), (51654, 0.8109725), (54976, 0.8109725), (55857, 0.8109725), (58790, 0.8109725), (61074, 0.8109725), (61756, 0.8109725), (63173, 0.8109725), (75674, 0.8109725), (80801, 0.8109725), (17270, 0.8109603), (6793, 0.8109068), (79759, 0.81088036), (9268, 0.81087327), (10025, 0.8108598), (78807, 0.8108357), (53392, 0.81083214), (79764, 0.81082106), (26919, 0.8108178), (3875, 0.8108159), (70274, 0.81076425), (73039, 0.8107582), (31937, 0.8107483), (2457, 0.8107045), (64888, 0.8107036), (47959, 0.81068045), (15321, 0.8106221), (59182, 0.8106183), (912, 0.81060183), (25123, 0.810592), (40068, 0.8105908), (66347, 0.8105836), (35378, 0.810569), (39240, 0.8105482), (3746, 0.81053114), (38204, 0.81052023), (52353, 0.81052023), (19643, 0.8104996), (31964, 0.8104863), (77107, 0.81042844), (75491, 0.8104233), (29536, 0.8103945), (56694, 0.8103945), (41043, 0.8103505), (50422, 0.810323), (64157, 0.810323), (78755, 0.81029415), (7274, 0.8102701), (34362, 0.8102653), (9219, 0.8102151), (58242, 0.8102145), (40133, 0.8102134), (82175, 0.8101413), (80362, 0.8100646), (60592, 0.8100168), (44494, 0.8100048), (55231, 0.8099695), (3667, 0.80989856), (37856, 0.8098585), (48775, 0.809715), (33452, 0.80967087), (38041, 0.8096459), (33432, 0.809616), (19621, 0.8096154), (43700, 0.8095932), (67294, 0.8095828), (77825, 0.8095774), (70586, 0.8095364), (33550, 0.80949026), (25362, 0.8094635), (43447, 0.8094067), (84, 0.80932504), (68550, 0.8093237), (62076, 0.80931884), (13555, 0.80930936), (65082, 0.8092875), (37715, 0.8092681), (70789, 0.80926484), (60135, 0.80925125), (81174, 0.80925125), (17061, 0.80922115), (33954, 0.80919665), (74807, 0.80919665), (70863, 0.80917335), (53306, 0.809169), (39204, 0.8091062), (15759, 0.8090841), (3467, 0.809069), (32315, 0.80902255), (37746, 0.80899847), (54501, 0.80899847), (59046, 0.80899847), (67021, 0.80899847), (69838, 0.80899847), (62927, 0.8089934), (45758, 0.80898887), (30480, 0.80889493), (55209, 0.8088919), (28334, 0.80886984), (5942, 0.808856), (63528, 0.8088501), (48472, 0.8088474), (48453, 0.80884045), (27259, 0.8088375), (41332, 0.80883414), (60698, 0.80882466), (3378, 0.80876404), (45256, 0.8086829), (19608, 0.808682), (48477, 0.80867904), (2548, 0.8086783), (55485, 0.80865926), (43473, 0.8086515), (62560, 0.80857587), (3663, 0.8085688), (11100, 0.8085678), (68275, 0.8085615), (78614, 0.8085615), (62611, 0.8085609), (82265, 0.80851847), (50578, 0.8085111), (23137, 0.80851054), (40121, 0.80851054), (9249, 0.8085006), (41295, 0.8084843), (3016, 0.80848134), (70463, 0.8084569), (20629, 0.8084345), (2562, 0.80841976), (4159, 0.8084159), (35863, 0.80839235), (30222, 0.80839205), (76279, 0.80838966), (24868, 0.8083714), (25021, 0.8083364), (28425, 0.8083364), (21197, 0.808301), (33140, 0.8082475), (66856, 0.80821455), (35841, 0.80816907), (54060, 0.8081107), (67612, 0.8081107), (29799, 0.8081075), (5163, 0.80809635), (22057, 0.8080813), (299, 0.8080734), (70707, 0.80801654), (3334, 0.8080131), (61534, 0.8079706), (58074, 0.80795735), (61555, 0.80795217), (36238, 0.8079251), (2549, 0.8078956), (26148, 0.80788994), (12470, 0.8078732), (25157, 0.80785084), (11391, 0.8078146), (83056, 0.80777395), (250, 0.80767876), (28495, 0.8076704), (34015, 0.80758154), (51337, 0.8075672), (69264, 0.8075672), (20257, 0.8075562), (54386, 0.8075562), (62827, 0.8075562), (68239, 0.8075562), (28536, 0.8074928), (5609, 0.80749094), (29011, 0.80748445), (72459, 0.80748445), (75251, 0.80748445), (76797, 0.80748445), (82684, 0.80748445), (14474, 0.80747837), (43089, 0.8074734), (54861, 0.8074666), (43893, 0.8074625), (57086, 0.80745274), (72811, 0.8074394), (23023, 0.8074356), (27460, 0.8074356), (42183, 0.8074356), (78466, 0.8074356), (61852, 0.8074267), (72701, 0.8074267), (47378, 0.8074227), (50533, 0.80740803), (39370, 0.8074062), (44622, 0.8074051), (68955, 0.8073995), (30440, 0.807386), (32440, 0.80734396), (83158, 0.80734396), (34802, 0.80730635), (35087, 0.80730635), (38315, 0.80730635), (52332, 0.80730635), (54058, 0.80730635), (64502, 0.80730635), (66883, 0.80730635), (75974, 0.80730635), (4510, 0.80728906), (52168, 0.8072887), (78420, 0.8072785), (21687, 0.8072212), (25677, 0.8072212), (82517, 0.8072212), (42322, 0.8071941), (1695, 0.80718714), (51046, 0.80717826), (57862, 0.80717826), (59553, 0.8071522), (58616, 0.80709547), (65304, 0.80709547), (43329, 0.80707), (21321, 0.8070597), (35910, 0.8070429), (50106, 0.8070429), (63722, 0.8070429), (69035, 0.8070048), (4744, 0.8070006), (6605, 0.8069783), (61595, 0.80695814), (71279, 0.8069181), (33963, 0.80690855), (65661, 0.80690855), (72967, 0.8069029), (9244, 0.8069022), (10023, 0.8068775), (36283, 0.8068706), (61080, 0.8068615), (40660, 0.80685484), (70823, 0.8068516), (64519, 0.80684674), (29375, 0.8068432), (45564, 0.80682445), (2016, 0.8067942), (913, 0.8067776), (46155, 0.8067471), (32509, 0.80672514), (46709, 0.8067121), (37313, 0.8066965), (50107, 0.806693), (44694, 0.8066908), (70265, 0.8066908), (52248, 0.80668396), (46779, 0.8066699), (25747, 0.8066526), (68698, 0.80664814), (540, 0.8066249), (21306, 0.8066138), (67562, 0.8066138), (46805, 0.8066106), (81650, 0.80660576), (36245, 0.80660534), (73485, 0.80660534), (62068, 0.8065853), (2544, 0.8065264), (69642, 0.8065202), (23056, 0.806513), (49164, 0.80650187), (57093, 0.80648166), (11400, 0.8064811), (49819, 0.80647326), (65956, 0.8064496), (72098, 0.8064496), (76557, 0.8064496), (53840, 0.8064434), (907, 0.80642164), (3486, 0.80638343), (68478, 0.8063527), (36948, 0.8063293), (72504, 0.8063293), (31700, 0.80628276), (6785, 0.80625), (4544, 0.8062331), (64975, 0.80622405), (50565, 0.8061829), (63662, 0.8061829), (71834, 0.8061829), (77517, 0.8061829), (38932, 0.80617034), (69282, 0.80617034), (39142, 0.80616426), (58589, 0.80616426), (35207, 0.80615926), (82965, 0.80615926), (42685, 0.8061592), (77821, 0.8061592), (22257, 0.80615485), (14819, 0.80613613), (3656, 0.80612504), (6200, 0.80610836), (44275, 0.8061065), (14025, 0.80600727), (17159, 0.80600446), (5725, 0.8059949), (37846, 0.8059268), (31063, 0.8058759), (36008, 0.8058759), (3446, 0.8058616), (2528, 0.8058547), (33249, 0.80585235), (74225, 0.805813), (68588, 0.8057725), (43712, 0.80573934), (23131, 0.805722), (29322, 0.8057085), (53998, 0.8057073), (35676, 0.80567396), (36960, 0.80566865), (49763, 0.80566865), (33915, 0.8056367), (26127, 0.80563533), (44838, 0.80563533), (45226, 0.80563533), (11436, 0.8056287), (20505, 0.8056122), (59034, 0.80560225), (19622, 0.8055607), (75810, 0.80554163), (74169, 0.80552876), (76246, 0.8055261), (76600, 0.80551094), (79911, 0.80551094), (24354, 0.8054637), (56231, 0.8054637), (47294, 0.80545884), (15985, 0.8054585), (6592, 0.8054547), (6847, 0.8054001), (47627, 0.80539775), (50086, 0.805367), (58679, 0.805367), (6729, 0.80535394), (24847, 0.8053497), (37457, 0.8053497), (23163, 0.80532134), (74113, 0.80532134), (80927, 0.80532134), (54216, 0.80531996), (78005, 0.80531996), (13329, 0.80528504), (13570, 0.80528504), (64548, 0.8052795), (25787, 0.8052661), (22550, 0.80525607), (26074, 0.80525607), (29263, 0.80525607), (35332, 0.80525607), (45375, 0.80525607), (47157, 0.80525607), (56972, 0.80525607), (64762, 0.80525607), (60489, 0.8052306), (77769, 0.8052055), (60655, 0.80519646), (19191, 0.8051805), (82075, 0.8051725), (44912, 0.8051567), (78448, 0.8051567), (64387, 0.8051142), (43516, 0.805091), (51414, 0.8050745), (57035, 0.8050745), (3982, 0.8050651), (58801, 0.8050447), (71995, 0.8050434), (32606, 0.8050224), (61523, 0.8050224), (45743, 0.8050023), (6163, 0.8049982), (63712, 0.80498827), (67350, 0.8049825), (24872, 0.80497426), (76422, 0.80497426), (58292, 0.8049668), (69609, 0.8049625), (44203, 0.80495244), (53644, 0.8049499), (4779, 0.8049267), (44536, 0.8049191), (22603, 0.80490834), (70969, 0.8049058), (36404, 0.8048778), (54648, 0.8048778), (81074, 0.8048778), (51221, 0.8048664), (23759, 0.8048515), (924, 0.80484784), (53785, 0.8048276), (30392, 0.80482686), (33547, 0.80481553), (47736, 0.8048103), (58144, 0.8047999), (11502, 0.8047952), (12975, 0.8047757), (70428, 0.8047692), (52223, 0.8047444), (56329, 0.8047444), (5795, 0.80469453), (13164, 0.8046936), (61957, 0.80468434), (79985, 0.80468017), (50085, 0.80465627), (22879, 0.80464137), (51200, 0.80464137), (35127, 0.80464107), (30827, 0.80462694), (47593, 0.80461544), (81931, 0.8046039), (34032, 0.8045892), (35973, 0.8045892), (45565, 0.8045892), (25524, 0.8045808), (33189, 0.80456847), (48127, 0.8045426), (73182, 0.8045179), (75649, 0.8045179), (21331, 0.8045044), (30192, 0.80446553), (28161, 0.8044604), (34604, 0.8044604), (45067, 0.8044604), (71090, 0.8044604), (83151, 0.8044604), (79290, 0.804459), (80076, 0.8044305), (66964, 0.8044186), (62571, 0.8044053), (79818, 0.80440074), (78791, 0.8043583), (76979, 0.804345), (73447, 0.8043354), (20847, 0.80429703), (67941, 0.8042902), (78953, 0.8042707), (21561, 0.8042626), (39957, 0.8042626), (42918, 0.8042626), (67004, 0.8042626), (67682, 0.8042626), (70220, 0.8042626), (73214, 0.8042626), (59801, 0.8042611), (27732, 0.8042489), (34294, 0.8042477), (58933, 0.8042428), (30406, 0.80423146), (73312, 0.80421454), (33094, 0.8041951), (53065, 0.8041422), (53058, 0.8041404), (57721, 0.804127), (46869, 0.8041126), (21746, 0.80408823), (82372, 0.8040814), (44458, 0.80407256), (5904, 0.8040651), (30820, 0.80406296), (41861, 0.80406296), (15588, 0.8040352), (24212, 0.80403256), (58014, 0.80400795), (25785, 0.8039909), (11856, 0.80398774), (75561, 0.8039796), (46503, 0.80396646), (54283, 0.8039635)]\n",
            "False\n"
          ],
          "name": "stdout"
        },
        {
          "output_type": "error",
          "ename": "KeyboardInterrupt",
          "evalue": "ignored",
          "traceback": [
            "\u001b[0;31m---------------------------------------------------------------------------\u001b[0m",
            "\u001b[0;31mKeyboardInterrupt\u001b[0m                         Traceback (most recent call last)",
            "\u001b[0;32m<ipython-input-16-e08b774b6185>\u001b[0m in \u001b[0;36m<module>\u001b[0;34m()\u001b[0m\n\u001b[1;32m     11\u001b[0m     \u001b[0;31m# for j, doc in enumerate(paragraphs_tfidf):\u001b[0m\u001b[0;34m\u001b[0m\u001b[0;34m\u001b[0m\u001b[0;34m\u001b[0m\u001b[0m\n\u001b[1;32m     12\u001b[0m     \u001b[0mtest_sentence_pairs\u001b[0m \u001b[0;34m=\u001b[0m \u001b[0mnp\u001b[0m\u001b[0;34m.\u001b[0m\u001b[0mconcatenate\u001b[0m\u001b[0;34m(\u001b[0m\u001b[0;34m(\u001b[0m\u001b[0mtest_sentence_pairs\u001b[0m\u001b[0;34m,\u001b[0m \u001b[0mplongement_docs\u001b[0m\u001b[0;34m)\u001b[0m\u001b[0;34m,\u001b[0m \u001b[0maxis\u001b[0m\u001b[0;34m=\u001b[0m\u001b[0;36m1\u001b[0m\u001b[0;34m)\u001b[0m\u001b[0;34m\u001b[0m\u001b[0;34m\u001b[0m\u001b[0m\n\u001b[0;32m---> 13\u001b[0;31m     \u001b[0mpreds\u001b[0m \u001b[0;34m=\u001b[0m \u001b[0mreconstructed_MLPmodel\u001b[0m\u001b[0;34m.\u001b[0m\u001b[0mpredict\u001b[0m\u001b[0;34m(\u001b[0m\u001b[0mtest_sentence_pairs\u001b[0m\u001b[0;34m)\u001b[0m\u001b[0;34m\u001b[0m\u001b[0;34m\u001b[0m\u001b[0m\n\u001b[0m\u001b[1;32m     14\u001b[0m \u001b[0;34m\u001b[0m\u001b[0m\n\u001b[1;32m     15\u001b[0m     \u001b[0;32mfor\u001b[0m \u001b[0mj\u001b[0m \u001b[0;32min\u001b[0m \u001b[0mtrain_data\u001b[0m\u001b[0;34m[\u001b[0m\u001b[0;36m0\u001b[0m\u001b[0;34m]\u001b[0m\u001b[0;34m:\u001b[0m\u001b[0;34m\u001b[0m\u001b[0;34m\u001b[0m\u001b[0m\n",
            "\u001b[0;32m/usr/local/lib/python3.6/dist-packages/tensorflow/python/keras/engine/training.py\u001b[0m in \u001b[0;36m_method_wrapper\u001b[0;34m(self, *args, **kwargs)\u001b[0m\n\u001b[1;32m    128\u001b[0m       raise ValueError('{} is not supported in multi-worker mode.'.format(\n\u001b[1;32m    129\u001b[0m           method.__name__))\n\u001b[0;32m--> 130\u001b[0;31m     \u001b[0;32mreturn\u001b[0m \u001b[0mmethod\u001b[0m\u001b[0;34m(\u001b[0m\u001b[0mself\u001b[0m\u001b[0;34m,\u001b[0m \u001b[0;34m*\u001b[0m\u001b[0margs\u001b[0m\u001b[0;34m,\u001b[0m \u001b[0;34m**\u001b[0m\u001b[0mkwargs\u001b[0m\u001b[0;34m)\u001b[0m\u001b[0;34m\u001b[0m\u001b[0;34m\u001b[0m\u001b[0m\n\u001b[0m\u001b[1;32m    131\u001b[0m \u001b[0;34m\u001b[0m\u001b[0m\n\u001b[1;32m    132\u001b[0m   return tf_decorator.make_decorator(\n",
            "\u001b[0;32m/usr/local/lib/python3.6/dist-packages/tensorflow/python/keras/engine/training.py\u001b[0m in \u001b[0;36mpredict\u001b[0;34m(self, x, batch_size, verbose, steps, callbacks, max_queue_size, workers, use_multiprocessing)\u001b[0m\n\u001b[1;32m   1597\u001b[0m           \u001b[0;32mfor\u001b[0m \u001b[0mstep\u001b[0m \u001b[0;32min\u001b[0m \u001b[0mdata_handler\u001b[0m\u001b[0;34m.\u001b[0m\u001b[0msteps\u001b[0m\u001b[0;34m(\u001b[0m\u001b[0;34m)\u001b[0m\u001b[0;34m:\u001b[0m\u001b[0;34m\u001b[0m\u001b[0;34m\u001b[0m\u001b[0m\n\u001b[1;32m   1598\u001b[0m             \u001b[0mcallbacks\u001b[0m\u001b[0;34m.\u001b[0m\u001b[0mon_predict_batch_begin\u001b[0m\u001b[0;34m(\u001b[0m\u001b[0mstep\u001b[0m\u001b[0;34m)\u001b[0m\u001b[0;34m\u001b[0m\u001b[0;34m\u001b[0m\u001b[0m\n\u001b[0;32m-> 1599\u001b[0;31m             \u001b[0mtmp_batch_outputs\u001b[0m \u001b[0;34m=\u001b[0m \u001b[0mpredict_function\u001b[0m\u001b[0;34m(\u001b[0m\u001b[0miterator\u001b[0m\u001b[0;34m)\u001b[0m\u001b[0;34m\u001b[0m\u001b[0;34m\u001b[0m\u001b[0m\n\u001b[0m\u001b[1;32m   1600\u001b[0m             \u001b[0;32mif\u001b[0m \u001b[0mdata_handler\u001b[0m\u001b[0;34m.\u001b[0m\u001b[0mshould_sync\u001b[0m\u001b[0;34m:\u001b[0m\u001b[0;34m\u001b[0m\u001b[0;34m\u001b[0m\u001b[0m\n\u001b[1;32m   1601\u001b[0m               \u001b[0mcontext\u001b[0m\u001b[0;34m.\u001b[0m\u001b[0masync_wait\u001b[0m\u001b[0;34m(\u001b[0m\u001b[0;34m)\u001b[0m\u001b[0;34m\u001b[0m\u001b[0;34m\u001b[0m\u001b[0m\n",
            "\u001b[0;32m/usr/local/lib/python3.6/dist-packages/tensorflow/python/eager/def_function.py\u001b[0m in \u001b[0;36m__call__\u001b[0;34m(self, *args, **kwds)\u001b[0m\n\u001b[1;32m    778\u001b[0m       \u001b[0;32melse\u001b[0m\u001b[0;34m:\u001b[0m\u001b[0;34m\u001b[0m\u001b[0;34m\u001b[0m\u001b[0m\n\u001b[1;32m    779\u001b[0m         \u001b[0mcompiler\u001b[0m \u001b[0;34m=\u001b[0m \u001b[0;34m\"nonXla\"\u001b[0m\u001b[0;34m\u001b[0m\u001b[0;34m\u001b[0m\u001b[0m\n\u001b[0;32m--> 780\u001b[0;31m         \u001b[0mresult\u001b[0m \u001b[0;34m=\u001b[0m \u001b[0mself\u001b[0m\u001b[0;34m.\u001b[0m\u001b[0m_call\u001b[0m\u001b[0;34m(\u001b[0m\u001b[0;34m*\u001b[0m\u001b[0margs\u001b[0m\u001b[0;34m,\u001b[0m \u001b[0;34m**\u001b[0m\u001b[0mkwds\u001b[0m\u001b[0;34m)\u001b[0m\u001b[0;34m\u001b[0m\u001b[0;34m\u001b[0m\u001b[0m\n\u001b[0m\u001b[1;32m    781\u001b[0m \u001b[0;34m\u001b[0m\u001b[0m\n\u001b[1;32m    782\u001b[0m       \u001b[0mnew_tracing_count\u001b[0m \u001b[0;34m=\u001b[0m \u001b[0mself\u001b[0m\u001b[0;34m.\u001b[0m\u001b[0m_get_tracing_count\u001b[0m\u001b[0;34m(\u001b[0m\u001b[0;34m)\u001b[0m\u001b[0;34m\u001b[0m\u001b[0;34m\u001b[0m\u001b[0m\n",
            "\u001b[0;32m/usr/local/lib/python3.6/dist-packages/tensorflow/python/eager/def_function.py\u001b[0m in \u001b[0;36m_call\u001b[0;34m(self, *args, **kwds)\u001b[0m\n\u001b[1;32m    812\u001b[0m       \u001b[0;31m# In this case we have not created variables on the first call. So we can\u001b[0m\u001b[0;34m\u001b[0m\u001b[0;34m\u001b[0m\u001b[0;34m\u001b[0m\u001b[0m\n\u001b[1;32m    813\u001b[0m       \u001b[0;31m# run the first trace but we should fail if variables are created.\u001b[0m\u001b[0;34m\u001b[0m\u001b[0;34m\u001b[0m\u001b[0;34m\u001b[0m\u001b[0m\n\u001b[0;32m--> 814\u001b[0;31m       \u001b[0mresults\u001b[0m \u001b[0;34m=\u001b[0m \u001b[0mself\u001b[0m\u001b[0;34m.\u001b[0m\u001b[0m_stateful_fn\u001b[0m\u001b[0;34m(\u001b[0m\u001b[0;34m*\u001b[0m\u001b[0margs\u001b[0m\u001b[0;34m,\u001b[0m \u001b[0;34m**\u001b[0m\u001b[0mkwds\u001b[0m\u001b[0;34m)\u001b[0m\u001b[0;34m\u001b[0m\u001b[0;34m\u001b[0m\u001b[0m\n\u001b[0m\u001b[1;32m    815\u001b[0m       \u001b[0;32mif\u001b[0m \u001b[0mself\u001b[0m\u001b[0;34m.\u001b[0m\u001b[0m_created_variables\u001b[0m\u001b[0;34m:\u001b[0m\u001b[0;34m\u001b[0m\u001b[0;34m\u001b[0m\u001b[0m\n\u001b[1;32m    816\u001b[0m         raise ValueError(\"Creating variables on a non-first call to a function\"\n",
            "\u001b[0;32m/usr/local/lib/python3.6/dist-packages/tensorflow/python/eager/function.py\u001b[0m in \u001b[0;36m__call__\u001b[0;34m(self, *args, **kwargs)\u001b[0m\n\u001b[1;32m   2827\u001b[0m     \u001b[0;32mwith\u001b[0m \u001b[0mself\u001b[0m\u001b[0;34m.\u001b[0m\u001b[0m_lock\u001b[0m\u001b[0;34m:\u001b[0m\u001b[0;34m\u001b[0m\u001b[0;34m\u001b[0m\u001b[0m\n\u001b[1;32m   2828\u001b[0m       \u001b[0mgraph_function\u001b[0m\u001b[0;34m,\u001b[0m \u001b[0margs\u001b[0m\u001b[0;34m,\u001b[0m \u001b[0mkwargs\u001b[0m \u001b[0;34m=\u001b[0m \u001b[0mself\u001b[0m\u001b[0;34m.\u001b[0m\u001b[0m_maybe_define_function\u001b[0m\u001b[0;34m(\u001b[0m\u001b[0margs\u001b[0m\u001b[0;34m,\u001b[0m \u001b[0mkwargs\u001b[0m\u001b[0;34m)\u001b[0m\u001b[0;34m\u001b[0m\u001b[0;34m\u001b[0m\u001b[0m\n\u001b[0;32m-> 2829\u001b[0;31m     \u001b[0;32mreturn\u001b[0m \u001b[0mgraph_function\u001b[0m\u001b[0;34m.\u001b[0m\u001b[0m_filtered_call\u001b[0m\u001b[0;34m(\u001b[0m\u001b[0margs\u001b[0m\u001b[0;34m,\u001b[0m \u001b[0mkwargs\u001b[0m\u001b[0;34m)\u001b[0m  \u001b[0;31m# pylint: disable=protected-access\u001b[0m\u001b[0;34m\u001b[0m\u001b[0;34m\u001b[0m\u001b[0m\n\u001b[0m\u001b[1;32m   2830\u001b[0m \u001b[0;34m\u001b[0m\u001b[0m\n\u001b[1;32m   2831\u001b[0m   \u001b[0;34m@\u001b[0m\u001b[0mproperty\u001b[0m\u001b[0;34m\u001b[0m\u001b[0;34m\u001b[0m\u001b[0m\n",
            "\u001b[0;32m/usr/local/lib/python3.6/dist-packages/tensorflow/python/eager/function.py\u001b[0m in \u001b[0;36m_filtered_call\u001b[0;34m(self, args, kwargs, cancellation_manager)\u001b[0m\n\u001b[1;32m   1846\u001b[0m                            resource_variable_ops.BaseResourceVariable))],\n\u001b[1;32m   1847\u001b[0m         \u001b[0mcaptured_inputs\u001b[0m\u001b[0;34m=\u001b[0m\u001b[0mself\u001b[0m\u001b[0;34m.\u001b[0m\u001b[0mcaptured_inputs\u001b[0m\u001b[0;34m,\u001b[0m\u001b[0;34m\u001b[0m\u001b[0;34m\u001b[0m\u001b[0m\n\u001b[0;32m-> 1848\u001b[0;31m         cancellation_manager=cancellation_manager)\n\u001b[0m\u001b[1;32m   1849\u001b[0m \u001b[0;34m\u001b[0m\u001b[0m\n\u001b[1;32m   1850\u001b[0m   \u001b[0;32mdef\u001b[0m \u001b[0m_call_flat\u001b[0m\u001b[0;34m(\u001b[0m\u001b[0mself\u001b[0m\u001b[0;34m,\u001b[0m \u001b[0margs\u001b[0m\u001b[0;34m,\u001b[0m \u001b[0mcaptured_inputs\u001b[0m\u001b[0;34m,\u001b[0m \u001b[0mcancellation_manager\u001b[0m\u001b[0;34m=\u001b[0m\u001b[0;32mNone\u001b[0m\u001b[0;34m)\u001b[0m\u001b[0;34m:\u001b[0m\u001b[0;34m\u001b[0m\u001b[0;34m\u001b[0m\u001b[0m\n",
            "\u001b[0;32m/usr/local/lib/python3.6/dist-packages/tensorflow/python/eager/function.py\u001b[0m in \u001b[0;36m_call_flat\u001b[0;34m(self, args, captured_inputs, cancellation_manager)\u001b[0m\n\u001b[1;32m   1922\u001b[0m       \u001b[0;31m# No tape is watching; skip to running the function.\u001b[0m\u001b[0;34m\u001b[0m\u001b[0;34m\u001b[0m\u001b[0;34m\u001b[0m\u001b[0m\n\u001b[1;32m   1923\u001b[0m       return self._build_call_outputs(self._inference_function.call(\n\u001b[0;32m-> 1924\u001b[0;31m           ctx, args, cancellation_manager=cancellation_manager))\n\u001b[0m\u001b[1;32m   1925\u001b[0m     forward_backward = self._select_forward_and_backward_functions(\n\u001b[1;32m   1926\u001b[0m         \u001b[0margs\u001b[0m\u001b[0;34m,\u001b[0m\u001b[0;34m\u001b[0m\u001b[0;34m\u001b[0m\u001b[0m\n",
            "\u001b[0;32m/usr/local/lib/python3.6/dist-packages/tensorflow/python/eager/function.py\u001b[0m in \u001b[0;36mcall\u001b[0;34m(self, ctx, args, cancellation_manager)\u001b[0m\n\u001b[1;32m    548\u001b[0m               \u001b[0minputs\u001b[0m\u001b[0;34m=\u001b[0m\u001b[0margs\u001b[0m\u001b[0;34m,\u001b[0m\u001b[0;34m\u001b[0m\u001b[0;34m\u001b[0m\u001b[0m\n\u001b[1;32m    549\u001b[0m               \u001b[0mattrs\u001b[0m\u001b[0;34m=\u001b[0m\u001b[0mattrs\u001b[0m\u001b[0;34m,\u001b[0m\u001b[0;34m\u001b[0m\u001b[0;34m\u001b[0m\u001b[0m\n\u001b[0;32m--> 550\u001b[0;31m               ctx=ctx)\n\u001b[0m\u001b[1;32m    551\u001b[0m         \u001b[0;32melse\u001b[0m\u001b[0;34m:\u001b[0m\u001b[0;34m\u001b[0m\u001b[0;34m\u001b[0m\u001b[0m\n\u001b[1;32m    552\u001b[0m           outputs = execute.execute_with_cancellation(\n",
            "\u001b[0;32m/usr/local/lib/python3.6/dist-packages/tensorflow/python/eager/execute.py\u001b[0m in \u001b[0;36mquick_execute\u001b[0;34m(op_name, num_outputs, inputs, attrs, ctx, name)\u001b[0m\n\u001b[1;32m     58\u001b[0m     \u001b[0mctx\u001b[0m\u001b[0;34m.\u001b[0m\u001b[0mensure_initialized\u001b[0m\u001b[0;34m(\u001b[0m\u001b[0;34m)\u001b[0m\u001b[0;34m\u001b[0m\u001b[0;34m\u001b[0m\u001b[0m\n\u001b[1;32m     59\u001b[0m     tensors = pywrap_tfe.TFE_Py_Execute(ctx._handle, device_name, op_name,\n\u001b[0;32m---> 60\u001b[0;31m                                         inputs, attrs, num_outputs)\n\u001b[0m\u001b[1;32m     61\u001b[0m   \u001b[0;32mexcept\u001b[0m \u001b[0mcore\u001b[0m\u001b[0;34m.\u001b[0m\u001b[0m_NotOkStatusException\u001b[0m \u001b[0;32mas\u001b[0m \u001b[0me\u001b[0m\u001b[0;34m:\u001b[0m\u001b[0;34m\u001b[0m\u001b[0;34m\u001b[0m\u001b[0m\n\u001b[1;32m     62\u001b[0m     \u001b[0;32mif\u001b[0m \u001b[0mname\u001b[0m \u001b[0;32mis\u001b[0m \u001b[0;32mnot\u001b[0m \u001b[0;32mNone\u001b[0m\u001b[0;34m:\u001b[0m\u001b[0;34m\u001b[0m\u001b[0;34m\u001b[0m\u001b[0m\n",
            "\u001b[0;31mKeyboardInterrupt\u001b[0m: "
          ]
        }
      ]
    }
  ]
}