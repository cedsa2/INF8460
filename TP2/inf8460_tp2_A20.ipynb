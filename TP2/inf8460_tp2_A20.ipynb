{
  "nbformat": 4,
  "nbformat_minor": 0,
  "metadata": {
    "colab": {
      "name": "inf8460_tp2_A20.ipynb",
      "provenance": [],
      "collapsed_sections": []
    },
    "hide_input": false,
    "kernelspec": {
      "display_name": "Python 3",
      "language": "python",
      "name": "python3"
    },
    "language_info": {
      "codemirror_mode": {
        "name": "ipython",
        "version": 3
      },
      "file_extension": ".py",
      "mimetype": "text/x-python",
      "name": "python",
      "nbconvert_exporter": "python",
      "pygments_lexer": "ipython3",
      "version": "3.8.5"
    }
  },
  "cells": [
    {
      "cell_type": "markdown",
      "metadata": {
        "id": "XYaltRsowqfU"
      },
      "source": [
        "## École Polytechnique de Montréal\n",
        "## Département Génie Informatique et Génie Logiciel\n",
        "\n",
        "## INF8460 – Traitement automatique de la langue naturelle - TP2"
      ]
    },
    {
      "cell_type": "markdown",
      "metadata": {
        "id": "92idNN-XwvMP"
      },
      "source": [
        "## Objectifs d'apprentissage: \n",
        "\n",
        "•\tExplorer les modèles d’espace vectoriel (vector space models) comme représentations distribuées de la sémantique des mots \n",
        "•\tImplémenter la fréquence de co-occurrence et la PPMI\n",
        "•\tComprendre différentes mesures de distance entre vecteurs de mots \n",
        "•\tExplorer l’intérêt de la réduction de dimensionnalité \n",
        "\n"
      ]
    },
    {
      "cell_type": "markdown",
      "metadata": {
        "id": "wEoOfK-Rw3zT"
      },
      "source": [
        "## Équipe et contributions \n",
        "Veuillez indiquer la contribution effective de chaque membre de l'équipe en pourcentage et en indiquant les modules ou questions sur lesquelles chaque membre a travaillé"
      ]
    },
    {
      "cell_type": "markdown",
      "metadata": {
        "id": "a0mJOdtlw4xC"
      },
      "source": [
        "Cedric Sadeu (1869737): 1/3\n",
        "\n",
        "Mamoudou Sacko (1924187): 1/3\n",
        "\n",
        "Oumayma Messoussi (2016797): 1/3"
      ]
    },
    {
      "cell_type": "markdown",
      "metadata": {
        "id": "qu3pnt6mPiNZ"
      },
      "source": [
        "\n",
        "\n",
        "## Support de google Colab\n",
        "\n"
      ]
    },
    {
      "cell_type": "code",
      "metadata": {
        "id": "x-U9ANA6ZV27",
        "outputId": "4509c104-0b05-4dbd-9ab1-c08f29a1ba12",
        "colab": {
          "base_uri": "https://localhost:8080/",
          "height": 411
        }
      },
      "source": [
        "!wget http://ai.stanford.edu/~amaas/data/sentiment/aclImdb_v1.tar.gz\n",
        "!wget https://staff.fnwi.uva.nl/e.bruni/resources/MEN.tar.gz"
      ],
      "execution_count": 1,
      "outputs": [
        {
          "output_type": "stream",
          "text": [
            "--2020-10-06 21:27:22--  http://ai.stanford.edu/~amaas/data/sentiment/aclImdb_v1.tar.gz\n",
            "Resolving ai.stanford.edu (ai.stanford.edu)... 171.64.68.10\n",
            "Connecting to ai.stanford.edu (ai.stanford.edu)|171.64.68.10|:80... connected.\n",
            "HTTP request sent, awaiting response... 200 OK\n",
            "Length: 84125825 (80M) [application/x-gzip]\n",
            "Saving to: ‘aclImdb_v1.tar.gz’\n",
            "\n",
            "aclImdb_v1.tar.gz   100%[===================>]  80.23M  17.9MB/s    in 9.3s    \n",
            "\n",
            "2020-10-06 21:27:31 (8.63 MB/s) - ‘aclImdb_v1.tar.gz’ saved [84125825/84125825]\n",
            "\n",
            "--2020-10-06 21:27:32--  https://staff.fnwi.uva.nl/e.bruni/resources/MEN.tar.gz\n",
            "Resolving staff.fnwi.uva.nl (staff.fnwi.uva.nl)... 146.50.61.62\n",
            "Connecting to staff.fnwi.uva.nl (staff.fnwi.uva.nl)|146.50.61.62|:443... connected.\n",
            "HTTP request sent, awaiting response... 200 OK\n",
            "Length: 90373 (88K) [application/x-gzip]\n",
            "Saving to: ‘MEN.tar.gz’\n",
            "\n",
            "MEN.tar.gz          100%[===================>]  88.25K  87.9KB/s    in 1.0s    \n",
            "\n",
            "2020-10-06 21:27:35 (87.9 KB/s) - ‘MEN.tar.gz’ saved [90373/90373]\n",
            "\n"
          ],
          "name": "stdout"
        }
      ]
    },
    {
      "cell_type": "code",
      "metadata": {
        "id": "mVrz-1_uZApz"
      },
      "source": [
        "! tar -xzf aclImdb_v1.tar.gz\n",
        "! tar -xzf MEN.tar.gz\n",
        "! mkdir -p vsm"
      ],
      "execution_count": 2,
      "outputs": []
    },
    {
      "cell_type": "markdown",
      "metadata": {
        "id": "TewW7eDjPbjs"
      },
      "source": [
        "## Librairies externes"
      ]
    },
    {
      "cell_type": "code",
      "metadata": {
        "id": "rK102dx5Poti",
        "outputId": "69f5af2d-8a5c-4b48-8008-cdfc33bf7c60",
        "colab": {
          "base_uri": "https://localhost:8080/",
          "height": 107
        }
      },
      "source": [
        "import nltk\n",
        "nltk.download('stopwords')\n",
        "nltk.download('punkt')"
      ],
      "execution_count": 3,
      "outputs": [
        {
          "output_type": "stream",
          "text": [
            "[nltk_data] Downloading package stopwords to /root/nltk_data...\n",
            "[nltk_data]   Unzipping corpora/stopwords.zip.\n",
            "[nltk_data] Downloading package punkt to /root/nltk_data...\n",
            "[nltk_data]   Unzipping tokenizers/punkt.zip.\n"
          ],
          "name": "stdout"
        },
        {
          "output_type": "execute_result",
          "data": {
            "text/plain": [
              "True"
            ]
          },
          "metadata": {
            "tags": []
          },
          "execution_count": 3
        }
      ]
    },
    {
      "cell_type": "code",
      "metadata": {
        "id": "kClu3RY7YFfv"
      },
      "source": [
        "from collections import Counter, defaultdict\n",
        "from itertools import chain\n",
        "from bs4 import BeautifulSoup\n",
        "import csv\n",
        "import itertools\n",
        "import numpy as np\n",
        "import os\n",
        "import pandas as pd\n",
        "import glob\n",
        "import re\n",
        "import math\n",
        "import time\n",
        "\n",
        "from nltk.corpus import stopwords as all_stopwords\n",
        "from nltk import word_tokenize\n",
        "from nltk.util import ngrams\n",
        "from collections import Counter, defaultdict\n",
        "\n",
        "from scipy.stats import spearmanr\n",
        "from scipy.spatial.distance import euclidean, cosine\n",
        "from IPython.display import display\n",
        "from sklearn.decomposition import TruncatedSVD"
      ],
      "execution_count": 4,
      "outputs": []
    },
    {
      "cell_type": "markdown",
      "metadata": {
        "id": "7oRJolmeRlxW"
      },
      "source": [
        "## Valeurs globales"
      ]
    },
    {
      "cell_type": "code",
      "metadata": {
        "id": "QqfHWnRoRlFY"
      },
      "source": [
        "DIRNAME_ACL =  os.path.join(os.getcwd(), \"aclImdb/\")\n",
        "DIRNAME_MEN =  os.path.join(os.getcwd(), \"MEN/\")\n",
        "DIRNAME_VSM =  os.path.join(os.getcwd(), \"vsm\")"
      ],
      "execution_count": 5,
      "outputs": []
    },
    {
      "cell_type": "markdown",
      "metadata": {
        "heading_collapsed": true,
        "id": "hGQ15KsihAOp"
      },
      "source": [
        "## 1. Prétraitement (20 points)\n",
        "\n",
        "**a)**\tLe jeu de données est séparé en deux répertoires `train/`et `test`, chacun contenant eux-mêmes deux sous-répertoires `pos/` et `neg/` pour les revues positives et négatives. Un fichier `readme` décrit plus précisément les données. Commencez par lire ces données, en gardant séparées les données d'entraînement et de test. La fonction doit mettre les mots en minuscules,  supprimer les stopwords (vous devez utiliser ceux de NLTK) et afficher le nombre total de phrases d’entrainement,  le nombre total de phrases d’entrainement positives et négatives et le nombre total de phrases de test avec le nombre total de phrases de test positives et négatives ;"
      ]
    },
    {
      "cell_type": "code",
      "metadata": {
        "hidden": true,
        "id": "5Lk9pYtUKWvf"
      },
      "source": [
        "train_data = {'id': [], 'text': [], 'rating': [], 'sentiment': []}\n",
        "test_data = {'id': [], 'text': [], 'rating': [], 'sentiment': []}\n",
        "\n",
        "for name in ['train/pos', 'train/neg']:\n",
        "    sentiment = name.split('/')[1]\n",
        "    for file in glob.glob(DIRNAME_ACL+name+\"/*.txt\"):\n",
        "        review_id = int(file.split(\"/\")[-1].split(\".\")[0].split(\"_\")[0])\n",
        "        rating = int(file.split(\"/\")[-1].split(\".\")[0].split(\"_\")[1]) / 10\n",
        "        f = open(file, encoding=\"utf8\")\n",
        "        content = f.read()\n",
        "        \n",
        "        train_data['id'].append(review_id)\n",
        "        train_data['text'].append(content)\n",
        "        train_data['rating'].append(rating)\n",
        "        train_data['sentiment'].append(sentiment)\n",
        "                \n",
        "for name in ['test/pos', 'test/neg']:\n",
        "    sentiment = name.split('/')[1]\n",
        "    for file in glob.glob(DIRNAME_ACL+name+\"/*.txt\"):\n",
        "        review_id = int(file.split(\"/\")[-1].split(\".\")[0].split(\"_\")[0])\n",
        "        rating = int(file.split(\"/\")[-1].split(\".\")[0].split(\"_\")[1]) / 10\n",
        "        f = open(file, encoding=\"utf8\")\n",
        "        content = f.read()\n",
        "        \n",
        "        test_data['id'].append(review_id)\n",
        "        test_data['text'].append(content)\n",
        "        test_data['rating'].append(rating)\n",
        "        test_data['sentiment'].append(sentiment)\n",
        "\n",
        "train_df = pd.DataFrame (train_data, columns = ['id', 'text', 'rating', 'sentiment'])\n",
        "test_df = pd.DataFrame (test_data, columns = ['id', 'text', 'rating', 'sentiment'])"
      ],
      "execution_count": 6,
      "outputs": []
    },
    {
      "cell_type": "code",
      "metadata": {
        "id": "a24NJt1fqPvX",
        "outputId": "051cec21-0a0c-44c6-8649-ae1624309d36",
        "colab": {
          "base_uri": "https://localhost:8080/",
          "height": 216
        }
      },
      "source": [
        "print(train_df.shape)\n",
        "train_df.head()"
      ],
      "execution_count": 7,
      "outputs": [
        {
          "output_type": "stream",
          "text": [
            "(25000, 4)\n"
          ],
          "name": "stdout"
        },
        {
          "output_type": "execute_result",
          "data": {
            "text/html": [
              "<div>\n",
              "<style scoped>\n",
              "    .dataframe tbody tr th:only-of-type {\n",
              "        vertical-align: middle;\n",
              "    }\n",
              "\n",
              "    .dataframe tbody tr th {\n",
              "        vertical-align: top;\n",
              "    }\n",
              "\n",
              "    .dataframe thead th {\n",
              "        text-align: right;\n",
              "    }\n",
              "</style>\n",
              "<table border=\"1\" class=\"dataframe\">\n",
              "  <thead>\n",
              "    <tr style=\"text-align: right;\">\n",
              "      <th></th>\n",
              "      <th>id</th>\n",
              "      <th>text</th>\n",
              "      <th>rating</th>\n",
              "      <th>sentiment</th>\n",
              "    </tr>\n",
              "  </thead>\n",
              "  <tbody>\n",
              "    <tr>\n",
              "      <th>0</th>\n",
              "      <td>4630</td>\n",
              "      <td>This is the second Eytan Fox film I have seen....</td>\n",
              "      <td>0.9</td>\n",
              "      <td>pos</td>\n",
              "    </tr>\n",
              "    <tr>\n",
              "      <th>1</th>\n",
              "      <td>10964</td>\n",
              "      <td>When it first came out, this work by the Meyse...</td>\n",
              "      <td>0.7</td>\n",
              "      <td>pos</td>\n",
              "    </tr>\n",
              "    <tr>\n",
              "      <th>2</th>\n",
              "      <td>4696</td>\n",
              "      <td>even though this movie is quite old, no matter...</td>\n",
              "      <td>1.0</td>\n",
              "      <td>pos</td>\n",
              "    </tr>\n",
              "    <tr>\n",
              "      <th>3</th>\n",
              "      <td>4807</td>\n",
              "      <td>I really thought that this movie was superb. N...</td>\n",
              "      <td>1.0</td>\n",
              "      <td>pos</td>\n",
              "    </tr>\n",
              "    <tr>\n",
              "      <th>4</th>\n",
              "      <td>5258</td>\n",
              "      <td>The Ladies Man is laugh out loud funny, with a...</td>\n",
              "      <td>1.0</td>\n",
              "      <td>pos</td>\n",
              "    </tr>\n",
              "  </tbody>\n",
              "</table>\n",
              "</div>"
            ],
            "text/plain": [
              "      id                                               text  rating sentiment\n",
              "0   4630  This is the second Eytan Fox film I have seen....     0.9       pos\n",
              "1  10964  When it first came out, this work by the Meyse...     0.7       pos\n",
              "2   4696  even though this movie is quite old, no matter...     1.0       pos\n",
              "3   4807  I really thought that this movie was superb. N...     1.0       pos\n",
              "4   5258  The Ladies Man is laugh out loud funny, with a...     1.0       pos"
            ]
          },
          "metadata": {
            "tags": []
          },
          "execution_count": 7
        }
      ]
    },
    {
      "cell_type": "code",
      "metadata": {
        "id": "gXhEHXM0qPvd",
        "outputId": "f27010c6-f879-4d5e-f59c-9468a97c380d",
        "colab": {
          "base_uri": "https://localhost:8080/",
          "height": 216
        }
      },
      "source": [
        "print(test_df.shape)\n",
        "test_df.head()"
      ],
      "execution_count": 8,
      "outputs": [
        {
          "output_type": "stream",
          "text": [
            "(25000, 4)\n"
          ],
          "name": "stdout"
        },
        {
          "output_type": "execute_result",
          "data": {
            "text/html": [
              "<div>\n",
              "<style scoped>\n",
              "    .dataframe tbody tr th:only-of-type {\n",
              "        vertical-align: middle;\n",
              "    }\n",
              "\n",
              "    .dataframe tbody tr th {\n",
              "        vertical-align: top;\n",
              "    }\n",
              "\n",
              "    .dataframe thead th {\n",
              "        text-align: right;\n",
              "    }\n",
              "</style>\n",
              "<table border=\"1\" class=\"dataframe\">\n",
              "  <thead>\n",
              "    <tr style=\"text-align: right;\">\n",
              "      <th></th>\n",
              "      <th>id</th>\n",
              "      <th>text</th>\n",
              "      <th>rating</th>\n",
              "      <th>sentiment</th>\n",
              "    </tr>\n",
              "  </thead>\n",
              "  <tbody>\n",
              "    <tr>\n",
              "      <th>0</th>\n",
              "      <td>5739</td>\n",
              "      <td>Paul Naschy as a ghostly security guard in thi...</td>\n",
              "      <td>0.7</td>\n",
              "      <td>pos</td>\n",
              "    </tr>\n",
              "    <tr>\n",
              "      <th>1</th>\n",
              "      <td>10964</td>\n",
              "      <td>In many ways, the filmic career of independent...</td>\n",
              "      <td>0.7</td>\n",
              "      <td>pos</td>\n",
              "    </tr>\n",
              "    <tr>\n",
              "      <th>2</th>\n",
              "      <td>4807</td>\n",
              "      <td>Having seen 'only' about 200 Hong Kong films i...</td>\n",
              "      <td>1.0</td>\n",
              "      <td>pos</td>\n",
              "    </tr>\n",
              "    <tr>\n",
              "      <th>3</th>\n",
              "      <td>7259</td>\n",
              "      <td>This movie almost has everything. The action i...</td>\n",
              "      <td>1.0</td>\n",
              "      <td>pos</td>\n",
              "    </tr>\n",
              "    <tr>\n",
              "      <th>4</th>\n",
              "      <td>11405</td>\n",
              "      <td>All you need is great house, a babysitter and ...</td>\n",
              "      <td>0.8</td>\n",
              "      <td>pos</td>\n",
              "    </tr>\n",
              "  </tbody>\n",
              "</table>\n",
              "</div>"
            ],
            "text/plain": [
              "      id                                               text  rating sentiment\n",
              "0   5739  Paul Naschy as a ghostly security guard in thi...     0.7       pos\n",
              "1  10964  In many ways, the filmic career of independent...     0.7       pos\n",
              "2   4807  Having seen 'only' about 200 Hong Kong films i...     1.0       pos\n",
              "3   7259  This movie almost has everything. The action i...     1.0       pos\n",
              "4  11405  All you need is great house, a babysitter and ...     0.8       pos"
            ]
          },
          "metadata": {
            "tags": []
          },
          "execution_count": 8
        }
      ]
    },
    {
      "cell_type": "code",
      "metadata": {
        "id": "8QkY2X64qPvk"
      },
      "source": [
        "def preprocess(review):\n",
        "    soup = BeautifulSoup(review, \"html.parser\")\n",
        "    text = soup.get_text()\n",
        "    stop_words = set(all_stopwords.words('english'))\n",
        "    \n",
        "    tokens = nltk.word_tokenize(text.lower())\n",
        "    return [w for w in tokens if w.isalpha() and not w in stop_words] "
      ],
      "execution_count": 10,
      "outputs": []
    },
    {
      "cell_type": "code",
      "metadata": {
        "id": "Lboz72YyqPvo",
        "outputId": "34a1979b-6d2d-4756-c4d6-a84a19de63a5",
        "colab": {
          "base_uri": "https://localhost:8080/",
          "height": 35
        }
      },
      "source": [
        "start = time.time()\n",
        "train_df['text'] = train_df['text'].apply(preprocess)\n",
        "print(time.time() - start)\n",
        "\n",
        "test_df['text'] = test_df['text'].apply(preprocess)"
      ],
      "execution_count": 11,
      "outputs": [
        {
          "output_type": "stream",
          "text": [
            "55.10497570037842\n"
          ],
          "name": "stdout"
        }
      ]
    },
    {
      "cell_type": "code",
      "metadata": {
        "id": "gSJ0xg41qPvs",
        "outputId": "031e0bf7-cbc9-447d-9d84-7427d70f8888",
        "colab": {
          "base_uri": "https://localhost:8080/",
          "height": 216
        }
      },
      "source": [
        "print(train_df.shape)\n",
        "train_df.head()"
      ],
      "execution_count": 12,
      "outputs": [
        {
          "output_type": "stream",
          "text": [
            "(25000, 4)\n"
          ],
          "name": "stdout"
        },
        {
          "output_type": "execute_result",
          "data": {
            "text/html": [
              "<div>\n",
              "<style scoped>\n",
              "    .dataframe tbody tr th:only-of-type {\n",
              "        vertical-align: middle;\n",
              "    }\n",
              "\n",
              "    .dataframe tbody tr th {\n",
              "        vertical-align: top;\n",
              "    }\n",
              "\n",
              "    .dataframe thead th {\n",
              "        text-align: right;\n",
              "    }\n",
              "</style>\n",
              "<table border=\"1\" class=\"dataframe\">\n",
              "  <thead>\n",
              "    <tr style=\"text-align: right;\">\n",
              "      <th></th>\n",
              "      <th>id</th>\n",
              "      <th>text</th>\n",
              "      <th>rating</th>\n",
              "      <th>sentiment</th>\n",
              "    </tr>\n",
              "  </thead>\n",
              "  <tbody>\n",
              "    <tr>\n",
              "      <th>0</th>\n",
              "      <td>4630</td>\n",
              "      <td>[second, eytan, fox, film, seen, fantastic, ac...</td>\n",
              "      <td>0.9</td>\n",
              "      <td>pos</td>\n",
              "    </tr>\n",
              "    <tr>\n",
              "      <th>1</th>\n",
              "      <td>10964</td>\n",
              "      <td>[first, came, work, meysels, brothers, much, c...</td>\n",
              "      <td>0.7</td>\n",
              "      <td>pos</td>\n",
              "    </tr>\n",
              "    <tr>\n",
              "      <th>2</th>\n",
              "      <td>4696</td>\n",
              "      <td>[even, though, movie, quite, old, matter, many...</td>\n",
              "      <td>1.0</td>\n",
              "      <td>pos</td>\n",
              "    </tr>\n",
              "    <tr>\n",
              "      <th>3</th>\n",
              "      <td>4807</td>\n",
              "      <td>[really, thought, movie, superb, history, corr...</td>\n",
              "      <td>1.0</td>\n",
              "      <td>pos</td>\n",
              "    </tr>\n",
              "    <tr>\n",
              "      <th>4</th>\n",
              "      <td>5258</td>\n",
              "      <td>[ladies, man, laugh, loud, funny, great, diver...</td>\n",
              "      <td>1.0</td>\n",
              "      <td>pos</td>\n",
              "    </tr>\n",
              "  </tbody>\n",
              "</table>\n",
              "</div>"
            ],
            "text/plain": [
              "      id                                               text  rating sentiment\n",
              "0   4630  [second, eytan, fox, film, seen, fantastic, ac...     0.9       pos\n",
              "1  10964  [first, came, work, meysels, brothers, much, c...     0.7       pos\n",
              "2   4696  [even, though, movie, quite, old, matter, many...     1.0       pos\n",
              "3   4807  [really, thought, movie, superb, history, corr...     1.0       pos\n",
              "4   5258  [ladies, man, laugh, loud, funny, great, diver...     1.0       pos"
            ]
          },
          "metadata": {
            "tags": []
          },
          "execution_count": 12
        }
      ]
    },
    {
      "cell_type": "code",
      "metadata": {
        "id": "5GyWSOQbqPvv",
        "outputId": "02b04769-b869-4cad-d471-f0f1830c15b5",
        "colab": {
          "base_uri": "https://localhost:8080/",
          "height": 216
        }
      },
      "source": [
        "print(test_df.shape)\n",
        "test_df.head()"
      ],
      "execution_count": 13,
      "outputs": [
        {
          "output_type": "stream",
          "text": [
            "(25000, 4)\n"
          ],
          "name": "stdout"
        },
        {
          "output_type": "execute_result",
          "data": {
            "text/html": [
              "<div>\n",
              "<style scoped>\n",
              "    .dataframe tbody tr th:only-of-type {\n",
              "        vertical-align: middle;\n",
              "    }\n",
              "\n",
              "    .dataframe tbody tr th {\n",
              "        vertical-align: top;\n",
              "    }\n",
              "\n",
              "    .dataframe thead th {\n",
              "        text-align: right;\n",
              "    }\n",
              "</style>\n",
              "<table border=\"1\" class=\"dataframe\">\n",
              "  <thead>\n",
              "    <tr style=\"text-align: right;\">\n",
              "      <th></th>\n",
              "      <th>id</th>\n",
              "      <th>text</th>\n",
              "      <th>rating</th>\n",
              "      <th>sentiment</th>\n",
              "    </tr>\n",
              "  </thead>\n",
              "  <tbody>\n",
              "    <tr>\n",
              "      <th>0</th>\n",
              "      <td>5739</td>\n",
              "      <td>[paul, naschy, ghostly, security, guard, scari...</td>\n",
              "      <td>0.7</td>\n",
              "      <td>pos</td>\n",
              "    </tr>\n",
              "    <tr>\n",
              "      <th>1</th>\n",
              "      <td>10964</td>\n",
              "      <td>[many, ways, filmic, career, independent, lege...</td>\n",
              "      <td>0.7</td>\n",
              "      <td>pos</td>\n",
              "    </tr>\n",
              "    <tr>\n",
              "      <th>2</th>\n",
              "      <td>4807</td>\n",
              "      <td>[seen, hong, kong, films, time, say, film, amo...</td>\n",
              "      <td>1.0</td>\n",
              "      <td>pos</td>\n",
              "    </tr>\n",
              "    <tr>\n",
              "      <th>3</th>\n",
              "      <td>7259</td>\n",
              "      <td>[movie, almost, everything, action, cool, funn...</td>\n",
              "      <td>1.0</td>\n",
              "      <td>pos</td>\n",
              "    </tr>\n",
              "    <tr>\n",
              "      <th>4</th>\n",
              "      <td>11405</td>\n",
              "      <td>[need, great, house, babysitter, phone, simon,...</td>\n",
              "      <td>0.8</td>\n",
              "      <td>pos</td>\n",
              "    </tr>\n",
              "  </tbody>\n",
              "</table>\n",
              "</div>"
            ],
            "text/plain": [
              "      id                                               text  rating sentiment\n",
              "0   5739  [paul, naschy, ghostly, security, guard, scari...     0.7       pos\n",
              "1  10964  [many, ways, filmic, career, independent, lege...     0.7       pos\n",
              "2   4807  [seen, hong, kong, films, time, say, film, amo...     1.0       pos\n",
              "3   7259  [movie, almost, everything, action, cool, funn...     1.0       pos\n",
              "4  11405  [need, great, house, babysitter, phone, simon,...     0.8       pos"
            ]
          },
          "metadata": {
            "tags": []
          },
          "execution_count": 13
        }
      ]
    },
    {
      "cell_type": "code",
      "metadata": {
        "id": "gkdaAuybqPv0",
        "outputId": "b753fbd2-4d7f-4c3e-c544-40c54c7ae91b",
        "colab": {
          "base_uri": "https://localhost:8080/",
          "height": 268
        }
      },
      "source": [
        "print(\"\"\"TRAIN\\n\\t - le nombre total de phrases d’entrainement: %d\n",
        "              \\n\\t - le nombre total de phrases d’entrainement positives: %d\n",
        "              \\n\\t - le nombre total de phrases d’entrainement négatives: %d\\n\"\"\" % \n",
        "      (train_df.shape[0], train_df[train_df[\"sentiment\"] == \"pos\"].shape[0], \n",
        "       train_df[train_df[\"sentiment\"] == \"neg\"].shape[0]))\n",
        "\n",
        "print(\"\"\"TEST\\n\\t - le nombre total de phrases de test: %d\n",
        "              \\n\\t - le nombre total de phrases de test positives: %d\n",
        "              \\n\\t - le nombre total de phrases de test négatives: %d\\n\"\"\" % \n",
        "      (test_df.shape[0], test_df[test_df[\"sentiment\"] == \"pos\"].shape[0], \n",
        "       test_df[test_df[\"sentiment\"] == \"neg\"].shape[0]))"
      ],
      "execution_count": 14,
      "outputs": [
        {
          "output_type": "stream",
          "text": [
            "TRAIN\n",
            "\t - le nombre total de phrases d’entrainement: 25000\n",
            "              \n",
            "\t - le nombre total de phrases d’entrainement positives: 12500\n",
            "              \n",
            "\t - le nombre total de phrases d’entrainement négatives: 12500\n",
            "\n",
            "TEST\n",
            "\t - le nombre total de phrases de test: 25000\n",
            "              \n",
            "\t - le nombre total de phrases de test positives: 12500\n",
            "              \n",
            "\t - le nombre total de phrases de test négatives: 12500\n",
            "\n"
          ],
          "name": "stdout"
        }
      ]
    },
    {
      "cell_type": "markdown",
      "metadata": {
        "hidden": true,
        "id": "_tVXpVcSh9eY"
      },
      "source": [
        "**b)**\tCréez la fonction `build_voc()` qui extrait les unigrammes de l’ensemble d’entraînement et conserve ceux qui ont une fréquence d’occurrence d'au moins 5 et imprime le nombre de mots dans le vocabulaire. Sauvegardez-le dans un fichier `vocab.txt` (un mot par ligne) dans le répertoire aclImdb."
      ]
    },
    {
      "cell_type": "code",
      "metadata": {
        "id": "0DlUsutVGbvj"
      },
      "source": [
        "def build_voc(corpus, unk_cutoff=5):\n",
        "    unigrams = defaultdict(int)\n",
        "    for review in corpus:\n",
        "        for word in review:\n",
        "            unigrams[word] += 1\n",
        "\n",
        "    print(\"Unigrammes: \" + str(len(unigrams)))\n",
        "\n",
        "    unigrams = {k: v for k, v in sorted(unigrams.items(), key=lambda item: item[1], reverse=True) if v >= 5}\n",
        "\n",
        "    print(\"Taille du vocab (apres filtrage freq > 5): \" + str(len(unigrams)))\n",
        "\n",
        "    f = open('vocab.txt', 'w')\n",
        "    for w in unigrams.keys():\n",
        "        f.write(w + '\\n')\n",
        "\n",
        "    return unigrams"
      ],
      "execution_count": 15,
      "outputs": []
    },
    {
      "cell_type": "code",
      "metadata": {
        "id": "dBdQirmwqPwA",
        "outputId": "9fff8027-d133-473e-9034-a68482473004",
        "colab": {
          "base_uri": "https://localhost:8080/",
          "height": 71
        }
      },
      "source": [
        "start = time.time()\n",
        "train_unigrams = build_voc(train_df['text'])\n",
        "print(time.time() - start)"
      ],
      "execution_count": 16,
      "outputs": [
        {
          "output_type": "stream",
          "text": [
            "Unigrammes: 72029\n",
            "Taille du vocab (apres filtrage freq > 5): 27760\n",
            "0.698833703994751\n"
          ],
          "name": "stdout"
        }
      ]
    },
    {
      "cell_type": "markdown",
      "metadata": {
        "heading_collapsed": true,
        "id": "oEIUW6EpnvQV"
      },
      "source": [
        "## 2. Matrices de co-occurence (30 points)\n",
        "\n",
        "Pour les matrices de cette section, vous pourrez utiliser [des array `numpy`](https://docs.scipy.org/doc/numpy/reference/arrays.ndarray.html) ou des DataFrame [`pandas`](https://pandas.pydata.org/pandas-docs/stable/). \n",
        "\n",
        "Ressources utiles :  le [*quickstart tutorial*](https://numpy.org/devdocs/user/quickstart.html) de numpy et le guide [10 minutes to pandas](https://pandas.pydata.org/pandas-docs/stable/getting_started/10min.html)."
      ]
    },
    {
      "cell_type": "markdown",
      "metadata": {
        "hidden": true,
        "id": "fadNCxBcnyeT"
      },
      "source": [
        "**a)** A partir des textes du corpus d’entrainement (neg/pos), vous devez construire une matrice de co-occurrence mot × mot M(w,w) qui contient les 5000 unigrammes les plus fréquents sous forme de **cadre panda**. Le contexte de co-occurrence est une fenêtre de +/-5 mots autour du mot cible. Le poids est la fréquence de co-occurrence simple. Sauvegardez votre matrice dans un fichier tp2_mat5.csv dans le répertoire vsm.\n",
        "\n",
        "Attention, le mot lui même de doit pas être compté dans sa co-occurence. Exemple : \n",
        "Corpus: [ \"I go to school every day by bus\", \"i go to theatre every night by bus\"]\n",
        "\n",
        "Co-occurence(\"every\", fenetre=2) = [ (to, 2), (by, 2), (school, 1), (day, 1), (theatre, 1), (night, 1), (bus, 0), (every, 0), (go, 0). (i,0) ]"
      ]
    },
    {
      "cell_type": "code",
      "metadata": {
        "id": "HGvv5VKK26kw",
        "outputId": "5d1117a7-0e95-4b4d-8022-065bcefb157d",
        "colab": {
          "base_uri": "https://localhost:8080/",
          "height": 198
        }
      },
      "source": [
        "train_top_5000 = list(train_unigrams.keys())[:5000] # or read first 5000 lines from vocab.txt\n",
        "train_5000_df = pd.DataFrame(train_top_5000, columns=['unigram'])\n",
        "train_5000_df.shape\n",
        "train_5000_df.head()"
      ],
      "execution_count": 20,
      "outputs": [
        {
          "output_type": "execute_result",
          "data": {
            "text/html": [
              "<div>\n",
              "<style scoped>\n",
              "    .dataframe tbody tr th:only-of-type {\n",
              "        vertical-align: middle;\n",
              "    }\n",
              "\n",
              "    .dataframe tbody tr th {\n",
              "        vertical-align: top;\n",
              "    }\n",
              "\n",
              "    .dataframe thead th {\n",
              "        text-align: right;\n",
              "    }\n",
              "</style>\n",
              "<table border=\"1\" class=\"dataframe\">\n",
              "  <thead>\n",
              "    <tr style=\"text-align: right;\">\n",
              "      <th></th>\n",
              "      <th>unigram</th>\n",
              "    </tr>\n",
              "  </thead>\n",
              "  <tbody>\n",
              "    <tr>\n",
              "      <th>0</th>\n",
              "      <td>movie</td>\n",
              "    </tr>\n",
              "    <tr>\n",
              "      <th>1</th>\n",
              "      <td>film</td>\n",
              "    </tr>\n",
              "    <tr>\n",
              "      <th>2</th>\n",
              "      <td>one</td>\n",
              "    </tr>\n",
              "    <tr>\n",
              "      <th>3</th>\n",
              "      <td>like</td>\n",
              "    </tr>\n",
              "    <tr>\n",
              "      <th>4</th>\n",
              "      <td>good</td>\n",
              "    </tr>\n",
              "  </tbody>\n",
              "</table>\n",
              "</div>"
            ],
            "text/plain": [
              "  unigram\n",
              "0   movie\n",
              "1    film\n",
              "2     one\n",
              "3    like\n",
              "4    good"
            ]
          },
          "metadata": {
            "tags": []
          },
          "execution_count": 20
        }
      ]
    },
    {
      "cell_type": "code",
      "metadata": {
        "id": "mVg8XvKgMcRn"
      },
      "source": [
        "def matrix_creator(train_reviews, vocab, window_size, scaled):\n",
        "    M = defaultdict()\n",
        "    words = []\n",
        "\n",
        "    for review in train_reviews:\n",
        "        for token in review:\n",
        "            if token not in M:\n",
        "                M[token] = {}\n",
        "            words.append(token)\n",
        "\n",
        "        for i in range(len(review)):\n",
        "            window = [i+k for k in range(-window_size, window_size, 1) if i+k in range(0, len(review)) and i+k != i]\n",
        "\n",
        "            neighbours_dict = M[review[i]]\n",
        "            for pos in range(len(window)):\n",
        "                if review[i] == review[pos]:\n",
        "                    continue\n",
        "                if review[pos] not in neighbours_dict:\n",
        "                    neighbours_dict[review[pos]] = 0\n",
        "\n",
        "                neighbours_dict[review[pos]] += 1 if scaled == False else 1 / abs(i - pos)\n",
        "    \n",
        "    # neighbours_dict = {k: v for k, v in sorted(neighbours_dict.items(), key=lambda item: item[1], reverse=True)}\n",
        "    # vector = {k: {x: M[k][x] for x in vocab if x in M[k]} for k in vocab}\n",
        "    \n",
        "    # tmp = M\n",
        "    # for w in tmp:\n",
        "    #     if item not in vocab:\n",
        "    #         M.pop(item)\n",
        "\n",
        "    result = [(k, v) for k, v in M.items() if k in vocab]\n",
        "    df1 = pd.DataFrame(result)\n",
        "    df2 = pd.json_normalize(df1[1])\n",
        "    df2 = df2[df1[0]].fillna(0).set_index(df1[0])\n",
        "\n",
        "    return df2"
      ],
      "execution_count": 59,
      "outputs": []
    },
    {
      "cell_type": "code",
      "metadata": {
        "id": "3yTUiZHm6hjQ"
      },
      "source": [
        ""
      ],
      "execution_count": 28,
      "outputs": []
    },
    {
      "cell_type": "code",
      "metadata": {
        "id": "8ppKltvBhkUh",
        "outputId": "1e458ff1-1002-49fa-a98c-e002f23623c0",
        "colab": {
          "base_uri": "https://localhost:8080/",
          "height": 480
        }
      },
      "source": [
        "start = time.time()\n",
        "Mww = matrix_creator(train_df['text'], train_top_5000, 5, False)\n",
        "print(time.time() - start)\n",
        "\n",
        "# Mww = Mww.sort_index(axis=0)\n",
        "# Mww = Mww.sort_index(axis=1)\n",
        "print(Mww)"
      ],
      "execution_count": 60,
      "outputs": [
        {
          "output_type": "error",
          "ename": "KeyError",
          "evalue": "ignored",
          "traceback": [
            "\u001b[0;31m---------------------------------------------------------------------------\u001b[0m",
            "\u001b[0;31mKeyError\u001b[0m                                  Traceback (most recent call last)",
            "\u001b[0;32m<ipython-input-60-3550c6702760>\u001b[0m in \u001b[0;36m<module>\u001b[0;34m()\u001b[0m\n\u001b[1;32m      1\u001b[0m \u001b[0mstart\u001b[0m \u001b[0;34m=\u001b[0m \u001b[0mtime\u001b[0m\u001b[0;34m.\u001b[0m\u001b[0mtime\u001b[0m\u001b[0;34m(\u001b[0m\u001b[0;34m)\u001b[0m\u001b[0;34m\u001b[0m\u001b[0;34m\u001b[0m\u001b[0m\n\u001b[0;32m----> 2\u001b[0;31m \u001b[0mMww\u001b[0m \u001b[0;34m=\u001b[0m \u001b[0mmatrix_creator\u001b[0m\u001b[0;34m(\u001b[0m\u001b[0mtrain_df\u001b[0m\u001b[0;34m[\u001b[0m\u001b[0;34m'text'\u001b[0m\u001b[0;34m]\u001b[0m\u001b[0;34m,\u001b[0m \u001b[0mtrain_top_5000\u001b[0m\u001b[0;34m,\u001b[0m \u001b[0;36m5\u001b[0m\u001b[0;34m,\u001b[0m \u001b[0;32mFalse\u001b[0m\u001b[0;34m)\u001b[0m\u001b[0;34m\u001b[0m\u001b[0;34m\u001b[0m\u001b[0m\n\u001b[0m\u001b[1;32m      3\u001b[0m \u001b[0mprint\u001b[0m\u001b[0;34m(\u001b[0m\u001b[0mtime\u001b[0m\u001b[0;34m.\u001b[0m\u001b[0mtime\u001b[0m\u001b[0;34m(\u001b[0m\u001b[0;34m)\u001b[0m \u001b[0;34m-\u001b[0m \u001b[0mstart\u001b[0m\u001b[0;34m)\u001b[0m\u001b[0;34m\u001b[0m\u001b[0;34m\u001b[0m\u001b[0m\n\u001b[1;32m      4\u001b[0m \u001b[0;34m\u001b[0m\u001b[0m\n\u001b[1;32m      5\u001b[0m \u001b[0;31m# Mww = Mww.sort_index(axis=0)\u001b[0m\u001b[0;34m\u001b[0m\u001b[0;34m\u001b[0m\u001b[0;34m\u001b[0m\u001b[0m\n",
            "\u001b[0;32m<ipython-input-59-b615eddba03d>\u001b[0m in \u001b[0;36mmatrix_creator\u001b[0;34m(train_reviews, vocab, window_size, scaled)\u001b[0m\n\u001b[1;32m     32\u001b[0m     \u001b[0mdf1\u001b[0m \u001b[0;34m=\u001b[0m \u001b[0mpd\u001b[0m\u001b[0;34m.\u001b[0m\u001b[0mDataFrame\u001b[0m\u001b[0;34m(\u001b[0m\u001b[0mresult\u001b[0m\u001b[0;34m)\u001b[0m\u001b[0;34m\u001b[0m\u001b[0;34m\u001b[0m\u001b[0m\n\u001b[1;32m     33\u001b[0m     \u001b[0mdf2\u001b[0m \u001b[0;34m=\u001b[0m \u001b[0mpd\u001b[0m\u001b[0;34m.\u001b[0m\u001b[0mjson_normalize\u001b[0m\u001b[0;34m(\u001b[0m\u001b[0mdf1\u001b[0m\u001b[0;34m[\u001b[0m\u001b[0;36m1\u001b[0m\u001b[0;34m]\u001b[0m\u001b[0;34m)\u001b[0m\u001b[0;34m\u001b[0m\u001b[0;34m\u001b[0m\u001b[0m\n\u001b[0;32m---> 34\u001b[0;31m     \u001b[0mdf2\u001b[0m \u001b[0;34m=\u001b[0m \u001b[0mdf2\u001b[0m\u001b[0;34m[\u001b[0m\u001b[0mdf1\u001b[0m\u001b[0;34m[\u001b[0m\u001b[0;36m0\u001b[0m\u001b[0;34m]\u001b[0m\u001b[0;34m]\u001b[0m\u001b[0;34m.\u001b[0m\u001b[0mfillna\u001b[0m\u001b[0;34m(\u001b[0m\u001b[0;36m0\u001b[0m\u001b[0;34m)\u001b[0m\u001b[0;34m.\u001b[0m\u001b[0mset_index\u001b[0m\u001b[0;34m(\u001b[0m\u001b[0mdf1\u001b[0m\u001b[0;34m[\u001b[0m\u001b[0;36m0\u001b[0m\u001b[0;34m]\u001b[0m\u001b[0;34m)\u001b[0m\u001b[0;34m\u001b[0m\u001b[0;34m\u001b[0m\u001b[0m\n\u001b[0m\u001b[1;32m     35\u001b[0m \u001b[0;34m\u001b[0m\u001b[0m\n\u001b[1;32m     36\u001b[0m     \u001b[0;32mreturn\u001b[0m \u001b[0mdf2\u001b[0m\u001b[0;34m\u001b[0m\u001b[0;34m\u001b[0m\u001b[0m\n",
            "\u001b[0;32m/usr/local/lib/python3.6/dist-packages/pandas/core/frame.py\u001b[0m in \u001b[0;36m__getitem__\u001b[0;34m(self, key)\u001b[0m\n\u001b[1;32m   2906\u001b[0m             \u001b[0;32mif\u001b[0m \u001b[0mis_iterator\u001b[0m\u001b[0;34m(\u001b[0m\u001b[0mkey\u001b[0m\u001b[0;34m)\u001b[0m\u001b[0;34m:\u001b[0m\u001b[0;34m\u001b[0m\u001b[0;34m\u001b[0m\u001b[0m\n\u001b[1;32m   2907\u001b[0m                 \u001b[0mkey\u001b[0m \u001b[0;34m=\u001b[0m \u001b[0mlist\u001b[0m\u001b[0;34m(\u001b[0m\u001b[0mkey\u001b[0m\u001b[0;34m)\u001b[0m\u001b[0;34m\u001b[0m\u001b[0;34m\u001b[0m\u001b[0m\n\u001b[0;32m-> 2908\u001b[0;31m             \u001b[0mindexer\u001b[0m \u001b[0;34m=\u001b[0m \u001b[0mself\u001b[0m\u001b[0;34m.\u001b[0m\u001b[0mloc\u001b[0m\u001b[0;34m.\u001b[0m\u001b[0m_get_listlike_indexer\u001b[0m\u001b[0;34m(\u001b[0m\u001b[0mkey\u001b[0m\u001b[0;34m,\u001b[0m \u001b[0maxis\u001b[0m\u001b[0;34m=\u001b[0m\u001b[0;36m1\u001b[0m\u001b[0;34m,\u001b[0m \u001b[0mraise_missing\u001b[0m\u001b[0;34m=\u001b[0m\u001b[0;32mTrue\u001b[0m\u001b[0;34m)\u001b[0m\u001b[0;34m[\u001b[0m\u001b[0;36m1\u001b[0m\u001b[0;34m]\u001b[0m\u001b[0;34m\u001b[0m\u001b[0;34m\u001b[0m\u001b[0m\n\u001b[0m\u001b[1;32m   2909\u001b[0m \u001b[0;34m\u001b[0m\u001b[0m\n\u001b[1;32m   2910\u001b[0m         \u001b[0;31m# take() does not accept boolean indexers\u001b[0m\u001b[0;34m\u001b[0m\u001b[0;34m\u001b[0m\u001b[0;34m\u001b[0m\u001b[0m\n",
            "\u001b[0;32m/usr/local/lib/python3.6/dist-packages/pandas/core/indexing.py\u001b[0m in \u001b[0;36m_get_listlike_indexer\u001b[0;34m(self, key, axis, raise_missing)\u001b[0m\n\u001b[1;32m   1252\u001b[0m             \u001b[0mkeyarr\u001b[0m\u001b[0;34m,\u001b[0m \u001b[0mindexer\u001b[0m\u001b[0;34m,\u001b[0m \u001b[0mnew_indexer\u001b[0m \u001b[0;34m=\u001b[0m \u001b[0max\u001b[0m\u001b[0;34m.\u001b[0m\u001b[0m_reindex_non_unique\u001b[0m\u001b[0;34m(\u001b[0m\u001b[0mkeyarr\u001b[0m\u001b[0;34m)\u001b[0m\u001b[0;34m\u001b[0m\u001b[0;34m\u001b[0m\u001b[0m\n\u001b[1;32m   1253\u001b[0m \u001b[0;34m\u001b[0m\u001b[0m\n\u001b[0;32m-> 1254\u001b[0;31m         \u001b[0mself\u001b[0m\u001b[0;34m.\u001b[0m\u001b[0m_validate_read_indexer\u001b[0m\u001b[0;34m(\u001b[0m\u001b[0mkeyarr\u001b[0m\u001b[0;34m,\u001b[0m \u001b[0mindexer\u001b[0m\u001b[0;34m,\u001b[0m \u001b[0maxis\u001b[0m\u001b[0;34m,\u001b[0m \u001b[0mraise_missing\u001b[0m\u001b[0;34m=\u001b[0m\u001b[0mraise_missing\u001b[0m\u001b[0;34m)\u001b[0m\u001b[0;34m\u001b[0m\u001b[0;34m\u001b[0m\u001b[0m\n\u001b[0m\u001b[1;32m   1255\u001b[0m         \u001b[0;32mreturn\u001b[0m \u001b[0mkeyarr\u001b[0m\u001b[0;34m,\u001b[0m \u001b[0mindexer\u001b[0m\u001b[0;34m\u001b[0m\u001b[0;34m\u001b[0m\u001b[0m\n\u001b[1;32m   1256\u001b[0m \u001b[0;34m\u001b[0m\u001b[0m\n",
            "\u001b[0;32m/usr/local/lib/python3.6/dist-packages/pandas/core/indexing.py\u001b[0m in \u001b[0;36m_validate_read_indexer\u001b[0;34m(self, key, indexer, axis, raise_missing)\u001b[0m\n\u001b[1;32m   1302\u001b[0m             \u001b[0;32mif\u001b[0m \u001b[0mraise_missing\u001b[0m\u001b[0;34m:\u001b[0m\u001b[0;34m\u001b[0m\u001b[0;34m\u001b[0m\u001b[0m\n\u001b[1;32m   1303\u001b[0m                 \u001b[0mnot_found\u001b[0m \u001b[0;34m=\u001b[0m \u001b[0mlist\u001b[0m\u001b[0;34m(\u001b[0m\u001b[0mset\u001b[0m\u001b[0;34m(\u001b[0m\u001b[0mkey\u001b[0m\u001b[0;34m)\u001b[0m \u001b[0;34m-\u001b[0m \u001b[0mset\u001b[0m\u001b[0;34m(\u001b[0m\u001b[0max\u001b[0m\u001b[0;34m)\u001b[0m\u001b[0;34m)\u001b[0m\u001b[0;34m\u001b[0m\u001b[0;34m\u001b[0m\u001b[0m\n\u001b[0;32m-> 1304\u001b[0;31m                 \u001b[0;32mraise\u001b[0m \u001b[0mKeyError\u001b[0m\u001b[0;34m(\u001b[0m\u001b[0;34mf\"{not_found} not in index\"\u001b[0m\u001b[0;34m)\u001b[0m\u001b[0;34m\u001b[0m\u001b[0;34m\u001b[0m\u001b[0m\n\u001b[0m\u001b[1;32m   1305\u001b[0m \u001b[0;34m\u001b[0m\u001b[0m\n\u001b[1;32m   1306\u001b[0m             \u001b[0;31m# we skip the warning on Categorical\u001b[0m\u001b[0;34m\u001b[0m\u001b[0;34m\u001b[0m\u001b[0;34m\u001b[0m\u001b[0m\n",
            "\u001b[0;31mKeyError\u001b[0m: \"['eaten', 'montage', 'ocean', 'matched', 'ears', 'burn', 'lena', 'passable', 'proceedings', 'progresses', 'laws', 'encourage', 'showdown', 'joey', 'gangsters', 'object', 'frequent', 'irrelevant', 'satisfy', 'proceeds', 'dancers', 'threatening', 'overacting', 'alcohol', 'rely', 'mayor', 'faster', 'confrontation', 'plans', 'chooses', 'mentioning', 'willie', 'roof', 'climactic', 'menace', 'designs', 'doll', 'dresses', 'filling', 'wounded', 'yard', 'methods', 'intensity', 'vulnerable'] not in index\""
          ]
        }
      ]
    },
    {
      "cell_type": "code",
      "metadata": {
        "id": "2eHuntV5sh5o",
        "outputId": "8b2e90ad-3cff-4d17-d236-851ae8d6a027",
        "colab": {
          "base_uri": "https://localhost:8080/",
          "height": 286
        }
      },
      "source": [
        "start = time.time()\n",
        "Mww_scaled = matrix_creator(train_df['text'], train_top_5000, 5, True)\n",
        "print(time.time() - start)\n",
        "\n",
        "Mww_scaled = Mww_scaled.sort_index(axis=0)\n",
        "Mww_scaled = Mww_scaled.sort_index(axis=1)\n",
        "print(Mww_scaled)"
      ],
      "execution_count": 126,
      "outputs": [
        {
          "output_type": "stream",
          "text": [
            "48.63905906677246\n",
            "           abandoned  abc  abilities  ...     zombie    zombies  zone\n",
            "abandoned   0.000000  0.0        0.0  ...   0.000000   0.866667  0.00\n",
            "abc         0.000000  0.0        0.0  ...   0.000000   0.000000  0.00\n",
            "abilities   0.000000  0.0        0.0  ...   0.000000   0.000000  0.00\n",
            "ability     0.000000  0.0        0.2  ...   0.750000   0.333333  0.00\n",
            "able        0.000000  0.0        0.0  ...   0.333333   0.750000  0.00\n",
            "...              ...  ...        ...  ...        ...        ...   ...\n",
            "zero        0.000000  0.0        0.0  ...   0.200000   0.000000  0.00\n",
            "zizek       0.000000  0.0        0.0  ...   0.000000   0.000000  0.00\n",
            "zombie      0.000000  0.0        0.0  ...   0.000000  15.600000  0.00\n",
            "zombies     0.666667  0.0        0.0  ...  14.600000   0.000000  0.25\n",
            "zone        0.000000  0.0        0.0  ...   0.000000   0.450000  0.00\n",
            "\n",
            "[5000 rows x 5000 columns]\n"
          ],
          "name": "stdout"
        }
      ]
    },
    {
      "cell_type": "code",
      "metadata": {
        "id": "D0SxZTCpg2AJ",
        "outputId": "a03d20de-be56-48f3-dfdc-89e9ac6639e3",
        "colab": {
          "base_uri": "https://localhost:8080/",
          "height": 250
        }
      },
      "source": [
        "corpus = [\"I go to school every day by bus\", \"I go to theatre every night by bus\"]\n",
        "vocab2 = ['theatre', 'by', 'school', 'day', 'bus']\n",
        "# print('Vocabulary2:\\n',vocab2,'\\n')\n",
        "\n",
        "token_sent_list2 = [word_tokenize(sen) for sen in corpus]\n",
        "# print('Each sentence in token form2:\\n',token_sent_list2,'\\n')\n",
        "\n",
        "start = time.time()\n",
        "Mww = matrix_creator(token_sent_list2, vocab2, 5, False)\n",
        "print(time.time() - start)\n",
        "\n",
        "print(Mww)\n",
        "df = Mww.sort_index(axis=0)\n",
        "df = df.sort_index(axis=1)\n",
        "print(df)"
      ],
      "execution_count": 123,
      "outputs": [
        {
          "output_type": "stream",
          "text": [
            "0.0020203590393066406\n",
            "         theatre   by  school  day  bus\n",
            "by           1.0  0.0     1.0  1.0  2.0\n",
            "bus          1.0  2.0     1.0  1.0  0.0\n",
            "theatre      0.0  1.0     0.0  0.0  1.0\n",
            "school       0.0  1.0     0.0  1.0  1.0\n",
            "day          0.0  1.0     1.0  0.0  1.0\n",
            "         bus   by  day  school  theatre\n",
            "bus      0.0  2.0  1.0     1.0      1.0\n",
            "by       2.0  0.0  1.0     1.0      1.0\n",
            "day      1.0  1.0  0.0     1.0      0.0\n",
            "school   1.0  1.0  1.0     0.0      0.0\n",
            "theatre  1.0  1.0  0.0     0.0      0.0\n"
          ],
          "name": "stdout"
        }
      ]
    },
    {
      "cell_type": "markdown",
      "metadata": {
        "hidden": true,
        "id": "-vzXMLl3rEBl"
      },
      "source": [
        "**b)** Calculez maintenant une matrice de cooccurrence mais en ajustant les fréquences basées sur la proximité du mot cible par exemple en les multipliant par 1/𝑑 où d est la distance en jetons (mots) de la cible. Sauvegardez votre matrice (toujours sous forme de cadre panda) dans un fichier tp2_mat5_scaled.csv dans le répertoire vsm."
      ]
    },
    {
      "cell_type": "markdown",
      "metadata": {
        "id": "az48q-61sxQh"
      },
      "source": [
        "Voir fonction dessus"
      ]
    },
    {
      "cell_type": "markdown",
      "metadata": {
        "hidden": true,
        "id": "osW2EZ5utFsf"
      },
      "source": [
        "**c)**\tVous devez créer une fonction `pmi` qui prend le cadre panda de la matrice $M(w,w)$ et un paramètre boolean flag qui est à True lorsque l'on désire calculer PPMI et à False quand on veut calculer PMI. La fonction transforme la matrice en entrée en une matrice $M’(w,w)$ avec les valeurs PMI ou PPMI selon la valeur du paramètre booléen. La fonction retourne le nouveau cadre panda correspondant. "
      ]
    },
    {
      "cell_type": "markdown",
      "metadata": {
        "hidden": true,
        "id": "lksK36hntUHP"
      },
      "source": [
        "Pour une matrice  $X_{m \\times n}$:\n",
        "\n",
        "\n",
        "$$\\textbf{colsum}(X, j) = \\sum_{i=1}^{m}X_{ij}$$\n",
        "\n",
        "$$\\textbf{sum}(X) = \\sum_{i=1}^{m}\\sum_{j=1}^{n} X_{ij}$$\n",
        "\n",
        "$$\\textbf{expected}(X, i, j) = \n",
        "\\frac{\n",
        "  \\textbf{rowsum}(X, i) \\cdot \\textbf{colsum}(X, j)\n",
        "}{\n",
        "  \\textbf{sum}(X)\n",
        "}$$\n",
        "\n",
        "\n",
        "$$\\textbf{pmi}(X, i, j) = \\log\\left(\\frac{X_{ij}}{\\textbf{expected}(X, i, j)}\\right)$$\n",
        "\n",
        "$$\\textbf{ppmi}(X, i, j) = \n",
        "\\begin{cases}\n",
        "\\textbf{pmi}(X, i, j) & \\textrm{if } \\textbf{pmi}(X, i, j) > 0 \\\\\n",
        "0 & \\textrm{otherwise}\n",
        "\\end{cases}$$\n"
      ]
    },
    {
      "cell_type": "code",
      "metadata": {
        "hidden": true,
        "id": "OgkN4mw6r19a"
      },
      "source": [
        "def mat_list_to_df(mat_result, unigramme_list):\n",
        "    arr = np.array(mat_result)\n",
        "    t_arr = arr.T\n",
        "    arr_list = t_arr.tolist()\n",
        "    dict_result = {}\n",
        "    for i, word in enumerate(unigramme_list):\n",
        "        dict_result[word] = arr_list[i]\n",
        "    df = pd.DataFrame(data = dict_result, index = unigramme_list)\n",
        "    return df\n",
        "\n",
        "def probability_matrix(mat_Result):\n",
        "    total = 0\n",
        "    for line in mat_Result:\n",
        "        total += sum(line)\n",
        "    arr = np.array(mat_Result)\n",
        "    with np.errstate(divide='ignore'):\n",
        "        arr_prob = np.divide(arr, total)\n",
        "    return arr_prob.tolist()\n",
        "\n",
        "def ppmi_pmi(df_Result, is_ppmi):\n",
        "\n",
        "    temp = df_Result.to_numpy()\n",
        "    mat_Result = list(temp.tolist())\n",
        "    mat_prob = probability_matrix(mat_Result)\n",
        "    arr = np.array(mat_prob)\n",
        "    sum_arr_column = arr.sum(axis=0)\n",
        "    sum_arr_line = arr.sum(axis=1)\n",
        "\n",
        "    for i, line in enumerate(mat_prob):\n",
        "        for j, item in enumerate(line):\n",
        "            if item == 0:\n",
        "                mat_prob[i][j] = 0.0\n",
        "            elif is_ppmi:         \n",
        "                mat_prob[i][j] = max(math.log(item / (sum_arr_column[j]*sum_arr_line[i]), 2), 0)\n",
        "            else:\n",
        "                mat_prob[i][j] = math.log(item / (sum_arr_column[j]*sum_arr_line[i]), 2)\n",
        "    \n",
        "    return mat_list_to_df(mat_prob, list(df_Result.columns))"
      ],
      "execution_count": 137,
      "outputs": []
    },
    {
      "cell_type": "markdown",
      "metadata": {
        "hidden": true,
        "id": "U_KI11vmty0c"
      },
      "source": [
        "**d)** Créer les matrice PMIs et PPMIs en vous basant sur les deux matrices que vous avez déjà créée\tSauvegardez vos matrices dans un fichier tp2_mat5<\\_scaled>_{pmi|ppmi}.csv toujours dans le répertoire vsm. \n",
        "\n",
        "(votre nom de fichier doit contenir \"_scaled\" s'il est formé à partir Mww_scaled et \"pmi\" si le flag est false \"ppmi\" sinon) "
      ]
    },
    {
      "cell_type": "code",
      "metadata": {
        "hidden": true,
        "id": "ML-oJwAgt0X4",
        "outputId": "7bf0a079-4d9e-423f-f17b-d35870ab0039",
        "colab": {
          "base_uri": "https://localhost:8080/",
          "height": 53
        }
      },
      "source": [
        "start = time.time()\n",
        "result_ppmi_df = ppmi_pmi(Mww, True)\n",
        "print(time.time() - start)\n",
        "result_ppmi_df.to_csv('tp2_mat5_ppmi.csv')\n",
        "\n",
        "start = time.time()\n",
        "result_pmi_df = ppmi_pmi(Mww, False)\n",
        "print(time.time() - start)\n",
        "result_pmi_df.to_csv('tp2_mat5_pmi.csv')"
      ],
      "execution_count": 138,
      "outputs": [
        {
          "output_type": "stream",
          "text": [
            "22.18608260154724\n",
            "19.360100746154785\n"
          ],
          "name": "stdout"
        }
      ]
    },
    {
      "cell_type": "code",
      "metadata": {
        "id": "LasfaGNo7L_m",
        "outputId": "62c3bc1c-b262-43f8-d808-e5cd2bc52fbc",
        "colab": {
          "base_uri": "https://localhost:8080/",
          "height": 53
        }
      },
      "source": [
        "start = time.time()\n",
        "result_ppmi_sc_df = ppmi_pmi(Mww_scaled, True)\n",
        "print(time.time() - start)\n",
        "result_ppmi_sc_df.to_csv('tp2_mat5_scaled_ppmi.csv')\n",
        "\n",
        "start = time.time()\n",
        "result_pmi_sc_df = ppmi_pmi(Mww_scaled, False)\n",
        "print(time.time() - start)\n",
        "result_pmi_sc_df.to_csv('tp2_mat5_scaled_pmi.csv')"
      ],
      "execution_count": 139,
      "outputs": [
        {
          "output_type": "stream",
          "text": [
            "20.27623438835144\n",
            "19.46448278427124\n"
          ],
          "name": "stdout"
        }
      ]
    },
    {
      "cell_type": "code",
      "metadata": {
        "id": "PZiLBtO9wnGu",
        "outputId": "dd2d27d4-b271-4f79-e6b3-8a2554b65dd6",
        "colab": {
          "base_uri": "https://localhost:8080/",
          "height": 247
        }
      },
      "source": [
        "result_ppmi_df.head()"
      ],
      "execution_count": 129,
      "outputs": [
        {
          "output_type": "execute_result",
          "data": {
            "text/html": [
              "<div>\n",
              "<style scoped>\n",
              "    .dataframe tbody tr th:only-of-type {\n",
              "        vertical-align: middle;\n",
              "    }\n",
              "\n",
              "    .dataframe tbody tr th {\n",
              "        vertical-align: top;\n",
              "    }\n",
              "\n",
              "    .dataframe thead th {\n",
              "        text-align: right;\n",
              "    }\n",
              "</style>\n",
              "<table border=\"1\" class=\"dataframe\">\n",
              "  <thead>\n",
              "    <tr style=\"text-align: right;\">\n",
              "      <th></th>\n",
              "      <th>abandoned</th>\n",
              "      <th>abc</th>\n",
              "      <th>abilities</th>\n",
              "      <th>ability</th>\n",
              "      <th>able</th>\n",
              "      <th>abraham</th>\n",
              "      <th>absence</th>\n",
              "      <th>absent</th>\n",
              "      <th>absolute</th>\n",
              "      <th>absolutely</th>\n",
              "      <th>absurd</th>\n",
              "      <th>abuse</th>\n",
              "      <th>abused</th>\n",
              "      <th>abusive</th>\n",
              "      <th>abysmal</th>\n",
              "      <th>academy</th>\n",
              "      <th>accent</th>\n",
              "      <th>accents</th>\n",
              "      <th>accept</th>\n",
              "      <th>acceptable</th>\n",
              "      <th>accepted</th>\n",
              "      <th>access</th>\n",
              "      <th>accident</th>\n",
              "      <th>accidentally</th>\n",
              "      <th>accompanied</th>\n",
              "      <th>accomplished</th>\n",
              "      <th>according</th>\n",
              "      <th>account</th>\n",
              "      <th>accuracy</th>\n",
              "      <th>accurate</th>\n",
              "      <th>accused</th>\n",
              "      <th>achieve</th>\n",
              "      <th>achieved</th>\n",
              "      <th>achievement</th>\n",
              "      <th>acid</th>\n",
              "      <th>across</th>\n",
              "      <th>act</th>\n",
              "      <th>acted</th>\n",
              "      <th>acting</th>\n",
              "      <th>action</th>\n",
              "      <th>...</th>\n",
              "      <th>worthwhile</th>\n",
              "      <th>worthy</th>\n",
              "      <th>would</th>\n",
              "      <th>wound</th>\n",
              "      <th>wounded</th>\n",
              "      <th>wow</th>\n",
              "      <th>wrapped</th>\n",
              "      <th>wreck</th>\n",
              "      <th>wrestling</th>\n",
              "      <th>wretched</th>\n",
              "      <th>write</th>\n",
              "      <th>writer</th>\n",
              "      <th>writers</th>\n",
              "      <th>writes</th>\n",
              "      <th>writing</th>\n",
              "      <th>written</th>\n",
              "      <th>wrong</th>\n",
              "      <th>wrote</th>\n",
              "      <th>wwe</th>\n",
              "      <th>wwii</th>\n",
              "      <th>x</th>\n",
              "      <th>ya</th>\n",
              "      <th>yard</th>\n",
              "      <th>yeah</th>\n",
              "      <th>year</th>\n",
              "      <th>years</th>\n",
              "      <th>yelling</th>\n",
              "      <th>yellow</th>\n",
              "      <th>yes</th>\n",
              "      <th>yesterday</th>\n",
              "      <th>yet</th>\n",
              "      <th>york</th>\n",
              "      <th>young</th>\n",
              "      <th>younger</th>\n",
              "      <th>youth</th>\n",
              "      <th>zero</th>\n",
              "      <th>zizek</th>\n",
              "      <th>zombie</th>\n",
              "      <th>zombies</th>\n",
              "      <th>zone</th>\n",
              "    </tr>\n",
              "  </thead>\n",
              "  <tbody>\n",
              "    <tr>\n",
              "      <th>abandoned</th>\n",
              "      <td>0.0</td>\n",
              "      <td>0.0</td>\n",
              "      <td>0.000000</td>\n",
              "      <td>0.000000</td>\n",
              "      <td>0.000000</td>\n",
              "      <td>0.0</td>\n",
              "      <td>0.0</td>\n",
              "      <td>0.000000</td>\n",
              "      <td>0.000000</td>\n",
              "      <td>0.000000</td>\n",
              "      <td>0.0</td>\n",
              "      <td>0.000000</td>\n",
              "      <td>0.0</td>\n",
              "      <td>0.0</td>\n",
              "      <td>0.000000</td>\n",
              "      <td>0.0</td>\n",
              "      <td>0.000000</td>\n",
              "      <td>0.000000</td>\n",
              "      <td>0.000000</td>\n",
              "      <td>0.000000</td>\n",
              "      <td>0.000000</td>\n",
              "      <td>0.000000</td>\n",
              "      <td>0.0</td>\n",
              "      <td>0.000000</td>\n",
              "      <td>0.0</td>\n",
              "      <td>0.000000</td>\n",
              "      <td>0.000000</td>\n",
              "      <td>3.344372</td>\n",
              "      <td>0.0</td>\n",
              "      <td>0.0</td>\n",
              "      <td>0.000000</td>\n",
              "      <td>0.000000</td>\n",
              "      <td>0.000000</td>\n",
              "      <td>0.000000</td>\n",
              "      <td>0.000000</td>\n",
              "      <td>0.902583</td>\n",
              "      <td>0.000000</td>\n",
              "      <td>0.0</td>\n",
              "      <td>0.000000</td>\n",
              "      <td>0.0</td>\n",
              "      <td>...</td>\n",
              "      <td>0.000000</td>\n",
              "      <td>0.0</td>\n",
              "      <td>0.000000</td>\n",
              "      <td>0.0</td>\n",
              "      <td>0.000000</td>\n",
              "      <td>0.000000</td>\n",
              "      <td>0.0</td>\n",
              "      <td>0.0</td>\n",
              "      <td>0.0</td>\n",
              "      <td>0.0</td>\n",
              "      <td>0.000000</td>\n",
              "      <td>0.0</td>\n",
              "      <td>0.000000</td>\n",
              "      <td>0.0</td>\n",
              "      <td>0.000000</td>\n",
              "      <td>0.0</td>\n",
              "      <td>0.000000</td>\n",
              "      <td>0.000000</td>\n",
              "      <td>0.0</td>\n",
              "      <td>0.0</td>\n",
              "      <td>0.000000</td>\n",
              "      <td>0.0</td>\n",
              "      <td>0.0</td>\n",
              "      <td>0.0</td>\n",
              "      <td>0.881049</td>\n",
              "      <td>1.270665</td>\n",
              "      <td>0.0</td>\n",
              "      <td>0.0</td>\n",
              "      <td>0.357402</td>\n",
              "      <td>0.000000</td>\n",
              "      <td>0.000000</td>\n",
              "      <td>0.0</td>\n",
              "      <td>1.045182</td>\n",
              "      <td>0.0</td>\n",
              "      <td>2.897816</td>\n",
              "      <td>0.000000</td>\n",
              "      <td>0.0</td>\n",
              "      <td>0.000000</td>\n",
              "      <td>3.435152</td>\n",
              "      <td>0.0</td>\n",
              "    </tr>\n",
              "    <tr>\n",
              "      <th>abc</th>\n",
              "      <td>0.0</td>\n",
              "      <td>0.0</td>\n",
              "      <td>0.000000</td>\n",
              "      <td>0.000000</td>\n",
              "      <td>0.000000</td>\n",
              "      <td>0.0</td>\n",
              "      <td>0.0</td>\n",
              "      <td>0.000000</td>\n",
              "      <td>4.600571</td>\n",
              "      <td>1.842220</td>\n",
              "      <td>0.0</td>\n",
              "      <td>0.000000</td>\n",
              "      <td>0.0</td>\n",
              "      <td>0.0</td>\n",
              "      <td>0.000000</td>\n",
              "      <td>0.0</td>\n",
              "      <td>0.000000</td>\n",
              "      <td>0.000000</td>\n",
              "      <td>0.000000</td>\n",
              "      <td>0.000000</td>\n",
              "      <td>0.000000</td>\n",
              "      <td>0.000000</td>\n",
              "      <td>0.0</td>\n",
              "      <td>0.000000</td>\n",
              "      <td>0.0</td>\n",
              "      <td>0.000000</td>\n",
              "      <td>3.344455</td>\n",
              "      <td>0.000000</td>\n",
              "      <td>0.0</td>\n",
              "      <td>0.0</td>\n",
              "      <td>0.000000</td>\n",
              "      <td>0.000000</td>\n",
              "      <td>0.000000</td>\n",
              "      <td>0.000000</td>\n",
              "      <td>0.000000</td>\n",
              "      <td>0.000000</td>\n",
              "      <td>2.146989</td>\n",
              "      <td>0.0</td>\n",
              "      <td>0.000000</td>\n",
              "      <td>0.0</td>\n",
              "      <td>...</td>\n",
              "      <td>0.000000</td>\n",
              "      <td>0.0</td>\n",
              "      <td>0.221416</td>\n",
              "      <td>0.0</td>\n",
              "      <td>0.000000</td>\n",
              "      <td>0.000000</td>\n",
              "      <td>0.0</td>\n",
              "      <td>0.0</td>\n",
              "      <td>0.0</td>\n",
              "      <td>0.0</td>\n",
              "      <td>2.026451</td>\n",
              "      <td>0.0</td>\n",
              "      <td>2.056388</td>\n",
              "      <td>0.0</td>\n",
              "      <td>0.000000</td>\n",
              "      <td>0.0</td>\n",
              "      <td>0.000000</td>\n",
              "      <td>0.000000</td>\n",
              "      <td>0.0</td>\n",
              "      <td>0.0</td>\n",
              "      <td>0.000000</td>\n",
              "      <td>0.0</td>\n",
              "      <td>0.0</td>\n",
              "      <td>0.0</td>\n",
              "      <td>0.000000</td>\n",
              "      <td>1.267360</td>\n",
              "      <td>0.0</td>\n",
              "      <td>0.0</td>\n",
              "      <td>0.939060</td>\n",
              "      <td>0.000000</td>\n",
              "      <td>1.591299</td>\n",
              "      <td>0.0</td>\n",
              "      <td>0.626839</td>\n",
              "      <td>0.0</td>\n",
              "      <td>0.000000</td>\n",
              "      <td>0.000000</td>\n",
              "      <td>0.0</td>\n",
              "      <td>0.000000</td>\n",
              "      <td>0.000000</td>\n",
              "      <td>0.0</td>\n",
              "    </tr>\n",
              "    <tr>\n",
              "      <th>abilities</th>\n",
              "      <td>0.0</td>\n",
              "      <td>0.0</td>\n",
              "      <td>0.000000</td>\n",
              "      <td>0.000000</td>\n",
              "      <td>0.000000</td>\n",
              "      <td>0.0</td>\n",
              "      <td>0.0</td>\n",
              "      <td>0.000000</td>\n",
              "      <td>0.000000</td>\n",
              "      <td>1.076491</td>\n",
              "      <td>0.0</td>\n",
              "      <td>0.000000</td>\n",
              "      <td>0.0</td>\n",
              "      <td>0.0</td>\n",
              "      <td>0.000000</td>\n",
              "      <td>0.0</td>\n",
              "      <td>2.783699</td>\n",
              "      <td>0.000000</td>\n",
              "      <td>0.000000</td>\n",
              "      <td>4.601518</td>\n",
              "      <td>4.472672</td>\n",
              "      <td>0.000000</td>\n",
              "      <td>0.0</td>\n",
              "      <td>0.000000</td>\n",
              "      <td>0.0</td>\n",
              "      <td>0.000000</td>\n",
              "      <td>0.000000</td>\n",
              "      <td>0.000000</td>\n",
              "      <td>0.0</td>\n",
              "      <td>0.0</td>\n",
              "      <td>0.000000</td>\n",
              "      <td>0.000000</td>\n",
              "      <td>0.000000</td>\n",
              "      <td>0.000000</td>\n",
              "      <td>0.000000</td>\n",
              "      <td>0.000000</td>\n",
              "      <td>0.000000</td>\n",
              "      <td>0.0</td>\n",
              "      <td>3.558160</td>\n",
              "      <td>0.0</td>\n",
              "      <td>...</td>\n",
              "      <td>0.000000</td>\n",
              "      <td>0.0</td>\n",
              "      <td>0.192653</td>\n",
              "      <td>0.0</td>\n",
              "      <td>0.000000</td>\n",
              "      <td>0.000000</td>\n",
              "      <td>0.0</td>\n",
              "      <td>0.0</td>\n",
              "      <td>0.0</td>\n",
              "      <td>0.0</td>\n",
              "      <td>0.000000</td>\n",
              "      <td>0.0</td>\n",
              "      <td>0.000000</td>\n",
              "      <td>0.0</td>\n",
              "      <td>1.256345</td>\n",
              "      <td>0.0</td>\n",
              "      <td>0.000000</td>\n",
              "      <td>0.000000</td>\n",
              "      <td>0.0</td>\n",
              "      <td>0.0</td>\n",
              "      <td>0.000000</td>\n",
              "      <td>0.0</td>\n",
              "      <td>0.0</td>\n",
              "      <td>0.0</td>\n",
              "      <td>0.000000</td>\n",
              "      <td>0.000000</td>\n",
              "      <td>0.0</td>\n",
              "      <td>0.0</td>\n",
              "      <td>0.000000</td>\n",
              "      <td>0.000000</td>\n",
              "      <td>0.000000</td>\n",
              "      <td>0.0</td>\n",
              "      <td>0.000000</td>\n",
              "      <td>0.0</td>\n",
              "      <td>0.000000</td>\n",
              "      <td>0.000000</td>\n",
              "      <td>0.0</td>\n",
              "      <td>0.000000</td>\n",
              "      <td>0.000000</td>\n",
              "      <td>0.0</td>\n",
              "    </tr>\n",
              "    <tr>\n",
              "      <th>ability</th>\n",
              "      <td>0.0</td>\n",
              "      <td>0.0</td>\n",
              "      <td>2.833817</td>\n",
              "      <td>0.000000</td>\n",
              "      <td>1.782457</td>\n",
              "      <td>0.0</td>\n",
              "      <td>0.0</td>\n",
              "      <td>0.000000</td>\n",
              "      <td>2.143693</td>\n",
              "      <td>0.000000</td>\n",
              "      <td>0.0</td>\n",
              "      <td>1.998789</td>\n",
              "      <td>0.0</td>\n",
              "      <td>0.0</td>\n",
              "      <td>0.000000</td>\n",
              "      <td>0.0</td>\n",
              "      <td>1.677512</td>\n",
              "      <td>0.000000</td>\n",
              "      <td>3.272938</td>\n",
              "      <td>0.000000</td>\n",
              "      <td>2.366485</td>\n",
              "      <td>0.000000</td>\n",
              "      <td>0.0</td>\n",
              "      <td>0.000000</td>\n",
              "      <td>0.0</td>\n",
              "      <td>0.000000</td>\n",
              "      <td>1.472539</td>\n",
              "      <td>0.000000</td>\n",
              "      <td>0.0</td>\n",
              "      <td>0.0</td>\n",
              "      <td>2.704258</td>\n",
              "      <td>0.000000</td>\n",
              "      <td>2.417812</td>\n",
              "      <td>2.674474</td>\n",
              "      <td>0.000000</td>\n",
              "      <td>0.000000</td>\n",
              "      <td>0.275073</td>\n",
              "      <td>0.0</td>\n",
              "      <td>2.957864</td>\n",
              "      <td>0.0</td>\n",
              "      <td>...</td>\n",
              "      <td>2.025080</td>\n",
              "      <td>0.0</td>\n",
              "      <td>0.000000</td>\n",
              "      <td>0.0</td>\n",
              "      <td>0.000000</td>\n",
              "      <td>1.094143</td>\n",
              "      <td>0.0</td>\n",
              "      <td>0.0</td>\n",
              "      <td>0.0</td>\n",
              "      <td>0.0</td>\n",
              "      <td>2.154536</td>\n",
              "      <td>0.0</td>\n",
              "      <td>1.769434</td>\n",
              "      <td>0.0</td>\n",
              "      <td>0.000000</td>\n",
              "      <td>0.0</td>\n",
              "      <td>0.293874</td>\n",
              "      <td>1.523555</td>\n",
              "      <td>0.0</td>\n",
              "      <td>0.0</td>\n",
              "      <td>2.335995</td>\n",
              "      <td>0.0</td>\n",
              "      <td>0.0</td>\n",
              "      <td>0.0</td>\n",
              "      <td>0.000000</td>\n",
              "      <td>0.000000</td>\n",
              "      <td>0.0</td>\n",
              "      <td>0.0</td>\n",
              "      <td>0.000000</td>\n",
              "      <td>0.000000</td>\n",
              "      <td>1.134421</td>\n",
              "      <td>0.0</td>\n",
              "      <td>0.000000</td>\n",
              "      <td>0.0</td>\n",
              "      <td>0.000000</td>\n",
              "      <td>2.082592</td>\n",
              "      <td>0.0</td>\n",
              "      <td>1.108127</td>\n",
              "      <td>0.559931</td>\n",
              "      <td>0.0</td>\n",
              "    </tr>\n",
              "    <tr>\n",
              "      <th>able</th>\n",
              "      <td>0.0</td>\n",
              "      <td>0.0</td>\n",
              "      <td>0.000000</td>\n",
              "      <td>1.997777</td>\n",
              "      <td>0.000000</td>\n",
              "      <td>0.0</td>\n",
              "      <td>0.0</td>\n",
              "      <td>1.769991</td>\n",
              "      <td>0.604859</td>\n",
              "      <td>0.000000</td>\n",
              "      <td>0.0</td>\n",
              "      <td>0.000000</td>\n",
              "      <td>0.0</td>\n",
              "      <td>0.0</td>\n",
              "      <td>1.409815</td>\n",
              "      <td>0.0</td>\n",
              "      <td>0.000000</td>\n",
              "      <td>0.301777</td>\n",
              "      <td>0.734104</td>\n",
              "      <td>0.000000</td>\n",
              "      <td>0.000000</td>\n",
              "      <td>2.516408</td>\n",
              "      <td>0.0</td>\n",
              "      <td>0.461041</td>\n",
              "      <td>0.0</td>\n",
              "      <td>2.099678</td>\n",
              "      <td>0.000000</td>\n",
              "      <td>0.000000</td>\n",
              "      <td>0.0</td>\n",
              "      <td>0.0</td>\n",
              "      <td>1.165424</td>\n",
              "      <td>2.099114</td>\n",
              "      <td>0.000000</td>\n",
              "      <td>0.000000</td>\n",
              "      <td>2.688875</td>\n",
              "      <td>0.000000</td>\n",
              "      <td>1.736239</td>\n",
              "      <td>0.0</td>\n",
              "      <td>0.000000</td>\n",
              "      <td>0.0</td>\n",
              "      <td>...</td>\n",
              "      <td>0.486246</td>\n",
              "      <td>0.0</td>\n",
              "      <td>1.058594</td>\n",
              "      <td>0.0</td>\n",
              "      <td>2.824853</td>\n",
              "      <td>0.000000</td>\n",
              "      <td>0.0</td>\n",
              "      <td>0.0</td>\n",
              "      <td>0.0</td>\n",
              "      <td>0.0</td>\n",
              "      <td>1.423057</td>\n",
              "      <td>0.0</td>\n",
              "      <td>0.645638</td>\n",
              "      <td>0.0</td>\n",
              "      <td>0.000000</td>\n",
              "      <td>0.0</td>\n",
              "      <td>0.000000</td>\n",
              "      <td>0.000000</td>\n",
              "      <td>0.0</td>\n",
              "      <td>0.0</td>\n",
              "      <td>0.797161</td>\n",
              "      <td>0.0</td>\n",
              "      <td>0.0</td>\n",
              "      <td>0.0</td>\n",
              "      <td>0.373885</td>\n",
              "      <td>0.441573</td>\n",
              "      <td>0.0</td>\n",
              "      <td>0.0</td>\n",
              "      <td>0.000000</td>\n",
              "      <td>2.866454</td>\n",
              "      <td>0.000000</td>\n",
              "      <td>0.0</td>\n",
              "      <td>0.000000</td>\n",
              "      <td>0.0</td>\n",
              "      <td>1.068723</td>\n",
              "      <td>0.000000</td>\n",
              "      <td>0.0</td>\n",
              "      <td>0.000000</td>\n",
              "      <td>0.021097</td>\n",
              "      <td>0.0</td>\n",
              "    </tr>\n",
              "  </tbody>\n",
              "</table>\n",
              "<p>5 rows × 5000 columns</p>\n",
              "</div>"
            ],
            "text/plain": [
              "           abandoned  abc  abilities   ability  ...  zizek    zombie   zombies  zone\n",
              "abandoned        0.0  0.0   0.000000  0.000000  ...    0.0  0.000000  3.435152   0.0\n",
              "abc              0.0  0.0   0.000000  0.000000  ...    0.0  0.000000  0.000000   0.0\n",
              "abilities        0.0  0.0   0.000000  0.000000  ...    0.0  0.000000  0.000000   0.0\n",
              "ability          0.0  0.0   2.833817  0.000000  ...    0.0  1.108127  0.559931   0.0\n",
              "able             0.0  0.0   0.000000  1.997777  ...    0.0  0.000000  0.021097   0.0\n",
              "\n",
              "[5 rows x 5000 columns]"
            ]
          },
          "metadata": {
            "tags": []
          },
          "execution_count": 129
        }
      ]
    },
    {
      "cell_type": "markdown",
      "metadata": {
        "heading_collapsed": true,
        "id": "QwGaKZyZ8h36"
      },
      "source": [
        "## 3. Test de PPMI (20 points)\n",
        "\n",
        "Pour le test des matrices de cooccurrences, nous allons comparer deux mesures de distance entre deux vecteurs, la distance euclidienne et la distance cosinus provenant du module [scipy.spatial.distance](https://docs.scipy.org/doc/scipy/reference/spatial.distance.html)\n",
        "\n",
        "**Distance Euclidienne**\n",
        "\n",
        "La distance euclidienne entre deux vecteurs $u$ et $v$ de dimension $n$ est\n",
        "\n",
        "$$\\textbf{euclidean}(u, v) = \n",
        "\\sqrt{\\sum_{i=1}^{n}|u_{i} - v_{i}|^{2}}$$\n",
        "\n",
        "En deux dimensions, cela correspond à la longueur de la ligne droite entre deux points.\n",
        "\n",
        "**Distance Cosinus**\n",
        "\n",
        "\n",
        "La distance cosinus entre deux vecteurs $u$ et $v$ de dimension $n$ s'écrit :\n",
        "\n",
        "$$\\textbf{cosine}(u, v) = \n",
        "1 - \\frac{\\sum_{i=1}^{n} u_{i} \\cdot v_{i}}{\\|u\\|_{2} \\cdot \\|v\\|_{2}}$$\n",
        "\n",
        "Le terme de droite dans la soustraction mesure l'angle entre $u$ et $v$; on l'appelle la *similarité cosinus* entre $u$ et $v$.\n",
        "\n",
        "\\\\\n",
        "\n",
        "**a)**\tImplémentez la fonction voisins(mot, pd, distance) qui prend un mot en entrée et une métrique de distance et qui retourne les n mots les plus similaires selon la mesure. Pour un mot w, elle ordonne tous les mots du vocabulaire en fonction de leur distance de w en utilisant la métrique de distance distance (par défaut: cosine)sur le vsm pd. Les mesures de distance à tester sont : la distance Euclidienne et la distance cosinus implantées ci-dessus."
      ]
    },
    {
      "cell_type": "code",
      "metadata": {
        "hidden": true,
        "id": "y6WzHmQ08eNG"
      },
      "source": [
        "def voisins(word, df, n, distfunc=cosine):\n",
        "    assert distfunc.__name__ == 'cosine' or distfunc.__name__ == 'euclidean', \"distance metric not supported\"\n",
        "    assert word in df.columns, \"word not in df\"\n",
        "    order = True if distfunc.__name__ == 'euclidean' else False\n",
        "\n",
        "    closest = {}\n",
        "    for w in df.columns:\n",
        "        if w == word:\n",
        "            continue\n",
        "        distance = distfunc(df[word], df[w])\n",
        "        closest[w] = distance\n",
        "    closest = {k: v for k, v in sorted(closest.items(), key=lambda item: item[1], reverse=order)}\n",
        "\n",
        "    return list(closest.keys())[:n], list(closest.values())[:n]"
      ],
      "execution_count": 134,
      "outputs": []
    },
    {
      "cell_type": "code",
      "metadata": {
        "id": "olTBZi7pi3cY",
        "outputId": "82182da0-2b99-4185-a77e-0630e31b3e74",
        "colab": {
          "base_uri": "https://localhost:8080/",
          "height": 107
        }
      },
      "source": [
        "Mtest = pd.DataFrame([[2.0, 10.0, 14.0], [6.0, 14.0, 9.0]], columns=['excellent', 'bon', 'decevant'])\n",
        "print(Mtest.head())\n",
        "print(voisins('bon', Mtest, 5, euclidean))\n",
        "print(voisins('bon', Mtest, 5, cosine))"
      ],
      "execution_count": null,
      "outputs": [
        {
          "output_type": "stream",
          "text": [
            "   excellent   bon  decevant\n",
            "0        2.0  10.0      14.0\n",
            "1        6.0  14.0       9.0\n",
            "(['excellent', 'decevant'], [11.313708498984761, 6.4031242374328485])\n",
            "(['excellent', 'decevant'], [0.044220991278050015, 0.0710423905158224])\n"
          ],
          "name": "stdout"
        }
      ]
    },
    {
      "cell_type": "markdown",
      "metadata": {
        "hidden": true,
        "id": "ulI3R22m-AQq"
      },
      "source": [
        "**b)** En utilisant le cadre panda associé aux matrices Mww et Mww scaled, trouvez les 5 mots les plus similaires au mot « beautiful » et affichez-les, pour chacune des deux distances."
      ]
    },
    {
      "cell_type": "code",
      "metadata": {
        "hidden": true,
        "id": "7YqjqTYNMOQv",
        "outputId": "5689f41c-0081-47af-eb1c-659c2a65f4b7",
        "colab": {
          "base_uri": "https://localhost:8080/",
          "height": 73
        }
      },
      "source": [
        "print(voisins('beautiful', Mww, 5, euclidean))\n",
        "print(voisins('beautiful', Mww_scaled, 5, cosine))"
      ],
      "execution_count": 135,
      "outputs": [
        {
          "output_type": "stream",
          "text": [
            "(['movie', 'film', 'one', 'like', 'good'], [12819.290932028964, 10146.900314874489, 7756.188883723758, 6364.71609736051, 5405.231724912448])\n",
            "(['amazing', 'also', 'however', 'wonderful', 'although'], [0.1658613382003148, 0.1698264792866262, 0.17868317527019228, 0.18665683058421279, 0.18716703583285477])\n"
          ],
          "name": "stdout"
        }
      ]
    },
    {
      "cell_type": "markdown",
      "metadata": {
        "hidden": true,
        "id": "0_yvpfqIBL1a"
      },
      "source": [
        "**c)** En utilisant les cadres panda associés aux matrices PMIs, trouvez les 5 mots les plus similaires au mot « beautiful » et affichez-les, pour chacune des deux distances."
      ]
    },
    {
      "cell_type": "code",
      "metadata": {
        "hidden": true,
        "id": "EHL_A0uEMPzO",
        "outputId": "a0c47a56-05ab-4823-b10e-f81205a87b9d",
        "colab": {
          "base_uri": "https://localhost:8080/",
          "height": 73
        }
      },
      "source": [
        "print(voisins('beautiful', result_pmi_df, 5, euclidean))\n",
        "print(voisins('beautiful', result_pmi_df, 5, cosine))"
      ],
      "execution_count": 142,
      "outputs": [
        {
          "output_type": "stream",
          "text": [
            "(['bad', 'orders', 'officer', 'discovers', 'security'], [101.4788676265592, 100.32576475413418, 100.15517855117686, 100.0009727143084, 99.7279357750562])\n",
            "(['wonderful', 'cinematography', 'perfect', 'beauty', 'gorgeous'], [0.6717705829720779, 0.6951024923704886, 0.7023460503696113, 0.7024872148757113, 0.7031228628702768])\n"
          ],
          "name": "stdout"
        }
      ]
    },
    {
      "cell_type": "markdown",
      "metadata": {
        "hidden": true,
        "id": "nW9kJOsUBSFf"
      },
      "source": [
        "**d)** En utilisant les cadres panda associés aux matrices PPMIs, trouvez les 5 mots les plus similaires au mot\n",
        "« beautiful » et affichez-les, pour chacune des deux distances. "
      ]
    },
    {
      "cell_type": "code",
      "metadata": {
        "hidden": true,
        "id": "oBb5xv9PMQ9y",
        "outputId": "1a5cb476-189e-4665-e493-68b35ff100dd",
        "colab": {
          "base_uri": "https://localhost:8080/",
          "height": 73
        }
      },
      "source": [
        "print(voisins('beautiful', result_ppmi_df, 5, euclidean))\n",
        "print(voisins('beautiful', result_ppmi_df, 5, cosine))"
      ],
      "execution_count": 143,
      "outputs": [
        {
          "output_type": "stream",
          "text": [
            "(['orders', 'chief', 'rival', 'discovers', 'colonel'], [89.755826104396, 89.15646658486772, 89.1203669419272, 89.10852246934506, 89.09471338686936])\n",
            "(['gorgeous', 'wonderful', 'beauty', 'cinematography', 'woman'], [0.593391015475159, 0.6072324707509398, 0.614842595490545, 0.6163763362061689, 0.6175146843785463])\n"
          ],
          "name": "stdout"
        }
      ]
    },
    {
      "cell_type": "markdown",
      "metadata": {
        "hidden": true,
        "id": "B-Q3RfJXzdF8"
      },
      "source": [
        "**e)** Que constatez-vous entre la différence de performance de la distance euclidienne et la distance cosinus ? Que constatez-vous entre les différents types de matrices de cooccurrence ?"
      ]
    },
    {
      "cell_type": "markdown",
      "metadata": {
        "hidden": true,
        "id": "DcgcU9OtBg5-"
      },
      "source": [
        ""
      ]
    },
    {
      "cell_type": "markdown",
      "metadata": {
        "heading_collapsed": true,
        "id": "q_COF24sBi5N"
      },
      "source": [
        "## 4.\tRéduction de dimensionnalité (20 points)\n",
        "\n",
        "**a)** Ecrivez une fonction lsa qui prend en entrée un cadre panda pd (qui contient votre matrice / vsm) et un paramètre K (qui indique le nombre de dimensions finales), et qui applique LSA avec ce paramètre k sur la matrice et retourne le vsm réduit sous forme de cadre panda."
      ]
    },
    {
      "cell_type": "code",
      "metadata": {
        "hidden": true,
        "id": "T6EjxKAQAvFw"
      },
      "source": [
        "mots = ['red', 'blue', 'green', 'yellow', 'orange', 'black']\n",
        "data = np.array([ [1, 0, 1, 0, 0, 0], [0, 1, 0, 0, 0, 0], [1, 1, 0, 0, 0, 0], [1, 0, 0, 1, 1, 0], [0, 0, 0, 1, 0, 1]])\n",
        "vsm = pd.DataFrame(data,  columns=mots)\n",
        "PMIs = pd.DataFrame(data,  columns=mots)\n",
        "PPMIs = pd.DataFrame(data, columns=mots)"
      ],
      "execution_count": null,
      "outputs": []
    },
    {
      "cell_type": "code",
      "metadata": {
        "id": "FbrN-VXT5AYf"
      },
      "source": [
        "def lsa(df, k):\n",
        "    U, s, V = np.linalg.svd(df, full_matrices=False)\n",
        "    S = np.diag(s[:k])\n",
        "    Ck = np.dot(U[:, :k], S)\n",
        "    print(Ck)\n",
        "    return pd.DataFrame(Ck)\n",
        "\n",
        "# display(lsa(vsm, 3))"
      ],
      "execution_count": 144,
      "outputs": []
    },
    {
      "cell_type": "markdown",
      "metadata": {
        "hidden": true,
        "id": "pZDhlR2ZBwag"
      },
      "source": [
        "**b)** Exécutez lsa sur les cadres panda associés à vos matrices Mww et Mww_scaled avec une dimension k=100"
      ]
    },
    {
      "cell_type": "code",
      "metadata": {
        "hidden": true,
        "id": "4Fh1yGAQBvsg",
        "outputId": "3f1d2d0a-174a-4f02-9ce3-3b1d1c888988",
        "colab": {
          "base_uri": "https://localhost:8080/",
          "height": 483
        }
      },
      "source": [
        "Mww_lsa = lsa(Mww, 100)\n",
        "Mww_scaled_lsa = lsa(Mww_scaled, 100)"
      ],
      "execution_count": 146,
      "outputs": [
        {
          "output_type": "stream",
          "text": [
            "[[ -41.01546387   -3.92034505    5.20777349 ...    4.28541938\n",
            "    -4.59657506    4.11725548]\n",
            " [ -29.35567958    8.73518688   -0.52875177 ...   -0.63410995\n",
            "    -1.45120792   -3.43201123]\n",
            " [ -24.77290098   -0.73145729    4.32052535 ...   -0.23228785\n",
            "     0.70248138   -3.19548068]\n",
            " ...\n",
            " [-220.15132425  -38.44048945  -10.73317571 ...   -0.43295407\n",
            "    10.16858876   -4.71748159]\n",
            " [-159.13755874  -17.14520653   12.25246359 ...   -0.35241375\n",
            "    11.17296879   -5.20608722]\n",
            " [ -31.19791467    4.16886182    1.28194283 ...    2.07758977\n",
            "     0.65691439   -0.33459172]]\n",
            "[[-1.77360015e+01 -1.84551872e+00 -1.09727495e+00 ... -1.27228970e+00\n",
            "   2.58505671e-02  1.57513359e+00]\n",
            " [-1.37109928e+01  3.93208644e+00 -4.56979046e-01 ...  4.35868439e-01\n",
            "   9.98178934e-01  1.31036552e+00]\n",
            " [-1.19404736e+01 -8.56073877e-01 -4.27252654e+00 ...  1.01750377e+00\n",
            "   1.51038100e-01 -3.02578445e-01]\n",
            " ...\n",
            " [-1.15844884e+02 -3.41489229e+01  1.32056160e+01 ... -2.75631653e+00\n",
            "  -3.95319370e-01  5.14576106e-01]\n",
            " [-7.41452806e+01 -6.01009528e+00 -7.92257399e+00 ... -8.87217893e-01\n",
            "   1.99600417e-01  2.97817556e+00]\n",
            " [-1.28210469e+01  1.61721993e+00  7.28137993e-01 ... -6.89225473e-01\n",
            "   1.83049193e+00  4.94747709e-01]]\n"
          ],
          "name": "stdout"
        }
      ]
    },
    {
      "cell_type": "markdown",
      "metadata": {
        "hidden": true,
        "id": "0IQvZbddB4Zp"
      },
      "source": [
        "**c)** En utilisant les matrices de co-occurrence (de base et scalés) réduites avec LSA, trouvez les 5 mots les plus similaires au mot « beautiful » selon la distance cosinus et affichez-les."
      ]
    },
    {
      "cell_type": "code",
      "metadata": {
        "hidden": true,
        "id": "4BPts630Mw3t",
        "outputId": "16409dfd-4abc-435b-a639-a44ceb464fe4",
        "colab": {
          "base_uri": "https://localhost:8080/",
          "height": 312
        }
      },
      "source": [
        "print(voisins('beautiful', Mww_lsa, 5, euclidean))\n",
        "print(voisins('beautiful', Mww_scaled_lsa, 5, cosine))"
      ],
      "execution_count": 147,
      "outputs": [
        {
          "output_type": "error",
          "ename": "AssertionError",
          "evalue": "ignored",
          "traceback": [
            "\u001b[0;31m---------------------------------------------------------------------------\u001b[0m",
            "\u001b[0;31mAssertionError\u001b[0m                            Traceback (most recent call last)",
            "\u001b[0;32m<ipython-input-147-61335d131150>\u001b[0m in \u001b[0;36m<module>\u001b[0;34m()\u001b[0m\n\u001b[0;32m----> 1\u001b[0;31m \u001b[0mprint\u001b[0m\u001b[0;34m(\u001b[0m\u001b[0mvoisins\u001b[0m\u001b[0;34m(\u001b[0m\u001b[0;34m'beautiful'\u001b[0m\u001b[0;34m,\u001b[0m \u001b[0mMww_lsa\u001b[0m\u001b[0;34m,\u001b[0m \u001b[0;36m5\u001b[0m\u001b[0;34m,\u001b[0m \u001b[0meuclidean\u001b[0m\u001b[0;34m)\u001b[0m\u001b[0;34m)\u001b[0m\u001b[0;34m\u001b[0m\u001b[0;34m\u001b[0m\u001b[0m\n\u001b[0m\u001b[1;32m      2\u001b[0m \u001b[0mprint\u001b[0m\u001b[0;34m(\u001b[0m\u001b[0mvoisins\u001b[0m\u001b[0;34m(\u001b[0m\u001b[0;34m'beautiful'\u001b[0m\u001b[0;34m,\u001b[0m \u001b[0mMww_scaled_lsa\u001b[0m\u001b[0;34m,\u001b[0m \u001b[0;36m5\u001b[0m\u001b[0;34m,\u001b[0m \u001b[0mcosine\u001b[0m\u001b[0;34m)\u001b[0m\u001b[0;34m)\u001b[0m\u001b[0;34m\u001b[0m\u001b[0;34m\u001b[0m\u001b[0m\n",
            "\u001b[0;32m<ipython-input-134-3a009f59ebe4>\u001b[0m in \u001b[0;36mvoisins\u001b[0;34m(word, df, n, distfunc)\u001b[0m\n\u001b[1;32m      1\u001b[0m \u001b[0;32mdef\u001b[0m \u001b[0mvoisins\u001b[0m\u001b[0;34m(\u001b[0m\u001b[0mword\u001b[0m\u001b[0;34m,\u001b[0m \u001b[0mdf\u001b[0m\u001b[0;34m,\u001b[0m \u001b[0mn\u001b[0m\u001b[0;34m,\u001b[0m \u001b[0mdistfunc\u001b[0m\u001b[0;34m=\u001b[0m\u001b[0mcosine\u001b[0m\u001b[0;34m)\u001b[0m\u001b[0;34m:\u001b[0m\u001b[0;34m\u001b[0m\u001b[0;34m\u001b[0m\u001b[0m\n\u001b[1;32m      2\u001b[0m     \u001b[0;32massert\u001b[0m \u001b[0mdistfunc\u001b[0m\u001b[0;34m.\u001b[0m\u001b[0m__name__\u001b[0m \u001b[0;34m==\u001b[0m \u001b[0;34m'cosine'\u001b[0m \u001b[0;32mor\u001b[0m \u001b[0mdistfunc\u001b[0m\u001b[0;34m.\u001b[0m\u001b[0m__name__\u001b[0m \u001b[0;34m==\u001b[0m \u001b[0;34m'euclidean'\u001b[0m\u001b[0;34m,\u001b[0m \u001b[0;34m\"distance metric not supported\"\u001b[0m\u001b[0;34m\u001b[0m\u001b[0;34m\u001b[0m\u001b[0m\n\u001b[0;32m----> 3\u001b[0;31m     \u001b[0;32massert\u001b[0m \u001b[0mword\u001b[0m \u001b[0;32min\u001b[0m \u001b[0mdf\u001b[0m\u001b[0;34m.\u001b[0m\u001b[0mcolumns\u001b[0m\u001b[0;34m,\u001b[0m \u001b[0;34m\"word not in df\"\u001b[0m\u001b[0;34m\u001b[0m\u001b[0;34m\u001b[0m\u001b[0m\n\u001b[0m\u001b[1;32m      4\u001b[0m     \u001b[0morder\u001b[0m \u001b[0;34m=\u001b[0m \u001b[0;32mTrue\u001b[0m \u001b[0;32mif\u001b[0m \u001b[0mdistfunc\u001b[0m\u001b[0;34m.\u001b[0m\u001b[0m__name__\u001b[0m \u001b[0;34m==\u001b[0m \u001b[0;34m'euclidean'\u001b[0m \u001b[0;32melse\u001b[0m \u001b[0;32mFalse\u001b[0m\u001b[0;34m\u001b[0m\u001b[0;34m\u001b[0m\u001b[0m\n\u001b[1;32m      5\u001b[0m \u001b[0;34m\u001b[0m\u001b[0m\n",
            "\u001b[0;31mAssertionError\u001b[0m: word not in df"
          ]
        }
      ]
    },
    {
      "cell_type": "markdown",
      "metadata": {
        "hidden": true,
        "id": "y_wxbYFPCCCN"
      },
      "source": [
        "d) En utilisant les matrices PMIs et PPMIs réduites avec lsa, trouvez les 5 mots les plus similaires au mot « beautiful » selon la distance cosinus et affichez-les"
      ]
    },
    {
      "cell_type": "code",
      "metadata": {
        "hidden": true,
        "id": "QqgCh0WNM1Jl"
      },
      "source": [
        "ppmi_lsa_df = ppmi_pmi(Mww_lsa, True)\n",
        "ppmi_lsa_scaled_df = ppmi_pmi(Mww_scaled_lsa, True)\n",
        "pmi_lsa_df = ppmi_pmi(Mww_lsa, False)\n",
        "pmi_lsa_scaled_df = ppmi_pmi(Mww_scaled_lsa, False)\n",
        "\n",
        "print(voisins('beautiful', ppmi_lsa_df, cosine)[:5])\n",
        "print(voisins('beautiful', ppmi_lsa_scaled_df, cosine)[:5])\n",
        "print(voisins('beautiful', pmi_lsa_df, cosine)[:5])\n",
        "print(voisins('beautiful', pmi_lsa_scaled_df, cosine)[:5])"
      ],
      "execution_count": null,
      "outputs": []
    },
    {
      "cell_type": "markdown",
      "metadata": {
        "hidden": true,
        "id": "Qfwq16JtCSFy"
      },
      "source": [
        "**e)** En utilisant sklearn.decomposition.TruncatedSVD, créez les matrices réduites à partir des mêmes matrices que celles de la question précédentes (la matrice pmi et la matrice pmi_scaled) Puis tester ces nouvelles matrices LSA pour trouver les 5 mots les plus similaires au mot « beautiful » \n",
        "\n",
        "Ici aussi, nous voulons aussi obtenir des matrices de dimension k=100"
      ]
    },
    {
      "cell_type": "code",
      "metadata": {
        "hidden": true,
        "id": "Mj-aOpSSM2_O"
      },
      "source": [
        "PMIs = pd.DataFrame(data, columns=mots)\n",
        "PPMIs = pd.DataFrame(data, columns=mots)\n",
        "\n",
        "svd_model = TruncatedSVD(n_components=5, algorithm='randomized', n_iter=100, random_state=122)\n",
        "\n",
        "PMIs = svd_model.fit_transform(PMIs)\n",
        "PPMIs = svd_model.fit_transform(PPMIs)\n",
        "\n",
        "display(PMIs)\n",
        "display(PPMIs)"
      ],
      "execution_count": null,
      "outputs": []
    },
    {
      "cell_type": "markdown",
      "metadata": {
        "hidden": true,
        "id": "9i7di2PRCTnh"
      },
      "source": [
        "f) Commentez vos résultats"
      ]
    },
    {
      "cell_type": "markdown",
      "metadata": {
        "hidden": true,
        "id": "ubED1oiwNJpm"
      },
      "source": [
        ""
      ]
    },
    {
      "cell_type": "markdown",
      "metadata": {
        "heading_collapsed": true,
        "id": "K3avEFcPG0-e"
      },
      "source": [
        "## 5. Évaluation (10 points)\n",
        "\n",
        "Il est temps d’évaluer l’intérêt de nos modèles de vecteurs. Nous allons pour cela utiliser un ensemble de données de similarité de mots (relatedness) The MEN Test Collection, qui se trouve dans le répertoire test. L’ensemble de données contient une paire de mots avec un score de similarité attribué par des humains. En d’autres termes, une ligne (un exemple) de l’ensemble de données est de la forme : \\<mot_1> \\<mot_2> \\<score>.\n",
        "\n",
        "Pour aligner les distances obtenues avec vos métriques, ce score est converti en nombre réel négatif par la fonction read_test_dataset que vous avez dans le squelette du TP.\n",
        "\n",
        "La métrique d’évaluation est le coefficient de corrélation de Spearman 𝜌 entre les scores humains et vos distances (voir https://en.wikipedia.org/wiki/Spearman%27s_rank_correlation_coefficient). \n",
        "\n",
        "Nous allons maintenant évaluer les différents vsm obtenus sur l'ensemble de données: MEN_dataset.\n"
      ]
    },
    {
      "cell_type": "markdown",
      "metadata": {
        "hidden": true,
        "id": "7j5LjMlav4pQ"
      },
      "source": [
        "#### Fonctions pour lire le jeu de données MEN"
      ]
    },
    {
      "cell_type": "code",
      "metadata": {
        "hidden": true,
        "id": "NodeMtrwGw0O"
      },
      "source": [
        "def read_test_dataset(\n",
        "        src_filename,\n",
        "        delimiter=','):\n",
        "    with open(src_filename) as f:\n",
        "        reader = csv.reader(f, delimiter=delimiter)\n",
        "        for row in reader:\n",
        "            w1 = row[0].strip().lower()\n",
        "            w2 = row[1].strip().lower()\n",
        "            score = row[2]\n",
        "            score = -float(score)\n",
        "            yield (w1, w2, score)"
      ],
      "execution_count": null,
      "outputs": []
    },
    {
      "cell_type": "code",
      "metadata": {
        "hidden": true,
        "id": "sTmkM5EDG-pA"
      },
      "source": [
        "# Retourne un itérable sur le jeu de données MEN\n",
        "def men_dataset():\n",
        "    src_filename = os.path.join(\n",
        "        DIRNAME_MEN, 'MEN_dataset_natural_form_full')\n",
        "    return read_test_dataset(\n",
        "        src_filename, delimiter=' ')"
      ],
      "execution_count": null,
      "outputs": []
    },
    {
      "cell_type": "code",
      "metadata": {
        "hidden": true,
        "id": "uPd__Q4NHUlp"
      },
      "source": [
        "def evaluate(ds, df, distfunc=cosine):\n",
        "    \"\"\"\n",
        "    ds : iterator\n",
        "       retourne des tuples (word1, word2, score).\n",
        "\n",
        "    df : pd.DataFrame\n",
        "        le modèle vsm à évaluer\n",
        "\n",
        "    distfunc : la mesure de distance entre vecteurs\n",
        "  \n",
        "    Retour: le coefficient de correlation de Spearman entre les scores de l'ensemble de données de test \n",
        "    et celui du modele vsm qui se présente sous la forme d'un cadre Panda pd avec les colonnes\n",
        "    ['word1', 'word2', 'score', 'distance'].\n",
        "    \"\"\"\n",
        "    data = []\n",
        "    for w1, w2, score in ds():\n",
        "        d = {'word1': w1, 'word2': w2,'score': score}\n",
        "        if w1 not in df.index or w2 not in df.index:\n",
        "            continue\n",
        "        else:\n",
        "            w1 = df.loc[w1]\n",
        "            w2 = df.loc[w2] \n",
        "        d['distance'] = distfunc(w1, w2)\n",
        "        data.append(d)\n",
        "\n",
        "    data = pd.DataFrame(data)\n",
        "    rho, pvalue = spearmanr(data['score'].values, b=data['distance'].values)\n",
        "    return rho, data"
      ],
      "execution_count": null,
      "outputs": []
    },
    {
      "cell_type": "markdown",
      "metadata": {
        "hidden": true,
        "id": "MBrTrq8BHdLs"
      },
      "source": [
        "**a)**\tTestez chacun de vos modèles vsm (Matrice de base, matrice scalée, les PMIs et PPMIs et toutes les matrices LSA (de base, scalée, pmi, ppmi) en appelant la fonction evaluate avec les deux mesure de distance (euclidienne et cosinus) et affichez vos résultats dans une seule table."
      ]
    },
    {
      "cell_type": "code",
      "metadata": {
        "hidden": true,
        "id": "UL5s4dT4QiX_"
      },
      "source": [
        ""
      ],
      "execution_count": null,
      "outputs": []
    },
    {
      "cell_type": "markdown",
      "metadata": {
        "hidden": true,
        "id": "JjJwYKsTKXCR"
      },
      "source": [
        "**b)**\tCommentez vos résultats d'évaluation"
      ]
    },
    {
      "cell_type": "markdown",
      "metadata": {
        "hidden": true,
        "id": "-ZQhdrxFQjsb"
      },
      "source": [
        ""
      ]
    }
  ]
}