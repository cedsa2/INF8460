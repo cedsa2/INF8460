{
  "nbformat": 4,
  "nbformat_minor": 0,
  "metadata": {
    "colab": {
      "name": "inf8460_tp2_A20.ipynb",
      "provenance": [],
      "collapsed_sections": [],
      "toc_visible": true
    },
    "hide_input": false,
    "kernelspec": {
      "display_name": "Python 3",
      "language": "python",
      "name": "python3"
    },
    "language_info": {
      "codemirror_mode": {
        "name": "ipython",
        "version": 3
      },
      "file_extension": ".py",
      "mimetype": "text/x-python",
      "name": "python",
      "nbconvert_exporter": "python",
      "pygments_lexer": "ipython3",
      "version": "3.8.5"
    }
  },
  "cells": [
    {
      "cell_type": "markdown",
      "metadata": {
        "id": "XYaltRsowqfU"
      },
      "source": [
        "## École Polytechnique de Montréal\n",
        "## Département Génie Informatique et Génie Logiciel\n",
        "\n",
        "## INF8460 – Traitement automatique de la langue naturelle - TP2"
      ]
    },
    {
      "cell_type": "markdown",
      "metadata": {
        "id": "92idNN-XwvMP"
      },
      "source": [
        "## Objectifs d'apprentissage: \n",
        "\n",
        "•\tExplorer les modèles d’espace vectoriel (vector space models) comme représentations distribuées de la sémantique des mots \n",
        "•\tImplémenter la fréquence de co-occurrence et la PPMI\n",
        "•\tComprendre différentes mesures de distance entre vecteurs de mots \n",
        "•\tExplorer l’intérêt de la réduction de dimensionnalité \n",
        "\n"
      ]
    },
    {
      "cell_type": "markdown",
      "metadata": {
        "id": "wEoOfK-Rw3zT"
      },
      "source": [
        "## Équipe et contributions \n",
        "Veuillez indiquer la contribution effective de chaque membre de l'équipe en pourcentage et en indiquant les modules ou questions sur lesquelles chaque membre a travaillé"
      ]
    },
    {
      "cell_type": "markdown",
      "metadata": {
        "id": "a0mJOdtlw4xC"
      },
      "source": [
        "Cedric Sadeu (1869737): 1/3\n",
        "\n",
        "Mamoudou Sacko (1924187): 1/3\n",
        "\n",
        "Oumayma Messoussi (2016797): 1/3"
      ]
    },
    {
      "cell_type": "markdown",
      "metadata": {
        "id": "qu3pnt6mPiNZ"
      },
      "source": [
        "\n",
        "\n",
        "## Support de google Colab\n",
        "\n"
      ]
    },
    {
      "cell_type": "code",
      "metadata": {
        "id": "x-U9ANA6ZV27",
        "outputId": "2ace9975-0a88-4b3b-ed3a-63547e113631",
        "colab": {
          "base_uri": "https://localhost:8080/",
          "height": 411
        }
      },
      "source": [
        "!wget http://ai.stanford.edu/~amaas/data/sentiment/aclImdb_v1.tar.gz\n",
        "!wget https://staff.fnwi.uva.nl/e.bruni/resources/MEN.tar.gz"
      ],
      "execution_count": 1,
      "outputs": [
        {
          "output_type": "stream",
          "text": [
            "--2020-09-30 13:46:32--  http://ai.stanford.edu/~amaas/data/sentiment/aclImdb_v1.tar.gz\n",
            "Resolving ai.stanford.edu (ai.stanford.edu)... 171.64.68.10\n",
            "Connecting to ai.stanford.edu (ai.stanford.edu)|171.64.68.10|:80... connected.\n",
            "HTTP request sent, awaiting response... 200 OK\n",
            "Length: 84125825 (80M) [application/x-gzip]\n",
            "Saving to: ‘aclImdb_v1.tar.gz’\n",
            "\n",
            "aclImdb_v1.tar.gz   100%[===================>]  80.23M  22.3MB/s    in 5.4s    \n",
            "\n",
            "2020-09-30 13:46:38 (14.9 MB/s) - ‘aclImdb_v1.tar.gz’ saved [84125825/84125825]\n",
            "\n",
            "--2020-09-30 13:46:38--  https://staff.fnwi.uva.nl/e.bruni/resources/MEN.tar.gz\n",
            "Resolving staff.fnwi.uva.nl (staff.fnwi.uva.nl)... 146.50.61.62\n",
            "Connecting to staff.fnwi.uva.nl (staff.fnwi.uva.nl)|146.50.61.62|:443... connected.\n",
            "HTTP request sent, awaiting response... 200 OK\n",
            "Length: 90373 (88K) [application/x-gzip]\n",
            "Saving to: ‘MEN.tar.gz’\n",
            "\n",
            "MEN.tar.gz          100%[===================>]  88.25K   239KB/s    in 0.4s    \n",
            "\n",
            "2020-09-30 13:46:39 (239 KB/s) - ‘MEN.tar.gz’ saved [90373/90373]\n",
            "\n"
          ],
          "name": "stdout"
        }
      ]
    },
    {
      "cell_type": "code",
      "metadata": {
        "id": "mVrz-1_uZApz"
      },
      "source": [
        "! tar -xzf aclImdb_v1.tar.gz\n",
        "! tar -xzf MEN.tar.gz\n",
        "! mkdir -p vsm"
      ],
      "execution_count": 2,
      "outputs": []
    },
    {
      "cell_type": "markdown",
      "metadata": {
        "id": "TewW7eDjPbjs"
      },
      "source": [
        "## Librairies externes"
      ]
    },
    {
      "cell_type": "code",
      "metadata": {
        "id": "rK102dx5Poti",
        "outputId": "23a2d723-1c16-40ec-d0fe-dd3e81bf8126",
        "colab": {
          "base_uri": "https://localhost:8080/",
          "height": 107
        }
      },
      "source": [
        "import nltk\n",
        "nltk.download('stopwords')\n",
        "nltk.download('punkt')"
      ],
      "execution_count": 3,
      "outputs": [
        {
          "output_type": "stream",
          "text": [
            "[nltk_data] Downloading package stopwords to /root/nltk_data...\n",
            "[nltk_data]   Unzipping corpora/stopwords.zip.\n",
            "[nltk_data] Downloading package punkt to /root/nltk_data...\n",
            "[nltk_data]   Unzipping tokenizers/punkt.zip.\n"
          ],
          "name": "stdout"
        },
        {
          "output_type": "execute_result",
          "data": {
            "text/plain": [
              "True"
            ]
          },
          "metadata": {
            "tags": []
          },
          "execution_count": 3
        }
      ]
    },
    {
      "cell_type": "code",
      "metadata": {
        "id": "kClu3RY7YFfv"
      },
      "source": [
        "from collections import Counter, defaultdict\n",
        "from itertools import chain\n",
        "from bs4 import BeautifulSoup\n",
        "import csv\n",
        "import itertools\n",
        "import numpy as np\n",
        "import os\n",
        "import pandas as pd\n",
        "import glob\n",
        "\n",
        "from nltk.corpus import stopwords as all_stopwords\n",
        "from nltk import word_tokenize\n",
        "from nltk.util import ngrams\n",
        "from collections import Counter\n",
        "\n",
        "from scipy.stats import spearmanr\n",
        "from scipy.spatial.distance import euclidean, cosine\n",
        "from IPython.display import display\n",
        "from sklearn.decomposition import TruncatedSVD"
      ],
      "execution_count": 4,
      "outputs": []
    },
    {
      "cell_type": "markdown",
      "metadata": {
        "id": "7oRJolmeRlxW"
      },
      "source": [
        "## Valeurs globales"
      ]
    },
    {
      "cell_type": "code",
      "metadata": {
        "id": "QqfHWnRoRlFY"
      },
      "source": [
        "DIRNAME_ACL =  os.path.join(os.getcwd(), \"aclImdb/\")\n",
        "DIRNAME_MEN =  os.path.join(os.getcwd(), \"MEN/\")\n",
        "DIRNAME_VSM =  os.path.join(os.getcwd(), \"vsm\")"
      ],
      "execution_count": 5,
      "outputs": []
    },
    {
      "cell_type": "markdown",
      "metadata": {
        "heading_collapsed": true,
        "id": "hGQ15KsihAOp"
      },
      "source": [
        "## 1. Prétraitement (20 points)\n",
        "\n",
        "**a)**\tLe jeu de données est séparé en deux répertoires `train/`et `test`, chacun contenant eux-mêmes deux sous-répertoires `pos/` et `neg/` pour les revues positives et négatives. Un fichier `readme` décrit plus précisément les données. Commencez par lire ces données, en gardant séparées les données d'entraînement et de test. La fonction doit mettre les mots en minuscules,  supprimer les stopwords (vous devez utiliser ceux de NLTK) et afficher le nombre total de phrases d’entrainement,  le nombre total de phrases d’entrainement positives et négatives et le nombre total de phrases de test avec le nombre total de phrases de test positives et négatives ;"
      ]
    },
    {
      "cell_type": "code",
      "metadata": {
        "hidden": true,
        "id": "5Lk9pYtUKWvf"
      },
      "source": [
        "train_data = {'id': [], 'text': [], 'rating': [], 'sentiment': []}\n",
        "test_data = {'id': [], 'text': [], 'rating': [], 'sentiment': []}\n",
        "\n",
        "for name in ['train/pos', 'train/neg']:\n",
        "    sentiment = name.split('/')[1]\n",
        "    for file in glob.glob(DIRNAME_ACL+name+\"/*.txt\"):\n",
        "        review_id = int(file.split(\"/\")[-1].split(\".\")[0].split(\"_\")[0])\n",
        "        rating = int(file.split(\"/\")[-1].split(\".\")[0].split(\"_\")[1]) / 10\n",
        "        f = open(file, encoding=\"utf8\")\n",
        "        content = f.read()\n",
        "        \n",
        "        train_data['id'].append(review_id)\n",
        "        train_data['text'].append(content)\n",
        "        train_data['rating'].append(rating)\n",
        "        train_data['sentiment'].append(sentiment)\n",
        "                \n",
        "for name in ['test/pos', 'test/neg']:\n",
        "    sentiment = name.split('/')[1]\n",
        "    for file in glob.glob(DIRNAME_ACL+name+\"/*.txt\"):\n",
        "        review_id = int(file.split(\"/\")[-1].split(\".\")[0].split(\"_\")[0])\n",
        "        rating = int(file.split(\"/\")[-1].split(\".\")[0].split(\"_\")[1]) / 10\n",
        "        f = open(file, encoding=\"utf8\")\n",
        "        content = f.read()\n",
        "        \n",
        "        test_data['id'].append(review_id)\n",
        "        test_data['text'].append(content)\n",
        "        test_data['rating'].append(rating)\n",
        "        test_data['sentiment'].append(sentiment)\n",
        "\n",
        "train_df = pd.DataFrame (train_data, columns = ['id', 'text', 'rating', 'sentiment'])\n",
        "test_df = pd.DataFrame (test_data, columns = ['id', 'text', 'rating', 'sentiment'])"
      ],
      "execution_count": 6,
      "outputs": []
    },
    {
      "cell_type": "code",
      "metadata": {
        "id": "a24NJt1fqPvX",
        "outputId": "55a9827c-4d43-4fc6-dcaa-8e36094bd559",
        "colab": {
          "base_uri": "https://localhost:8080/",
          "height": 216
        }
      },
      "source": [
        "print(train_df.shape)\n",
        "train_df.head()"
      ],
      "execution_count": 7,
      "outputs": [
        {
          "output_type": "stream",
          "text": [
            "(25000, 4)\n"
          ],
          "name": "stdout"
        },
        {
          "output_type": "execute_result",
          "data": {
            "text/html": [
              "<div>\n",
              "<style scoped>\n",
              "    .dataframe tbody tr th:only-of-type {\n",
              "        vertical-align: middle;\n",
              "    }\n",
              "\n",
              "    .dataframe tbody tr th {\n",
              "        vertical-align: top;\n",
              "    }\n",
              "\n",
              "    .dataframe thead th {\n",
              "        text-align: right;\n",
              "    }\n",
              "</style>\n",
              "<table border=\"1\" class=\"dataframe\">\n",
              "  <thead>\n",
              "    <tr style=\"text-align: right;\">\n",
              "      <th></th>\n",
              "      <th>id</th>\n",
              "      <th>text</th>\n",
              "      <th>rating</th>\n",
              "      <th>sentiment</th>\n",
              "    </tr>\n",
              "  </thead>\n",
              "  <tbody>\n",
              "    <tr>\n",
              "      <th>0</th>\n",
              "      <td>782</td>\n",
              "      <td>This is a very moving picture about 3 forty-so...</td>\n",
              "      <td>0.9</td>\n",
              "      <td>pos</td>\n",
              "    </tr>\n",
              "    <tr>\n",
              "      <th>1</th>\n",
              "      <td>7644</td>\n",
              "      <td>Jim Belushi is terrific as the \"Average Joe\" w...</td>\n",
              "      <td>0.7</td>\n",
              "      <td>pos</td>\n",
              "    </tr>\n",
              "    <tr>\n",
              "      <th>2</th>\n",
              "      <td>9996</td>\n",
              "      <td>I have not read the other comments on the film...</td>\n",
              "      <td>0.9</td>\n",
              "      <td>pos</td>\n",
              "    </tr>\n",
              "    <tr>\n",
              "      <th>3</th>\n",
              "      <td>2281</td>\n",
              "      <td>There are numerous films relating to WW2, but ...</td>\n",
              "      <td>0.9</td>\n",
              "      <td>pos</td>\n",
              "    </tr>\n",
              "    <tr>\n",
              "      <th>4</th>\n",
              "      <td>5723</td>\n",
              "      <td>so, being a fairly deep fan of horror movies, ...</td>\n",
              "      <td>0.7</td>\n",
              "      <td>pos</td>\n",
              "    </tr>\n",
              "  </tbody>\n",
              "</table>\n",
              "</div>"
            ],
            "text/plain": [
              "     id                                               text  rating sentiment\n",
              "0   782  This is a very moving picture about 3 forty-so...     0.9       pos\n",
              "1  7644  Jim Belushi is terrific as the \"Average Joe\" w...     0.7       pos\n",
              "2  9996  I have not read the other comments on the film...     0.9       pos\n",
              "3  2281  There are numerous films relating to WW2, but ...     0.9       pos\n",
              "4  5723  so, being a fairly deep fan of horror movies, ...     0.7       pos"
            ]
          },
          "metadata": {
            "tags": []
          },
          "execution_count": 7
        }
      ]
    },
    {
      "cell_type": "code",
      "metadata": {
        "id": "gXhEHXM0qPvd",
        "outputId": "88b4e681-8d57-4802-fd15-601aa956483d",
        "colab": {
          "base_uri": "https://localhost:8080/",
          "height": 216
        }
      },
      "source": [
        "print(test_df.shape)\n",
        "test_df.head()"
      ],
      "execution_count": 8,
      "outputs": [
        {
          "output_type": "stream",
          "text": [
            "(25000, 4)\n"
          ],
          "name": "stdout"
        },
        {
          "output_type": "execute_result",
          "data": {
            "text/html": [
              "<div>\n",
              "<style scoped>\n",
              "    .dataframe tbody tr th:only-of-type {\n",
              "        vertical-align: middle;\n",
              "    }\n",
              "\n",
              "    .dataframe tbody tr th {\n",
              "        vertical-align: top;\n",
              "    }\n",
              "\n",
              "    .dataframe thead th {\n",
              "        text-align: right;\n",
              "    }\n",
              "</style>\n",
              "<table border=\"1\" class=\"dataframe\">\n",
              "  <thead>\n",
              "    <tr style=\"text-align: right;\">\n",
              "      <th></th>\n",
              "      <th>id</th>\n",
              "      <th>text</th>\n",
              "      <th>rating</th>\n",
              "      <th>sentiment</th>\n",
              "    </tr>\n",
              "  </thead>\n",
              "  <tbody>\n",
              "    <tr>\n",
              "      <th>0</th>\n",
              "      <td>782</td>\n",
              "      <td>I only heard about Driving Lessons through the...</td>\n",
              "      <td>0.9</td>\n",
              "      <td>pos</td>\n",
              "    </tr>\n",
              "    <tr>\n",
              "      <th>1</th>\n",
              "      <td>7644</td>\n",
              "      <td>I watched this movie on HBO and I had a good t...</td>\n",
              "      <td>0.7</td>\n",
              "      <td>pos</td>\n",
              "    </tr>\n",
              "    <tr>\n",
              "      <th>2</th>\n",
              "      <td>10789</td>\n",
              "      <td>Probably one of his lesser known films, it suf...</td>\n",
              "      <td>0.8</td>\n",
              "      <td>pos</td>\n",
              "    </tr>\n",
              "    <tr>\n",
              "      <th>3</th>\n",
              "      <td>141</td>\n",
              "      <td>i hate vampire movies. with that said, this on...</td>\n",
              "      <td>0.8</td>\n",
              "      <td>pos</td>\n",
              "    </tr>\n",
              "    <tr>\n",
              "      <th>4</th>\n",
              "      <td>10332</td>\n",
              "      <td>This film is a study piece for my english clas...</td>\n",
              "      <td>1.0</td>\n",
              "      <td>pos</td>\n",
              "    </tr>\n",
              "  </tbody>\n",
              "</table>\n",
              "</div>"
            ],
            "text/plain": [
              "      id                                               text  rating sentiment\n",
              "0    782  I only heard about Driving Lessons through the...     0.9       pos\n",
              "1   7644  I watched this movie on HBO and I had a good t...     0.7       pos\n",
              "2  10789  Probably one of his lesser known films, it suf...     0.8       pos\n",
              "3    141  i hate vampire movies. with that said, this on...     0.8       pos\n",
              "4  10332  This film is a study piece for my english clas...     1.0       pos"
            ]
          },
          "metadata": {
            "tags": []
          },
          "execution_count": 8
        }
      ]
    },
    {
      "cell_type": "code",
      "metadata": {
        "id": "8QkY2X64qPvk"
      },
      "source": [
        "def preprocess(review):\n",
        "    soup = BeautifulSoup(review, \"html.parser\")\n",
        "    text = soup.get_text()\n",
        "    stop_words = set(all_stopwords.words('english'))\n",
        "    tokens = nltk.word_tokenize(text.lower())\n",
        "    return [w for w in tokens if w.isalpha() and not w in stop_words] "
      ],
      "execution_count": 9,
      "outputs": []
    },
    {
      "cell_type": "code",
      "metadata": {
        "id": "Lboz72YyqPvo"
      },
      "source": [
        "train_df['text'] = train_df['text'].apply(preprocess)\n",
        "test_df['text'] = test_df['text'].apply(preprocess)"
      ],
      "execution_count": 10,
      "outputs": []
    },
    {
      "cell_type": "code",
      "metadata": {
        "id": "gSJ0xg41qPvs",
        "outputId": "746d67a1-0529-4b69-f100-e2acd7fdfabe",
        "colab": {
          "base_uri": "https://localhost:8080/",
          "height": 216
        }
      },
      "source": [
        "print(train_df.shape)\n",
        "train_df.head()"
      ],
      "execution_count": 11,
      "outputs": [
        {
          "output_type": "stream",
          "text": [
            "(25000, 4)\n"
          ],
          "name": "stdout"
        },
        {
          "output_type": "execute_result",
          "data": {
            "text/html": [
              "<div>\n",
              "<style scoped>\n",
              "    .dataframe tbody tr th:only-of-type {\n",
              "        vertical-align: middle;\n",
              "    }\n",
              "\n",
              "    .dataframe tbody tr th {\n",
              "        vertical-align: top;\n",
              "    }\n",
              "\n",
              "    .dataframe thead th {\n",
              "        text-align: right;\n",
              "    }\n",
              "</style>\n",
              "<table border=\"1\" class=\"dataframe\">\n",
              "  <thead>\n",
              "    <tr style=\"text-align: right;\">\n",
              "      <th></th>\n",
              "      <th>id</th>\n",
              "      <th>text</th>\n",
              "      <th>rating</th>\n",
              "      <th>sentiment</th>\n",
              "    </tr>\n",
              "  </thead>\n",
              "  <tbody>\n",
              "    <tr>\n",
              "      <th>0</th>\n",
              "      <td>782</td>\n",
              "      <td>[moving, picture, best, friends, small, englan...</td>\n",
              "      <td>0.9</td>\n",
              "      <td>pos</td>\n",
              "    </tr>\n",
              "    <tr>\n",
              "      <th>1</th>\n",
              "      <td>7644</td>\n",
              "      <td>[jim, belushi, terrific, average, joe, gets, m...</td>\n",
              "      <td>0.7</td>\n",
              "      <td>pos</td>\n",
              "    </tr>\n",
              "    <tr>\n",
              "      <th>2</th>\n",
              "      <td>9996</td>\n",
              "      <td>[read, comments, film, judging, average, ratin...</td>\n",
              "      <td>0.9</td>\n",
              "      <td>pos</td>\n",
              "    </tr>\n",
              "    <tr>\n",
              "      <th>3</th>\n",
              "      <td>2281</td>\n",
              "      <td>[numerous, films, relating, mother, night, qui...</td>\n",
              "      <td>0.9</td>\n",
              "      <td>pos</td>\n",
              "    </tr>\n",
              "    <tr>\n",
              "      <th>4</th>\n",
              "      <td>5723</td>\n",
              "      <td>[fairly, deep, fan, horror, movies, since, see...</td>\n",
              "      <td>0.7</td>\n",
              "      <td>pos</td>\n",
              "    </tr>\n",
              "  </tbody>\n",
              "</table>\n",
              "</div>"
            ],
            "text/plain": [
              "     id                                               text  rating sentiment\n",
              "0   782  [moving, picture, best, friends, small, englan...     0.9       pos\n",
              "1  7644  [jim, belushi, terrific, average, joe, gets, m...     0.7       pos\n",
              "2  9996  [read, comments, film, judging, average, ratin...     0.9       pos\n",
              "3  2281  [numerous, films, relating, mother, night, qui...     0.9       pos\n",
              "4  5723  [fairly, deep, fan, horror, movies, since, see...     0.7       pos"
            ]
          },
          "metadata": {
            "tags": []
          },
          "execution_count": 11
        }
      ]
    },
    {
      "cell_type": "code",
      "metadata": {
        "id": "5GyWSOQbqPvv",
        "outputId": "36bcfd33-38b7-4f76-91f9-354282928a63",
        "colab": {
          "base_uri": "https://localhost:8080/",
          "height": 216
        }
      },
      "source": [
        "print(test_df.shape)\n",
        "test_df.head()"
      ],
      "execution_count": 12,
      "outputs": [
        {
          "output_type": "stream",
          "text": [
            "(25000, 4)\n"
          ],
          "name": "stdout"
        },
        {
          "output_type": "execute_result",
          "data": {
            "text/html": [
              "<div>\n",
              "<style scoped>\n",
              "    .dataframe tbody tr th:only-of-type {\n",
              "        vertical-align: middle;\n",
              "    }\n",
              "\n",
              "    .dataframe tbody tr th {\n",
              "        vertical-align: top;\n",
              "    }\n",
              "\n",
              "    .dataframe thead th {\n",
              "        text-align: right;\n",
              "    }\n",
              "</style>\n",
              "<table border=\"1\" class=\"dataframe\">\n",
              "  <thead>\n",
              "    <tr style=\"text-align: right;\">\n",
              "      <th></th>\n",
              "      <th>id</th>\n",
              "      <th>text</th>\n",
              "      <th>rating</th>\n",
              "      <th>sentiment</th>\n",
              "    </tr>\n",
              "  </thead>\n",
              "  <tbody>\n",
              "    <tr>\n",
              "      <th>0</th>\n",
              "      <td>782</td>\n",
              "      <td>[heard, driving, lessons, itv, adverts, honest...</td>\n",
              "      <td>0.9</td>\n",
              "      <td>pos</td>\n",
              "    </tr>\n",
              "    <tr>\n",
              "      <th>1</th>\n",
              "      <td>7644</td>\n",
              "      <td>[watched, movie, hbo, good, director, done, gr...</td>\n",
              "      <td>0.7</td>\n",
              "      <td>pos</td>\n",
              "    </tr>\n",
              "    <tr>\n",
              "      <th>2</th>\n",
              "      <td>10789</td>\n",
              "      <td>[probably, one, lesser, known, films, suffers,...</td>\n",
              "      <td>0.8</td>\n",
              "      <td>pos</td>\n",
              "    </tr>\n",
              "    <tr>\n",
              "      <th>3</th>\n",
              "      <td>141</td>\n",
              "      <td>[hate, vampire, movies, said, one, interesting...</td>\n",
              "      <td>0.8</td>\n",
              "      <td>pos</td>\n",
              "    </tr>\n",
              "    <tr>\n",
              "      <th>4</th>\n",
              "      <td>10332</td>\n",
              "      <td>[film, study, piece, english, class, depth, me...</td>\n",
              "      <td>1.0</td>\n",
              "      <td>pos</td>\n",
              "    </tr>\n",
              "  </tbody>\n",
              "</table>\n",
              "</div>"
            ],
            "text/plain": [
              "      id                                               text  rating sentiment\n",
              "0    782  [heard, driving, lessons, itv, adverts, honest...     0.9       pos\n",
              "1   7644  [watched, movie, hbo, good, director, done, gr...     0.7       pos\n",
              "2  10789  [probably, one, lesser, known, films, suffers,...     0.8       pos\n",
              "3    141  [hate, vampire, movies, said, one, interesting...     0.8       pos\n",
              "4  10332  [film, study, piece, english, class, depth, me...     1.0       pos"
            ]
          },
          "metadata": {
            "tags": []
          },
          "execution_count": 12
        }
      ]
    },
    {
      "cell_type": "code",
      "metadata": {
        "id": "gkdaAuybqPv0",
        "outputId": "a36c1fa6-d73f-45e9-bb05-1c328163f522",
        "colab": {
          "base_uri": "https://localhost:8080/",
          "height": 268
        }
      },
      "source": [
        "print(\"\"\"TRAIN\\n\\t - le nombre total de phrases d’entrainement: %d\n",
        "              \\n\\t - le nombre total de phrases d’entrainement positives: %d\n",
        "              \\n\\t - le nombre total de phrases d’entrainement négatives: %d\\n\"\"\" % \n",
        "      (train_df.shape[0], train_df[train_df[\"sentiment\"] == \"pos\"].shape[0], \n",
        "       train_df[train_df[\"sentiment\"] == \"neg\"].shape[0]))\n",
        "\n",
        "print(\"\"\"TEST\\n\\t - le nombre total de phrases de test: %d\n",
        "              \\n\\t - le nombre total de phrases de test positives: %d\n",
        "              \\n\\t - le nombre total de phrases de test négatives: %d\\n\"\"\" % \n",
        "      (test_df.shape[0], test_df[test_df[\"sentiment\"] == \"pos\"].shape[0], \n",
        "       test_df[test_df[\"sentiment\"] == \"neg\"].shape[0]))"
      ],
      "execution_count": 13,
      "outputs": [
        {
          "output_type": "stream",
          "text": [
            "TRAIN\n",
            "\t - le nombre total de phrases d’entrainement: 25000\n",
            "              \n",
            "\t - le nombre total de phrases d’entrainement positives: 12500\n",
            "              \n",
            "\t - le nombre total de phrases d’entrainement négatives: 12500\n",
            "\n",
            "TEST\n",
            "\t - le nombre total de phrases de test: 25000\n",
            "              \n",
            "\t - le nombre total de phrases de test positives: 12500\n",
            "              \n",
            "\t - le nombre total de phrases de test négatives: 12500\n",
            "\n"
          ],
          "name": "stdout"
        }
      ]
    },
    {
      "cell_type": "markdown",
      "metadata": {
        "hidden": true,
        "id": "_tVXpVcSh9eY"
      },
      "source": [
        "**b)**\tCréez la fonction `build_voc()` qui extrait les unigrammes de l’ensemble d’entraînement et conserve ceux qui ont une fréquence d’occurrence d'au moins 5 et imprime le nombre de mots dans le vocabulaire. Sauvegardez-le dans un fichier `vocab.txt` (un mot par ligne) dans le répertoire aclImdb."
      ]
    },
    {
      "cell_type": "code",
      "metadata": {
        "id": "0DlUsutVGbvj"
      },
      "source": [
        "def build_voc(corpus, unk_cutoff=5):\n",
        "    unigrams = defaultdict(int)\n",
        "    for review in corpus:\n",
        "        for word in review:\n",
        "            unigrams[word] += 1\n",
        "\n",
        "    print(\"Unigrammes: \" + str(len(unigrams)))\n",
        "\n",
        "    unigrams = {k: v for k, v in sorted(unigrams.items(), key=lambda item: item[1], reverse=True) if v >= 5}\n",
        "\n",
        "    print(\"Taille du vocab (apres filtrage freq > 5): \" + str(len(unigrams)))\n",
        "\n",
        "    f = open('vocab.txt', 'w')\n",
        "    for w in unigrams.keys():\n",
        "        f.write(w + '\\n')\n",
        "\n",
        "    return unigrams"
      ],
      "execution_count": 14,
      "outputs": []
    },
    {
      "cell_type": "code",
      "metadata": {
        "id": "dBdQirmwqPwA",
        "outputId": "74d61155-0505-4e9b-b554-ab2a9a08b201",
        "colab": {
          "base_uri": "https://localhost:8080/",
          "height": 53
        }
      },
      "source": [
        "train_unigrams = build_voc(train_df['text'])"
      ],
      "execution_count": 15,
      "outputs": [
        {
          "output_type": "stream",
          "text": [
            "Unigrammes: 72029\n",
            "Taille du vocab (apres filtrage freq > 5): 27760\n"
          ],
          "name": "stdout"
        }
      ]
    },
    {
      "cell_type": "markdown",
      "metadata": {
        "heading_collapsed": true,
        "id": "oEIUW6EpnvQV"
      },
      "source": [
        "## 2. Matrices de co-occurence (30 points)\n",
        "\n",
        "Pour les matrices de cette section, vous pourrez utiliser [des array `numpy`](https://docs.scipy.org/doc/numpy/reference/arrays.ndarray.html) ou des DataFrame [`pandas`](https://pandas.pydata.org/pandas-docs/stable/). \n",
        "\n",
        "Ressources utiles :  le [*quickstart tutorial*](https://numpy.org/devdocs/user/quickstart.html) de numpy et le guide [10 minutes to pandas](https://pandas.pydata.org/pandas-docs/stable/getting_started/10min.html)."
      ]
    },
    {
      "cell_type": "markdown",
      "metadata": {
        "hidden": true,
        "id": "fadNCxBcnyeT"
      },
      "source": [
        "**a)** A partir des textes du corpus d’entrainement (neg/pos), vous devez construire une matrice de co-occurrence mot × mot M(w,w) qui contient les 5000 unigrammes les plus fréquents sous forme de **cadre panda**. Le contexte de co-occurrence est une fenêtre de +/-5 mots autour du mot cible. Le poids est la fréquence de co-occurrence simple. Sauvegardez votre matrice dans un fichier tp2_mat5.csv dans le répertoire vsm.\n",
        "\n",
        "Attention, le mot lui même de doit pas être compté dans sa co-occurence. Exemple : \n",
        "Corpus: [ \"I go to school every day by bus\", \"i go to theatre every night by bus\"]\n",
        "\n",
        "Co-occurence(\"every\", fenetre=2) = [ (to, 2), (by, 2), (school, 1), (day, 1), (theatre, 1), (night, 1), (bus, 0), (every, 0), (go, 0). (i,0) ]"
      ]
    },
    {
      "cell_type": "code",
      "metadata": {
        "hidden": true,
        "id": "Y-diwyiPno2k",
        "outputId": "412ded66-b80a-4271-c234-289662262b0a",
        "colab": {
          "base_uri": "https://localhost:8080/",
          "height": 198
        }
      },
      "source": [
        "train_top_5000 = list(train_unigrams.keys())[:5000] # or read first 5000 lines from vocab.txt\n",
        "train_5000_df = pd.DataFrame(train_top_5000, columns=['unigram'])\n",
        "train_5000_df.shape\n",
        "train_5000_df.head()"
      ],
      "execution_count": 16,
      "outputs": [
        {
          "output_type": "execute_result",
          "data": {
            "text/html": [
              "<div>\n",
              "<style scoped>\n",
              "    .dataframe tbody tr th:only-of-type {\n",
              "        vertical-align: middle;\n",
              "    }\n",
              "\n",
              "    .dataframe tbody tr th {\n",
              "        vertical-align: top;\n",
              "    }\n",
              "\n",
              "    .dataframe thead th {\n",
              "        text-align: right;\n",
              "    }\n",
              "</style>\n",
              "<table border=\"1\" class=\"dataframe\">\n",
              "  <thead>\n",
              "    <tr style=\"text-align: right;\">\n",
              "      <th></th>\n",
              "      <th>unigram</th>\n",
              "    </tr>\n",
              "  </thead>\n",
              "  <tbody>\n",
              "    <tr>\n",
              "      <th>0</th>\n",
              "      <td>movie</td>\n",
              "    </tr>\n",
              "    <tr>\n",
              "      <th>1</th>\n",
              "      <td>film</td>\n",
              "    </tr>\n",
              "    <tr>\n",
              "      <th>2</th>\n",
              "      <td>one</td>\n",
              "    </tr>\n",
              "    <tr>\n",
              "      <th>3</th>\n",
              "      <td>like</td>\n",
              "    </tr>\n",
              "    <tr>\n",
              "      <th>4</th>\n",
              "      <td>good</td>\n",
              "    </tr>\n",
              "  </tbody>\n",
              "</table>\n",
              "</div>"
            ],
            "text/plain": [
              "  unigram\n",
              "0   movie\n",
              "1    film\n",
              "2     one\n",
              "3    like\n",
              "4    good"
            ]
          },
          "metadata": {
            "tags": []
          },
          "execution_count": 16
        }
      ]
    },
    {
      "cell_type": "markdown",
      "metadata": {
        "hidden": true,
        "id": "-vzXMLl3rEBl"
      },
      "source": [
        "**b)** Calculez maintenant une matrice de cooccurrence mais en ajustant les fréquences basées sur la proximité du mot cible par exemple en les multipliant par 1/𝑑 où d est la distance en jetons (mots) de la cible. Sauvegardez votre matrice (toujours sous forme de cadre panda) dans un fichier tp2_mat5_scaled.csv dans le répertoire vsm."
      ]
    },
    {
      "cell_type": "code",
      "metadata": {
        "hidden": true,
        "id": "QJMjavEYxAiB"
      },
      "source": [
        ""
      ],
      "execution_count": null,
      "outputs": []
    },
    {
      "cell_type": "markdown",
      "metadata": {
        "hidden": true,
        "id": "osW2EZ5utFsf"
      },
      "source": [
        "**c)**\tVous devez créer une fonction `pmi` qui prend le cadre panda de la matrice $M(w,w)$ et un paramètre boolean flag qui est à True lorsque l'on désire calculer PPMI et à False quand on veut calculer PMI. La fonction transforme la matrice en entrée en une matrice $M’(w,w)$ avec les valeurs PMI ou PPMI selon la valeur du paramètre booléen. La fonction retourne le nouveau cadre panda correspondant. "
      ]
    },
    {
      "cell_type": "markdown",
      "metadata": {
        "hidden": true,
        "id": "lksK36hntUHP"
      },
      "source": [
        "Pour une matrice  $X_{m \\times n}$:\n",
        "\n",
        "\n",
        "$$\\textbf{colsum}(X, j) = \\sum_{i=1}^{m}X_{ij}$$\n",
        "\n",
        "$$\\textbf{sum}(X) = \\sum_{i=1}^{m}\\sum_{j=1}^{n} X_{ij}$$\n",
        "\n",
        "$$\\textbf{expected}(X, i, j) = \n",
        "\\frac{\n",
        "  \\textbf{rowsum}(X, i) \\cdot \\textbf{colsum}(X, j)\n",
        "}{\n",
        "  \\textbf{sum}(X)\n",
        "}$$\n",
        "\n",
        "\n",
        "$$\\textbf{pmi}(X, i, j) = \\log\\left(\\frac{X_{ij}}{\\textbf{expected}(X, i, j)}\\right)$$\n",
        "\n",
        "$$\\textbf{ppmi}(X, i, j) = \n",
        "\\begin{cases}\n",
        "\\textbf{pmi}(X, i, j) & \\textrm{if } \\textbf{pmi}(X, i, j) > 0 \\\\\n",
        "0 & \\textrm{otherwise}\n",
        "\\end{cases}$$\n"
      ]
    },
    {
      "cell_type": "code",
      "metadata": {
        "hidden": true,
        "id": "OgkN4mw6r19a"
      },
      "source": [
        "def pmi(df, flag=True):"
      ],
      "execution_count": null,
      "outputs": []
    },
    {
      "cell_type": "markdown",
      "metadata": {
        "hidden": true,
        "id": "U_KI11vmty0c"
      },
      "source": [
        "**d)** Créer les matrice PMIs et PPMIs en vous basant sur les deux matrices que vous avez déjà créée\tSauvegardez vos matrices dans un fichier tp2_mat5<\\_scaled>_{pmi|ppmi}.csv toujours dans le répertoire vsm. \n",
        "\n",
        "(votre nom de fichier doit contenir \"_scaled\" s'il est formé à partir Mww_scaled et \"pmi\" si le flag est false \"ppmi\" sinon) "
      ]
    },
    {
      "cell_type": "code",
      "metadata": {
        "hidden": true,
        "id": "ML-oJwAgt0X4"
      },
      "source": [
        ""
      ],
      "execution_count": null,
      "outputs": []
    },
    {
      "cell_type": "markdown",
      "metadata": {
        "heading_collapsed": true,
        "id": "QwGaKZyZ8h36"
      },
      "source": [
        "## 3. Test de PPMI (20 points)\n",
        "\n",
        "Pour le test des matrices de cooccurrences, nous allons comparer deux mesures de distance entre deux vecteurs, la distance euclidienne et la distance cosinus provenant du module [scipy.spatial.distance](https://docs.scipy.org/doc/scipy/reference/spatial.distance.html)\n",
        "\n",
        "**Distance Euclidienne**\n",
        "\n",
        "La distance euclidienne entre deux vecteurs $u$ et $v$ de dimension $n$ est\n",
        "\n",
        "$$\\textbf{euclidean}(u, v) = \n",
        "\\sqrt{\\sum_{i=1}^{n}|u_{i} - v_{i}|^{2}}$$\n",
        "\n",
        "En deux dimensions, cela correspond à la longueur de la ligne droite entre deux points.\n",
        "\n",
        "**Distance Cosinus**\n",
        "\n",
        "\n",
        "La distance cosinus entre deux vecteurs $u$ et $v$ de dimension $n$ s'écrit :\n",
        "\n",
        "$$\\textbf{cosine}(u, v) = \n",
        "1 - \\frac{\\sum_{i=1}^{n} u_{i} \\cdot v_{i}}{\\|u\\|_{2} \\cdot \\|v\\|_{2}}$$\n",
        "\n",
        "Le terme de droite dans la soustraction mesure l'angle entre $u$ et $v$; on l'appelle la *similarité cosinus* entre $u$ et $v$.\n",
        "\n",
        "\\\\\n",
        "\n",
        "**a)**\tImplémentez la fonction voisins(mot, pd, distance) qui prend un mot en entrée et une métrique de distance et qui retourne les n mots les plus similaires selon la mesure. Pour un mot w, elle ordonne tous les mots du vocabulaire en fonction de leur distance de w en utilisant la métrique de distance distance (par défaut: cosine)sur le vsm pd. Les mesures de distance à tester sont : la distance Euclidienne et la distance cosinus implantées ci-dessus."
      ]
    },
    {
      "cell_type": "code",
      "metadata": {
        "hidden": true,
        "id": "y6WzHmQ08eNG"
      },
      "source": [
        "def voisins(word, df, n, distfunc=cosine):\n",
        "    assert distfunc.__name__ == 'cosine' or distfunc.__name__ == 'euclidean', \"distance metric not supported\"\n",
        "    assert word in df.columns, \"word not in df\"\n",
        "    order = True if distfunc.__name__ == 'euclidean' else False\n",
        "\n",
        "    closest = {}\n",
        "    for w in df.columns:\n",
        "        if w == word:\n",
        "            continue\n",
        "        distance = distfunc(df[word], df[w])\n",
        "        closest[w] = distance\n",
        "    closest = {k: v for k, v in sorted(closest.items(), key=lambda item: item[1], reverse=order)}\n",
        "\n",
        "    return list(closest.keys())[:n], list(closest.values())[:n]"
      ],
      "execution_count": 54,
      "outputs": []
    },
    {
      "cell_type": "code",
      "metadata": {
        "id": "olTBZi7pi3cY",
        "outputId": "82182da0-2b99-4185-a77e-0630e31b3e74",
        "colab": {
          "base_uri": "https://localhost:8080/",
          "height": 107
        }
      },
      "source": [
        "Mtest = pd.DataFrame([[2.0, 10.0, 14.0], [6.0, 14.0, 9.0]], columns=['excellent', 'bon', 'decevant'])\n",
        "print(Mtest.head())\n",
        "print(voisins('bon', Mtest, 5, euclidean))\n",
        "print(voisins('bon', Mtest, 5, cosine))"
      ],
      "execution_count": 55,
      "outputs": [
        {
          "output_type": "stream",
          "text": [
            "   excellent   bon  decevant\n",
            "0        2.0  10.0      14.0\n",
            "1        6.0  14.0       9.0\n",
            "(['excellent', 'decevant'], [11.313708498984761, 6.4031242374328485])\n",
            "(['excellent', 'decevant'], [0.044220991278050015, 0.0710423905158224])\n"
          ],
          "name": "stdout"
        }
      ]
    },
    {
      "cell_type": "markdown",
      "metadata": {
        "hidden": true,
        "id": "ulI3R22m-AQq"
      },
      "source": [
        "**b)** En utilisant le cadre panda associé aux matrices Mww et Mww scaled, trouvez les 5 mots les plus similaires au mot « beautiful » et affichez-les, pour chacune des deux distances."
      ]
    },
    {
      "cell_type": "code",
      "metadata": {
        "hidden": true,
        "id": "7YqjqTYNMOQv"
      },
      "source": [
        "print(voisins('beautiful', Mww, 5, euclidean))\n",
        "print(voisins('beautiful', Mww_scaled, 5, cosine))"
      ],
      "execution_count": null,
      "outputs": []
    },
    {
      "cell_type": "markdown",
      "metadata": {
        "hidden": true,
        "id": "0_yvpfqIBL1a"
      },
      "source": [
        "**c)** En utilisant les cadres panda associés aux matrices PMIs, trouvez les 5 mots les plus similaires au mot « beautiful » et affichez-les, pour chacune des deux distances."
      ]
    },
    {
      "cell_type": "code",
      "metadata": {
        "hidden": true,
        "id": "EHL_A0uEMPzO"
      },
      "source": [
        "print(voisins('beautiful', Mpmi, 5, euclidean))\n",
        "print(voisins('beautiful', Mpmi_scaled, 5, cosine))"
      ],
      "execution_count": null,
      "outputs": []
    },
    {
      "cell_type": "markdown",
      "metadata": {
        "hidden": true,
        "id": "nW9kJOsUBSFf"
      },
      "source": [
        "**d)** En utilisant les cadres panda associés aux matrices PPMIs, trouvez les 5 mots les plus similaires au mot\n",
        "« beautiful » et affichez-les, pour chacune des deux distances. "
      ]
    },
    {
      "cell_type": "code",
      "metadata": {
        "hidden": true,
        "id": "oBb5xv9PMQ9y"
      },
      "source": [
        "print(voisins('beautiful', Mppmi, 5, euclidean))\n",
        "print(voisins('beautiful', Mppmi_scaled, 5, cosine))"
      ],
      "execution_count": null,
      "outputs": []
    },
    {
      "cell_type": "markdown",
      "metadata": {
        "hidden": true,
        "id": "B-Q3RfJXzdF8"
      },
      "source": [
        "**e)** Que constatez-vous entre la différence de performance de la distance euclidienne et la distance cosinus ? Que constatez-vous entre les différents types de matrices de cooccurrence ?"
      ]
    },
    {
      "cell_type": "markdown",
      "metadata": {
        "hidden": true,
        "id": "DcgcU9OtBg5-"
      },
      "source": [
        ""
      ]
    },
    {
      "cell_type": "markdown",
      "metadata": {
        "heading_collapsed": true,
        "id": "q_COF24sBi5N"
      },
      "source": [
        "## 4.\tRéduction de dimensionnalité (20 points)\n",
        "\n",
        "**a)** Ecrivez une fonction lsa qui prend en entrée un cadre panda pd (qui contient votre matrice / vsm) et un paramètre K (qui indique le nombre de dimensions finales), et qui applique LSA avec ce paramètre k sur la matrice et retourne le vsm réduit sous forme de cadre panda."
      ]
    },
    {
      "cell_type": "code",
      "metadata": {
        "hidden": true,
        "id": "T6EjxKAQAvFw"
      },
      "source": [
        "def lsa(df, k=100):"
      ],
      "execution_count": null,
      "outputs": []
    },
    {
      "cell_type": "markdown",
      "metadata": {
        "hidden": true,
        "id": "pZDhlR2ZBwag"
      },
      "source": [
        "**b)** Exécutez lsa sur les cadres panda associés à vos matrices Mww et Mww_scaled avec une dimension k=100"
      ]
    },
    {
      "cell_type": "code",
      "metadata": {
        "hidden": true,
        "id": "4Fh1yGAQBvsg"
      },
      "source": [
        ""
      ],
      "execution_count": null,
      "outputs": []
    },
    {
      "cell_type": "markdown",
      "metadata": {
        "hidden": true,
        "id": "0IQvZbddB4Zp"
      },
      "source": [
        "**c)** En utilisant les matrices de co-occurrence (de base et scalés) réduites avec LSA, trouvez les 5 mots les plus similaires au mot « beautiful » selon la distance cosinus et affichez-les."
      ]
    },
    {
      "cell_type": "code",
      "metadata": {
        "hidden": true,
        "id": "4BPts630Mw3t"
      },
      "source": [
        ""
      ],
      "execution_count": null,
      "outputs": []
    },
    {
      "cell_type": "markdown",
      "metadata": {
        "hidden": true,
        "id": "y_wxbYFPCCCN"
      },
      "source": [
        "d) En utilisant les matrices PMIs et PPMIs réduites avec lsa, trouvez les 5 mots les plus similaires au mot « beautiful » selon la distance cosinus et affichez-les"
      ]
    },
    {
      "cell_type": "code",
      "metadata": {
        "hidden": true,
        "id": "QqgCh0WNM1Jl"
      },
      "source": [
        ""
      ],
      "execution_count": null,
      "outputs": []
    },
    {
      "cell_type": "markdown",
      "metadata": {
        "hidden": true,
        "id": "Qfwq16JtCSFy"
      },
      "source": [
        "**e)** En utilisant sklearn.decomposition.TruncatedSVD, créez les matrices réduites à partir des mêmes matrices que celles de la question précédentes (la matrice pmi et la matrice pmi_scaled) Puis tester ces nouvelles matrices LSA pour trouver les 5 mots les plus similaires au mot « beautiful » \n",
        "\n",
        "Ici aussi, nous voulons aussi obtenir des matrices de dimension k=100"
      ]
    },
    {
      "cell_type": "code",
      "metadata": {
        "hidden": true,
        "id": "Mj-aOpSSM2_O"
      },
      "source": [
        ""
      ],
      "execution_count": null,
      "outputs": []
    },
    {
      "cell_type": "markdown",
      "metadata": {
        "hidden": true,
        "id": "9i7di2PRCTnh"
      },
      "source": [
        "f) Commentez vos résultats"
      ]
    },
    {
      "cell_type": "markdown",
      "metadata": {
        "hidden": true,
        "id": "ubED1oiwNJpm"
      },
      "source": [
        ""
      ]
    },
    {
      "cell_type": "markdown",
      "metadata": {
        "heading_collapsed": true,
        "id": "K3avEFcPG0-e"
      },
      "source": [
        "## 5. Évaluation (10 points)\n",
        "\n",
        "Il est temps d’évaluer l’intérêt de nos modèles de vecteurs. Nous allons pour cela utiliser un ensemble de données de similarité de mots (relatedness) The MEN Test Collection, qui se trouve dans le répertoire test. L’ensemble de données contient une paire de mots avec un score de similarité attribué par des humains. En d’autres termes, une ligne (un exemple) de l’ensemble de données est de la forme : \\<mot_1> \\<mot_2> \\<score>.\n",
        "\n",
        "Pour aligner les distances obtenues avec vos métriques, ce score est converti en nombre réel négatif par la fonction read_test_dataset que vous avez dans le squelette du TP.\n",
        "\n",
        "La métrique d’évaluation est le coefficient de corrélation de Spearman 𝜌 entre les scores humains et vos distances (voir https://en.wikipedia.org/wiki/Spearman%27s_rank_correlation_coefficient). \n",
        "\n",
        "Nous allons maintenant évaluer les différents vsm obtenus sur l'ensemble de données: MEN_dataset.\n"
      ]
    },
    {
      "cell_type": "markdown",
      "metadata": {
        "hidden": true,
        "id": "7j5LjMlav4pQ"
      },
      "source": [
        "#### Fonctions pour lire le jeu de données MEN"
      ]
    },
    {
      "cell_type": "code",
      "metadata": {
        "hidden": true,
        "id": "NodeMtrwGw0O"
      },
      "source": [
        "def read_test_dataset(\n",
        "        src_filename,\n",
        "        delimiter=','):\n",
        "    with open(src_filename) as f:\n",
        "        reader = csv.reader(f, delimiter=delimiter)\n",
        "        for row in reader:\n",
        "            w1 = row[0].strip().lower()\n",
        "            w2 = row[1].strip().lower()\n",
        "            score = row[2]\n",
        "            score = -float(score)\n",
        "            yield (w1, w2, score)"
      ],
      "execution_count": null,
      "outputs": []
    },
    {
      "cell_type": "code",
      "metadata": {
        "hidden": true,
        "id": "sTmkM5EDG-pA"
      },
      "source": [
        "# Retourne un itérable sur le jeu de données MEN\n",
        "def men_dataset():\n",
        "    src_filename = os.path.join(\n",
        "        DIRNAME_MEN, 'MEN_dataset_natural_form_full')\n",
        "    return read_test_dataset(\n",
        "        src_filename, delimiter=' ')"
      ],
      "execution_count": null,
      "outputs": []
    },
    {
      "cell_type": "code",
      "metadata": {
        "hidden": true,
        "id": "uPd__Q4NHUlp"
      },
      "source": [
        "def evaluate(ds, df, distfunc=cosine):\n",
        "    \"\"\"\n",
        "    ds : iterator\n",
        "       retourne des tuples (word1, word2, score).\n",
        "\n",
        "    df : pd.DataFrame\n",
        "        le modèle vsm à évaluer\n",
        "\n",
        "    distfunc : la mesure de distance entre vecteurs\n",
        "  \n",
        "    Retour: le coefficient de correlation de Spearman entre les scores de l'ensemble de données de test \n",
        "    et celui du modele vsm qui se présente sous la forme d'un cadre Panda pd avec les colonnes\n",
        "    ['word1', 'word2', 'score', 'distance'].\n",
        "    \"\"\"\n",
        "    data = []\n",
        "    for w1, w2, score in ds():\n",
        "        d = {'word1': w1, 'word2': w2,'score': score}\n",
        "        if w1 not in df.index or w2 not in df.index:\n",
        "            continue\n",
        "        else:\n",
        "            w1 = df.loc[w1]\n",
        "            w2 = df.loc[w2] \n",
        "        d['distance'] = distfunc(w1, w2)\n",
        "        data.append(d)\n",
        "\n",
        "    data = pd.DataFrame(data)\n",
        "    rho, pvalue = spearmanr(data['score'].values, b=data['distance'].values)\n",
        "    return rho, data"
      ],
      "execution_count": null,
      "outputs": []
    },
    {
      "cell_type": "markdown",
      "metadata": {
        "hidden": true,
        "id": "MBrTrq8BHdLs"
      },
      "source": [
        "**a)**\tTestez chacun de vos modèles vsm (Matrice de base, matrice scalée, les PMIs et PPMIs et toutes les matrices LSA (de base, scalée, pmi, ppmi) en appelant la fonction evaluate avec les deux mesure de distance (euclidienne et cosinus) et affichez vos résultats dans une seule table."
      ]
    },
    {
      "cell_type": "code",
      "metadata": {
        "hidden": true,
        "id": "UL5s4dT4QiX_"
      },
      "source": [
        ""
      ],
      "execution_count": null,
      "outputs": []
    },
    {
      "cell_type": "markdown",
      "metadata": {
        "hidden": true,
        "id": "JjJwYKsTKXCR"
      },
      "source": [
        "**b)**\tCommentez vos résultats d'évaluation"
      ]
    },
    {
      "cell_type": "markdown",
      "metadata": {
        "hidden": true,
        "id": "-ZQhdrxFQjsb"
      },
      "source": [
        ""
      ]
    }
  ]
}