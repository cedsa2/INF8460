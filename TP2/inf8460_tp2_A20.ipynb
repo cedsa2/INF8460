{
  "nbformat": 4,
  "nbformat_minor": 0,
  "metadata": {
    "colab": {
      "name": "inf8460_tp2_A20.ipynb",
      "provenance": [],
      "collapsed_sections": [],
      "toc_visible": true
    },
    "hide_input": false,
    "kernelspec": {
      "display_name": "Python 3",
      "language": "python",
      "name": "python3"
    },
    "language_info": {
      "codemirror_mode": {
        "name": "ipython",
        "version": 3
      },
      "file_extension": ".py",
      "mimetype": "text/x-python",
      "name": "python",
      "nbconvert_exporter": "python",
      "pygments_lexer": "ipython3",
      "version": "3.8.5"
    }
  },
  "cells": [
    {
      "cell_type": "markdown",
      "metadata": {
        "id": "XYaltRsowqfU"
      },
      "source": [
        "## École Polytechnique de Montréal\n",
        "## Département Génie Informatique et Génie Logiciel\n",
        "\n",
        "## INF8460 – Traitement automatique de la langue naturelle - TP2"
      ]
    },
    {
      "cell_type": "markdown",
      "metadata": {
        "id": "92idNN-XwvMP"
      },
      "source": [
        "## Objectifs d'apprentissage: \n",
        "\n",
        "•\tExplorer les modèles d’espace vectoriel (vector space models) comme représentations distribuées de la sémantique des mots \n",
        "•\tImplémenter la fréquence de co-occurrence et la PPMI\n",
        "•\tComprendre différentes mesures de distance entre vecteurs de mots \n",
        "•\tExplorer l’intérêt de la réduction de dimensionnalité \n",
        "\n"
      ]
    },
    {
      "cell_type": "markdown",
      "metadata": {
        "id": "wEoOfK-Rw3zT"
      },
      "source": [
        "## Équipe et contributions \n",
        "Veuillez indiquer la contribution effective de chaque membre de l'équipe en pourcentage et en indiquant les modules ou questions sur lesquelles chaque membre a travaillé"
      ]
    },
    {
      "cell_type": "markdown",
      "metadata": {
        "id": "a0mJOdtlw4xC"
      },
      "source": [
        "Cedric Sadeu (1869737): 1/3\n",
        "\n",
        "Mamoudou Sacko (1924187): 1/3\n",
        "\n",
        "Oumayma Messoussi (2016797): 1/3"
      ]
    },
    {
      "cell_type": "markdown",
      "metadata": {
        "id": "qu3pnt6mPiNZ"
      },
      "source": [
        "\n",
        "\n",
        "## Support de google Colab\n",
        "\n"
      ]
    },
    {
      "cell_type": "code",
      "metadata": {
        "id": "x-U9ANA6ZV27",
        "outputId": "14626408-5fad-490b-eb30-b6afa3db34db",
        "colab": {
          "base_uri": "https://localhost:8080/",
          "height": 411
        }
      },
      "source": [
        "!wget http://ai.stanford.edu/~amaas/data/sentiment/aclImdb_v1.tar.gz\n",
        "!wget https://staff.fnwi.uva.nl/e.bruni/resources/MEN.tar.gz"
      ],
      "execution_count": 1,
      "outputs": [
        {
          "output_type": "stream",
          "text": [
            "--2020-10-04 23:15:11--  http://ai.stanford.edu/~amaas/data/sentiment/aclImdb_v1.tar.gz\n",
            "Resolving ai.stanford.edu (ai.stanford.edu)... 171.64.68.10\n",
            "Connecting to ai.stanford.edu (ai.stanford.edu)|171.64.68.10|:80... connected.\n",
            "HTTP request sent, awaiting response... 200 OK\n",
            "Length: 84125825 (80M) [application/x-gzip]\n",
            "Saving to: ‘aclImdb_v1.tar.gz’\n",
            "\n",
            "aclImdb_v1.tar.gz   100%[===================>]  80.23M  24.1MB/s    in 5.0s    \n",
            "\n",
            "2020-10-04 23:15:17 (16.2 MB/s) - ‘aclImdb_v1.tar.gz’ saved [84125825/84125825]\n",
            "\n",
            "--2020-10-04 23:15:17--  https://staff.fnwi.uva.nl/e.bruni/resources/MEN.tar.gz\n",
            "Resolving staff.fnwi.uva.nl (staff.fnwi.uva.nl)... 146.50.61.62\n",
            "Connecting to staff.fnwi.uva.nl (staff.fnwi.uva.nl)|146.50.61.62|:443... connected.\n",
            "HTTP request sent, awaiting response... 200 OK\n",
            "Length: 90373 (88K) [application/x-gzip]\n",
            "Saving to: ‘MEN.tar.gz’\n",
            "\n",
            "MEN.tar.gz          100%[===================>]  88.25K   238KB/s    in 0.4s    \n",
            "\n",
            "2020-10-04 23:15:18 (238 KB/s) - ‘MEN.tar.gz’ saved [90373/90373]\n",
            "\n"
          ],
          "name": "stdout"
        }
      ]
    },
    {
      "cell_type": "code",
      "metadata": {
        "id": "mVrz-1_uZApz"
      },
      "source": [
        "! tar -xzf aclImdb_v1.tar.gz\n",
        "! tar -xzf MEN.tar.gz\n",
        "! mkdir -p vsm"
      ],
      "execution_count": 2,
      "outputs": []
    },
    {
      "cell_type": "markdown",
      "metadata": {
        "id": "TewW7eDjPbjs"
      },
      "source": [
        "## Librairies externes"
      ]
    },
    {
      "cell_type": "code",
      "metadata": {
        "id": "rK102dx5Poti",
        "outputId": "af20b018-980b-44a0-c59b-dfcab5fc9681",
        "colab": {
          "base_uri": "https://localhost:8080/",
          "height": 107
        }
      },
      "source": [
        "import nltk\n",
        "nltk.download('stopwords')\n",
        "nltk.download('punkt')"
      ],
      "execution_count": 3,
      "outputs": [
        {
          "output_type": "stream",
          "text": [
            "[nltk_data] Downloading package stopwords to /root/nltk_data...\n",
            "[nltk_data]   Unzipping corpora/stopwords.zip.\n",
            "[nltk_data] Downloading package punkt to /root/nltk_data...\n",
            "[nltk_data]   Unzipping tokenizers/punkt.zip.\n"
          ],
          "name": "stdout"
        },
        {
          "output_type": "execute_result",
          "data": {
            "text/plain": [
              "True"
            ]
          },
          "metadata": {
            "tags": []
          },
          "execution_count": 3
        }
      ]
    },
    {
      "cell_type": "code",
      "metadata": {
        "id": "kClu3RY7YFfv"
      },
      "source": [
        "from collections import Counter, defaultdict\n",
        "from itertools import chain\n",
        "from bs4 import BeautifulSoup\n",
        "import csv\n",
        "import itertools\n",
        "import numpy as np\n",
        "import os\n",
        "import pandas as pd\n",
        "import glob\n",
        "import re\n",
        "import math\n",
        "\n",
        "from nltk.corpus import stopwords as all_stopwords\n",
        "from nltk import word_tokenize\n",
        "from nltk.util import ngrams\n",
        "from collections import Counter\n",
        "\n",
        "from scipy.stats import spearmanr\n",
        "from scipy.spatial.distance import euclidean, cosine\n",
        "from IPython.display import display\n",
        "from sklearn.decomposition import TruncatedSVD"
      ],
      "execution_count": 43,
      "outputs": []
    },
    {
      "cell_type": "markdown",
      "metadata": {
        "id": "7oRJolmeRlxW"
      },
      "source": [
        "## Valeurs globales"
      ]
    },
    {
      "cell_type": "code",
      "metadata": {
        "id": "QqfHWnRoRlFY"
      },
      "source": [
        "DIRNAME_ACL =  os.path.join(os.getcwd(), \"aclImdb/\")\n",
        "DIRNAME_MEN =  os.path.join(os.getcwd(), \"MEN/\")\n",
        "DIRNAME_VSM =  os.path.join(os.getcwd(), \"vsm\")"
      ],
      "execution_count": 5,
      "outputs": []
    },
    {
      "cell_type": "markdown",
      "metadata": {
        "heading_collapsed": true,
        "id": "hGQ15KsihAOp"
      },
      "source": [
        "## 1. Prétraitement (20 points)\n",
        "\n",
        "**a)**\tLe jeu de données est séparé en deux répertoires `train/`et `test`, chacun contenant eux-mêmes deux sous-répertoires `pos/` et `neg/` pour les revues positives et négatives. Un fichier `readme` décrit plus précisément les données. Commencez par lire ces données, en gardant séparées les données d'entraînement et de test. La fonction doit mettre les mots en minuscules,  supprimer les stopwords (vous devez utiliser ceux de NLTK) et afficher le nombre total de phrases d’entrainement,  le nombre total de phrases d’entrainement positives et négatives et le nombre total de phrases de test avec le nombre total de phrases de test positives et négatives ;"
      ]
    },
    {
      "cell_type": "code",
      "metadata": {
        "hidden": true,
        "id": "5Lk9pYtUKWvf"
      },
      "source": [
        "train_data = {'id': [], 'text': [], 'rating': [], 'sentiment': []}\n",
        "test_data = {'id': [], 'text': [], 'rating': [], 'sentiment': []}\n",
        "\n",
        "for name in ['train/pos', 'train/neg']:\n",
        "    sentiment = name.split('/')[1]\n",
        "    for file in glob.glob(DIRNAME_ACL+name+\"/*.txt\"):\n",
        "        review_id = int(file.split(\"/\")[-1].split(\".\")[0].split(\"_\")[0])\n",
        "        rating = int(file.split(\"/\")[-1].split(\".\")[0].split(\"_\")[1]) / 10\n",
        "        f = open(file, encoding=\"utf8\")\n",
        "        content = f.read()\n",
        "        \n",
        "        train_data['id'].append(review_id)\n",
        "        train_data['text'].append(content)\n",
        "        train_data['rating'].append(rating)\n",
        "        train_data['sentiment'].append(sentiment)\n",
        "                \n",
        "for name in ['test/pos', 'test/neg']:\n",
        "    sentiment = name.split('/')[1]\n",
        "    for file in glob.glob(DIRNAME_ACL+name+\"/*.txt\"):\n",
        "        review_id = int(file.split(\"/\")[-1].split(\".\")[0].split(\"_\")[0])\n",
        "        rating = int(file.split(\"/\")[-1].split(\".\")[0].split(\"_\")[1]) / 10\n",
        "        f = open(file, encoding=\"utf8\")\n",
        "        content = f.read()\n",
        "        \n",
        "        test_data['id'].append(review_id)\n",
        "        test_data['text'].append(content)\n",
        "        test_data['rating'].append(rating)\n",
        "        test_data['sentiment'].append(sentiment)\n",
        "\n",
        "train_df = pd.DataFrame (train_data, columns = ['id', 'text', 'rating', 'sentiment'])\n",
        "test_df = pd.DataFrame (test_data, columns = ['id', 'text', 'rating', 'sentiment'])"
      ],
      "execution_count": 6,
      "outputs": []
    },
    {
      "cell_type": "code",
      "metadata": {
        "id": "a24NJt1fqPvX",
        "outputId": "ecf69b56-1b0e-42e3-ccf1-3a153d2036f0",
        "colab": {
          "base_uri": "https://localhost:8080/",
          "height": 216
        }
      },
      "source": [
        "print(train_df.shape)\n",
        "train_df.head()"
      ],
      "execution_count": 7,
      "outputs": [
        {
          "output_type": "stream",
          "text": [
            "(25000, 4)\n"
          ],
          "name": "stdout"
        },
        {
          "output_type": "execute_result",
          "data": {
            "text/html": [
              "<div>\n",
              "<style scoped>\n",
              "    .dataframe tbody tr th:only-of-type {\n",
              "        vertical-align: middle;\n",
              "    }\n",
              "\n",
              "    .dataframe tbody tr th {\n",
              "        vertical-align: top;\n",
              "    }\n",
              "\n",
              "    .dataframe thead th {\n",
              "        text-align: right;\n",
              "    }\n",
              "</style>\n",
              "<table border=\"1\" class=\"dataframe\">\n",
              "  <thead>\n",
              "    <tr style=\"text-align: right;\">\n",
              "      <th></th>\n",
              "      <th>id</th>\n",
              "      <th>text</th>\n",
              "      <th>rating</th>\n",
              "      <th>sentiment</th>\n",
              "    </tr>\n",
              "  </thead>\n",
              "  <tbody>\n",
              "    <tr>\n",
              "      <th>0</th>\n",
              "      <td>11003</td>\n",
              "      <td>Listen, I don't care what anybody says, as Cyp...</td>\n",
              "      <td>1.0</td>\n",
              "      <td>pos</td>\n",
              "    </tr>\n",
              "    <tr>\n",
              "      <th>1</th>\n",
              "      <td>7621</td>\n",
              "      <td>Lost, probably the best t.v series ever made. ...</td>\n",
              "      <td>1.0</td>\n",
              "      <td>pos</td>\n",
              "    </tr>\n",
              "    <tr>\n",
              "      <th>2</th>\n",
              "      <td>575</td>\n",
              "      <td>Great drama with all the areas covered EXCEPT ...</td>\n",
              "      <td>1.0</td>\n",
              "      <td>pos</td>\n",
              "    </tr>\n",
              "    <tr>\n",
              "      <th>3</th>\n",
              "      <td>5957</td>\n",
              "      <td>The title says it all.&lt;br /&gt;&lt;br /&gt;I'm not a fi...</td>\n",
              "      <td>0.9</td>\n",
              "      <td>pos</td>\n",
              "    </tr>\n",
              "    <tr>\n",
              "      <th>4</th>\n",
              "      <td>10981</td>\n",
              "      <td>Hey now, yours truly, TheatreX, found this whi...</td>\n",
              "      <td>0.8</td>\n",
              "      <td>pos</td>\n",
              "    </tr>\n",
              "  </tbody>\n",
              "</table>\n",
              "</div>"
            ],
            "text/plain": [
              "      id                                               text  rating sentiment\n",
              "0  11003  Listen, I don't care what anybody says, as Cyp...     1.0       pos\n",
              "1   7621  Lost, probably the best t.v series ever made. ...     1.0       pos\n",
              "2    575  Great drama with all the areas covered EXCEPT ...     1.0       pos\n",
              "3   5957  The title says it all.<br /><br />I'm not a fi...     0.9       pos\n",
              "4  10981  Hey now, yours truly, TheatreX, found this whi...     0.8       pos"
            ]
          },
          "metadata": {
            "tags": []
          },
          "execution_count": 7
        }
      ]
    },
    {
      "cell_type": "code",
      "metadata": {
        "id": "gXhEHXM0qPvd",
        "outputId": "a68dd9dd-afdb-4538-eb61-bd52f86dd44d",
        "colab": {
          "base_uri": "https://localhost:8080/",
          "height": 216
        }
      },
      "source": [
        "print(test_df.shape)\n",
        "test_df.head()"
      ],
      "execution_count": 8,
      "outputs": [
        {
          "output_type": "stream",
          "text": [
            "(25000, 4)\n"
          ],
          "name": "stdout"
        },
        {
          "output_type": "execute_result",
          "data": {
            "text/html": [
              "<div>\n",
              "<style scoped>\n",
              "    .dataframe tbody tr th:only-of-type {\n",
              "        vertical-align: middle;\n",
              "    }\n",
              "\n",
              "    .dataframe tbody tr th {\n",
              "        vertical-align: top;\n",
              "    }\n",
              "\n",
              "    .dataframe thead th {\n",
              "        text-align: right;\n",
              "    }\n",
              "</style>\n",
              "<table border=\"1\" class=\"dataframe\">\n",
              "  <thead>\n",
              "    <tr style=\"text-align: right;\">\n",
              "      <th></th>\n",
              "      <th>id</th>\n",
              "      <th>text</th>\n",
              "      <th>rating</th>\n",
              "      <th>sentiment</th>\n",
              "    </tr>\n",
              "  </thead>\n",
              "  <tbody>\n",
              "    <tr>\n",
              "      <th>0</th>\n",
              "      <td>569</td>\n",
              "      <td>This is a fascinating documentary about a 15 y...</td>\n",
              "      <td>0.7</td>\n",
              "      <td>pos</td>\n",
              "    </tr>\n",
              "    <tr>\n",
              "      <th>1</th>\n",
              "      <td>10319</td>\n",
              "      <td>For the record, I am a Curly fan through and t...</td>\n",
              "      <td>0.8</td>\n",
              "      <td>pos</td>\n",
              "    </tr>\n",
              "    <tr>\n",
              "      <th>2</th>\n",
              "      <td>1192</td>\n",
              "      <td>I Won't say anything about music, because this...</td>\n",
              "      <td>1.0</td>\n",
              "      <td>pos</td>\n",
              "    </tr>\n",
              "    <tr>\n",
              "      <th>3</th>\n",
              "      <td>1091</td>\n",
              "      <td>Nana Patekar once again proves that he is the ...</td>\n",
              "      <td>0.7</td>\n",
              "      <td>pos</td>\n",
              "    </tr>\n",
              "    <tr>\n",
              "      <th>4</th>\n",
              "      <td>4616</td>\n",
              "      <td>At 2:37, a high school student commits suicide...</td>\n",
              "      <td>0.9</td>\n",
              "      <td>pos</td>\n",
              "    </tr>\n",
              "  </tbody>\n",
              "</table>\n",
              "</div>"
            ],
            "text/plain": [
              "      id                                               text  rating sentiment\n",
              "0    569  This is a fascinating documentary about a 15 y...     0.7       pos\n",
              "1  10319  For the record, I am a Curly fan through and t...     0.8       pos\n",
              "2   1192  I Won't say anything about music, because this...     1.0       pos\n",
              "3   1091  Nana Patekar once again proves that he is the ...     0.7       pos\n",
              "4   4616  At 2:37, a high school student commits suicide...     0.9       pos"
            ]
          },
          "metadata": {
            "tags": []
          },
          "execution_count": 8
        }
      ]
    },
    {
      "cell_type": "code",
      "metadata": {
        "id": "8QkY2X64qPvk"
      },
      "source": [
        "def preprocess(review):\n",
        "    soup = BeautifulSoup(review, \"html.parser\")\n",
        "    text = soup.get_text()\n",
        "    stop_words = set(all_stopwords.words('english'))\n",
        "    \n",
        "    tokens = nltk.word_tokenize(text.lower())\n",
        "    return [w for w in tokens if w.isalpha() and not w in stop_words] "
      ],
      "execution_count": 9,
      "outputs": []
    },
    {
      "cell_type": "code",
      "metadata": {
        "id": "Lboz72YyqPvo"
      },
      "source": [
        "%time\n",
        "train_df['text'] = train_df['text'].apply(preprocess)\n",
        "test_df['text'] = test_df['text'].apply(preprocess)"
      ],
      "execution_count": 10,
      "outputs": []
    },
    {
      "cell_type": "code",
      "metadata": {
        "id": "gSJ0xg41qPvs",
        "outputId": "9096bc9e-b4af-4a40-de18-ce61c35f5d00",
        "colab": {
          "base_uri": "https://localhost:8080/",
          "height": 216
        }
      },
      "source": [
        "print(train_df.shape)\n",
        "train_df.head()"
      ],
      "execution_count": 11,
      "outputs": [
        {
          "output_type": "stream",
          "text": [
            "(25000, 4)\n"
          ],
          "name": "stdout"
        },
        {
          "output_type": "execute_result",
          "data": {
            "text/html": [
              "<div>\n",
              "<style scoped>\n",
              "    .dataframe tbody tr th:only-of-type {\n",
              "        vertical-align: middle;\n",
              "    }\n",
              "\n",
              "    .dataframe tbody tr th {\n",
              "        vertical-align: top;\n",
              "    }\n",
              "\n",
              "    .dataframe thead th {\n",
              "        text-align: right;\n",
              "    }\n",
              "</style>\n",
              "<table border=\"1\" class=\"dataframe\">\n",
              "  <thead>\n",
              "    <tr style=\"text-align: right;\">\n",
              "      <th></th>\n",
              "      <th>id</th>\n",
              "      <th>text</th>\n",
              "      <th>rating</th>\n",
              "      <th>sentiment</th>\n",
              "    </tr>\n",
              "  </thead>\n",
              "  <tbody>\n",
              "    <tr>\n",
              "      <th>0</th>\n",
              "      <td>11003</td>\n",
              "      <td>[listen, care, anybody, says, cypher, nothing,...</td>\n",
              "      <td>1.0</td>\n",
              "      <td>pos</td>\n",
              "    </tr>\n",
              "    <tr>\n",
              "      <th>1</th>\n",
              "      <td>7621</td>\n",
              "      <td>[lost, probably, best, series, ever, made, sto...</td>\n",
              "      <td>1.0</td>\n",
              "      <td>pos</td>\n",
              "    </tr>\n",
              "    <tr>\n",
              "      <th>2</th>\n",
              "      <td>575</td>\n",
              "      <td>[great, drama, areas, covered, except, screenl...</td>\n",
              "      <td>1.0</td>\n",
              "      <td>pos</td>\n",
              "    </tr>\n",
              "    <tr>\n",
              "      <th>3</th>\n",
              "      <td>5957</td>\n",
              "      <td>[title, says, film, critic, act, like, rest, s...</td>\n",
              "      <td>0.9</td>\n",
              "      <td>pos</td>\n",
              "    </tr>\n",
              "    <tr>\n",
              "      <th>4</th>\n",
              "      <td>10981</td>\n",
              "      <td>[hey, truly, theatrex, found, grubbing, videos...</td>\n",
              "      <td>0.8</td>\n",
              "      <td>pos</td>\n",
              "    </tr>\n",
              "  </tbody>\n",
              "</table>\n",
              "</div>"
            ],
            "text/plain": [
              "      id                                               text  rating sentiment\n",
              "0  11003  [listen, care, anybody, says, cypher, nothing,...     1.0       pos\n",
              "1   7621  [lost, probably, best, series, ever, made, sto...     1.0       pos\n",
              "2    575  [great, drama, areas, covered, except, screenl...     1.0       pos\n",
              "3   5957  [title, says, film, critic, act, like, rest, s...     0.9       pos\n",
              "4  10981  [hey, truly, theatrex, found, grubbing, videos...     0.8       pos"
            ]
          },
          "metadata": {
            "tags": []
          },
          "execution_count": 11
        }
      ]
    },
    {
      "cell_type": "code",
      "metadata": {
        "id": "5GyWSOQbqPvv",
        "outputId": "a28d980a-ae9a-4c63-b670-6ab77fc3013b",
        "colab": {
          "base_uri": "https://localhost:8080/",
          "height": 216
        }
      },
      "source": [
        "print(test_df.shape)\n",
        "test_df.head()"
      ],
      "execution_count": 12,
      "outputs": [
        {
          "output_type": "stream",
          "text": [
            "(25000, 4)\n"
          ],
          "name": "stdout"
        },
        {
          "output_type": "execute_result",
          "data": {
            "text/html": [
              "<div>\n",
              "<style scoped>\n",
              "    .dataframe tbody tr th:only-of-type {\n",
              "        vertical-align: middle;\n",
              "    }\n",
              "\n",
              "    .dataframe tbody tr th {\n",
              "        vertical-align: top;\n",
              "    }\n",
              "\n",
              "    .dataframe thead th {\n",
              "        text-align: right;\n",
              "    }\n",
              "</style>\n",
              "<table border=\"1\" class=\"dataframe\">\n",
              "  <thead>\n",
              "    <tr style=\"text-align: right;\">\n",
              "      <th></th>\n",
              "      <th>id</th>\n",
              "      <th>text</th>\n",
              "      <th>rating</th>\n",
              "      <th>sentiment</th>\n",
              "    </tr>\n",
              "  </thead>\n",
              "  <tbody>\n",
              "    <tr>\n",
              "      <th>0</th>\n",
              "      <td>569</td>\n",
              "      <td>[fascinating, documentary, year, old, black, l...</td>\n",
              "      <td>0.7</td>\n",
              "      <td>pos</td>\n",
              "    </tr>\n",
              "    <tr>\n",
              "      <th>1</th>\n",
              "      <td>10319</td>\n",
              "      <td>[record, curly, fan, say, reality, shemp, real...</td>\n",
              "      <td>0.8</td>\n",
              "      <td>pos</td>\n",
              "    </tr>\n",
              "    <tr>\n",
              "      <th>2</th>\n",
              "      <td>1192</td>\n",
              "      <td>[wo, say, anything, music, topic, deep, become...</td>\n",
              "      <td>1.0</td>\n",
              "      <td>pos</td>\n",
              "    </tr>\n",
              "    <tr>\n",
              "      <th>3</th>\n",
              "      <td>1091</td>\n",
              "      <td>[nana, patekar, proves, best, actor, working, ...</td>\n",
              "      <td>0.7</td>\n",
              "      <td>pos</td>\n",
              "    </tr>\n",
              "    <tr>\n",
              "      <th>4</th>\n",
              "      <td>4616</td>\n",
              "      <td>[high, school, student, commits, suicide, show...</td>\n",
              "      <td>0.9</td>\n",
              "      <td>pos</td>\n",
              "    </tr>\n",
              "  </tbody>\n",
              "</table>\n",
              "</div>"
            ],
            "text/plain": [
              "      id                                               text  rating sentiment\n",
              "0    569  [fascinating, documentary, year, old, black, l...     0.7       pos\n",
              "1  10319  [record, curly, fan, say, reality, shemp, real...     0.8       pos\n",
              "2   1192  [wo, say, anything, music, topic, deep, become...     1.0       pos\n",
              "3   1091  [nana, patekar, proves, best, actor, working, ...     0.7       pos\n",
              "4   4616  [high, school, student, commits, suicide, show...     0.9       pos"
            ]
          },
          "metadata": {
            "tags": []
          },
          "execution_count": 12
        }
      ]
    },
    {
      "cell_type": "code",
      "metadata": {
        "id": "gkdaAuybqPv0",
        "outputId": "67431ce8-07c3-4448-96d5-e4d4cd55c35a",
        "colab": {
          "base_uri": "https://localhost:8080/",
          "height": 268
        }
      },
      "source": [
        "print(\"\"\"TRAIN\\n\\t - le nombre total de phrases d’entrainement: %d\n",
        "              \\n\\t - le nombre total de phrases d’entrainement positives: %d\n",
        "              \\n\\t - le nombre total de phrases d’entrainement négatives: %d\\n\"\"\" % \n",
        "      (train_df.shape[0], train_df[train_df[\"sentiment\"] == \"pos\"].shape[0], \n",
        "       train_df[train_df[\"sentiment\"] == \"neg\"].shape[0]))\n",
        "\n",
        "print(\"\"\"TEST\\n\\t - le nombre total de phrases de test: %d\n",
        "              \\n\\t - le nombre total de phrases de test positives: %d\n",
        "              \\n\\t - le nombre total de phrases de test négatives: %d\\n\"\"\" % \n",
        "      (test_df.shape[0], test_df[test_df[\"sentiment\"] == \"pos\"].shape[0], \n",
        "       test_df[test_df[\"sentiment\"] == \"neg\"].shape[0]))"
      ],
      "execution_count": 13,
      "outputs": [
        {
          "output_type": "stream",
          "text": [
            "TRAIN\n",
            "\t - le nombre total de phrases d’entrainement: 25000\n",
            "              \n",
            "\t - le nombre total de phrases d’entrainement positives: 12500\n",
            "              \n",
            "\t - le nombre total de phrases d’entrainement négatives: 12500\n",
            "\n",
            "TEST\n",
            "\t - le nombre total de phrases de test: 25000\n",
            "              \n",
            "\t - le nombre total de phrases de test positives: 12500\n",
            "              \n",
            "\t - le nombre total de phrases de test négatives: 12500\n",
            "\n"
          ],
          "name": "stdout"
        }
      ]
    },
    {
      "cell_type": "markdown",
      "metadata": {
        "hidden": true,
        "id": "_tVXpVcSh9eY"
      },
      "source": [
        "**b)**\tCréez la fonction `build_voc()` qui extrait les unigrammes de l’ensemble d’entraînement et conserve ceux qui ont une fréquence d’occurrence d'au moins 5 et imprime le nombre de mots dans le vocabulaire. Sauvegardez-le dans un fichier `vocab.txt` (un mot par ligne) dans le répertoire aclImdb."
      ]
    },
    {
      "cell_type": "code",
      "metadata": {
        "id": "0DlUsutVGbvj"
      },
      "source": [
        "def build_voc(corpus, unk_cutoff=5):\n",
        "    unigrams = defaultdict(int)\n",
        "    for review in corpus:\n",
        "        for word in review:\n",
        "            unigrams[word] += 1\n",
        "\n",
        "    print(\"Unigrammes: \" + str(len(unigrams)))\n",
        "\n",
        "    unigrams = {k: v for k, v in sorted(unigrams.items(), key=lambda item: item[1], reverse=True) if v >= 5}\n",
        "\n",
        "    print(\"Taille du vocab (apres filtrage freq > 5): \" + str(len(unigrams)))\n",
        "\n",
        "    f = open('vocab.txt', 'w')\n",
        "    for w in unigrams.keys():\n",
        "        f.write(w + '\\n')\n",
        "\n",
        "    return unigrams"
      ],
      "execution_count": 14,
      "outputs": []
    },
    {
      "cell_type": "code",
      "metadata": {
        "id": "dBdQirmwqPwA",
        "outputId": "b2b6d449-0ae7-4554-c217-15faa172e436",
        "colab": {
          "base_uri": "https://localhost:8080/",
          "height": 53
        }
      },
      "source": [
        "train_unigrams = build_voc(train_df['text'])"
      ],
      "execution_count": 15,
      "outputs": [
        {
          "output_type": "stream",
          "text": [
            "Unigrammes: 72029\n",
            "Taille du vocab (apres filtrage freq > 5): 27760\n"
          ],
          "name": "stdout"
        }
      ]
    },
    {
      "cell_type": "markdown",
      "metadata": {
        "heading_collapsed": true,
        "id": "oEIUW6EpnvQV"
      },
      "source": [
        "## 2. Matrices de co-occurence (30 points)\n",
        "\n",
        "Pour les matrices de cette section, vous pourrez utiliser [des array `numpy`](https://docs.scipy.org/doc/numpy/reference/arrays.ndarray.html) ou des DataFrame [`pandas`](https://pandas.pydata.org/pandas-docs/stable/). \n",
        "\n",
        "Ressources utiles :  le [*quickstart tutorial*](https://numpy.org/devdocs/user/quickstart.html) de numpy et le guide [10 minutes to pandas](https://pandas.pydata.org/pandas-docs/stable/getting_started/10min.html)."
      ]
    },
    {
      "cell_type": "markdown",
      "metadata": {
        "hidden": true,
        "id": "fadNCxBcnyeT"
      },
      "source": [
        "**a)** A partir des textes du corpus d’entrainement (neg/pos), vous devez construire une matrice de co-occurrence mot × mot M(w,w) qui contient les 5000 unigrammes les plus fréquents sous forme de **cadre panda**. Le contexte de co-occurrence est une fenêtre de +/-5 mots autour du mot cible. Le poids est la fréquence de co-occurrence simple. Sauvegardez votre matrice dans un fichier tp2_mat5.csv dans le répertoire vsm.\n",
        "\n",
        "Attention, le mot lui même de doit pas être compté dans sa co-occurence. Exemple : \n",
        "Corpus: [ \"I go to school every day by bus\", \"i go to theatre every night by bus\"]\n",
        "\n",
        "Co-occurence(\"every\", fenetre=2) = [ (to, 2), (by, 2), (school, 1), (day, 1), (theatre, 1), (night, 1), (bus, 0), (every, 0), (go, 0). (i,0) ]"
      ]
    },
    {
      "cell_type": "code",
      "metadata": {
        "id": "s0k2JNJq4Op8"
      },
      "source": [
        "def get_neighbours(list_words, index, N, is_distance):\n",
        "    result = []\n",
        "    try:\n",
        "        word = list_words[index]\n",
        "    except:\n",
        "        return result\n",
        "    max_index =  index + N\n",
        "    if max_index >= len(list_words):\n",
        "        max_index = len(list_words) - 1\n",
        "    min_index = index - N\n",
        "    if min_index < 0:\n",
        "        min_index = 0\n",
        "    if is_distance:\n",
        "        while(min_index <= max_index):\n",
        "            if list_words[min_index] != word:\n",
        "                result.append(((word, list_words[min_index]), 1 / (min_index - index)))\n",
        "            min_index += 1\n",
        "    else:\n",
        "        while(min_index <= max_index):\n",
        "            if list_words[min_index] != word:\n",
        "                result.append((word, list_words[min_index]))\n",
        "            min_index += 1\n",
        "    return result\n",
        "\n",
        "def neighbours_grapper(list_words, word, N, is_distance):\n",
        "    #if list_words is empty return\n",
        "    if not list_words:\n",
        "        return []\n",
        "    #find all indexes of word\n",
        "    indexes = [i for i, w in enumerate(list_words) if w == word] \n",
        "    #if indexes is empty return\n",
        "    if not indexes:\n",
        "        return []\n",
        "    result = []\n",
        "    for i in indexes:\n",
        "        result.extend(get_neighbours(list_words, i, N, is_distance))\n",
        "    return result\n",
        "\n",
        "def neighbours_corpus(corpus, N, unigramme_list, is_distance):\n",
        "    result = []\n",
        "    for word in unigramme_list:\n",
        "        for sentence in corpus:\n",
        "            sentence = re.split(r'\\s', sentence)\n",
        "            result.extend(neighbours_grapper(sentence, word, N, is_distance))\n",
        "    return result\n",
        "\n",
        "def dict_tuple_creator(tuple_list):\n",
        "    dict_tuple = Counter(tuple_list)\n",
        "    return dict(dict_tuple)\n",
        "\n",
        "def matrix_creator(dict_tuple, unigramme_list):\n",
        "    # avoir un dict avec key (mot1 , mot2) et frequence comme value\n",
        "    # creer une matrice 5000 * 5000 et la remplir de zero\n",
        "    # parcourir le dictionnaire:\n",
        "    #   pour chaque key (mot1 , mot2): find la position du mot1 et du mot2 dans la matrice\n",
        "    #                           pour avoir ces coordonnes (pos1, pos2) dans la matrice\n",
        "    # mettre la value correspondante a cette key a (pos1, pos2) dans la matrice\n",
        "    N = len(unigramme_list)\n",
        "    list_zero = [0] * N\n",
        "    mat_result = [list_zero] * N\n",
        "    for key in dict_tuple.keys():\n",
        "        try:\n",
        "            x = unigramme_list.index(key[0])\n",
        "            y = unigramme_list.index(key[1])\n",
        "        except ValueError:\n",
        "            continue\n",
        "        mat_result[x][y] = dict_tuple[key]\n",
        "    \n",
        "    return mat_result\n",
        "\n",
        "def mat_list_to_df(mat_result, unigramme_list):\n",
        "    arr = np.array(mat_result)\n",
        "    t_arr = arr.T\n",
        "    arr_list = t_arr.tolist()\n",
        "    dict_result = {}\n",
        "    for i, word in enumerate(unigramme_list):\n",
        "        dict_result[word] = arr_list[i]\n",
        "    df = pd.DataFrame(data = dict_result, index = unigramme_list)\n",
        "    return df"
      ],
      "execution_count": 29,
      "outputs": []
    },
    {
      "cell_type": "code",
      "metadata": {
        "id": "_-yMkYfL7uDk",
        "outputId": "b8aa1567-7422-4997-bb91-9641390f145c",
        "colab": {
          "base_uri": "https://localhost:8080/",
          "height": 35
        }
      },
      "source": [
        "train_top_5000 = list(train_unigrams.keys())[:5000] # or read first 5000 lines from vocab.txt\n",
        "train_5000_df = pd.DataFrame(train_top_5000, columns=['unigram'])\n",
        "train_5000_df.shape\n",
        "train_5000_df.head()\n",
        "\n",
        "corpus = list(train_df['text'])\n",
        "corpus = [' '.join(sentence) for sentence in corpus]\n",
        "print(len(corpus))"
      ],
      "execution_count": 26,
      "outputs": [
        {
          "output_type": "stream",
          "text": [
            "25000\n"
          ],
          "name": "stdout"
        }
      ]
    },
    {
      "cell_type": "code",
      "metadata": {
        "hidden": true,
        "id": "Y-diwyiPno2k",
        "outputId": "56239a25-4dbe-42c1-8f8c-c1491df564d0",
        "colab": {
          "base_uri": "https://localhost:8080/",
          "height": 91
        }
      },
      "source": [
        "%time\n",
        "corpus = [ \"I go to school every day by bus\", \"I go to theatre every night by bus\"]\n",
        "vocab = [\"every\", \"go\", \"night\", \"school\", \"bus\"]\n",
        "tuple_list = neighbours_corpus(corpus, 1, vocab, False)\n",
        "dict_tuple = dict_tuple_creator(tuple_list)\n",
        "mat_result = matrix_creator(dict_tuple, vocab)\n",
        "df = mat_list_to_df(mat_result, vocab)\n",
        "df.to_csv('tp2_mat5.csv')"
      ],
      "execution_count": 39,
      "outputs": [
        {
          "output_type": "stream",
          "text": [
            "CPU times: user 3 µs, sys: 0 ns, total: 3 µs\n",
            "Wall time: 5.96 µs\n",
            "[[1, 0, 1, 1, 0], [1, 0, 1, 1, 0], [1, 0, 1, 1, 0], [1, 0, 1, 1, 0], [1, 0, 1, 1, 0]]\n"
          ],
          "name": "stdout"
        }
      ]
    },
    {
      "cell_type": "code",
      "metadata": {
        "id": "x2pd0FFrBgU5",
        "outputId": "7d43fac6-390c-4b78-8dc0-94fa59bc9dfb",
        "colab": {
          "base_uri": "https://localhost:8080/",
          "height": 198
        }
      },
      "source": [
        "df.head(10)"
      ],
      "execution_count": 37,
      "outputs": [
        {
          "output_type": "execute_result",
          "data": {
            "text/html": [
              "<div>\n",
              "<style scoped>\n",
              "    .dataframe tbody tr th:only-of-type {\n",
              "        vertical-align: middle;\n",
              "    }\n",
              "\n",
              "    .dataframe tbody tr th {\n",
              "        vertical-align: top;\n",
              "    }\n",
              "\n",
              "    .dataframe thead th {\n",
              "        text-align: right;\n",
              "    }\n",
              "</style>\n",
              "<table border=\"1\" class=\"dataframe\">\n",
              "  <thead>\n",
              "    <tr style=\"text-align: right;\">\n",
              "      <th></th>\n",
              "      <th>every</th>\n",
              "      <th>go</th>\n",
              "      <th>night</th>\n",
              "      <th>school</th>\n",
              "      <th>bus</th>\n",
              "    </tr>\n",
              "  </thead>\n",
              "  <tbody>\n",
              "    <tr>\n",
              "      <th>every</th>\n",
              "      <td>1</td>\n",
              "      <td>0</td>\n",
              "      <td>1</td>\n",
              "      <td>1</td>\n",
              "      <td>0</td>\n",
              "    </tr>\n",
              "    <tr>\n",
              "      <th>go</th>\n",
              "      <td>1</td>\n",
              "      <td>0</td>\n",
              "      <td>1</td>\n",
              "      <td>1</td>\n",
              "      <td>0</td>\n",
              "    </tr>\n",
              "    <tr>\n",
              "      <th>night</th>\n",
              "      <td>1</td>\n",
              "      <td>0</td>\n",
              "      <td>1</td>\n",
              "      <td>1</td>\n",
              "      <td>0</td>\n",
              "    </tr>\n",
              "    <tr>\n",
              "      <th>school</th>\n",
              "      <td>1</td>\n",
              "      <td>0</td>\n",
              "      <td>1</td>\n",
              "      <td>1</td>\n",
              "      <td>0</td>\n",
              "    </tr>\n",
              "    <tr>\n",
              "      <th>bus</th>\n",
              "      <td>1</td>\n",
              "      <td>0</td>\n",
              "      <td>1</td>\n",
              "      <td>1</td>\n",
              "      <td>0</td>\n",
              "    </tr>\n",
              "  </tbody>\n",
              "</table>\n",
              "</div>"
            ],
            "text/plain": [
              "        every  go  night  school  bus\n",
              "every       1   0      1       1    0\n",
              "go          1   0      1       1    0\n",
              "night       1   0      1       1    0\n",
              "school      1   0      1       1    0\n",
              "bus         1   0      1       1    0"
            ]
          },
          "metadata": {
            "tags": []
          },
          "execution_count": 37
        }
      ]
    },
    {
      "cell_type": "markdown",
      "metadata": {
        "hidden": true,
        "id": "-vzXMLl3rEBl"
      },
      "source": [
        "**b)** Calculez maintenant une matrice de cooccurrence mais en ajustant les fréquences basées sur la proximité du mot cible par exemple en les multipliant par 1/𝑑 où d est la distance en jetons (mots) de la cible. Sauvegardez votre matrice (toujours sous forme de cadre panda) dans un fichier tp2_mat5_scaled.csv dans le répertoire vsm."
      ]
    },
    {
      "cell_type": "code",
      "metadata": {
        "id": "x8SqAA1X4NMJ"
      },
      "source": [
        "def dict_tuple_creator_d(tuple_list):\n",
        "    res = list(zip(*tuple_list))\n",
        "    tup = list(res[0])\n",
        "    dict_tup = Counter(tup)\n",
        "    for key in dict_tup.keys():\n",
        "        temp = [item[1] for item in tuple_list if item[0] == key]\n",
        "        total = sum(temp)\n",
        "        dict_tup[key] = total / dict_tup[key]\n",
        "    return dict(dict_tup)"
      ],
      "execution_count": 40,
      "outputs": []
    },
    {
      "cell_type": "code",
      "metadata": {
        "hidden": true,
        "id": "QJMjavEYxAiB"
      },
      "source": [
        "tuple_list_d = neighbours_corpus(corpus, 5, train_top_5000, True)\n",
        "dict_tuple_d = dict_tuple_creator_d(tuple_list_d)\n",
        "mat_result_d = matrix_creator(dict_tuple_d, train_top_5000)\n",
        "df_d = mat_list_to_df(mat_result_d, train_top_5000)\n",
        "df_d.to_csv('p2_mat5_scaled.csv')"
      ],
      "execution_count": null,
      "outputs": []
    },
    {
      "cell_type": "markdown",
      "metadata": {
        "hidden": true,
        "id": "osW2EZ5utFsf"
      },
      "source": [
        "**c)**\tVous devez créer une fonction `pmi` qui prend le cadre panda de la matrice $M(w,w)$ et un paramètre boolean flag qui est à True lorsque l'on désire calculer PPMI et à False quand on veut calculer PMI. La fonction transforme la matrice en entrée en une matrice $M’(w,w)$ avec les valeurs PMI ou PPMI selon la valeur du paramètre booléen. La fonction retourne le nouveau cadre panda correspondant. "
      ]
    },
    {
      "cell_type": "markdown",
      "metadata": {
        "hidden": true,
        "id": "lksK36hntUHP"
      },
      "source": [
        "Pour une matrice  $X_{m \\times n}$:\n",
        "\n",
        "\n",
        "$$\\textbf{colsum}(X, j) = \\sum_{i=1}^{m}X_{ij}$$\n",
        "\n",
        "$$\\textbf{sum}(X) = \\sum_{i=1}^{m}\\sum_{j=1}^{n} X_{ij}$$\n",
        "\n",
        "$$\\textbf{expected}(X, i, j) = \n",
        "\\frac{\n",
        "  \\textbf{rowsum}(X, i) \\cdot \\textbf{colsum}(X, j)\n",
        "}{\n",
        "  \\textbf{sum}(X)\n",
        "}$$\n",
        "\n",
        "\n",
        "$$\\textbf{pmi}(X, i, j) = \\log\\left(\\frac{X_{ij}}{\\textbf{expected}(X, i, j)}\\right)$$\n",
        "\n",
        "$$\\textbf{ppmi}(X, i, j) = \n",
        "\\begin{cases}\n",
        "\\textbf{pmi}(X, i, j) & \\textrm{if } \\textbf{pmi}(X, i, j) > 0 \\\\\n",
        "0 & \\textrm{otherwise}\n",
        "\\end{cases}$$\n"
      ]
    },
    {
      "cell_type": "code",
      "metadata": {
        "hidden": true,
        "id": "OgkN4mw6r19a"
      },
      "source": [
        "def probability_matrix(mat_Result):\n",
        "    total = 0\n",
        "    for line in mat_Result:\n",
        "        total += sum(line)\n",
        "    arr = np.array(mat_Result)\n",
        "    arr_prob = np.divide(arr, total)\n",
        "    return arr_prob.tolist()\n",
        "\n",
        "def ppmi_pmi(df_Result, is_ppmi):\n",
        "    temp = df_Result.to_numpy()\n",
        "    mat_Result = list(temp.tolist())\n",
        "    mat_prob = probability_matrix(mat_Result)\n",
        "    print(mat_prob)\n",
        "    arr = np.array(mat_prob)\n",
        "    sum_arr_column = arr.sum(axis=0)\n",
        "    sum_arr_line = arr.sum(axis=1)\n",
        "\n",
        "    with np.errstate(divide='ignore'):\n",
        "      for i, line in enumerate(mat_prob):\n",
        "          for j, item in enumerate(line):\n",
        "              if item == 0:\n",
        "                  mat_prob[i][j] = 0\n",
        "              elif is_ppmi:         \n",
        "                  mat_prob[i][j] = max(math.log(item / (sum_arr_column[j]*sum_arr_line[i]), 2), 0)\n",
        "              else:\n",
        "                  mat_prob[i][j] = math.log(item / (sum_arr_column[j]*sum_arr_line[i]), 2)\n",
        "    \n",
        "    return mat_list_to_df(mat_prob, list(df_Result.columns))\n",
        "\n",
        "\n",
        "#def pmi(df, flag=True):"
      ],
      "execution_count": 48,
      "outputs": []
    },
    {
      "cell_type": "markdown",
      "metadata": {
        "hidden": true,
        "id": "U_KI11vmty0c"
      },
      "source": [
        "**d)** Créer les matrice PMIs et PPMIs en vous basant sur les deux matrices que vous avez déjà créée\tSauvegardez vos matrices dans un fichier tp2_mat5<\\_scaled>_{pmi|ppmi}.csv toujours dans le répertoire vsm. \n",
        "\n",
        "(votre nom de fichier doit contenir \"_scaled\" s'il est formé à partir Mww_scaled et \"pmi\" si le flag est false \"ppmi\" sinon) "
      ]
    },
    {
      "cell_type": "code",
      "metadata": {
        "hidden": true,
        "id": "ML-oJwAgt0X4",
        "outputId": "eb7ddd79-8382-4a10-ed61-97494ef39a8d",
        "colab": {
          "base_uri": "https://localhost:8080/",
          "height": 73
        }
      },
      "source": [
        "result_ppmi_df = ppmi_pmi(df, True)\n",
        "result_ppmi_df.to_csv('tp2_mat5_ppmi.csv')\n",
        "result_pmi_df = ppmi_pmi(df, False)\n",
        "result_pmi_df.to_csv('tp2_mat5_pmi.csv')\n",
        "\n",
        "# result_ppmi_sc_df = ppmi_pmi(df_d, True)\n",
        "# result_ppmi_sc_df.to_csv('tp2_mat5_scaled_ppmi.csv')\n",
        "# result_pmi_sc_df = ppmi_pmi(df_d, False)\n",
        "# result_pmi_sc_df.to_csv('tp2_mat5_scaled_pmi.csv')"
      ],
      "execution_count": 49,
      "outputs": [
        {
          "output_type": "stream",
          "text": [
            "[[0.06666666666666667, 0.0, 0.06666666666666667, 0.06666666666666667, 0.0], [0.06666666666666667, 0.0, 0.06666666666666667, 0.06666666666666667, 0.0], [0.06666666666666667, 0.0, 0.06666666666666667, 0.06666666666666667, 0.0], [0.06666666666666667, 0.0, 0.06666666666666667, 0.06666666666666667, 0.0], [0.06666666666666667, 0.0, 0.06666666666666667, 0.06666666666666667, 0.0]]\n",
            "[[0.06666666666666667, 0.0, 0.06666666666666667, 0.06666666666666667, 0.0], [0.06666666666666667, 0.0, 0.06666666666666667, 0.06666666666666667, 0.0], [0.06666666666666667, 0.0, 0.06666666666666667, 0.06666666666666667, 0.0], [0.06666666666666667, 0.0, 0.06666666666666667, 0.06666666666666667, 0.0], [0.06666666666666667, 0.0, 0.06666666666666667, 0.06666666666666667, 0.0]]\n"
          ],
          "name": "stdout"
        }
      ]
    },
    {
      "cell_type": "markdown",
      "metadata": {
        "heading_collapsed": true,
        "id": "QwGaKZyZ8h36"
      },
      "source": [
        "## 3. Test de PPMI (20 points)\n",
        "\n",
        "Pour le test des matrices de cooccurrences, nous allons comparer deux mesures de distance entre deux vecteurs, la distance euclidienne et la distance cosinus provenant du module [scipy.spatial.distance](https://docs.scipy.org/doc/scipy/reference/spatial.distance.html)\n",
        "\n",
        "**Distance Euclidienne**\n",
        "\n",
        "La distance euclidienne entre deux vecteurs $u$ et $v$ de dimension $n$ est\n",
        "\n",
        "$$\\textbf{euclidean}(u, v) = \n",
        "\\sqrt{\\sum_{i=1}^{n}|u_{i} - v_{i}|^{2}}$$\n",
        "\n",
        "En deux dimensions, cela correspond à la longueur de la ligne droite entre deux points.\n",
        "\n",
        "**Distance Cosinus**\n",
        "\n",
        "\n",
        "La distance cosinus entre deux vecteurs $u$ et $v$ de dimension $n$ s'écrit :\n",
        "\n",
        "$$\\textbf{cosine}(u, v) = \n",
        "1 - \\frac{\\sum_{i=1}^{n} u_{i} \\cdot v_{i}}{\\|u\\|_{2} \\cdot \\|v\\|_{2}}$$\n",
        "\n",
        "Le terme de droite dans la soustraction mesure l'angle entre $u$ et $v$; on l'appelle la *similarité cosinus* entre $u$ et $v$.\n",
        "\n",
        "\\\\\n",
        "\n",
        "**a)**\tImplémentez la fonction voisins(mot, pd, distance) qui prend un mot en entrée et une métrique de distance et qui retourne les n mots les plus similaires selon la mesure. Pour un mot w, elle ordonne tous les mots du vocabulaire en fonction de leur distance de w en utilisant la métrique de distance distance (par défaut: cosine)sur le vsm pd. Les mesures de distance à tester sont : la distance Euclidienne et la distance cosinus implantées ci-dessus."
      ]
    },
    {
      "cell_type": "code",
      "metadata": {
        "hidden": true,
        "id": "y6WzHmQ08eNG"
      },
      "source": [
        "def voisins(word, df, n, distfunc=cosine):\n",
        "    assert distfunc.__name__ == 'cosine' or distfunc.__name__ == 'euclidean', \"distance metric not supported\"\n",
        "    assert word in df.columns, \"word not in df\"\n",
        "    order = True if distfunc.__name__ == 'euclidean' else False\n",
        "\n",
        "    closest = {}\n",
        "    for w in df.columns:\n",
        "        if w == word:\n",
        "            continue\n",
        "        distance = distfunc(df[word], df[w])\n",
        "        closest[w] = distance\n",
        "    closest = {k: v for k, v in sorted(closest.items(), key=lambda item: item[1], reverse=order)}\n",
        "\n",
        "    return list(closest.keys())[:n], list(closest.values())[:n]"
      ],
      "execution_count": null,
      "outputs": []
    },
    {
      "cell_type": "code",
      "metadata": {
        "id": "olTBZi7pi3cY",
        "outputId": "82182da0-2b99-4185-a77e-0630e31b3e74",
        "colab": {
          "base_uri": "https://localhost:8080/",
          "height": 107
        }
      },
      "source": [
        "Mtest = pd.DataFrame([[2.0, 10.0, 14.0], [6.0, 14.0, 9.0]], columns=['excellent', 'bon', 'decevant'])\n",
        "print(Mtest.head())\n",
        "print(voisins('bon', Mtest, 5, euclidean))\n",
        "print(voisins('bon', Mtest, 5, cosine))"
      ],
      "execution_count": null,
      "outputs": [
        {
          "output_type": "stream",
          "text": [
            "   excellent   bon  decevant\n",
            "0        2.0  10.0      14.0\n",
            "1        6.0  14.0       9.0\n",
            "(['excellent', 'decevant'], [11.313708498984761, 6.4031242374328485])\n",
            "(['excellent', 'decevant'], [0.044220991278050015, 0.0710423905158224])\n"
          ],
          "name": "stdout"
        }
      ]
    },
    {
      "cell_type": "markdown",
      "metadata": {
        "hidden": true,
        "id": "ulI3R22m-AQq"
      },
      "source": [
        "**b)** En utilisant le cadre panda associé aux matrices Mww et Mww scaled, trouvez les 5 mots les plus similaires au mot « beautiful » et affichez-les, pour chacune des deux distances."
      ]
    },
    {
      "cell_type": "code",
      "metadata": {
        "hidden": true,
        "id": "7YqjqTYNMOQv"
      },
      "source": [
        "print(voisins('beautiful', Mww, 5, euclidean))\n",
        "print(voisins('beautiful', Mww_scaled, 5, cosine))"
      ],
      "execution_count": null,
      "outputs": []
    },
    {
      "cell_type": "markdown",
      "metadata": {
        "hidden": true,
        "id": "0_yvpfqIBL1a"
      },
      "source": [
        "**c)** En utilisant les cadres panda associés aux matrices PMIs, trouvez les 5 mots les plus similaires au mot « beautiful » et affichez-les, pour chacune des deux distances."
      ]
    },
    {
      "cell_type": "code",
      "metadata": {
        "hidden": true,
        "id": "EHL_A0uEMPzO"
      },
      "source": [
        "print(voisins('beautiful', Mpmi, 5, euclidean))\n",
        "print(voisins('beautiful', Mpmi_scaled, 5, cosine))"
      ],
      "execution_count": null,
      "outputs": []
    },
    {
      "cell_type": "markdown",
      "metadata": {
        "hidden": true,
        "id": "nW9kJOsUBSFf"
      },
      "source": [
        "**d)** En utilisant les cadres panda associés aux matrices PPMIs, trouvez les 5 mots les plus similaires au mot\n",
        "« beautiful » et affichez-les, pour chacune des deux distances. "
      ]
    },
    {
      "cell_type": "code",
      "metadata": {
        "hidden": true,
        "id": "oBb5xv9PMQ9y"
      },
      "source": [
        "print(voisins('beautiful', Mppmi, 5, euclidean))\n",
        "print(voisins('beautiful', Mppmi_scaled, 5, cosine))"
      ],
      "execution_count": null,
      "outputs": []
    },
    {
      "cell_type": "markdown",
      "metadata": {
        "hidden": true,
        "id": "B-Q3RfJXzdF8"
      },
      "source": [
        "**e)** Que constatez-vous entre la différence de performance de la distance euclidienne et la distance cosinus ? Que constatez-vous entre les différents types de matrices de cooccurrence ?"
      ]
    },
    {
      "cell_type": "markdown",
      "metadata": {
        "hidden": true,
        "id": "DcgcU9OtBg5-"
      },
      "source": [
        ""
      ]
    },
    {
      "cell_type": "markdown",
      "metadata": {
        "heading_collapsed": true,
        "id": "q_COF24sBi5N"
      },
      "source": [
        "## 4.\tRéduction de dimensionnalité (20 points)\n",
        "\n",
        "**a)** Ecrivez une fonction lsa qui prend en entrée un cadre panda pd (qui contient votre matrice / vsm) et un paramètre K (qui indique le nombre de dimensions finales), et qui applique LSA avec ce paramètre k sur la matrice et retourne le vsm réduit sous forme de cadre panda."
      ]
    },
    {
      "cell_type": "code",
      "metadata": {
        "hidden": true,
        "id": "T6EjxKAQAvFw"
      },
      "source": [
        "mots = ['red', 'blue', 'green', 'yellow', 'orange', 'black']\n",
        "data = np.array([ [1, 0, 1, 0, 0, 0], [0, 1, 0, 0, 0, 0], [1, 1, 0, 0, 0, 0], [1, 0, 0, 1, 1, 0], [0, 0, 0, 1, 0, 1]])\n",
        "vsm = pd.DataFrame(data,  columns=mots)\n",
        "PMIs = pd.DataFrame(data,  columns=mots)\n",
        "PPMIs = pd.DataFrame(data, columns=mots)"
      ],
      "execution_count": null,
      "outputs": []
    },
    {
      "cell_type": "code",
      "metadata": {
        "id": "FbrN-VXT5AYf"
      },
      "source": [
        "def lsa(df, k):\n",
        "    U, s, V = np.linalg.svd(df, full_matrices=False)\n",
        "    S = np.diag(s[:k])\n",
        "    Ck = np.dot(U[:, :k], S)\n",
        "    print(Ck)\n",
        "    return pd.DataFrame(Ck)\n",
        "\n",
        "display(lsa(vsm, 3))"
      ],
      "execution_count": null,
      "outputs": []
    },
    {
      "cell_type": "markdown",
      "metadata": {
        "hidden": true,
        "id": "pZDhlR2ZBwag"
      },
      "source": [
        "**b)** Exécutez lsa sur les cadres panda associés à vos matrices Mww et Mww_scaled avec une dimension k=100"
      ]
    },
    {
      "cell_type": "code",
      "metadata": {
        "hidden": true,
        "id": "4Fh1yGAQBvsg"
      },
      "source": [
        "PMIs = lsa(PMIs, 100)\n",
        "PPMIs = lsa(PPMIs, 100)"
      ],
      "execution_count": null,
      "outputs": []
    },
    {
      "cell_type": "markdown",
      "metadata": {
        "hidden": true,
        "id": "0IQvZbddB4Zp"
      },
      "source": [
        "**c)** En utilisant les matrices de co-occurrence (de base et scalés) réduites avec LSA, trouvez les 5 mots les plus similaires au mot « beautiful » selon la distance cosinus et affichez-les."
      ]
    },
    {
      "cell_type": "code",
      "metadata": {
        "hidden": true,
        "id": "4BPts630Mw3t"
      },
      "source": [
        ""
      ],
      "execution_count": null,
      "outputs": []
    },
    {
      "cell_type": "markdown",
      "metadata": {
        "hidden": true,
        "id": "y_wxbYFPCCCN"
      },
      "source": [
        "d) En utilisant les matrices PMIs et PPMIs réduites avec lsa, trouvez les 5 mots les plus similaires au mot « beautiful » selon la distance cosinus et affichez-les"
      ]
    },
    {
      "cell_type": "code",
      "metadata": {
        "hidden": true,
        "id": "QqgCh0WNM1Jl"
      },
      "source": [
        "print(voisins('beautiful', PMIs, cosine)[:5])\n",
        "print(voisins('beautiful', PPMIs, cosine)[:5])"
      ],
      "execution_count": null,
      "outputs": []
    },
    {
      "cell_type": "markdown",
      "metadata": {
        "hidden": true,
        "id": "Qfwq16JtCSFy"
      },
      "source": [
        "**e)** En utilisant sklearn.decomposition.TruncatedSVD, créez les matrices réduites à partir des mêmes matrices que celles de la question précédentes (la matrice pmi et la matrice pmi_scaled) Puis tester ces nouvelles matrices LSA pour trouver les 5 mots les plus similaires au mot « beautiful » \n",
        "\n",
        "Ici aussi, nous voulons aussi obtenir des matrices de dimension k=100"
      ]
    },
    {
      "cell_type": "code",
      "metadata": {
        "hidden": true,
        "id": "Mj-aOpSSM2_O"
      },
      "source": [
        "PMIs = pd.DataFrame(data, columns=mots)\n",
        "PPMIs = pd.DataFrame(data, columns=mots)\n",
        "\n",
        "svd_model = TruncatedSVD(n_components=5, algorithm='randomized', n_iter=100, random_state=122)\n",
        "\n",
        "PMIs = svd_model.fit_transform(PMIs)\n",
        "PPMIs = svd_model.fit_transform(PPMIs)\n",
        "\n",
        "display(PMIs)\n",
        "display(PPMIs)"
      ],
      "execution_count": null,
      "outputs": []
    },
    {
      "cell_type": "markdown",
      "metadata": {
        "hidden": true,
        "id": "9i7di2PRCTnh"
      },
      "source": [
        "f) Commentez vos résultats"
      ]
    },
    {
      "cell_type": "markdown",
      "metadata": {
        "hidden": true,
        "id": "ubED1oiwNJpm"
      },
      "source": [
        ""
      ]
    },
    {
      "cell_type": "markdown",
      "metadata": {
        "heading_collapsed": true,
        "id": "K3avEFcPG0-e"
      },
      "source": [
        "## 5. Évaluation (10 points)\n",
        "\n",
        "Il est temps d’évaluer l’intérêt de nos modèles de vecteurs. Nous allons pour cela utiliser un ensemble de données de similarité de mots (relatedness) The MEN Test Collection, qui se trouve dans le répertoire test. L’ensemble de données contient une paire de mots avec un score de similarité attribué par des humains. En d’autres termes, une ligne (un exemple) de l’ensemble de données est de la forme : \\<mot_1> \\<mot_2> \\<score>.\n",
        "\n",
        "Pour aligner les distances obtenues avec vos métriques, ce score est converti en nombre réel négatif par la fonction read_test_dataset que vous avez dans le squelette du TP.\n",
        "\n",
        "La métrique d’évaluation est le coefficient de corrélation de Spearman 𝜌 entre les scores humains et vos distances (voir https://en.wikipedia.org/wiki/Spearman%27s_rank_correlation_coefficient). \n",
        "\n",
        "Nous allons maintenant évaluer les différents vsm obtenus sur l'ensemble de données: MEN_dataset.\n"
      ]
    },
    {
      "cell_type": "markdown",
      "metadata": {
        "hidden": true,
        "id": "7j5LjMlav4pQ"
      },
      "source": [
        "#### Fonctions pour lire le jeu de données MEN"
      ]
    },
    {
      "cell_type": "code",
      "metadata": {
        "hidden": true,
        "id": "NodeMtrwGw0O"
      },
      "source": [
        "def read_test_dataset(\n",
        "        src_filename,\n",
        "        delimiter=','):\n",
        "    with open(src_filename) as f:\n",
        "        reader = csv.reader(f, delimiter=delimiter)\n",
        "        for row in reader:\n",
        "            w1 = row[0].strip().lower()\n",
        "            w2 = row[1].strip().lower()\n",
        "            score = row[2]\n",
        "            score = -float(score)\n",
        "            yield (w1, w2, score)"
      ],
      "execution_count": null,
      "outputs": []
    },
    {
      "cell_type": "code",
      "metadata": {
        "hidden": true,
        "id": "sTmkM5EDG-pA"
      },
      "source": [
        "# Retourne un itérable sur le jeu de données MEN\n",
        "def men_dataset():\n",
        "    src_filename = os.path.join(\n",
        "        DIRNAME_MEN, 'MEN_dataset_natural_form_full')\n",
        "    return read_test_dataset(\n",
        "        src_filename, delimiter=' ')"
      ],
      "execution_count": null,
      "outputs": []
    },
    {
      "cell_type": "code",
      "metadata": {
        "hidden": true,
        "id": "uPd__Q4NHUlp"
      },
      "source": [
        "def evaluate(ds, df, distfunc=cosine):\n",
        "    \"\"\"\n",
        "    ds : iterator\n",
        "       retourne des tuples (word1, word2, score).\n",
        "\n",
        "    df : pd.DataFrame\n",
        "        le modèle vsm à évaluer\n",
        "\n",
        "    distfunc : la mesure de distance entre vecteurs\n",
        "  \n",
        "    Retour: le coefficient de correlation de Spearman entre les scores de l'ensemble de données de test \n",
        "    et celui du modele vsm qui se présente sous la forme d'un cadre Panda pd avec les colonnes\n",
        "    ['word1', 'word2', 'score', 'distance'].\n",
        "    \"\"\"\n",
        "    data = []\n",
        "    for w1, w2, score in ds():\n",
        "        d = {'word1': w1, 'word2': w2,'score': score}\n",
        "        if w1 not in df.index or w2 not in df.index:\n",
        "            continue\n",
        "        else:\n",
        "            w1 = df.loc[w1]\n",
        "            w2 = df.loc[w2] \n",
        "        d['distance'] = distfunc(w1, w2)\n",
        "        data.append(d)\n",
        "\n",
        "    data = pd.DataFrame(data)\n",
        "    rho, pvalue = spearmanr(data['score'].values, b=data['distance'].values)\n",
        "    return rho, data"
      ],
      "execution_count": null,
      "outputs": []
    },
    {
      "cell_type": "markdown",
      "metadata": {
        "hidden": true,
        "id": "MBrTrq8BHdLs"
      },
      "source": [
        "**a)**\tTestez chacun de vos modèles vsm (Matrice de base, matrice scalée, les PMIs et PPMIs et toutes les matrices LSA (de base, scalée, pmi, ppmi) en appelant la fonction evaluate avec les deux mesure de distance (euclidienne et cosinus) et affichez vos résultats dans une seule table."
      ]
    },
    {
      "cell_type": "code",
      "metadata": {
        "hidden": true,
        "id": "UL5s4dT4QiX_"
      },
      "source": [
        ""
      ],
      "execution_count": null,
      "outputs": []
    },
    {
      "cell_type": "markdown",
      "metadata": {
        "hidden": true,
        "id": "JjJwYKsTKXCR"
      },
      "source": [
        "**b)**\tCommentez vos résultats d'évaluation"
      ]
    },
    {
      "cell_type": "markdown",
      "metadata": {
        "hidden": true,
        "id": "-ZQhdrxFQjsb"
      },
      "source": [
        ""
      ]
    }
  ]
}