{
  "nbformat": 4,
  "nbformat_minor": 0,
  "metadata": {
    "hide_input": false,
    "kernelspec": {
      "display_name": "Python 3",
      "language": "python",
      "name": "python3"
    },
    "language_info": {
      "codemirror_mode": {
        "name": "ipython",
        "version": 3
      },
      "file_extension": ".py",
      "mimetype": "text/x-python",
      "name": "python",
      "nbconvert_exporter": "python",
      "pygments_lexer": "ipython3",
      "version": "3.8.5"
    },
    "colab": {
      "name": "inf8460_tp3_A20_equipe8.ipynb",
      "provenance": [],
      "collapsed_sections": [],
      "toc_visible": true
    },
    "accelerator": "GPU"
  },
  "cells": [
    {
      "cell_type": "markdown",
      "metadata": {
        "id": "Ho-kYf56xD5x"
      },
      "source": [
        "# École Polytechnique de Montréal\n",
        "# Département Génie Informatique et Génie Logiciel\n",
        "\n",
        "# INF8460 – Traitement automatique de la langue naturelle - TP3"
      ]
    },
    {
      "cell_type": "markdown",
      "metadata": {
        "id": "ao44MnEJxD5x"
      },
      "source": [
        "# Objectifs d’apprentissage\n",
        " • Utiliser des plongements lexicaux pré-entrainés pour de la classification\n",
        " \n",
        " • Entrainer des plongements lexicaux de type word2vec\n",
        " \n",
        " • Implanter des modèles de classification neuronaux"
      ]
    },
    {
      "cell_type": "markdown",
      "metadata": {
        "heading_collapsed": true,
        "id": "KPmpq04SxD5y"
      },
      "source": [
        "## Équipe et contributions \n",
        "Veuillez indiquer la contribution effective de chaque membre de l'équipe en pourcentage et en indiquant les modules ou questions sur lesquelles chaque membre a travaillé"
      ]
    },
    {
      "cell_type": "markdown",
      "metadata": {
        "hidden": true,
        "id": "0MLQXYV3xD5y"
      },
      "source": [
        "Cedric Sadeu (1869737): 1/3\n",
        "\n",
        "Mamoudou Sacko (1924187): 1/3\n",
        "\n",
        "Oumayma Messoussi (2016797): 1/3"
      ]
    },
    {
      "cell_type": "markdown",
      "metadata": {
        "id": "GEfTf4frxD5z"
      },
      "source": [
        "# Librairies externes"
      ]
    },
    {
      "cell_type": "code",
      "metadata": {
        "ExecuteTime": {
          "end_time": "2020-09-24T13:30:14.696418Z",
          "start_time": "2020-09-24T13:30:14.651596Z"
        },
        "id": "HYumfJijxD5z",
        "outputId": "5ca1a9b0-a5d0-4a36-a43d-cf83322424c2",
        "colab": {
          "base_uri": "https://localhost:8080/",
          "height": 107
        }
      },
      "source": [
        "import io\n",
        "import os\n",
        "import nltk\n",
        "import time\n",
        "import gensim\n",
        "import sklearn\n",
        "import zipfile\n",
        "import requests\n",
        "import numpy as np\n",
        "import pandas as pd\n",
        "import tensorflow as tf\n",
        "import matplotlib.pyplot as plt\n",
        "\n",
        "from typing import Dict\n",
        "from gensim.models import Word2Vec\n",
        "from keras.models import Sequential\n",
        "from gensim.test.utils import datapath\n",
        "from keras.preprocessing import sequence\n",
        "from collections import Counter, defaultdict\n",
        "from sklearn.naive_bayes import MultinomialNB\n",
        "from keras.layers.embeddings import Embedding\n",
        "from sklearn.decomposition import TruncatedSVD\n",
        "from sklearn.feature_selection import f_classif\n",
        "from sklearn.feature_selection import SelectKBest\n",
        "from sklearn.linear_model import LogisticRegression\n",
        "from sklearn.model_selection import train_test_split\n",
        "from keras.layers import Dense, Embedding, LSTM, GRU\n",
        "from sklearn.model_selection import train_test_split\n",
        "\n",
        "from sklearn.metrics import classification_report, accuracy_score\n",
        "from sklearn.feature_extraction.text import TfidfVectorizer, CountVectorizer\n",
        "\n",
        "nltk.download('stopwords')\n",
        "nltk.download('wordnet')"
      ],
      "execution_count": 13,
      "outputs": [
        {
          "output_type": "stream",
          "text": [
            "[nltk_data] Downloading package stopwords to /root/nltk_data...\n",
            "[nltk_data]   Package stopwords is already up-to-date!\n",
            "[nltk_data] Downloading package wordnet to /root/nltk_data...\n",
            "[nltk_data]   Package wordnet is already up-to-date!\n"
          ],
          "name": "stdout"
        },
        {
          "output_type": "execute_result",
          "data": {
            "text/plain": [
              "True"
            ]
          },
          "metadata": {
            "tags": []
          },
          "execution_count": 13
        }
      ]
    },
    {
      "cell_type": "code",
      "metadata": {
        "id": "CAv5A1p5ssmR"
      },
      "source": [
        "import warnings\n",
        "warnings.filterwarnings(\"ignore\", category=DeprecationWarning) \n",
        "warnings.filterwarnings(\"ignore\", category=FutureWarning) \n",
        "warnings.filterwarnings(\"ignore\", category=UserWarning) "
      ],
      "execution_count": 14,
      "outputs": []
    },
    {
      "cell_type": "markdown",
      "metadata": {
        "id": "o40G7M7NxD52"
      },
      "source": [
        "# Téléchargement et lecture des données"
      ]
    },
    {
      "cell_type": "code",
      "metadata": {
        "ExecuteTime": {
          "end_time": "2020-09-24T13:06:47.074618Z",
          "start_time": "2020-09-24T13:06:47.026757Z"
        },
        "id": "-i-7P3oKxD53"
      },
      "source": [
        "DATA_PATH = os.path.join(os.getcwd(), \"aclImdb\")"
      ],
      "execution_count": 15,
      "outputs": []
    },
    {
      "cell_type": "markdown",
      "metadata": {
        "heading_collapsed": true,
        "id": "nQ9UtPuaxD55"
      },
      "source": [
        "## Téléchargement"
      ]
    },
    {
      "cell_type": "code",
      "metadata": {
        "ExecuteTime": {
          "end_time": "2020-09-22T15:19:34.239196Z",
          "start_time": "2020-09-22T15:16:55.591044Z"
        },
        "hidden": true,
        "id": "6_ovchLOxD56",
        "outputId": "d9486e3b-9532-4748-f4c6-5d0bc9d97adf",
        "colab": {
          "base_uri": "https://localhost:8080/",
          "height": 232
        }
      },
      "source": [
        "!wget http://ai.stanford.edu/~amaas/data/sentiment/aclImdb_v1.tar.gz\n",
        "!tar -xzf aclImdb_v1.tar.gz\n",
        "!rm aclImdb_v1.tar.gz\n",
        "!echo Done!"
      ],
      "execution_count": 16,
      "outputs": [
        {
          "output_type": "stream",
          "text": [
            "--2020-10-26 02:00:05--  http://ai.stanford.edu/~amaas/data/sentiment/aclImdb_v1.tar.gz\n",
            "Resolving ai.stanford.edu (ai.stanford.edu)... 171.64.68.10\n",
            "Connecting to ai.stanford.edu (ai.stanford.edu)|171.64.68.10|:80... connected.\n",
            "HTTP request sent, awaiting response... 200 OK\n",
            "Length: 84125825 (80M) [application/x-gzip]\n",
            "Saving to: ‘aclImdb_v1.tar.gz’\n",
            "\n",
            "aclImdb_v1.tar.gz   100%[===================>]  80.23M  6.89MB/s    in 9.8s    \n",
            "\n",
            "2020-10-26 02:00:15 (8.18 MB/s) - ‘aclImdb_v1.tar.gz’ saved [84125825/84125825]\n",
            "\n",
            "Done!\n"
          ],
          "name": "stdout"
        }
      ]
    },
    {
      "cell_type": "code",
      "metadata": {
        "id": "_JfRTA9lKPHn"
      },
      "source": [
        "# !wget http://vectors.nlpl.eu/repository/11/3.zip\n",
        "# !unzip 3.zip\n",
        "# !rm 3.zip\n",
        "# !echo Done!"
      ],
      "execution_count": null,
      "outputs": []
    },
    {
      "cell_type": "code",
      "metadata": {
        "hidden": true,
        "id": "hNL33fFzxD59"
      },
      "source": [
        "def download_wikipedia_embeddings() -> None:\n",
        "    if not os.path.exists(os.path.join(os.getcwd(), \"model.txt\")):\n",
        "        res = requests.get(\"http://vectors.nlpl.eu/repository/11/3.zip\")\n",
        "        with zipfile.ZipFile(io.BytesIO(res.content)) as z:\n",
        "            z.extractall(\"./\")\n",
        "        os.remove(os.path.join(os.getcwd(), \"3.zip\"))\n",
        "        os.remove(os.path.join(os.getcwd(), \"meta.json\"))\n",
        "        os.remove(os.path.join(os.getcwd(), \"model.bin\"))\n",
        "        os.remove(os.path.join(os.getcwd(), \"README\"))"
      ],
      "execution_count": 17,
      "outputs": []
    },
    {
      "cell_type": "markdown",
      "metadata": {
        "heading_collapsed": true,
        "id": "Zvjf3dcrxD5_"
      },
      "source": [
        "## Lecture"
      ]
    },
    {
      "cell_type": "code",
      "metadata": {
        "ExecuteTime": {
          "end_time": "2020-09-24T13:06:48.847418Z",
          "start_time": "2020-09-24T13:06:48.818869Z"
        },
        "hidden": true,
        "id": "AQ8mPGILxD5_"
      },
      "source": [
        "def read_data(path):\n",
        "    traintest = ['train', 'test']\n",
        "    classes = ['pos', 'neg']\n",
        "    corpus = {cls: [] for cls in classes}\n",
        "\n",
        "    # Each data is a list of strings(reviews)\n",
        "    reviews = []\n",
        "    labels = []\n",
        "    for cls in classes:\n",
        "        dir_path = os.path.join(path, cls)\n",
        "        \n",
        "        for filename in os.listdir(dir_path):\n",
        "            file = os.path.join(dir_path, filename)\n",
        "            with open(file, encoding = 'utf-8') as f:\n",
        "                corpus[cls].append(f.read().replace(\"\\n\", \" \"))\n",
        "        \n",
        "    return corpus"
      ],
      "execution_count": 18,
      "outputs": []
    },
    {
      "cell_type": "code",
      "metadata": {
        "ExecuteTime": {
          "end_time": "2020-09-24T13:06:51.435025Z",
          "start_time": "2020-09-24T13:06:50.020587Z"
        },
        "hidden": true,
        "id": "iNC--JSdxD6B"
      },
      "source": [
        "train_data = read_data(os.path.join(DATA_PATH, 'train'))\n",
        "test_data = read_data(os.path.join(DATA_PATH, 'test'))"
      ],
      "execution_count": 19,
      "outputs": []
    },
    {
      "cell_type": "code",
      "metadata": {
        "id": "ENDmfC79xR03",
        "outputId": "abc1ad47-7089-430b-e7a2-71f94f16234a",
        "colab": {
          "base_uri": "https://localhost:8080/",
          "height": 161
        }
      },
      "source": [
        "train_data['pos'][0]"
      ],
      "execution_count": 20,
      "outputs": [
        {
          "output_type": "execute_result",
          "data": {
            "application/vnd.google.colaboratory.intrinsic+json": {
              "type": "string"
            },
            "text/plain": [
              "'I have the entire Weissmuller Tarzan series on DVD (fully restored editions) & I never tire of watching them. My personal favorite is \"Tarzan and His Mate\", due entirely (well almost entirely) to Maureen O\\'Sullivan\\'s costume and the occasional flashes of her genital area beneath that leather flap hanging in front. Before anyone claims that A - It wasn\\'t really her, or B - It wasn\\'t really what it looks like, let me say that I have watched it numerous time, in high zoom mode, and trust me...it IS her, AND she is completely naked underneath that costume...several times, especially during the lion attack at the end, careful viewing in slow motion and maximum zoom will reveal that she was shaved except for a tiny patch of dark hair covering her labia...There is NO mistake about that at all. As to the swimming scene being a body double in a \"skin\" suit, yes, it is a double, BUT she is NOT wearing any \"skin\" suit or anything else...again, slow motion and maximum zoom shows everything to those who want to see it. Now, that controversy out of the way, let\\'s move on the actual movie...I thought the script was really well thought out and written tightly...The action sequences were simply great, although it is obviously a stuntman riding the rhino, Weissmuller actually wrestles the big male lion...The use of background shots that were second unit stuff from Africa is very well blended with the studio & US locations making it sometimes hard to tell which is which. Don\\'t complain too much though, remember that 90% of ALL films is phony anyway, so just relax and enjoy the damned thing with a big bowl of popcorn, some cold beer, and a fresh pack of smokes...a sexy and willing girlfriend/wife isn\\'t out of line either...lol. Oh...One final word about nudity...at the very beginning, while the white hunters are speaking dialogue, keep your eyes on the background extras...there are several good shots of nude African girls (obviously shot on location) behind them. One more thing, the movie is not racist by the standards of the 1930\\'s until the 1960\\'s...that\\'s the way colored people were thought of and portrayed back then. Shaft hadn\\'t even been thought about at that time, nor would audiences have accepted any other portrayals of them at the time in history. Safaris actually did use natives carrying luggage on their heads...and Tiny\\'s character did die a heroic death trying to save the white hunters and Jane. As a matter of fact, it wasn\\'t until Gene Autry treated the native Americans and colored people in his Westerns like real human beings that Hollywood began to see that it was okay to do so.'"
            ]
          },
          "metadata": {
            "tags": []
          },
          "execution_count": 20
        }
      ]
    },
    {
      "cell_type": "code",
      "metadata": {
        "ExecuteTime": {
          "end_time": "2020-09-24T13:06:51.480512Z",
          "start_time": "2020-09-24T13:06:51.437150Z"
        },
        "hidden": true,
        "id": "bgGbDeXDxD6E"
      },
      "source": [
        "def create_wikipedia_embeddings(word_indices: Dict[str, int], vocab_len: int) -> np.ndarray:\n",
        "    with open(\"./model.txt\", \"r\", encoding=\"UTF-8\") as f:\n",
        "        shape_string = f.readline()\n",
        "        lines = f.readlines() \n",
        "        \n",
        "    embedding = np.zeros((vocab_len, 300), dtype=float)\n",
        "    for line in lines:\n",
        "        splitted_line = line.split(\" \")\n",
        "        word = splitted_line[0].split(\"_\")[0]\n",
        "        if word in word_indices and word_indices[word] < vocab_len:\n",
        "            embedding_line = splitted_line[1:]\n",
        "            embedding[word_indices[word]] = list(map(float, embedding_line))\n",
        "        \n",
        "    return embedding"
      ],
      "execution_count": 21,
      "outputs": []
    },
    {
      "cell_type": "markdown",
      "metadata": {
        "heading_collapsed": true,
        "id": "sZs15T7UxD6G"
      },
      "source": [
        "## Prétraitement"
      ]
    },
    {
      "cell_type": "code",
      "metadata": {
        "ExecuteTime": {
          "end_time": "2020-09-24T13:06:54.237924Z",
          "start_time": "2020-09-24T13:06:54.204609Z"
        },
        "hidden": true,
        "id": "aWYoZJPJxD6G"
      },
      "source": [
        "class Preprocess(object):\n",
        "    def __init__(self, lemmatize=True):\n",
        "        self.stopwords = set(nltk.corpus.stopwords.words(\"english\"))\n",
        "        self.lemmatize = lemmatize\n",
        "\n",
        "    def preprocess_pipeline(self, data):\n",
        "        clean_tokenized_data = self._clean_doc(data)\n",
        "        if self.lemmatize:\n",
        "            clean_tokenized_data = self._lemmatize(clean_tokenized_data)\n",
        "\n",
        "        return clean_tokenized_data\n",
        "\n",
        "    def _clean_doc(self, data):\n",
        "        tokenizer = nltk.tokenize.RegexpTokenizer(r\"\\w+\")\n",
        "        return [\n",
        "            [\n",
        "                token.lower()\n",
        "                for token in tokenizer.tokenize(review)\n",
        "                if token.lower() not in self.stopwords\n",
        "                and len(token) > 1\n",
        "                and token.isalpha()\n",
        "                and token != \"br]\"\n",
        "            ]\n",
        "            for review in data\n",
        "        ]\n",
        "\n",
        "    def _lemmatize(self, data):\n",
        "        lemmatizer = nltk.stem.WordNetLemmatizer()\n",
        "        return [[lemmatizer.lemmatize(word) for word in review] for review in data]\n",
        "\n",
        "    def convert_to_reviews(self, tokenized_reviews):\n",
        "        reviews = []\n",
        "        for tokens in tokenized_reviews:\n",
        "            reviews.append(\" \".join(tokens))\n",
        "\n",
        "        return reviews"
      ],
      "execution_count": 22,
      "outputs": []
    },
    {
      "cell_type": "code",
      "metadata": {
        "ExecuteTime": {
          "end_time": "2020-09-24T13:07:29.745222Z",
          "start_time": "2020-09-24T13:06:55.097985Z"
        },
        "hidden": true,
        "id": "ygebO3D_xD6J",
        "outputId": "3c4a5b53-c6b0-487b-a233-8d97b09707f1",
        "colab": {
          "base_uri": "https://localhost:8080/",
          "height": 53
        }
      },
      "source": [
        "pre = Preprocess()\n",
        "\n",
        "train_pos = pre.preprocess_pipeline(train_data[\"pos\"])\n",
        "train_neg = pre.preprocess_pipeline(train_data[\"neg\"])\n",
        "test_pos = pre.preprocess_pipeline(test_data[\"pos\"])\n",
        "test_neg = pre.preprocess_pipeline(test_data[\"neg\"])\n",
        "\n",
        "y_train = [1] * len(train_pos) + [0] * len(train_neg)\n",
        "y_test = [1] * len(test_pos) + [0] * len(test_neg)\n",
        "X_train = [\" \".join(sentence) for sentence in train_pos + train_neg]\n",
        "X_test = [\" \".join(sentence) for sentence in test_pos + test_neg]\n",
        "\n",
        "print(\"{} training sentences: {} pos and {} neg\".format(len(X_train), len(train_pos), len(train_neg)))\n",
        "print(\"{} test sentences: {} pos and {} neg\".format(len(X_test), len(test_pos), len(test_neg)))"
      ],
      "execution_count": 23,
      "outputs": [
        {
          "output_type": "stream",
          "text": [
            "25000 training sentences: 12500 pos and 12500 neg\n",
            "25000 test sentences: 12500 pos and 12500 neg\n"
          ],
          "name": "stdout"
        }
      ]
    },
    {
      "cell_type": "markdown",
      "metadata": {
        "id": "KIzXS_LyxD6L"
      },
      "source": [
        "# 1. Entrainement de plongements lexicaux"
      ]
    },
    {
      "cell_type": "markdown",
      "metadata": {
        "id": "Hc6b5mstxD6M"
      },
      "source": [
        "Vous devez réaliser les étapes suivantes:"
      ]
    },
    {
      "cell_type": "markdown",
      "metadata": {
        "id": "kyxls-lYxD6M"
      },
      "source": [
        "## a) Utiliser Gensim pour entrainer un modèle word2vec sur le corpus. "
      ]
    },
    {
      "cell_type": "code",
      "metadata": {
        "id": "XW-Aef7ggDwI"
      },
      "source": [
        "X_train_tokenized = [sentence for sentence in train_pos + train_neg]\n",
        "X_test_tokenized = [sentence for sentence in test_pos + test_neg]"
      ],
      "execution_count": 24,
      "outputs": []
    },
    {
      "cell_type": "code",
      "metadata": {
        "id": "7Xy8ZXzAxD6M"
      },
      "source": [
        "model = Word2Vec(min_count=1, window=5, size=256, alpha=1e-2, min_alpha=1e-4, \n",
        "                 workers=(os.cpu_count()*2 - 1), sample=0.01, negative=5)\n",
        "\n",
        "v = model.build_vocab(X_train_tokenized)\n",
        "\n",
        "start = time.time()\n",
        "model.train(X_train_tokenized, total_examples=model.corpus_count, epochs=10)\n",
        "end = time.time() - start"
      ],
      "execution_count": 25,
      "outputs": []
    },
    {
      "cell_type": "markdown",
      "metadata": {
        "id": "mwIr4uNUxD6O"
      },
      "source": [
        "## b) Décrire les paramètres du ou des modèles entraînés, leur taille sur disque, le nombre de mots encodés, le temps d'entraînement, etc."
      ]
    },
    {
      "cell_type": "code",
      "metadata": {
        "id": "lm-YxjBZd2Su",
        "outputId": "77329024-36ba-4341-9ff6-f9523b9e92bc",
        "colab": {
          "base_uri": "https://localhost:8080/",
          "height": 125
        }
      },
      "source": [
        "print(\"- Temps d'entrainement (en secondes): %f\\n\" % end)\n",
        "print(\"- Taille du modele sur disque (en octets): \", model.estimate_memory())\n",
        "\n",
        "word_vectors = model.wv\n",
        "print(\"\\n- Nombre de mots encodés (= taille du vocab): %d\\n\" % len(word_vectors.vectors))"
      ],
      "execution_count": 26,
      "outputs": [
        {
          "output_type": "stream",
          "text": [
            "- Temps d'entrainement (en secondes): 62.765754\n",
            "\n",
            "- Taille du modele sur disque (en octets):  {'vocab': 32849500, 'vectors': 67275776, 'syn1neg': 67275776, 'total': 167401052}\n",
            "\n",
            "- Nombre de mots encodés (= taille du vocab): 65699\n",
            "\n"
          ],
          "name": "stdout"
        }
      ]
    },
    {
      "cell_type": "markdown",
      "metadata": {
        "id": "5OPIbkr8xD6O"
      },
      "source": [
        "**Les parametres du modele word2vec**\n",
        "\n",
        "*   ***size*** = la taille/nombre de dimensions des vecteurs de plongements générés par le modele. (idealement entre quelques dizaines a quelques centaines). Pour notre modele, on a choisit une valeur multiple de 2 pour une meuilleure gestion de memoire. De plus, les vecteurs de plongements finaux seront de taille (N, 256) avec N la taille du vocabulaire. Ainsi, on a jugé que 256 est un bon compromis.\n",
        "\n",
        "*   ***min_count*** = la fréquence minimale des mots a considerer. Le modele ignore tous les mots du corpus dont la fréquence est inférieure a *min_count*. On a fixé cette valeur a 1 pour pouvoir construire le vocabulaire le plus large possible qui contient tous les types du corpus.\n",
        "\n",
        "*   ***window*** = la taille de la fenetre a considerer autour du mot en question (entre le mot cible et ces voisins). (en generale entre 2 et 10). on a utiliser la valeur 5 comme juste milieu de l'intervalle recommendé.\n",
        "\n",
        "*   ***sample*** =  le seuil de sous-echantillonnage aléatoire des mots les plus fréquents. (idealement entre 0, 1e-5). \n",
        "\n",
        "*   ***alpha*** = le taux d'apprentissage. Ce parametre doit etre assez petit pour pouvoir s'approcher le plus de l'optimum local, mais assez grand pour eviter le surapprentissage. Pour cela, on l'a fixé a 0.01.\n",
        "\n",
        "*   ***min_alpha*** = la valeur a laquelle le taux d'apprentissage *alpha* va diminuer lineairement lors de l'entrainement. Une bonne estimation: alpha - (min_alpha * epochs) ~ 0.00. Dans notre cas, nos valeurs choisies respectent bien cette equation: 0.01 - 0.0001 * 10 = 0.009.\n",
        "\n",
        "*   ***negative*** = si positive, la valeur indique le nombre de mots \"bruit\" a introduire. (generalement entre 5 et 20). Ce parametre permet, entre autre, d'eviter le surapprentissage. Apres plusieurs tests, on a gardé la valeur 5.\n",
        "\n",
        "*   ***workers*** = nombre de threads a utiliser pour l'entrainement. Puisqu'on a utilisé Google Colab, les ressources alloués par session varient, donc pour s'assurer qu'on utilise le maximum de threads disponibles, on recupere ce nombre a travers *os.cpu_count()*."
      ]
    },
    {
      "cell_type": "markdown",
      "metadata": {
        "id": "suvwhRwfxD6P"
      },
      "source": [
        "## c) Décrire le cas échéant et de manière précise tout problème que vous avez eu à obtenir votre modèle et les façons de résoudre ces problèmes."
      ]
    },
    {
      "cell_type": "markdown",
      "metadata": {
        "id": "AfSNxCCyxD6P"
      },
      "source": [
        "*   le parametre *sample*: Ce parametre est par excellence le plus sensible. On a du experimenté avec plusieurs valeurs pour etudier son impact et aboutir a de bons resultats."
      ]
    },
    {
      "cell_type": "markdown",
      "metadata": {
        "id": "_t-VKtwVxD6Q"
      },
      "source": [
        "## d) Retrouvez les 5 mots voisins des mots suivants : excellent, terrible"
      ]
    },
    {
      "cell_type": "code",
      "metadata": {
        "id": "emmkYtRcf43a",
        "outputId": "12da056d-b193-4af5-925a-765ac382a600",
        "colab": {
          "base_uri": "https://localhost:8080/",
          "height": 73
        }
      },
      "source": [
        "print(word_vectors.most_similar('excellent')[:5])\n",
        "print(word_vectors.most_similar('terrible')[:5])"
      ],
      "execution_count": null,
      "outputs": [
        {
          "output_type": "stream",
          "text": [
            "[('outstanding', 0.9303454160690308), ('fine', 0.9233697652816772), ('fantastic', 0.9128841757774353), ('superb', 0.9098476767539978), ('terrific', 0.9031731486320496)]\n",
            "[('horrible', 0.969161331653595), ('awful', 0.9571821093559265), ('sucked', 0.8428488373756409), ('suck', 0.8414132595062256), ('atrocious', 0.8380038738250732)]\n"
          ],
          "name": "stdout"
        }
      ]
    },
    {
      "cell_type": "code",
      "metadata": {
        "id": "ApQGSboEEeps",
        "outputId": "fb960664-2be6-4d2d-d9f0-c3c940834a3f",
        "colab": {
          "base_uri": "https://localhost:8080/",
          "height": 91
        }
      },
      "source": [
        "# a couple more test cases\n",
        "\n",
        "print(word_vectors.most_similar('fun')[:5])\n",
        "print(word_vectors.most_similar('film')[:5])\n",
        "print(word_vectors.most_similar('acting')[:5])"
      ],
      "execution_count": null,
      "outputs": [
        {
          "output_type": "stream",
          "text": [
            "[('laugh', 0.8044959306716919), ('enjoy', 0.7619494199752808), ('entertaining', 0.7608088254928589), ('enjoyable', 0.7471777200698853), ('scary', 0.7180044054985046)]\n",
            "[('cinema', 0.7275949716567993), ('documentary', 0.7242180109024048), ('movie', 0.7091220617294312), ('picture', 0.6993308663368225), ('flick', 0.6633319854736328)]\n",
            "[('writing', 0.784990668296814), ('directing', 0.7593839168548584), ('casting', 0.7466240525245667), ('direction', 0.7362791299819946), ('script', 0.7313761711120605)]\n"
          ],
          "name": "stdout"
        }
      ]
    },
    {
      "cell_type": "markdown",
      "metadata": {
        "id": "66Mys_mcxD6S"
      },
      "source": [
        "# 2. Classification avec des plongements lexicaux"
      ]
    },
    {
      "cell_type": "markdown",
      "metadata": {
        "id": "3XNuMEjTxD6T"
      },
      "source": [
        "On vous demande d’effectuer de la classification avec les plongements lexicaux obtenus."
      ]
    },
    {
      "cell_type": "markdown",
      "metadata": {
        "id": "E42QN7uExD6T"
      },
      "source": [
        "## a) En reprenant le code développé dans le TP1 avec Scikitlearn, on vous demande cette fois de tester un modèle Naïve Bayes et de régression logistique avec des n-grammes (n=1,2,3 ensemble). Essayez de voir si une réduction de dimension améliore la classification. Ne fournissez que votre meilleur modèle. Evaluez vos algorithmes selon les métriques d’accuracy générale et de F1 par classe sur l’ensemble de test."
      ]
    },
    {
      "cell_type": "markdown",
      "metadata": {
        "id": "w9e0R8MrZ5Qa"
      },
      "source": [
        "D'apres nos experiences, la reduction de dimensions n'ameliore pas la performance de nos classificateur. (voir resultats dessous)"
      ]
    },
    {
      "cell_type": "markdown",
      "metadata": {
        "id": "mX1Rd3aBu5m8"
      },
      "source": [
        "**Sans reduction de dimensions**"
      ]
    },
    {
      "cell_type": "code",
      "metadata": {
        "id": "C5e6C42v09qW"
      },
      "source": [
        "def buildVocab(X) -> object:\n",
        "  vectorizer = CountVectorizer(min_df=0, lowercase=False)\n",
        "  vectorizer.fit(X)\n",
        "  return vectorizer.vocabulary_\n",
        "\n",
        "vocab = buildVocab(X_train)"
      ],
      "execution_count": 70,
      "outputs": []
    },
    {
      "cell_type": "code",
      "metadata": {
        "id": "dMRuM59wXLXQ",
        "outputId": "6728c9f2-f28a-44cb-885e-f1f596a3c957",
        "colab": {
          "base_uri": "https://localhost:8080/",
          "height": 53
        }
      },
      "source": [
        "vectorizer = TfidfVectorizer(ngram_range=(1,3), vocabulary=vocab) # max_features=50000\n",
        "\n",
        "X_train_tfidf = vectorizer.fit_transform(X_train)\n",
        "X_test_tfidf = vectorizer.transform(X_test)\n",
        "\n",
        "print('X_train_tfidf:', X_train_tfidf.shape)\n",
        "print('X_test_tfidf:', X_test_tfidf.shape)"
      ],
      "execution_count": 71,
      "outputs": [
        {
          "output_type": "stream",
          "text": [
            "X_train_tfidf: (25000, 65677)\n",
            "X_test_tfidf: (25000, 65677)\n"
          ],
          "name": "stdout"
        }
      ]
    },
    {
      "cell_type": "markdown",
      "metadata": {
        "id": "_RtqgwbGnpcw"
      },
      "source": [
        "**Naive Bayes (sans reduction de dimensions)**\n"
      ]
    },
    {
      "cell_type": "code",
      "metadata": {
        "id": "xkaeiFiPnlmE",
        "outputId": "97a952ca-b53e-46f0-9a86-033100cd1478",
        "colab": {
          "base_uri": "https://localhost:8080/",
          "height": 304
        }
      },
      "source": [
        "model = MultinomialNB(alpha=0.6)\n",
        "\n",
        "start = time.time()\n",
        "\n",
        "model.fit(X_train_tfidf, y_train)\n",
        "\n",
        "end = time.time() - start\n",
        "print(\"- Temps d'entrainement (en secondes): %f\\n\" % end)\n",
        "\n",
        "y_pred = model.predict(X_test_tfidf)\n",
        "\n",
        "print(\"Classification report:\\n\")\n",
        "print(classification_report(y_test, y_pred, target_names=[\"N\", \"P\"]))\n",
        "print(\"\\nAccuracy generale: %f \\n\" % accuracy_score(y_test, y_pred))\n",
        "\n",
        "# plot_confusion_matrix(model, X_test_tfidf, y_test, display_labels=[\"N\", \"P\"], cmap=plt.cm.Blues)\n",
        "# plt.show()"
      ],
      "execution_count": 72,
      "outputs": [
        {
          "output_type": "stream",
          "text": [
            "- Temps d'entrainement (en secondes): 0.031578\n",
            "\n",
            "Classification report:\n",
            "\n",
            "              precision    recall  f1-score   support\n",
            "\n",
            "           N       0.80      0.87      0.84     12500\n",
            "           P       0.86      0.78      0.82     12500\n",
            "\n",
            "    accuracy                           0.83     25000\n",
            "   macro avg       0.83      0.83      0.83     25000\n",
            "weighted avg       0.83      0.83      0.83     25000\n",
            "\n",
            "\n",
            "Accuracy generale: 0.827320 \n",
            "\n"
          ],
          "name": "stdout"
        }
      ]
    },
    {
      "cell_type": "markdown",
      "metadata": {
        "id": "mW1Xa51trgxR"
      },
      "source": [
        "**Regression logistique (sans reduction de dimensions)**\n",
        "\n"
      ]
    },
    {
      "cell_type": "code",
      "metadata": {
        "id": "JDBnyzU5rlev",
        "outputId": "4963b256-0a50-4386-d321-dd812f3fdb20",
        "colab": {
          "base_uri": "https://localhost:8080/",
          "height": 304
        }
      },
      "source": [
        "model = LogisticRegression(C=2.0)\n",
        "\n",
        "start = time.time()\n",
        "\n",
        "model.fit(X_train_tfidf, y_train)\n",
        "\n",
        "end = time.time() - start\n",
        "print(\"- Temps d'entrainement (en secondes): %f\\n\" % end)\n",
        "\n",
        "y_pred = model.predict(X_test_tfidf)\n",
        "\n",
        "print(\"Classification report:\\n\")\n",
        "print(classification_report(y_test, y_pred, target_names=[\"N\", \"P\"]))\n",
        "print(\"\\nAccuracy generale: %f \\n\" % accuracy_score(y_test, y_pred))\n",
        "\n",
        "# plot_confusion_matrix(model, X_test_tfidf, y_test, display_labels=[\"N\", \"P\"], cmap=plt.cm.Blues)\n",
        "# plt.show()"
      ],
      "execution_count": 73,
      "outputs": [
        {
          "output_type": "stream",
          "text": [
            "- Temps d'entrainement (en secondes): 2.024921\n",
            "\n",
            "Classification report:\n",
            "\n",
            "              precision    recall  f1-score   support\n",
            "\n",
            "           N       0.88      0.88      0.88     12500\n",
            "           P       0.88      0.87      0.88     12500\n",
            "\n",
            "    accuracy                           0.88     25000\n",
            "   macro avg       0.88      0.88      0.88     25000\n",
            "weighted avg       0.88      0.88      0.88     25000\n",
            "\n",
            "\n",
            "Accuracy generale: 0.879600 \n",
            "\n"
          ],
          "name": "stdout"
        }
      ]
    },
    {
      "cell_type": "markdown",
      "metadata": {
        "id": "0TkLNyGWu1KJ"
      },
      "source": [
        "**Avec reduction de dimensions**\n"
      ]
    },
    {
      "cell_type": "code",
      "metadata": {
        "id": "CAxNYPQxvDlo",
        "outputId": "243f39e9-3f25-4b80-ea9a-85c4baec2cac",
        "colab": {
          "base_uri": "https://localhost:8080/",
          "height": 53
        }
      },
      "source": [
        "selector = SelectKBest(f_classif, k=100)\n",
        "selector.fit(X_train_tfidf, y_train)\n",
        "X_train_r = selector.transform(X_train_tfidf)\n",
        "X_test_r = selector.transform(X_test_tfidf)\n",
        "\n",
        "print('X_train_r:', X_train_r.shape)\n",
        "print('X_test_r:', X_test_r.shape)"
      ],
      "execution_count": 74,
      "outputs": [
        {
          "output_type": "stream",
          "text": [
            "X_train_r: (25000, 100)\n",
            "X_test_r: (25000, 100)\n"
          ],
          "name": "stdout"
        }
      ]
    },
    {
      "cell_type": "code",
      "metadata": {
        "id": "FpFsJsHm0m2X",
        "outputId": "d3af342c-a0a8-415c-c25e-a689cb453526",
        "colab": {
          "base_uri": "https://localhost:8080/",
          "height": 53
        }
      },
      "source": [
        "# selector = TruncatedSVD(n_components=100)\n",
        "# selector.fit(X_train_tfidf, y_train)\n",
        "# X_train_r = selector.transform(X_train_tfidf)\n",
        "# X_test_r = selector.transform(X_test_tfidf)\n",
        "\n",
        "# print('X_train_r:', X_train_r.shape)\n",
        "# print('X_test_r:', X_test_r.shape)"
      ],
      "execution_count": 19,
      "outputs": [
        {
          "output_type": "stream",
          "text": [
            "X_train_r: (25000, 100)\n",
            "X_test_r: (25000, 100)\n"
          ],
          "name": "stdout"
        }
      ]
    },
    {
      "cell_type": "markdown",
      "metadata": {
        "id": "ho8DUJhavKQd"
      },
      "source": [
        "**Naive Bayes (avec reduction de dimensions)**\n"
      ]
    },
    {
      "cell_type": "code",
      "metadata": {
        "id": "qV0HMQaPvLvX",
        "outputId": "5469e06b-76eb-4c26-f47f-c0e82edfe905",
        "colab": {
          "base_uri": "https://localhost:8080/",
          "height": 304
        }
      },
      "source": [
        "model = MultinomialNB(alpha=0.6)\n",
        "\n",
        "start = time.time()\n",
        "\n",
        "model.fit(X_train_r, y_train)\n",
        "\n",
        "end = time.time() - start\n",
        "print(\"- Temps d'entrainement (en secondes): %f\\n\" % end)\n",
        "\n",
        "y_pred = model.predict(X_test_r)\n",
        "\n",
        "print(\"Classification report:\\n\")\n",
        "print(classification_report(y_test, y_pred, target_names=[\"N\", \"P\"]))\n",
        "print(\"\\nAccuracy generale: %f \\n\" % accuracy_score(y_test, y_pred))\n",
        "\n",
        "# plot_confusion_matrix(model, X_test_tfidf, y_test, display_labels=[\"N\", \"P\"], cmap=plt.cm.Blues)\n",
        "# plt.show()"
      ],
      "execution_count": 75,
      "outputs": [
        {
          "output_type": "stream",
          "text": [
            "- Temps d'entrainement (en secondes): 0.010054\n",
            "\n",
            "Classification report:\n",
            "\n",
            "              precision    recall  f1-score   support\n",
            "\n",
            "           N       0.82      0.82      0.82     12500\n",
            "           P       0.82      0.82      0.82     12500\n",
            "\n",
            "    accuracy                           0.82     25000\n",
            "   macro avg       0.82      0.82      0.82     25000\n",
            "weighted avg       0.82      0.82      0.82     25000\n",
            "\n",
            "\n",
            "Accuracy generale: 0.820240 \n",
            "\n"
          ],
          "name": "stdout"
        }
      ]
    },
    {
      "cell_type": "markdown",
      "metadata": {
        "id": "Tj0m_t7wvMEe"
      },
      "source": [
        "**Regression logistique (avec reduction de dimensions)**"
      ]
    },
    {
      "cell_type": "code",
      "metadata": {
        "id": "GKZ3dkvBvMd8",
        "outputId": "bf639172-b04a-41e9-a69e-a92274ae4200",
        "colab": {
          "base_uri": "https://localhost:8080/",
          "height": 304
        }
      },
      "source": [
        "model = LogisticRegression(C=2.0)\n",
        "\n",
        "start = time.time()\n",
        "\n",
        "model.fit(X_train_r, y_train)\n",
        "\n",
        "end = time.time() - start\n",
        "print(\"- Temps d'entrainement (en secondes): %f\\n\" % end)\n",
        "\n",
        "y_pred = model.predict(X_test_r)\n",
        "\n",
        "print(\"Classification report:\\n\")\n",
        "print(classification_report(y_test, y_pred, target_names=[\"N\", \"P\"]))\n",
        "print(\"\\nAccuracy generale: %f \\n\" % accuracy_score(y_test, y_pred))\n",
        "\n",
        "# plot_confusion_matrix(model, X_test_tfidf, y_test, display_labels=[\"N\", \"P\"], cmap=plt.cm.Blues)\n",
        "# plt.show()"
      ],
      "execution_count": 76,
      "outputs": [
        {
          "output_type": "stream",
          "text": [
            "- Temps d'entrainement (en secondes): 0.302186\n",
            "\n",
            "Classification report:\n",
            "\n",
            "              precision    recall  f1-score   support\n",
            "\n",
            "           N       0.85      0.80      0.82     12500\n",
            "           P       0.81      0.86      0.83     12500\n",
            "\n",
            "    accuracy                           0.83     25000\n",
            "   macro avg       0.83      0.83      0.83     25000\n",
            "weighted avg       0.83      0.83      0.83     25000\n",
            "\n",
            "\n",
            "Accuracy generale: 0.827760 \n",
            "\n"
          ],
          "name": "stdout"
        }
      ]
    },
    {
      "cell_type": "markdown",
      "metadata": {
        "id": "yMXMEiaZxD6Y"
      },
      "source": [
        "## b) En utilisant Tensorflow (ou Pytorch), on vous demande de développer un classificateur perceptron multicouches et un bi-LSTM avec les vecteurs d’un modèle word2vec pré-entrainé sur Wikipédia en Anglais (enwiki_upos_skipgram_300_3_2019) disponible à http://vectors.nlpl.eu/repository/11/3.zip. \n",
        "\n",
        "On s’attend à ce que vous effectuiez une moyenne des vecteurs de mots de chaque document pour obtenir un plongement du document.  \n",
        "\n",
        "Evaluez vos algorithmes selon les métriques d’accuracy générale et de F1 par classe sur l’ensemble de test. Pour chacun des modèles, indiquez ses performances et ses spécifications (nombre d’époques, régularisation, optimiseur, nombre de couches, etc.). N’hésitez pas à expérimenter avec différents paramètres. Vous ne devez reporter que votre meilleure expérimentation."
      ]
    },
    {
      "cell_type": "code",
      "metadata": {
        "id": "yHeQq_JIqNob"
      },
      "source": [
        "y_train = [1] * len(train_pos) + [0] * len(train_neg)\n",
        "y_test = [1] * len(test_pos) + [0] * len(test_neg)\n",
        "X_train = [\" \".join(sentence) for sentence in train_pos + train_neg]\n",
        "X_test = [\" \".join(sentence) for sentence in test_pos + test_neg]"
      ],
      "execution_count": null,
      "outputs": []
    },
    {
      "cell_type": "code",
      "metadata": {
        "id": "u1zS500qI1Br",
        "outputId": "b496a824-3268-49da-cf28-696e288df9b0",
        "colab": {
          "base_uri": "https://localhost:8080/",
          "height": 53
        }
      },
      "source": [
        "def buildVocab(X) -> object:\n",
        "  vectorizer = CountVectorizer(min_df=0, lowercase=False)\n",
        "  vectorizer.fit(X)\n",
        "  return vectorizer.vocabulary_\n",
        "\n",
        "vocab = buildVocab(X_train)\n",
        "embeddings = create_wikipedia_embeddings(vocab, len(vocab))\n",
        "\n",
        "print(embeddings.shape)\n",
        "print(len(vocab))"
      ],
      "execution_count": 30,
      "outputs": [
        {
          "output_type": "stream",
          "text": [
            "(65677, 300)\n",
            "65677\n"
          ],
          "name": "stdout"
        }
      ]
    },
    {
      "cell_type": "code",
      "metadata": {
        "id": "iWuga11eI1Ht",
        "outputId": "b6fd806e-f544-4668-af1f-b66487bb42e8",
        "colab": {
          "base_uri": "https://localhost:8080/",
          "height": 89
        }
      },
      "source": [
        "def get_X_and_y_embedded(X, y, vocab, embeddings, feature) -> object:\n",
        "  X_embedded = np.zeros((len(X), feature), dtype=float)\n",
        "  y_embedded = np.zeros((len(y), 1), dtype=int)\n",
        "\n",
        "  for i, doc in enumerate(X):\n",
        "    vec = np.zeros((1, feature), dtype=float)\n",
        "    tokens = doc.split()\n",
        "    cpt = 0\n",
        "    for word in tokens:\n",
        "      if(word in vocab):\n",
        "        cpt += 1\n",
        "        vec += embeddings[vocab[word]]\n",
        "    vec /= cpt\n",
        "    X_embedded[i] = vec\n",
        "    y_embedded[i] = y[i]\n",
        "\n",
        "  return X_embedded, y_embedded\n",
        "\n",
        "X_train_wiki, y_train_wiki = get_X_and_y_embedded(X_train, y_train, vocab, embeddings, 300)\n",
        "X_test_wiki, y_test_wiki = get_X_and_y_embedded(X_test, y_test, vocab, embeddings, 300)\n",
        "\n",
        "print(X_train_wiki.shape)\n",
        "print(y_train_wiki.shape)\n",
        "print(X_test_wiki.shape)\n",
        "print(y_test_wiki.shape)"
      ],
      "execution_count": 32,
      "outputs": [
        {
          "output_type": "stream",
          "text": [
            "(25000, 300)\n",
            "(25000, 1)\n",
            "(25000, 300)\n",
            "(25000, 1)\n"
          ],
          "name": "stdout"
        }
      ]
    },
    {
      "cell_type": "markdown",
      "metadata": {
        "id": "XqXbfZx6OQpC"
      },
      "source": [
        "**MLP model**"
      ]
    },
    {
      "cell_type": "code",
      "metadata": {
        "id": "14-hF1zUQ66o",
        "outputId": "08fe1dae-aabd-4464-dec5-3bdb0c1d29f9",
        "colab": {
          "base_uri": "https://localhost:8080/",
          "height": 1000
        }
      },
      "source": [
        "X_t, X_v, y_t, y_v = train_test_split(X_train_wiki, y_train_wiki, test_size=0.1)\n",
        "\n",
        "mlp_wiki = tf.keras.Sequential([\n",
        "tf.keras.layers.Dense(600, input_shape=(300,), activation=\"relu\"),\n",
        "tf.keras.layers.Dropout(0.25),\n",
        "tf.keras.layers.Dense(1, activation=\"sigmoid\")\n",
        "])\n",
        "\n",
        "adam = tf.keras.optimizers.Adam(learning_rate=0.001)\n",
        "\n",
        "mlp_wiki.compile(\n",
        "optimizer=adam,\n",
        "loss=\"mean_squared_error\",\n",
        "metrics=[\"accuracy\"]\n",
        ")\n",
        "\n",
        "start = time.time()\n",
        "\n",
        "mlp_wiki_h = mlp_wiki.fit(X_t, y_t,\n",
        "epochs=50,\n",
        "batch_size=500,\n",
        "validation_data=(X_v, y_v))\n",
        "\n",
        "end = time.time() - start\n",
        "print(\"- Temps d'entrainement (en secondes): %f\\n\" % end)"
      ],
      "execution_count": 77,
      "outputs": [
        {
          "output_type": "stream",
          "text": [
            "Epoch 1/50\n",
            "45/45 [==============================] - 0s 4ms/step - loss: 0.2374 - accuracy: 0.6814 - val_loss: 0.2189 - val_accuracy: 0.7576\n",
            "Epoch 2/50\n",
            "45/45 [==============================] - 0s 2ms/step - loss: 0.1969 - accuracy: 0.7611 - val_loss: 0.1776 - val_accuracy: 0.7672\n",
            "Epoch 3/50\n",
            "45/45 [==============================] - 0s 2ms/step - loss: 0.1674 - accuracy: 0.7748 - val_loss: 0.1610 - val_accuracy: 0.7708\n",
            "Epoch 4/50\n",
            "45/45 [==============================] - 0s 2ms/step - loss: 0.1544 - accuracy: 0.7880 - val_loss: 0.1514 - val_accuracy: 0.7864\n",
            "Epoch 5/50\n",
            "45/45 [==============================] - 0s 2ms/step - loss: 0.1470 - accuracy: 0.7996 - val_loss: 0.1464 - val_accuracy: 0.7944\n",
            "Epoch 6/50\n",
            "45/45 [==============================] - 0s 2ms/step - loss: 0.1419 - accuracy: 0.8043 - val_loss: 0.1413 - val_accuracy: 0.8004\n",
            "Epoch 7/50\n",
            "45/45 [==============================] - 0s 2ms/step - loss: 0.1383 - accuracy: 0.8103 - val_loss: 0.1410 - val_accuracy: 0.8036\n",
            "Epoch 8/50\n",
            "45/45 [==============================] - 0s 2ms/step - loss: 0.1359 - accuracy: 0.8119 - val_loss: 0.1354 - val_accuracy: 0.8116\n",
            "Epoch 9/50\n",
            "45/45 [==============================] - 0s 2ms/step - loss: 0.1329 - accuracy: 0.8155 - val_loss: 0.1335 - val_accuracy: 0.8148\n",
            "Epoch 10/50\n",
            "45/45 [==============================] - 0s 2ms/step - loss: 0.1316 - accuracy: 0.8168 - val_loss: 0.1322 - val_accuracy: 0.8156\n",
            "Epoch 11/50\n",
            "45/45 [==============================] - 0s 2ms/step - loss: 0.1298 - accuracy: 0.8210 - val_loss: 0.1311 - val_accuracy: 0.8132\n",
            "Epoch 12/50\n",
            "45/45 [==============================] - 0s 2ms/step - loss: 0.1286 - accuracy: 0.8212 - val_loss: 0.1299 - val_accuracy: 0.8164\n",
            "Epoch 13/50\n",
            "45/45 [==============================] - 0s 2ms/step - loss: 0.1277 - accuracy: 0.8219 - val_loss: 0.1293 - val_accuracy: 0.8212\n",
            "Epoch 14/50\n",
            "45/45 [==============================] - 0s 2ms/step - loss: 0.1281 - accuracy: 0.8220 - val_loss: 0.1283 - val_accuracy: 0.8188\n",
            "Epoch 15/50\n",
            "45/45 [==============================] - 0s 2ms/step - loss: 0.1261 - accuracy: 0.8247 - val_loss: 0.1298 - val_accuracy: 0.8156\n",
            "Epoch 16/50\n",
            "45/45 [==============================] - 0s 2ms/step - loss: 0.1255 - accuracy: 0.8260 - val_loss: 0.1272 - val_accuracy: 0.8216\n",
            "Epoch 17/50\n",
            "45/45 [==============================] - 0s 2ms/step - loss: 0.1248 - accuracy: 0.8252 - val_loss: 0.1268 - val_accuracy: 0.8232\n",
            "Epoch 18/50\n",
            "45/45 [==============================] - 0s 2ms/step - loss: 0.1242 - accuracy: 0.8279 - val_loss: 0.1278 - val_accuracy: 0.8200\n",
            "Epoch 19/50\n",
            "45/45 [==============================] - 0s 2ms/step - loss: 0.1238 - accuracy: 0.8271 - val_loss: 0.1264 - val_accuracy: 0.8216\n",
            "Epoch 20/50\n",
            "45/45 [==============================] - 0s 2ms/step - loss: 0.1234 - accuracy: 0.8272 - val_loss: 0.1260 - val_accuracy: 0.8212\n",
            "Epoch 21/50\n",
            "45/45 [==============================] - 0s 2ms/step - loss: 0.1233 - accuracy: 0.8285 - val_loss: 0.1257 - val_accuracy: 0.8264\n",
            "Epoch 22/50\n",
            "45/45 [==============================] - 0s 2ms/step - loss: 0.1225 - accuracy: 0.8291 - val_loss: 0.1251 - val_accuracy: 0.8236\n",
            "Epoch 23/50\n",
            "45/45 [==============================] - 0s 2ms/step - loss: 0.1229 - accuracy: 0.8279 - val_loss: 0.1255 - val_accuracy: 0.8224\n",
            "Epoch 24/50\n",
            "45/45 [==============================] - 0s 2ms/step - loss: 0.1220 - accuracy: 0.8284 - val_loss: 0.1264 - val_accuracy: 0.8240\n",
            "Epoch 25/50\n",
            "45/45 [==============================] - 0s 2ms/step - loss: 0.1222 - accuracy: 0.8289 - val_loss: 0.1251 - val_accuracy: 0.8256\n",
            "Epoch 26/50\n",
            "45/45 [==============================] - 0s 2ms/step - loss: 0.1214 - accuracy: 0.8288 - val_loss: 0.1246 - val_accuracy: 0.8228\n",
            "Epoch 27/50\n",
            "45/45 [==============================] - 0s 2ms/step - loss: 0.1217 - accuracy: 0.8297 - val_loss: 0.1256 - val_accuracy: 0.8236\n",
            "Epoch 28/50\n",
            "45/45 [==============================] - 0s 2ms/step - loss: 0.1212 - accuracy: 0.8312 - val_loss: 0.1244 - val_accuracy: 0.8232\n",
            "Epoch 29/50\n",
            "45/45 [==============================] - 0s 2ms/step - loss: 0.1207 - accuracy: 0.8326 - val_loss: 0.1237 - val_accuracy: 0.8288\n",
            "Epoch 30/50\n",
            "45/45 [==============================] - 0s 2ms/step - loss: 0.1207 - accuracy: 0.8319 - val_loss: 0.1243 - val_accuracy: 0.8228\n",
            "Epoch 31/50\n",
            "45/45 [==============================] - 0s 2ms/step - loss: 0.1200 - accuracy: 0.8320 - val_loss: 0.1244 - val_accuracy: 0.8232\n",
            "Epoch 32/50\n",
            "45/45 [==============================] - 0s 2ms/step - loss: 0.1208 - accuracy: 0.8308 - val_loss: 0.1256 - val_accuracy: 0.8204\n",
            "Epoch 33/50\n",
            "45/45 [==============================] - 0s 3ms/step - loss: 0.1219 - accuracy: 0.8279 - val_loss: 0.1244 - val_accuracy: 0.8244\n",
            "Epoch 34/50\n",
            "45/45 [==============================] - 0s 2ms/step - loss: 0.1226 - accuracy: 0.8286 - val_loss: 0.1248 - val_accuracy: 0.8244\n",
            "Epoch 35/50\n",
            "45/45 [==============================] - 0s 2ms/step - loss: 0.1201 - accuracy: 0.8343 - val_loss: 0.1232 - val_accuracy: 0.8312\n",
            "Epoch 36/50\n",
            "45/45 [==============================] - 0s 3ms/step - loss: 0.1190 - accuracy: 0.8335 - val_loss: 0.1262 - val_accuracy: 0.8260\n",
            "Epoch 37/50\n",
            "45/45 [==============================] - 0s 2ms/step - loss: 0.1192 - accuracy: 0.8356 - val_loss: 0.1231 - val_accuracy: 0.8312\n",
            "Epoch 38/50\n",
            "45/45 [==============================] - 0s 2ms/step - loss: 0.1193 - accuracy: 0.8340 - val_loss: 0.1242 - val_accuracy: 0.8268\n",
            "Epoch 39/50\n",
            "45/45 [==============================] - 0s 2ms/step - loss: 0.1194 - accuracy: 0.8335 - val_loss: 0.1258 - val_accuracy: 0.8252\n",
            "Epoch 40/50\n",
            "45/45 [==============================] - 0s 2ms/step - loss: 0.1196 - accuracy: 0.8349 - val_loss: 0.1230 - val_accuracy: 0.8304\n",
            "Epoch 41/50\n",
            "45/45 [==============================] - 0s 2ms/step - loss: 0.1186 - accuracy: 0.8349 - val_loss: 0.1228 - val_accuracy: 0.8308\n",
            "Epoch 42/50\n",
            "45/45 [==============================] - 0s 2ms/step - loss: 0.1191 - accuracy: 0.8348 - val_loss: 0.1264 - val_accuracy: 0.8260\n",
            "Epoch 43/50\n",
            "45/45 [==============================] - 0s 2ms/step - loss: 0.1186 - accuracy: 0.8344 - val_loss: 0.1227 - val_accuracy: 0.8316\n",
            "Epoch 44/50\n",
            "45/45 [==============================] - 0s 3ms/step - loss: 0.1183 - accuracy: 0.8347 - val_loss: 0.1238 - val_accuracy: 0.8284\n",
            "Epoch 45/50\n",
            "45/45 [==============================] - 0s 2ms/step - loss: 0.1187 - accuracy: 0.8368 - val_loss: 0.1231 - val_accuracy: 0.8276\n",
            "Epoch 46/50\n",
            "45/45 [==============================] - 0s 3ms/step - loss: 0.1182 - accuracy: 0.8356 - val_loss: 0.1233 - val_accuracy: 0.8296\n",
            "Epoch 47/50\n",
            "45/45 [==============================] - 0s 2ms/step - loss: 0.1194 - accuracy: 0.8330 - val_loss: 0.1224 - val_accuracy: 0.8328\n",
            "Epoch 48/50\n",
            "45/45 [==============================] - 0s 2ms/step - loss: 0.1179 - accuracy: 0.8349 - val_loss: 0.1222 - val_accuracy: 0.8320\n",
            "Epoch 49/50\n",
            "45/45 [==============================] - 0s 2ms/step - loss: 0.1177 - accuracy: 0.8363 - val_loss: 0.1229 - val_accuracy: 0.8256\n",
            "Epoch 50/50\n",
            "45/45 [==============================] - 0s 2ms/step - loss: 0.1177 - accuracy: 0.8355 - val_loss: 0.1222 - val_accuracy: 0.8328\n",
            "- Temps d'entrainement (en secondes): 6.136461\n",
            "\n"
          ],
          "name": "stdout"
        }
      ]
    },
    {
      "cell_type": "code",
      "metadata": {
        "id": "nNjmczmIUpEz",
        "outputId": "a1aba4fe-af62-484a-f68b-ad7820039547",
        "colab": {
          "base_uri": "https://localhost:8080/",
          "height": 515
        }
      },
      "source": [
        "plt.plot(mlp_wiki_h.history['accuracy'], label=\"Training set\")\n",
        "plt.plot(mlp_wiki_h.history['val_accuracy'], label=\"Validation set\")\n",
        "plt.legend(\"Accuracy\")\n",
        "plt.show()\n",
        "\n",
        "plt.plot(mlp_wiki_h.history['loss'], label=\"Training set\")\n",
        "plt.plot(mlp_wiki_h.history['val_loss'], label=\"Validation set\")\n",
        "plt.legend(\"Loss\")\n",
        "plt.show()"
      ],
      "execution_count": 35,
      "outputs": [
        {
          "output_type": "display_data",
          "data": {
            "image/png": "[encoded data removed]",
            "text/plain": [
              "<Figure size 432x288 with 1 Axes>"
            ]
          },
          "metadata": {
            "tags": [],
            "needs_background": "light"
          }
        },
        {
          "output_type": "display_data",
          "data": {
            "image/png": "[encoded data removed]",
            "text/plain": [
              "<Figure size 432x288 with 1 Axes>"
            ]
          },
          "metadata": {
            "tags": [],
            "needs_background": "light"
          }
        }
      ]
    },
    {
      "cell_type": "code",
      "metadata": {
        "id": "qUn3xb5ZVLbR",
        "outputId": "5211922a-9cc3-4ada-c364-bae68783f06c",
        "colab": {
          "base_uri": "https://localhost:8080/",
          "height": 53
        }
      },
      "source": [
        "loss, acc = mlp_wiki.evaluate(X_test_wiki, y_test_wiki)\n",
        "# y_pred = model1.predict(X_test_wiki)\n",
        "print('Test Accuracy: %f' % (acc*100))"
      ],
      "execution_count": 37,
      "outputs": [
        {
          "output_type": "stream",
          "text": [
            "782/782 [==============================] - 1s 2ms/step - loss: 0.1236 - accuracy: 0.8239\n",
            "Test Accuracy: 82.392001\n"
          ],
          "name": "stdout"
        }
      ]
    },
    {
      "cell_type": "markdown",
      "metadata": {
        "id": "GZyGsUIqOWTh"
      },
      "source": [
        "**LSTM model**"
      ]
    },
    {
      "cell_type": "code",
      "metadata": {
        "id": "yizlOChfbsYl",
        "outputId": "bc9ce0b8-eaff-4253-bd22-02e9cb81b01c",
        "colab": {
          "base_uri": "https://localhost:8080/",
          "height": 71
        }
      },
      "source": [
        "def fromTextToFrequenceWiki(corpus, vocab):\n",
        "  result = []\n",
        "  for doc in corpus:\n",
        "    doc_index = []\n",
        "    for token in doc.split():\n",
        "      if(token in vocab):\n",
        "        doc_index.append(vocab[token])\n",
        "    result.append(doc_index)\n",
        "  return result\n",
        "\n",
        "def getMedian(corpus):\n",
        "  total_lenght = sorted([len(doc) for doc in corpus])\n",
        "  return total_lenght[int(len(total_lenght) * 2/3)]\n",
        "\n",
        "y_train_lstm = [1] * len(train_pos) + [0] * len(train_neg)\n",
        "y_test_lstm = [1] * len(test_pos) + [0] * len(test_neg)\n",
        "X_train_lstm = [\" \".join(sentence) for sentence in train_pos + train_neg]\n",
        "X_test_lstm = [\" \".join(sentence) for sentence in test_pos + test_neg]\n",
        "\n",
        "y_train_lstm = np.array(y_train_lstm)\n",
        "y_test_lstm = np.array(y_test_lstm)\n",
        "\n",
        "tokenizer = tf.keras.preprocessing.text.Tokenizer(split=' ', filters='!\"#$%&()*+,-./:;<=>?@[\\\\]^_`{|}~\\t\\n')\n",
        "tokenizer.fit_on_texts(X_train_lstm)\n",
        "vocab_lstm = tokenizer.word_index\n",
        "\n",
        "X_train_lstm_sequences = fromTextToFrequenceWiki(X_train_lstm, vocab_lstm)\n",
        "sequence_len = getMedian(X_train_lstm_sequences)\n",
        "X_train_lstm_pad = tf.keras.preprocessing.sequence.pad_sequences( X_train_lstm_sequences, maxlen=sequence_len, dtype='int32', padding='pre', truncating='pre',value=0.0)\n",
        "\n",
        "embeddings_lstm = create_wikipedia_embeddings(vocab_lstm, len(vocab_lstm))\n",
        "\n",
        "print(X_train_lstm_pad.shape)\n",
        "print(y_train_lstm.shape)\n",
        "print(embeddings_lstm.shape)"
      ],
      "execution_count": 38,
      "outputs": [
        {
          "output_type": "stream",
          "text": [
            "(25000, 124)\n",
            "(25000,)\n",
            "(65699, 300)\n"
          ],
          "name": "stdout"
        }
      ]
    },
    {
      "cell_type": "code",
      "metadata": {
        "id": "3Ih2UiZ_cKCt",
        "outputId": "6984ff24-0cf3-4337-fa6c-5bda616248d8",
        "colab": {
          "base_uri": "https://localhost:8080/",
          "height": 449
        }
      },
      "source": [
        "features = 300\n",
        "\n",
        "lstm_model_wiki = tf.keras.Sequential([\n",
        "    Embedding(len(embeddings_lstm), features, input_length=sequence_len, embeddings_initializer=tf.keras.initializers.Constant(embeddings_lstm), trainable=False),\n",
        "    # tf.keras.layers.Dropout(0.5),\n",
        "    tf.keras.layers.Bidirectional(LSTM(128, input_shape=(sequence_len, features))),\n",
        "    tf.keras.layers.Dense(1, activation=\"sigmoid\") \n",
        "])\n",
        "\n",
        "X_t, X_v, y_t, y_v = train_test_split(X_train_lstm_pad, y_train_lstm, test_size=0.1)\n",
        "\n",
        "lstm_model_wiki.compile(optimizer=\"adam\", loss=\"binary_crossentropy\", metrics=[\"accuracy\"])\n",
        "\n",
        "start = time.time()\n",
        "\n",
        "lstm_model_wiki_h = lstm_model_wiki.fit(X_t, y_t,\n",
        "epochs=10,\n",
        "batch_size=300, \n",
        "validation_data=(X_v, y_v))\n",
        "\n",
        "end = time.time() - start\n",
        "print(\"- Temps d'entrainement (en secondes): %f\\n\" % end)"
      ],
      "execution_count": 78,
      "outputs": [
        {
          "output_type": "stream",
          "text": [
            "Epoch 1/10\n",
            " 2/75 [..............................] - ETA: 4s - loss: 0.6917 - accuracy: 0.5533WARNING:tensorflow:Callbacks method `on_train_batch_end` is slow compared to the batch time (batch time: 0.0323s vs `on_train_batch_end` time: 0.0663s). Check your callbacks.\n",
            "75/75 [==============================] - 5s 70ms/step - loss: 0.5493 - accuracy: 0.7340 - val_loss: 0.4521 - val_accuracy: 0.7992\n",
            "Epoch 2/10\n",
            "75/75 [==============================] - 5s 60ms/step - loss: 0.4533 - accuracy: 0.7926 - val_loss: 0.4357 - val_accuracy: 0.8096\n",
            "Epoch 3/10\n",
            "75/75 [==============================] - 5s 61ms/step - loss: 0.4322 - accuracy: 0.8057 - val_loss: 0.4088 - val_accuracy: 0.8208\n",
            "Epoch 4/10\n",
            "75/75 [==============================] - 5s 61ms/step - loss: 0.4153 - accuracy: 0.8158 - val_loss: 0.4169 - val_accuracy: 0.8204\n",
            "Epoch 5/10\n",
            "75/75 [==============================] - 5s 61ms/step - loss: 0.3958 - accuracy: 0.8257 - val_loss: 0.3925 - val_accuracy: 0.8248\n",
            "Epoch 6/10\n",
            "75/75 [==============================] - 5s 61ms/step - loss: 0.3869 - accuracy: 0.8280 - val_loss: 0.3784 - val_accuracy: 0.8304\n",
            "Epoch 7/10\n",
            "75/75 [==============================] - 5s 61ms/step - loss: 0.3731 - accuracy: 0.8333 - val_loss: 0.4082 - val_accuracy: 0.8220\n",
            "Epoch 8/10\n",
            "75/75 [==============================] - 5s 62ms/step - loss: 0.3662 - accuracy: 0.8400 - val_loss: 0.3741 - val_accuracy: 0.8392\n",
            "Epoch 9/10\n",
            "75/75 [==============================] - 5s 61ms/step - loss: 0.3609 - accuracy: 0.8421 - val_loss: 0.3570 - val_accuracy: 0.8464\n",
            "Epoch 10/10\n",
            "75/75 [==============================] - 5s 62ms/step - loss: 0.3450 - accuracy: 0.8524 - val_loss: 0.3616 - val_accuracy: 0.8476\n",
            "- Temps d'entrainement (en secondes): 48.967155\n",
            "\n"
          ],
          "name": "stdout"
        }
      ]
    },
    {
      "cell_type": "code",
      "metadata": {
        "id": "MD7X6nqxdb9o",
        "outputId": "ee32666e-9ae8-441c-81a6-e0616f1487b0",
        "colab": {
          "base_uri": "https://localhost:8080/",
          "height": 513
        }
      },
      "source": [
        "plt.plot(lstm_model_wiki_h.history['accuracy'], label=\"Training set\")\n",
        "plt.plot(lstm_model_wiki_h.history['val_accuracy'], label=\"Validation set\")\n",
        "plt.legend(\"Accuracy\")\n",
        "plt.show()\n",
        "\n",
        "plt.plot(lstm_model_wiki_h.history['loss'], label=\"Training set\")\n",
        "plt.plot(lstm_model_wiki_h.history['val_loss'], label=\"Validation set\")\n",
        "plt.legend(\"Loss\")\n",
        "plt.show()"
      ],
      "execution_count": 53,
      "outputs": [
        {
          "output_type": "display_data",
          "data": {
            "image/png": "[encoded data removed]",
            "text/plain": [
              "<Figure size 432x288 with 1 Axes>"
            ]
          },
          "metadata": {
            "tags": [],
            "needs_background": "light"
          }
        },
        {
          "output_type": "display_data",
          "data": {
            "image/png": "[encoded data removed]",
            "text/plain": [
              "<Figure size 432x288 with 1 Axes>"
            ]
          },
          "metadata": {
            "tags": [],
            "needs_background": "light"
          }
        }
      ]
    },
    {
      "cell_type": "code",
      "metadata": {
        "id": "2eWxN55MdlIm",
        "outputId": "e0e76247-fdce-4f63-e964-953017a5b17f",
        "colab": {
          "base_uri": "https://localhost:8080/",
          "height": 53
        }
      },
      "source": [
        "# tokenizer = tf.keras.preprocessing.text.Tokenizer(split=' ', filters='!\"#$%&()*+,-./:;<=>?@[\\\\]^_`{|}~\\t\\n')\n",
        "# tokenizer.fit_on_texts(X_test_lstm)\n",
        "# vocab_lstm = tokenizer.word_index\n",
        "\n",
        "X_test_lstm_sequences = fromTextToFrequenceWiki(X_test_lstm, vocab_lstm)\n",
        "X_test_lstm_pad = tf.keras.preprocessing.sequence.pad_sequences( X_test_lstm_sequences, maxlen=sequence_len, dtype='int32', padding='pre', truncating='pre',value=0.0)\n",
        "\n",
        "loss, acc = lstm_model_wiki.evaluate(X_test_lstm_pad, y_test_lstm)\n",
        "print('Test Accuracy: %f' % (acc*100))"
      ],
      "execution_count": 54,
      "outputs": [
        {
          "output_type": "stream",
          "text": [
            "782/782 [==============================] - 6s 8ms/step - loss: 0.3599 - accuracy: 0.8432\n",
            "Test Accuracy: 84.320003\n"
          ],
          "name": "stdout"
        }
      ]
    },
    {
      "cell_type": "markdown",
      "metadata": {
        "id": "-01zN44jxD6b"
      },
      "source": [
        "## c) Ré-entrainez les modèles en b) avec vos propres vecteurs. Comparez maintenant la performance obtenue en b) avec celles que vous obtenez en utilisant vos propres vecteurs de mots entrainés sur le corpus. "
      ]
    },
    {
      "cell_type": "markdown",
      "metadata": {
        "id": "Qe3id8pHwjot"
      },
      "source": [
        "**MLP model**"
      ]
    },
    {
      "cell_type": "code",
      "metadata": {
        "id": "NA9HFUYyu79W"
      },
      "source": [
        "def get_X_and_y_embedded(X, y, vocab, embeddings, feature) -> object:\n",
        "  X_embedded = np.zeros((len(X), feature), dtype=float)\n",
        "  y_embedded = np.zeros((len(y), 1), dtype=int)\n",
        "\n",
        "  for i, doc in enumerate(X):\n",
        "    vec = np.zeros((1, feature), dtype=float)\n",
        "    tokens = doc.split()\n",
        "    cpt = 0\n",
        "    for word in tokens:\n",
        "      if(word in vocab):\n",
        "        cpt += 1\n",
        "        vec += embeddings[word]\n",
        "    vec /= cpt\n",
        "    X_embedded[i] = vec\n",
        "    y_embedded[i] = y[i]\n",
        "\n",
        "  return X_embedded, y_embedded\n",
        "\n",
        "X_wv, y_wv = get_X_and_y_embedded(X_train, y_train, vocab, word_vectors, 256)\n",
        "X_test_wv, y_test_wv = get_X_and_y_embedded(X_test, y_test, vocab, word_vectors, 256)"
      ],
      "execution_count": 62,
      "outputs": []
    },
    {
      "cell_type": "code",
      "metadata": {
        "id": "To0ywfGuu4RQ",
        "outputId": "b7042961-eb54-4529-8e2e-6a02d179ea1c",
        "colab": {
          "base_uri": "https://localhost:8080/",
          "height": 1000
        }
      },
      "source": [
        "X_wv_t, X_wv_v, y_wv_t, y_wv_v = train_test_split(X_wv,\n",
        "y_wv, test_size=0.1)\n",
        "\n",
        "mlp_wv = tf.keras.Sequential([\n",
        "tf.keras.layers.Dropout(0.5),\n",
        "tf.keras.layers.Dense(600, input_shape=(256,), activation=\"relu\"),\n",
        "tf.keras.layers.Dense(1, activation=\"sigmoid\")\n",
        "])\n",
        "\n",
        "mlp_wv.compile(\n",
        "optimizer=\"adam\",\n",
        "loss=\"mean_squared_error\",\n",
        "metrics=[\"accuracy\"]\n",
        ")\n",
        "\n",
        "start = time.time()\n",
        "\n",
        "mlp_wv_h = mlp_wv.fit(X_wv_t, y_wv_t,\n",
        "epochs=30,\n",
        "batch_size=300,\n",
        "validation_data=(X_wv_v, y_wv_v))\n",
        "\n",
        "end = time.time() - start\n",
        "print(\"- Temps d'entrainement (en secondes): %f\\n\" % end)"
      ],
      "execution_count": 79,
      "outputs": [
        {
          "output_type": "stream",
          "text": [
            "Epoch 1/30\n",
            "75/75 [==============================] - 0s 3ms/step - loss: 0.2050 - accuracy: 0.6800 - val_loss: 0.1824 - val_accuracy: 0.7220\n",
            "Epoch 2/30\n",
            "75/75 [==============================] - 0s 2ms/step - loss: 0.1916 - accuracy: 0.7068 - val_loss: 0.1655 - val_accuracy: 0.7704\n",
            "Epoch 3/30\n",
            "75/75 [==============================] - 0s 2ms/step - loss: 0.1903 - accuracy: 0.7113 - val_loss: 0.1758 - val_accuracy: 0.7404\n",
            "Epoch 4/30\n",
            "75/75 [==============================] - 0s 2ms/step - loss: 0.1893 - accuracy: 0.7130 - val_loss: 0.1672 - val_accuracy: 0.7624\n",
            "Epoch 5/30\n",
            "75/75 [==============================] - 0s 2ms/step - loss: 0.1873 - accuracy: 0.7170 - val_loss: 0.1833 - val_accuracy: 0.7228\n",
            "Epoch 6/30\n",
            "75/75 [==============================] - 0s 2ms/step - loss: 0.1880 - accuracy: 0.7172 - val_loss: 0.1677 - val_accuracy: 0.7584\n",
            "Epoch 7/30\n",
            "75/75 [==============================] - 0s 2ms/step - loss: 0.1867 - accuracy: 0.7186 - val_loss: 0.1707 - val_accuracy: 0.7492\n",
            "Epoch 8/30\n",
            "75/75 [==============================] - 0s 2ms/step - loss: 0.1856 - accuracy: 0.7204 - val_loss: 0.1788 - val_accuracy: 0.7296\n",
            "Epoch 9/30\n",
            "75/75 [==============================] - 0s 2ms/step - loss: 0.1857 - accuracy: 0.7228 - val_loss: 0.1760 - val_accuracy: 0.7352\n",
            "Epoch 10/30\n",
            "75/75 [==============================] - 0s 2ms/step - loss: 0.1851 - accuracy: 0.7209 - val_loss: 0.1701 - val_accuracy: 0.7464\n",
            "Epoch 11/30\n",
            "75/75 [==============================] - 0s 2ms/step - loss: 0.1857 - accuracy: 0.7219 - val_loss: 0.1719 - val_accuracy: 0.7444\n",
            "Epoch 12/30\n",
            "75/75 [==============================] - 0s 2ms/step - loss: 0.1836 - accuracy: 0.7253 - val_loss: 0.1678 - val_accuracy: 0.7516\n",
            "Epoch 13/30\n",
            "75/75 [==============================] - 0s 2ms/step - loss: 0.1851 - accuracy: 0.7214 - val_loss: 0.1720 - val_accuracy: 0.7444\n",
            "Epoch 14/30\n",
            "75/75 [==============================] - 0s 2ms/step - loss: 0.1827 - accuracy: 0.7251 - val_loss: 0.1650 - val_accuracy: 0.7568\n",
            "Epoch 15/30\n",
            "75/75 [==============================] - 0s 2ms/step - loss: 0.1821 - accuracy: 0.7260 - val_loss: 0.1641 - val_accuracy: 0.7656\n",
            "Epoch 16/30\n",
            "75/75 [==============================] - 0s 2ms/step - loss: 0.1850 - accuracy: 0.7202 - val_loss: 0.1775 - val_accuracy: 0.7304\n",
            "Epoch 17/30\n",
            "75/75 [==============================] - 0s 2ms/step - loss: 0.1828 - accuracy: 0.7226 - val_loss: 0.1663 - val_accuracy: 0.7508\n",
            "Epoch 18/30\n",
            "75/75 [==============================] - 0s 2ms/step - loss: 0.1819 - accuracy: 0.7278 - val_loss: 0.1669 - val_accuracy: 0.7524\n",
            "Epoch 19/30\n",
            "75/75 [==============================] - 0s 2ms/step - loss: 0.1817 - accuracy: 0.7292 - val_loss: 0.1678 - val_accuracy: 0.7548\n",
            "Epoch 20/30\n",
            "75/75 [==============================] - 0s 2ms/step - loss: 0.1809 - accuracy: 0.7285 - val_loss: 0.1694 - val_accuracy: 0.7528\n",
            "Epoch 21/30\n",
            "75/75 [==============================] - 0s 2ms/step - loss: 0.1832 - accuracy: 0.7249 - val_loss: 0.1740 - val_accuracy: 0.7404\n",
            "Epoch 22/30\n",
            "75/75 [==============================] - 0s 2ms/step - loss: 0.1824 - accuracy: 0.7267 - val_loss: 0.1770 - val_accuracy: 0.7348\n",
            "Epoch 23/30\n",
            "75/75 [==============================] - 0s 2ms/step - loss: 0.1803 - accuracy: 0.7303 - val_loss: 0.1696 - val_accuracy: 0.7516\n",
            "Epoch 24/30\n",
            "75/75 [==============================] - 0s 2ms/step - loss: 0.1817 - accuracy: 0.7248 - val_loss: 0.1683 - val_accuracy: 0.7508\n",
            "Epoch 25/30\n",
            "75/75 [==============================] - 0s 2ms/step - loss: 0.1819 - accuracy: 0.7260 - val_loss: 0.1687 - val_accuracy: 0.7540\n",
            "Epoch 26/30\n",
            "75/75 [==============================] - 0s 2ms/step - loss: 0.1799 - accuracy: 0.7325 - val_loss: 0.1673 - val_accuracy: 0.7564\n",
            "Epoch 27/30\n",
            "75/75 [==============================] - 0s 2ms/step - loss: 0.1817 - accuracy: 0.7260 - val_loss: 0.1686 - val_accuracy: 0.7552\n",
            "Epoch 28/30\n",
            "75/75 [==============================] - 0s 2ms/step - loss: 0.1800 - accuracy: 0.7279 - val_loss: 0.1715 - val_accuracy: 0.7464\n",
            "Epoch 29/30\n",
            "75/75 [==============================] - 0s 2ms/step - loss: 0.1813 - accuracy: 0.7275 - val_loss: 0.1701 - val_accuracy: 0.7456\n",
            "Epoch 30/30\n",
            "75/75 [==============================] - 0s 2ms/step - loss: 0.1788 - accuracy: 0.7326 - val_loss: 0.1712 - val_accuracy: 0.7440\n",
            "- Temps d'entrainement (en secondes): 5.516590\n",
            "\n"
          ],
          "name": "stdout"
        }
      ]
    },
    {
      "cell_type": "code",
      "metadata": {
        "id": "BR5iz_Xwve_c",
        "outputId": "56c8caa5-717f-4e22-bc91-39298a650b2e",
        "colab": {
          "base_uri": "https://localhost:8080/",
          "height": 517
        }
      },
      "source": [
        "plt.plot(mlp_wv_h.history['accuracy'], label=\"Training set\")\n",
        "plt.plot(mlp_wv_h.history['val_accuracy'], label=\"Validation set\")\n",
        "plt.legend(\"Accuracy\")\n",
        "plt.show()\n",
        "\n",
        "plt.plot(mlp_wv_h.history['loss'], label=\"Training set\")\n",
        "plt.plot(mlp_wv_h.history['val_loss'], label=\"Validation set\")\n",
        "plt.legend(\"Loss\")\n",
        "plt.show()"
      ],
      "execution_count": 60,
      "outputs": [
        {
          "output_type": "display_data",
          "data": {
            "image/png": "[encoded data removed]",
            "text/plain": [
              "<Figure size 432x288 with 1 Axes>"
            ]
          },
          "metadata": {
            "tags": [],
            "needs_background": "light"
          }
        },
        {
          "output_type": "display_data",
          "data": {
            "image/png": "[encoded data removed]",
            "text/plain": [
              "<Figure size 432x288 with 1 Axes>"
            ]
          },
          "metadata": {
            "tags": [],
            "needs_background": "light"
          }
        }
      ]
    },
    {
      "cell_type": "code",
      "metadata": {
        "id": "qDbgb-KTv9fa",
        "outputId": "b00fca42-61f9-459d-89f6-9fac6a799ae9",
        "colab": {
          "base_uri": "https://localhost:8080/",
          "height": 53
        }
      },
      "source": [
        "loss, acc = mlp_wv.evaluate(X_test_wv, y_test_wv)\n",
        "# y_pred = model1.predict(X_test_wiki)\n",
        "print('Test Accuracy: %f' % (acc*100))"
      ],
      "execution_count": 64,
      "outputs": [
        {
          "output_type": "stream",
          "text": [
            "782/782 [==============================] - 1s 2ms/step - loss: 0.1635 - accuracy: 0.7610\n",
            "Test Accuracy: 76.095998\n"
          ],
          "name": "stdout"
        }
      ]
    },
    {
      "cell_type": "markdown",
      "metadata": {
        "id": "E2QVqLlZwoAn"
      },
      "source": [
        "**LSTM model**"
      ]
    },
    {
      "cell_type": "code",
      "metadata": {
        "id": "xa3hIvPjwqT8",
        "outputId": "a350a751-1e28-4c45-d87f-86532be2cb6c",
        "colab": {
          "base_uri": "https://localhost:8080/",
          "height": 411
        }
      },
      "source": [
        "def fromTextToFrequenceW2V(corpus, vocab):\n",
        "  result = []\n",
        "  for doc in corpus:\n",
        "    doc_index = []\n",
        "    for token in doc.split():\n",
        "      if(token in vocab):\n",
        "        doc_index.append(vocab[token].index)\n",
        "    result.append(doc_index)\n",
        "  return result;\n",
        "\n",
        "vocab_wv = word_vectors.vocab\n",
        "\n",
        "X_train_wv_sequences = fromTextToFrequenceW2V(X_train_lstm, vocab_wv)\n",
        "sequence_len_wv = getMedian(X_train_lstm)\n",
        "X_train_wv_pad = tf.keras.preprocessing.sequence.pad_sequences(X_train_wv_sequences, maxlen=sequence_len_wv, dtype='int32', padding='pre', truncating='pre',value=0.0)\n",
        "\n",
        "embeddings_wv = word_vectors.vectors\n",
        "\n",
        "X_wv_t, X_wv_v, y_wv_t, y_wv_v = train_test_split(X_train_wv_pad,\n",
        "y_train_lstm, test_size=0.1)\n",
        "\n",
        "features_wv = 256\n",
        "\n",
        "lstm_model_wv = tf.keras.Sequential([\n",
        "    Embedding(len(word_vectors.vectors), features_wv, input_length=sequence_len_wv, embeddings_initializer=tf.keras.initializers.Constant(embeddings_wv), trainable=False),\n",
        "    tf.keras.layers.Dropout(0.5),\n",
        "    tf.keras.layers.Bidirectional(LSTM(64, input_shape=(sequence_len_wv, features_wv))),\n",
        "    tf.keras.layers.Dense(1, activation=\"sigmoid\") \n",
        "])\n",
        "\n",
        "lstm_model_wv.compile( optimizer=\"adam\", loss=\"binary_crossentropy\", metrics=[\"accuracy\"])\n",
        "\n",
        "start = time.time()\n",
        "\n",
        "lstm_model_wv_h = lstm_model_wv.fit(X_wv_t, y_wv_t,\n",
        "epochs=10,\n",
        "batch_size=300,\n",
        "validation_data=(X_wv_v, y_wv_v))\n",
        "\n",
        "end = time.time() - start\n",
        "print(\"- Temps d'entrainement (en secondes): %f\\n\" % end)"
      ],
      "execution_count": 82,
      "outputs": [
        {
          "output_type": "stream",
          "text": [
            "Epoch 1/10\n",
            "75/75 [==============================] - 15s 199ms/step - loss: 0.5922 - accuracy: 0.6749 - val_loss: 0.5128 - val_accuracy: 0.7696\n",
            "Epoch 2/10\n",
            "75/75 [==============================] - 14s 191ms/step - loss: 0.4933 - accuracy: 0.7662 - val_loss: 0.4259 - val_accuracy: 0.8096\n",
            "Epoch 3/10\n",
            "75/75 [==============================] - 14s 191ms/step - loss: 0.4487 - accuracy: 0.7931 - val_loss: 0.3958 - val_accuracy: 0.8236\n",
            "Epoch 4/10\n",
            "75/75 [==============================] - 14s 190ms/step - loss: 0.4296 - accuracy: 0.8048 - val_loss: 0.3826 - val_accuracy: 0.8336\n",
            "Epoch 5/10\n",
            "75/75 [==============================] - 14s 189ms/step - loss: 0.4169 - accuracy: 0.8084 - val_loss: 0.3916 - val_accuracy: 0.8324\n",
            "Epoch 6/10\n",
            "75/75 [==============================] - 14s 190ms/step - loss: 0.3971 - accuracy: 0.8220 - val_loss: 0.3640 - val_accuracy: 0.8504\n",
            "Epoch 7/10\n",
            "75/75 [==============================] - 14s 191ms/step - loss: 0.3901 - accuracy: 0.8236 - val_loss: 0.3471 - val_accuracy: 0.8480\n",
            "Epoch 8/10\n",
            "75/75 [==============================] - 15s 194ms/step - loss: 0.3746 - accuracy: 0.8347 - val_loss: 0.3480 - val_accuracy: 0.8484\n",
            "Epoch 9/10\n",
            "75/75 [==============================] - 14s 191ms/step - loss: 0.3655 - accuracy: 0.8375 - val_loss: 0.3473 - val_accuracy: 0.8476\n",
            "Epoch 10/10\n",
            "75/75 [==============================] - 14s 191ms/step - loss: 0.3576 - accuracy: 0.8406 - val_loss: 0.3420 - val_accuracy: 0.8512\n",
            "- Temps d'entrainement (en secondes): 147.628264\n",
            "\n"
          ],
          "name": "stdout"
        }
      ]
    },
    {
      "cell_type": "code",
      "metadata": {
        "id": "nRTiAVZXyAdp",
        "outputId": "3138d822-6f5f-4b87-84af-e6ba6e088dce",
        "colab": {
          "base_uri": "https://localhost:8080/",
          "height": 513
        }
      },
      "source": [
        "plt.plot(lstm_model_wv_h.history['accuracy'], label=\"Training set\")\n",
        "plt.plot(lstm_model_wv_h.history['val_accuracy'], label=\"Validation set\")\n",
        "plt.legend(\"Accuracy\")\n",
        "plt.show()\n",
        "\n",
        "plt.plot(lstm_model_wv_h.history['loss'], label=\"Training set\")\n",
        "plt.plot(lstm_model_wv_h.history['val_loss'], label=\"Validation set\")\n",
        "plt.legend(\"Loss\")\n",
        "plt.show()"
      ],
      "execution_count": 67,
      "outputs": [
        {
          "output_type": "display_data",
          "data": {
            "image/png": "[encoded data removed]",
            "text/plain": [
              "<Figure size 432x288 with 1 Axes>"
            ]
          },
          "metadata": {
            "tags": [],
            "needs_background": "light"
          }
        },
        {
          "output_type": "display_data",
          "data": {
            "image/png": "[encoded data removed]",
            "text/plain": [
              "<Figure size 432x288 with 1 Axes>"
            ]
          },
          "metadata": {
            "tags": [],
            "needs_background": "light"
          }
        }
      ]
    },
    {
      "cell_type": "code",
      "metadata": {
        "id": "wVruxyPCyG0N",
        "outputId": "3e4b8507-187a-4cbc-d32e-dea6e372524e",
        "colab": {
          "base_uri": "https://localhost:8080/",
          "height": 53
        }
      },
      "source": [
        "X_test_wv_sequences = fromTextToFrequenceW2V(X_test_lstm, vocab_wv)\n",
        "X_test_wv_pad = tf.keras.preprocessing.sequence.pad_sequences(X_test_wv_sequences, maxlen=sequence_len_wv, dtype='int32', padding='pre', truncating='pre',value=0.0)\n",
        "\n",
        "loss, acc = lstm_model_wv.evaluate(X_test_wv_pad, y_test_lstm)\n",
        "print('Test Accuracy: %f' % (acc*100))"
      ],
      "execution_count": 69,
      "outputs": [
        {
          "output_type": "stream",
          "text": [
            "782/782 [==============================] - 24s 31ms/step - loss: 0.3335 - accuracy: 0.8544\n",
            "Test Accuracy: 85.439998\n"
          ],
          "name": "stdout"
        }
      ]
    },
    {
      "cell_type": "markdown",
      "metadata": {
        "id": "TZ9x_RbYxD6d"
      },
      "source": [
        "## d) Générez une table ou un graphique qui regroupe les performances des modèles, leurs spécifications, la durée d’entraînement et commentez ces résultats. Quelle est l’influence des word embeddings sur les performances?  Quel est votre meilleur modèle ?"
      ]
    },
    {
      "source": [
        "| Modele                                               | accuracy | taux de perte Entrainement | Taux de perte Validation | Taux de perte Test | F1 Score | duree d'entrainement (secondes) | Epoch | regularisation | nombre de couches |\n",
        "|------------------------------------------------------|:--------:|:--------------------------:|:------------------------:|:------------------:|:--------:|:-------------------------------:|:-----:|:--------------:|:-----------------:|\n",
        "| Gensim Word2Vec                                      |          |                            |                          |          -         |          |            62.765754            |       |                |                   |\n",
        "| Naive Bayes (sans reduction de dimensions)           | 0.827320 |                            |                          |          -         |   0.83   |              0.0315             |   -   |   alpha = 0.6  |                   |\n",
        "| Regression logistique (sans reduction de dimensions) |  0.8796  |                            |                          |          -         |   0.88   |              2.024              |   -   |      c = 2     |                   |\n",
        "| Naive Bayes (avec reduction de dimensions)           |  0.82024 |                            |                          |          -         |   0.82   |              0.0100             |   -   |   alpha = 0.6  |                   |\n",
        "| Regression logistique (avec reduction de dimensions) | 0.827760 |                            |                          |          -         |   0.83   |              0.302              |   -   |      c = 2     |                   |\n",
        "| MLP model                                            |  0.8239  |                            |                          |       0.1236       |          |              6.136              |   50  |                |                   |\n",
        "| LSTM model                                           |  0.8432  |                            |                          |       0.3599       |          |              48.967             |   10  |                |                   |\n",
        "| MLP model (c)                                        |  0.7610  |                            |                          |       0.1635       |          |              5.516              |   30  |                |                   |\n",
        "| LSTM model (c)                                       |  0.8544  |                            |                          |       0.3335       |          |             147.628             |   10  |                |                   |"
      ],
      "cell_type": "markdown",
      "metadata": {
        "id": "M6Mog5T1xD6d"
      }
    },
    {
      "cell_type": "code",
      "execution_count": null,
      "metadata": {},
      "outputs": [],
      "source": []
    }
  ]
}