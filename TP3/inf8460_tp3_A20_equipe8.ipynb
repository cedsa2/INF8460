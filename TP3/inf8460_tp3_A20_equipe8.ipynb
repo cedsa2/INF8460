{
  "nbformat": 4,
  "nbformat_minor": 0,
  "metadata": {
    "hide_input": false,
    "kernelspec": {
      "display_name": "Python 3",
      "language": "python",
      "name": "python3"
    },
    "language_info": {
      "codemirror_mode": {
        "name": "ipython",
        "version": 3
      },
      "file_extension": ".py",
      "mimetype": "text/x-python",
      "name": "python",
      "nbconvert_exporter": "python",
      "pygments_lexer": "ipython3",
      "version": "3.8.5"
    },
    "colab": {
      "name": "inf8460_tp3_A20_equipe8.ipynb",
      "provenance": [],
      "collapsed_sections": [],
      "toc_visible": true
    },
    "accelerator": "GPU"
  },
  "cells": [
    {
      "cell_type": "markdown",
      "metadata": {
        "id": "Ho-kYf56xD5x"
      },
      "source": [
        "# École Polytechnique de Montréal\n",
        "# Département Génie Informatique et Génie Logiciel\n",
        "\n",
        "# INF8460 – Traitement automatique de la langue naturelle - TP3"
      ]
    },
    {
      "cell_type": "markdown",
      "metadata": {
        "id": "ao44MnEJxD5x"
      },
      "source": [
        "# Objectifs d’apprentissage\n",
        " • Utiliser des plongements lexicaux pré-entrainés pour de la classification\n",
        " \n",
        " • Entrainer des plongements lexicaux de type word2vec\n",
        " \n",
        " • Implanter des modèles de classification neuronaux"
      ]
    },
    {
      "cell_type": "markdown",
      "metadata": {
        "heading_collapsed": true,
        "id": "KPmpq04SxD5y"
      },
      "source": [
        "## Équipe et contributions \n",
        "Veuillez indiquer la contribution effective de chaque membre de l'équipe en pourcentage et en indiquant les modules ou questions sur lesquelles chaque membre a travaillé"
      ]
    },
    {
      "cell_type": "markdown",
      "metadata": {
        "hidden": true,
        "id": "0MLQXYV3xD5y"
      },
      "source": [
        "Cedric Sadeu (1869737): 1/3\n",
        "\n",
        "Mamoudou Sacko (1924187): 1/3\n",
        "\n",
        "Oumayma Messoussi (2016797): 1/3"
      ]
    },
    {
      "cell_type": "markdown",
      "metadata": {
        "id": "GEfTf4frxD5z"
      },
      "source": [
        "# Librairies externes"
      ]
    },
    {
      "cell_type": "code",
      "metadata": {
        "ExecuteTime": {
          "end_time": "2020-09-24T13:30:14.696418Z",
          "start_time": "2020-09-24T13:30:14.651596Z"
        },
        "id": "HYumfJijxD5z",
        "outputId": "a47d1880-e1d5-4a42-f8a1-ec9b27acc914",
        "colab": {
          "base_uri": "https://localhost:8080/",
          "height": 107
        }
      },
      "source": [
        "import io\n",
        "import os\n",
        "import nltk\n",
        "import time\n",
        "import gensim\n",
        "import sklearn\n",
        "import zipfile\n",
        "import requests\n",
        "import numpy as np\n",
        "import pandas as pd\n",
        "import tensorflow as tf\n",
        "import matplotlib.pyplot as plt\n",
        "\n",
        "from typing import Dict\n",
        "from gensim.models import Word2Vec\n",
        "from keras.models import Sequential\n",
        "from gensim.test.utils import datapath\n",
        "from keras.preprocessing import sequence\n",
        "from tensorflow.keras import regularizers\n",
        "from collections import Counter, defaultdict\n",
        "from sklearn.naive_bayes import MultinomialNB\n",
        "from keras.layers.embeddings import Embedding\n",
        "from sklearn.decomposition import TruncatedSVD\n",
        "from sklearn.feature_selection import f_classif\n",
        "from sklearn.feature_selection import SelectKBest\n",
        "from sklearn.linear_model import LogisticRegression\n",
        "from sklearn.model_selection import train_test_split\n",
        "from keras.layers import Dense, Embedding, LSTM, GRU\n",
        "from sklearn.model_selection import train_test_split\n",
        "\n",
        "from sklearn.metrics import classification_report, accuracy_score\n",
        "from sklearn.feature_extraction.text import TfidfVectorizer, CountVectorizer\n",
        "\n",
        "nltk.download('stopwords')\n",
        "nltk.download('wordnet')"
      ],
      "execution_count": 16,
      "outputs": [
        {
          "output_type": "stream",
          "text": [
            "[nltk_data] Downloading package stopwords to /root/nltk_data...\n",
            "[nltk_data]   Package stopwords is already up-to-date!\n",
            "[nltk_data] Downloading package wordnet to /root/nltk_data...\n",
            "[nltk_data]   Package wordnet is already up-to-date!\n"
          ],
          "name": "stdout"
        },
        {
          "output_type": "execute_result",
          "data": {
            "text/plain": [
              "True"
            ]
          },
          "metadata": {
            "tags": []
          },
          "execution_count": 16
        }
      ]
    },
    {
      "cell_type": "code",
      "metadata": {
        "id": "CAv5A1p5ssmR"
      },
      "source": [
        "import warnings\n",
        "warnings.filterwarnings(\"ignore\", category=DeprecationWarning) \n",
        "warnings.filterwarnings(\"ignore\", category=FutureWarning) \n",
        "warnings.filterwarnings(\"ignore\", category=UserWarning) "
      ],
      "execution_count": 2,
      "outputs": []
    },
    {
      "cell_type": "markdown",
      "metadata": {
        "id": "o40G7M7NxD52"
      },
      "source": [
        "# Téléchargement et lecture des données"
      ]
    },
    {
      "cell_type": "code",
      "metadata": {
        "ExecuteTime": {
          "end_time": "2020-09-24T13:06:47.074618Z",
          "start_time": "2020-09-24T13:06:47.026757Z"
        },
        "id": "-i-7P3oKxD53"
      },
      "source": [
        "DATA_PATH = os.path.join(os.getcwd(), \"aclImdb\")"
      ],
      "execution_count": 3,
      "outputs": []
    },
    {
      "cell_type": "markdown",
      "metadata": {
        "heading_collapsed": true,
        "id": "nQ9UtPuaxD55"
      },
      "source": [
        "## Téléchargement"
      ]
    },
    {
      "cell_type": "code",
      "metadata": {
        "ExecuteTime": {
          "end_time": "2020-09-22T15:19:34.239196Z",
          "start_time": "2020-09-22T15:16:55.591044Z"
        },
        "hidden": true,
        "id": "6_ovchLOxD56",
        "outputId": "75e855b0-ba70-4f76-d683-70669cd8edf7",
        "colab": {
          "base_uri": "https://localhost:8080/",
          "height": 232
        }
      },
      "source": [
        "!wget http://ai.stanford.edu/~amaas/data/sentiment/aclImdb_v1.tar.gz\n",
        "!tar -xzf aclImdb_v1.tar.gz\n",
        "!rm aclImdb_v1.tar.gz\n",
        "!echo Done!"
      ],
      "execution_count": 4,
      "outputs": [
        {
          "output_type": "stream",
          "text": [
            "--2020-10-27 03:05:56--  http://ai.stanford.edu/~amaas/data/sentiment/aclImdb_v1.tar.gz\n",
            "Resolving ai.stanford.edu (ai.stanford.edu)... 171.64.68.10\n",
            "Connecting to ai.stanford.edu (ai.stanford.edu)|171.64.68.10|:80... connected.\n",
            "HTTP request sent, awaiting response... 200 OK\n",
            "Length: 84125825 (80M) [application/x-gzip]\n",
            "Saving to: ‘aclImdb_v1.tar.gz’\n",
            "\n",
            "aclImdb_v1.tar.gz   100%[===================>]  80.23M  22.5MB/s    in 3.6s    \n",
            "\n",
            "2020-10-27 03:06:00 (22.5 MB/s) - ‘aclImdb_v1.tar.gz’ saved [84125825/84125825]\n",
            "\n",
            "Done!\n"
          ],
          "name": "stdout"
        }
      ]
    },
    {
      "cell_type": "code",
      "metadata": {
        "id": "_JfRTA9lKPHn",
        "outputId": "248f5216-b863-4396-9383-03ba09df8103",
        "colab": {
          "base_uri": "https://localhost:8080/",
          "height": 322
        }
      },
      "source": [
        "!wget http://vectors.nlpl.eu/repository/11/3.zip\n",
        "!unzip 3.zip\n",
        "!rm 3.zip\n",
        "!echo Done!"
      ],
      "execution_count": 5,
      "outputs": [
        {
          "output_type": "stream",
          "text": [
            "--2020-10-27 03:06:09--  http://vectors.nlpl.eu/repository/11/3.zip\n",
            "Resolving vectors.nlpl.eu (vectors.nlpl.eu)... 129.240.189.225\n",
            "Connecting to vectors.nlpl.eu (vectors.nlpl.eu)|129.240.189.225|:80... connected.\n",
            "HTTP request sent, awaiting response... 200 OK\n",
            "Length: 625096851 (596M) [application/zip]\n",
            "Saving to: ‘3.zip’\n",
            "\n",
            "3.zip               100%[===================>] 596.14M  25.4MB/s    in 26s     \n",
            "\n",
            "2020-10-27 03:06:35 (23.1 MB/s) - ‘3.zip’ saved [625096851/625096851]\n",
            "\n",
            "Archive:  3.zip\n",
            "replace meta.json? [y]es, [n]o, [A]ll, [N]one, [r]ename: no\n",
            "replace model.bin? [y]es, [n]o, [A]ll, [N]one, [r]ename: no\n",
            "replace model.txt? [y]es, [n]o, [A]ll, [N]one, [r]ename: no\n",
            "replace README? [y]es, [n]o, [A]ll, [N]one, [r]ename: no\n",
            "Done!\n"
          ],
          "name": "stdout"
        }
      ]
    },
    {
      "cell_type": "code",
      "metadata": {
        "hidden": true,
        "id": "hNL33fFzxD59"
      },
      "source": [
        "def download_wikipedia_embeddings() -> None:\n",
        "    if not os.path.exists(os.path.join(os.getcwd(), \"model.txt\")):\n",
        "        res = requests.get(\"http://vectors.nlpl.eu/repository/11/3.zip\")\n",
        "        with zipfile.ZipFile(io.BytesIO(res.content)) as z:\n",
        "            z.extractall(\"./\")\n",
        "        os.remove(os.path.join(os.getcwd(), \"3.zip\"))\n",
        "        os.remove(os.path.join(os.getcwd(), \"meta.json\"))\n",
        "        os.remove(os.path.join(os.getcwd(), \"model.bin\"))\n",
        "        os.remove(os.path.join(os.getcwd(), \"README\"))"
      ],
      "execution_count": 6,
      "outputs": []
    },
    {
      "cell_type": "markdown",
      "metadata": {
        "heading_collapsed": true,
        "id": "Zvjf3dcrxD5_"
      },
      "source": [
        "## Lecture"
      ]
    },
    {
      "cell_type": "code",
      "metadata": {
        "ExecuteTime": {
          "end_time": "2020-09-24T13:06:48.847418Z",
          "start_time": "2020-09-24T13:06:48.818869Z"
        },
        "hidden": true,
        "id": "AQ8mPGILxD5_"
      },
      "source": [
        "def read_data(path):\n",
        "    traintest = ['train', 'test']\n",
        "    classes = ['pos', 'neg']\n",
        "    corpus = {cls: [] for cls in classes}\n",
        "\n",
        "    # Each data is a list of strings(reviews)\n",
        "    reviews = []\n",
        "    labels = []\n",
        "    for cls in classes:\n",
        "        dir_path = os.path.join(path, cls)\n",
        "        \n",
        "        for filename in os.listdir(dir_path):\n",
        "            file = os.path.join(dir_path, filename)\n",
        "            with open(file, encoding = 'utf-8') as f:\n",
        "                corpus[cls].append(f.read().replace(\"\\n\", \" \"))\n",
        "        \n",
        "    return corpus"
      ],
      "execution_count": 7,
      "outputs": []
    },
    {
      "cell_type": "code",
      "metadata": {
        "ExecuteTime": {
          "end_time": "2020-09-24T13:06:51.435025Z",
          "start_time": "2020-09-24T13:06:50.020587Z"
        },
        "hidden": true,
        "id": "iNC--JSdxD6B"
      },
      "source": [
        "train_data = read_data(os.path.join(DATA_PATH, 'train'))\n",
        "test_data = read_data(os.path.join(DATA_PATH, 'test'))"
      ],
      "execution_count": 8,
      "outputs": []
    },
    {
      "cell_type": "code",
      "metadata": {
        "id": "ENDmfC79xR03",
        "outputId": "73dc0e68-deed-4098-b860-72a8f27ede7a",
        "colab": {
          "base_uri": "https://localhost:8080/",
          "height": 53
        }
      },
      "source": [
        "train_data['pos'][0]"
      ],
      "execution_count": 9,
      "outputs": [
        {
          "output_type": "execute_result",
          "data": {
            "application/vnd.google.colaboratory.intrinsic+json": {
              "type": "string"
            },
            "text/plain": [
              "'The movie is great and I like the story. I prefer this movie than other movie such The cell ( sick movie ) and Highlander ( silly movie ). I just tell the truth, I like a reality hehe and also a true story :)<br /><br />'"
            ]
          },
          "metadata": {
            "tags": []
          },
          "execution_count": 9
        }
      ]
    },
    {
      "cell_type": "code",
      "metadata": {
        "ExecuteTime": {
          "end_time": "2020-09-24T13:06:51.480512Z",
          "start_time": "2020-09-24T13:06:51.437150Z"
        },
        "hidden": true,
        "id": "bgGbDeXDxD6E"
      },
      "source": [
        "def create_wikipedia_embeddings(word_indices: Dict[str, int], vocab_len: int) -> np.ndarray:\n",
        "    with open(\"./model.txt\", \"r\", encoding=\"UTF-8\") as f:\n",
        "        shape_string = f.readline()\n",
        "        lines = f.readlines() \n",
        "        \n",
        "    embedding = np.zeros((vocab_len, 300), dtype=float)\n",
        "    for line in lines:\n",
        "        splitted_line = line.split(\" \")\n",
        "        word = splitted_line[0].split(\"_\")[0]\n",
        "        if word in word_indices and word_indices[word] < vocab_len:\n",
        "            embedding_line = splitted_line[1:]\n",
        "            embedding[word_indices[word]] = list(map(float, embedding_line))\n",
        "        \n",
        "    return embedding"
      ],
      "execution_count": 10,
      "outputs": []
    },
    {
      "cell_type": "markdown",
      "metadata": {
        "heading_collapsed": true,
        "id": "sZs15T7UxD6G"
      },
      "source": [
        "## Prétraitement"
      ]
    },
    {
      "cell_type": "code",
      "metadata": {
        "ExecuteTime": {
          "end_time": "2020-09-24T13:06:54.237924Z",
          "start_time": "2020-09-24T13:06:54.204609Z"
        },
        "hidden": true,
        "id": "aWYoZJPJxD6G"
      },
      "source": [
        "class Preprocess(object):\n",
        "    def __init__(self, lemmatize=True):\n",
        "        self.stopwords = set(nltk.corpus.stopwords.words(\"english\"))\n",
        "        self.lemmatize = lemmatize\n",
        "\n",
        "    def preprocess_pipeline(self, data):\n",
        "        clean_tokenized_data = self._clean_doc(data)\n",
        "        if self.lemmatize:\n",
        "            clean_tokenized_data = self._lemmatize(clean_tokenized_data)\n",
        "\n",
        "        return clean_tokenized_data\n",
        "\n",
        "    def _clean_doc(self, data):\n",
        "        tokenizer = nltk.tokenize.RegexpTokenizer(r\"\\w+\")\n",
        "        return [\n",
        "            [\n",
        "                token.lower()\n",
        "                for token in tokenizer.tokenize(review)\n",
        "                if token.lower() not in self.stopwords\n",
        "                and len(token) > 1\n",
        "                and token.isalpha()\n",
        "                and token != \"br]\"\n",
        "            ]\n",
        "            for review in data\n",
        "        ]\n",
        "\n",
        "    def _lemmatize(self, data):\n",
        "        lemmatizer = nltk.stem.WordNetLemmatizer()\n",
        "        return [[lemmatizer.lemmatize(word) for word in review] for review in data]\n",
        "\n",
        "    def convert_to_reviews(self, tokenized_reviews):\n",
        "        reviews = []\n",
        "        for tokens in tokenized_reviews:\n",
        "            reviews.append(\" \".join(tokens))\n",
        "\n",
        "        return reviews"
      ],
      "execution_count": 11,
      "outputs": []
    },
    {
      "cell_type": "code",
      "metadata": {
        "ExecuteTime": {
          "end_time": "2020-09-24T13:07:29.745222Z",
          "start_time": "2020-09-24T13:06:55.097985Z"
        },
        "hidden": true,
        "id": "ygebO3D_xD6J",
        "outputId": "6f179fb8-b87a-4ad9-c426-00ff0dcb554e",
        "colab": {
          "base_uri": "https://localhost:8080/",
          "height": 53
        }
      },
      "source": [
        "pre = Preprocess()\n",
        "\n",
        "train_pos = pre.preprocess_pipeline(train_data[\"pos\"])\n",
        "train_neg = pre.preprocess_pipeline(train_data[\"neg\"])\n",
        "test_pos = pre.preprocess_pipeline(test_data[\"pos\"])\n",
        "test_neg = pre.preprocess_pipeline(test_data[\"neg\"])\n",
        "\n",
        "y_train = [1] * len(train_pos) + [0] * len(train_neg)\n",
        "y_test = [1] * len(test_pos) + [0] * len(test_neg)\n",
        "X_train = [\" \".join(sentence) for sentence in train_pos + train_neg]\n",
        "X_test = [\" \".join(sentence) for sentence in test_pos + test_neg]\n",
        "\n",
        "print(\"{} training sentences: {} pos and {} neg\".format(len(X_train), len(train_pos), len(train_neg)))\n",
        "print(\"{} test sentences: {} pos and {} neg\".format(len(X_test), len(test_pos), len(test_neg)))"
      ],
      "execution_count": 12,
      "outputs": [
        {
          "output_type": "stream",
          "text": [
            "25000 training sentences: 12500 pos and 12500 neg\n",
            "25000 test sentences: 12500 pos and 12500 neg\n"
          ],
          "name": "stdout"
        }
      ]
    },
    {
      "cell_type": "markdown",
      "metadata": {
        "id": "KIzXS_LyxD6L"
      },
      "source": [
        "# 1. Entrainement de plongements lexicaux"
      ]
    },
    {
      "cell_type": "markdown",
      "metadata": {
        "id": "Hc6b5mstxD6M"
      },
      "source": [
        "Vous devez réaliser les étapes suivantes:"
      ]
    },
    {
      "cell_type": "markdown",
      "metadata": {
        "id": "kyxls-lYxD6M"
      },
      "source": [
        "## a) Utiliser Gensim pour entrainer un modèle word2vec sur le corpus. "
      ]
    },
    {
      "cell_type": "code",
      "metadata": {
        "id": "XW-Aef7ggDwI"
      },
      "source": [
        "X_train_tokenized = [sentence for sentence in train_pos + train_neg]\n",
        "X_test_tokenized = [sentence for sentence in test_pos + test_neg]"
      ],
      "execution_count": 13,
      "outputs": []
    },
    {
      "cell_type": "code",
      "metadata": {
        "id": "7Xy8ZXzAxD6M"
      },
      "source": [
        "model = Word2Vec(min_count=1, window=5, size=256, alpha=1e-2, min_alpha=1e-4, \n",
        "                 workers=(os.cpu_count()*2 - 1), sample=0.01, negative=5)\n",
        "\n",
        "v = model.build_vocab(X_train_tokenized)\n",
        "\n",
        "start = time.time()\n",
        "model.train(X_train_tokenized, total_examples=model.corpus_count, epochs=10)\n",
        "end = time.time() - start"
      ],
      "execution_count": 14,
      "outputs": []
    },
    {
      "cell_type": "markdown",
      "metadata": {
        "id": "mwIr4uNUxD6O"
      },
      "source": [
        "## b) Décrire les paramètres du ou des modèles entraînés, leur taille sur disque, le nombre de mots encodés, le temps d'entraînement, etc."
      ]
    },
    {
      "cell_type": "code",
      "metadata": {
        "id": "lm-YxjBZd2Su",
        "outputId": "b33fc4f9-a436-420a-971c-0bd5878a5b9b",
        "colab": {
          "base_uri": "https://localhost:8080/",
          "height": 125
        }
      },
      "source": [
        "print(\"- Temps d'entrainement (en secondes): %f\\n\" % end)\n",
        "print(\"- Taille du modele sur disque (en octets): \", model.estimate_memory())\n",
        "\n",
        "word_vectors = model.wv\n",
        "print(\"\\n- Nombre de mots encodés (= taille du vocab): %d\\n\" % len(word_vectors.vectors))"
      ],
      "execution_count": 15,
      "outputs": [
        {
          "output_type": "stream",
          "text": [
            "- Temps d'entrainement (en secondes): 66.232085\n",
            "\n",
            "- Taille du modele sur disque (en octets):  {'vocab': 32849500, 'vectors': 67275776, 'syn1neg': 67275776, 'total': 167401052}\n",
            "\n",
            "- Nombre de mots encodés (= taille du vocab): 65699\n",
            "\n"
          ],
          "name": "stdout"
        }
      ]
    },
    {
      "cell_type": "markdown",
      "metadata": {
        "id": "5OPIbkr8xD6O"
      },
      "source": [
        "**Les parametres du modele word2vec**\n",
        "\n",
        "*   ***size*** = la taille/nombre de dimensions des vecteurs de plongements générés par le modele. (idealement entre quelques dizaines a quelques centaines). Pour notre modele, on a choisit une valeur multiple de 2 pour une meuilleure gestion de memoire. De plus, les vecteurs de plongements finaux seront de taille (N, 256) avec N la taille du vocabulaire. Ainsi, on a jugé que 256 est un bon compromis.\n",
        "\n",
        "*   ***min_count*** = la fréquence minimale des mots a considerer. Le modele ignore tous les mots du corpus dont la fréquence est inférieure a *min_count*. On a fixé cette valeur a 1 pour pouvoir construire le vocabulaire le plus large possible qui contient tous les types du corpus.\n",
        "\n",
        "*   ***window*** = la taille de la fenetre a considerer autour du mot en question (entre le mot cible et ces voisins). (en generale entre 2 et 10). on a utiliser la valeur 5 comme juste milieu de l'intervalle recommendé.\n",
        "\n",
        "*   ***sample*** =  le seuil de sous-echantillonnage aléatoire des mots les plus fréquents. (idealement entre 0, 1e-5). \n",
        "\n",
        "*   ***alpha*** = le taux d'apprentissage. Ce parametre doit etre assez petit pour pouvoir s'approcher le plus de l'optimum local, mais assez grand pour eviter le surapprentissage. Pour cela, on l'a fixé a 0.01.\n",
        "\n",
        "*   ***min_alpha*** = la valeur a laquelle le taux d'apprentissage *alpha* va diminuer lineairement lors de l'entrainement. Une bonne estimation: alpha - (min_alpha * epochs) ~ 0.00. Dans notre cas, nos valeurs choisies respectent bien cette equation: 0.01 - 0.0001 * 10 = 0.009.\n",
        "\n",
        "*   ***negative*** = si positive, la valeur indique le nombre de mots \"bruit\" a introduire. (generalement entre 5 et 20). Ce parametre permet, entre autre, d'eviter le surapprentissage. Apres plusieurs tests, on a gardé la valeur 5.\n",
        "\n",
        "*   ***workers*** = nombre de threads a utiliser pour l'entrainement. Puisqu'on a utilisé Google Colab, les ressources alloués par session varient, donc pour s'assurer qu'on utilise le maximum de threads disponibles, on recupere ce nombre a travers *os.cpu_count()*."
      ]
    },
    {
      "cell_type": "markdown",
      "metadata": {
        "id": "suvwhRwfxD6P"
      },
      "source": [
        "## c) Décrire le cas échéant et de manière précise tout problème que vous avez eu à obtenir votre modèle et les façons de résoudre ces problèmes."
      ]
    },
    {
      "cell_type": "markdown",
      "metadata": {
        "id": "AfSNxCCyxD6P"
      },
      "source": [
        "*   le parametre *sample*: Ce parametre est par excellence le plus sensible. On a du experimenté avec plusieurs valeurs pour etudier son impact et aboutir a de bons resultats."
      ]
    },
    {
      "cell_type": "markdown",
      "metadata": {
        "id": "_t-VKtwVxD6Q"
      },
      "source": [
        "## d) Retrouvez les 5 mots voisins des mots suivants : excellent, terrible"
      ]
    },
    {
      "cell_type": "code",
      "metadata": {
        "id": "emmkYtRcf43a",
        "outputId": "12da056d-b193-4af5-925a-765ac382a600",
        "colab": {
          "base_uri": "https://localhost:8080/",
          "height": 73
        }
      },
      "source": [
        "print(word_vectors.most_similar('excellent')[:5])\n",
        "print(word_vectors.most_similar('terrible')[:5])"
      ],
      "execution_count": null,
      "outputs": [
        {
          "output_type": "stream",
          "text": [
            "[('outstanding', 0.9303454160690308), ('fine', 0.9233697652816772), ('fantastic', 0.9128841757774353), ('superb', 0.9098476767539978), ('terrific', 0.9031731486320496)]\n",
            "[('horrible', 0.969161331653595), ('awful', 0.9571821093559265), ('sucked', 0.8428488373756409), ('suck', 0.8414132595062256), ('atrocious', 0.8380038738250732)]\n"
          ],
          "name": "stdout"
        }
      ]
    },
    {
      "cell_type": "code",
      "metadata": {
        "id": "ApQGSboEEeps",
        "outputId": "fb960664-2be6-4d2d-d9f0-c3c940834a3f",
        "colab": {
          "base_uri": "https://localhost:8080/",
          "height": 91
        }
      },
      "source": [
        "# a couple more test cases\n",
        "\n",
        "print(word_vectors.most_similar('fun')[:5])\n",
        "print(word_vectors.most_similar('film')[:5])\n",
        "print(word_vectors.most_similar('acting')[:5])"
      ],
      "execution_count": null,
      "outputs": [
        {
          "output_type": "stream",
          "text": [
            "[('laugh', 0.8044959306716919), ('enjoy', 0.7619494199752808), ('entertaining', 0.7608088254928589), ('enjoyable', 0.7471777200698853), ('scary', 0.7180044054985046)]\n",
            "[('cinema', 0.7275949716567993), ('documentary', 0.7242180109024048), ('movie', 0.7091220617294312), ('picture', 0.6993308663368225), ('flick', 0.6633319854736328)]\n",
            "[('writing', 0.784990668296814), ('directing', 0.7593839168548584), ('casting', 0.7466240525245667), ('direction', 0.7362791299819946), ('script', 0.7313761711120605)]\n"
          ],
          "name": "stdout"
        }
      ]
    },
    {
      "cell_type": "markdown",
      "metadata": {
        "id": "66Mys_mcxD6S"
      },
      "source": [
        "# 2. Classification avec des plongements lexicaux"
      ]
    },
    {
      "cell_type": "markdown",
      "metadata": {
        "id": "3XNuMEjTxD6T"
      },
      "source": [
        "On vous demande d’effectuer de la classification avec les plongements lexicaux obtenus."
      ]
    },
    {
      "cell_type": "markdown",
      "metadata": {
        "id": "E42QN7uExD6T"
      },
      "source": [
        "## a) En reprenant le code développé dans le TP1 avec Scikitlearn, on vous demande cette fois de tester un modèle Naïve Bayes et de régression logistique avec des n-grammes (n=1,2,3 ensemble). Essayez de voir si une réduction de dimension améliore la classification. Ne fournissez que votre meilleur modèle. Evaluez vos algorithmes selon les métriques d’accuracy générale et de F1 par classe sur l’ensemble de test."
      ]
    },
    {
      "cell_type": "markdown",
      "metadata": {
        "id": "w9e0R8MrZ5Qa"
      },
      "source": [
        "D'apres nos experiences, la reduction de dimensions n'ameliore pas la performance de nos classificateur. (voir resultats dessous)"
      ]
    },
    {
      "cell_type": "markdown",
      "metadata": {
        "id": "mX1Rd3aBu5m8"
      },
      "source": [
        "**Sans reduction de dimensions**"
      ]
    },
    {
      "cell_type": "code",
      "metadata": {
        "id": "C5e6C42v09qW"
      },
      "source": [
        "def buildVocab(X) -> object:\n",
        "  vectorizer = CountVectorizer(min_df=0, lowercase=False)\n",
        "  vectorizer.fit(X)\n",
        "  return vectorizer.vocabulary_\n",
        "\n",
        "vocab = buildVocab(X_train)"
      ],
      "execution_count": 16,
      "outputs": []
    },
    {
      "cell_type": "code",
      "metadata": {
        "id": "dMRuM59wXLXQ",
        "outputId": "93b44732-63b3-4542-e821-dbd260550dd9",
        "colab": {
          "base_uri": "https://localhost:8080/",
          "height": 53
        }
      },
      "source": [
        "vectorizer = TfidfVectorizer(ngram_range=(1,3), vocabulary=vocab) # max_features=50000\n",
        "\n",
        "X_train_tfidf = vectorizer.fit_transform(X_train)\n",
        "X_test_tfidf = vectorizer.transform(X_test)\n",
        "\n",
        "print('X_train_tfidf:', X_train_tfidf.shape)\n",
        "print('X_test_tfidf:', X_test_tfidf.shape)"
      ],
      "execution_count": 17,
      "outputs": [
        {
          "output_type": "stream",
          "text": [
            "X_train_tfidf: (25000, 65677)\n",
            "X_test_tfidf: (25000, 65677)\n"
          ],
          "name": "stdout"
        }
      ]
    },
    {
      "cell_type": "markdown",
      "metadata": {
        "id": "_RtqgwbGnpcw"
      },
      "source": [
        "**Naive Bayes (sans reduction de dimensions)**\n"
      ]
    },
    {
      "cell_type": "code",
      "metadata": {
        "id": "xkaeiFiPnlmE",
        "outputId": "97a952ca-b53e-46f0-9a86-033100cd1478",
        "colab": {
          "base_uri": "https://localhost:8080/",
          "height": 304
        }
      },
      "source": [
        "model = MultinomialNB(alpha=0.6)\n",
        "\n",
        "start = time.time()\n",
        "\n",
        "model.fit(X_train_tfidf, y_train)\n",
        "\n",
        "end = time.time() - start\n",
        "print(\"- Temps d'entrainement (en secondes): %f\\n\" % end)\n",
        "\n",
        "y_pred = model.predict(X_test_tfidf)\n",
        "\n",
        "print(\"Classification report:\\n\")\n",
        "print(classification_report(y_test, y_pred, target_names=[\"N\", \"P\"]))\n",
        "print(\"\\nAccuracy generale: %f \\n\" % accuracy_score(y_test, y_pred))\n",
        "\n",
        "# plot_confusion_matrix(model, X_test_tfidf, y_test, display_labels=[\"N\", \"P\"], cmap=plt.cm.Blues)\n",
        "# plt.show()"
      ],
      "execution_count": 72,
      "outputs": [
        {
          "output_type": "stream",
          "text": [
            "- Temps d'entrainement (en secondes): 0.031578\n",
            "\n",
            "Classification report:\n",
            "\n",
            "              precision    recall  f1-score   support\n",
            "\n",
            "           N       0.80      0.87      0.84     12500\n",
            "           P       0.86      0.78      0.82     12500\n",
            "\n",
            "    accuracy                           0.83     25000\n",
            "   macro avg       0.83      0.83      0.83     25000\n",
            "weighted avg       0.83      0.83      0.83     25000\n",
            "\n",
            "\n",
            "Accuracy generale: 0.827320 \n",
            "\n"
          ],
          "name": "stdout"
        }
      ]
    },
    {
      "cell_type": "markdown",
      "metadata": {
        "id": "mW1Xa51trgxR"
      },
      "source": [
        "**Regression logistique (sans reduction de dimensions)**\n",
        "\n"
      ]
    },
    {
      "cell_type": "code",
      "metadata": {
        "id": "JDBnyzU5rlev",
        "outputId": "4963b256-0a50-4386-d321-dd812f3fdb20",
        "colab": {
          "base_uri": "https://localhost:8080/",
          "height": 304
        }
      },
      "source": [
        "model = LogisticRegression(C=2.0)\n",
        "\n",
        "start = time.time()\n",
        "\n",
        "model.fit(X_train_tfidf, y_train)\n",
        "\n",
        "end = time.time() - start\n",
        "print(\"- Temps d'entrainement (en secondes): %f\\n\" % end)\n",
        "\n",
        "y_pred = model.predict(X_test_tfidf)\n",
        "\n",
        "print(\"Classification report:\\n\")\n",
        "print(classification_report(y_test, y_pred, target_names=[\"N\", \"P\"]))\n",
        "print(\"\\nAccuracy generale: %f \\n\" % accuracy_score(y_test, y_pred))\n",
        "\n",
        "# plot_confusion_matrix(model, X_test_tfidf, y_test, display_labels=[\"N\", \"P\"], cmap=plt.cm.Blues)\n",
        "# plt.show()"
      ],
      "execution_count": 73,
      "outputs": [
        {
          "output_type": "stream",
          "text": [
            "- Temps d'entrainement (en secondes): 2.024921\n",
            "\n",
            "Classification report:\n",
            "\n",
            "              precision    recall  f1-score   support\n",
            "\n",
            "           N       0.88      0.88      0.88     12500\n",
            "           P       0.88      0.87      0.88     12500\n",
            "\n",
            "    accuracy                           0.88     25000\n",
            "   macro avg       0.88      0.88      0.88     25000\n",
            "weighted avg       0.88      0.88      0.88     25000\n",
            "\n",
            "\n",
            "Accuracy generale: 0.879600 \n",
            "\n"
          ],
          "name": "stdout"
        }
      ]
    },
    {
      "cell_type": "markdown",
      "metadata": {
        "id": "0TkLNyGWu1KJ"
      },
      "source": [
        "**Avec reduction de dimensions**\n"
      ]
    },
    {
      "cell_type": "code",
      "metadata": {
        "id": "CAxNYPQxvDlo",
        "outputId": "243f39e9-3f25-4b80-ea9a-85c4baec2cac",
        "colab": {
          "base_uri": "https://localhost:8080/",
          "height": 53
        }
      },
      "source": [
        "selector = SelectKBest(f_classif, k=100)\n",
        "selector.fit(X_train_tfidf, y_train)\n",
        "X_train_r = selector.transform(X_train_tfidf)\n",
        "X_test_r = selector.transform(X_test_tfidf)\n",
        "\n",
        "print('X_train_r:', X_train_r.shape)\n",
        "print('X_test_r:', X_test_r.shape)"
      ],
      "execution_count": 74,
      "outputs": [
        {
          "output_type": "stream",
          "text": [
            "X_train_r: (25000, 100)\n",
            "X_test_r: (25000, 100)\n"
          ],
          "name": "stdout"
        }
      ]
    },
    {
      "cell_type": "code",
      "metadata": {
        "id": "FpFsJsHm0m2X",
        "outputId": "d3af342c-a0a8-415c-c25e-a689cb453526",
        "colab": {
          "base_uri": "https://localhost:8080/",
          "height": 53
        }
      },
      "source": [
        "# selector = TruncatedSVD(n_components=100)\n",
        "# selector.fit(X_train_tfidf, y_train)\n",
        "# X_train_r = selector.transform(X_train_tfidf)\n",
        "# X_test_r = selector.transform(X_test_tfidf)\n",
        "\n",
        "# print('X_train_r:', X_train_r.shape)\n",
        "# print('X_test_r:', X_test_r.shape)"
      ],
      "execution_count": 19,
      "outputs": [
        {
          "output_type": "stream",
          "text": [
            "X_train_r: (25000, 100)\n",
            "X_test_r: (25000, 100)\n"
          ],
          "name": "stdout"
        }
      ]
    },
    {
      "cell_type": "markdown",
      "metadata": {
        "id": "ho8DUJhavKQd"
      },
      "source": [
        "**Naive Bayes (avec reduction de dimensions)**\n"
      ]
    },
    {
      "cell_type": "code",
      "metadata": {
        "id": "qV0HMQaPvLvX",
        "outputId": "5469e06b-76eb-4c26-f47f-c0e82edfe905",
        "colab": {
          "base_uri": "https://localhost:8080/",
          "height": 304
        }
      },
      "source": [
        "model = MultinomialNB(alpha=0.6)\n",
        "\n",
        "start = time.time()\n",
        "\n",
        "model.fit(X_train_r, y_train)\n",
        "\n",
        "end = time.time() - start\n",
        "print(\"- Temps d'entrainement (en secondes): %f\\n\" % end)\n",
        "\n",
        "y_pred = model.predict(X_test_r)\n",
        "\n",
        "print(\"Classification report:\\n\")\n",
        "print(classification_report(y_test, y_pred, target_names=[\"N\", \"P\"]))\n",
        "print(\"\\nAccuracy generale: %f \\n\" % accuracy_score(y_test, y_pred))\n",
        "\n",
        "# plot_confusion_matrix(model, X_test_tfidf, y_test, display_labels=[\"N\", \"P\"], cmap=plt.cm.Blues)\n",
        "# plt.show()"
      ],
      "execution_count": 75,
      "outputs": [
        {
          "output_type": "stream",
          "text": [
            "- Temps d'entrainement (en secondes): 0.010054\n",
            "\n",
            "Classification report:\n",
            "\n",
            "              precision    recall  f1-score   support\n",
            "\n",
            "           N       0.82      0.82      0.82     12500\n",
            "           P       0.82      0.82      0.82     12500\n",
            "\n",
            "    accuracy                           0.82     25000\n",
            "   macro avg       0.82      0.82      0.82     25000\n",
            "weighted avg       0.82      0.82      0.82     25000\n",
            "\n",
            "\n",
            "Accuracy generale: 0.820240 \n",
            "\n"
          ],
          "name": "stdout"
        }
      ]
    },
    {
      "cell_type": "markdown",
      "metadata": {
        "id": "Tj0m_t7wvMEe"
      },
      "source": [
        "**Regression logistique (avec reduction de dimensions)**"
      ]
    },
    {
      "cell_type": "code",
      "metadata": {
        "id": "GKZ3dkvBvMd8",
        "outputId": "bf639172-b04a-41e9-a69e-a92274ae4200",
        "colab": {
          "base_uri": "https://localhost:8080/",
          "height": 304
        }
      },
      "source": [
        "model = LogisticRegression(C=2.0)\n",
        "\n",
        "start = time.time()\n",
        "\n",
        "model.fit(X_train_r, y_train)\n",
        "\n",
        "end = time.time() - start\n",
        "print(\"- Temps d'entrainement (en secondes): %f\\n\" % end)\n",
        "\n",
        "y_pred = model.predict(X_test_r)\n",
        "\n",
        "print(\"Classification report:\\n\")\n",
        "print(classification_report(y_test, y_pred, target_names=[\"N\", \"P\"]))\n",
        "print(\"\\nAccuracy generale: %f \\n\" % accuracy_score(y_test, y_pred))\n",
        "\n",
        "# plot_confusion_matrix(model, X_test_tfidf, y_test, display_labels=[\"N\", \"P\"], cmap=plt.cm.Blues)\n",
        "# plt.show()"
      ],
      "execution_count": 76,
      "outputs": [
        {
          "output_type": "stream",
          "text": [
            "- Temps d'entrainement (en secondes): 0.302186\n",
            "\n",
            "Classification report:\n",
            "\n",
            "              precision    recall  f1-score   support\n",
            "\n",
            "           N       0.85      0.80      0.82     12500\n",
            "           P       0.81      0.86      0.83     12500\n",
            "\n",
            "    accuracy                           0.83     25000\n",
            "   macro avg       0.83      0.83      0.83     25000\n",
            "weighted avg       0.83      0.83      0.83     25000\n",
            "\n",
            "\n",
            "Accuracy generale: 0.827760 \n",
            "\n"
          ],
          "name": "stdout"
        }
      ]
    },
    {
      "cell_type": "markdown",
      "metadata": {
        "id": "yMXMEiaZxD6Y"
      },
      "source": [
        "## b) En utilisant Tensorflow (ou Pytorch), on vous demande de développer un classificateur perceptron multicouches et un bi-LSTM avec les vecteurs d’un modèle word2vec pré-entrainé sur Wikipédia en Anglais (enwiki_upos_skipgram_300_3_2019) disponible à http://vectors.nlpl.eu/repository/11/3.zip. \n",
        "\n",
        "On s’attend à ce que vous effectuiez une moyenne des vecteurs de mots de chaque document pour obtenir un plongement du document.  \n",
        "\n",
        "Evaluez vos algorithmes selon les métriques d’accuracy générale et de F1 par classe sur l’ensemble de test. Pour chacun des modèles, indiquez ses performances et ses spécifications (nombre d’époques, régularisation, optimiseur, nombre de couches, etc.). N’hésitez pas à expérimenter avec différents paramètres. Vous ne devez reporter que votre meilleure expérimentation."
      ]
    },
    {
      "cell_type": "code",
      "metadata": {
        "id": "yHeQq_JIqNob"
      },
      "source": [
        "y_train = [1] * len(train_pos) + [0] * len(train_neg)\n",
        "y_test = [1] * len(test_pos) + [0] * len(test_neg)\n",
        "X_train = [\" \".join(sentence) for sentence in train_pos + train_neg]\n",
        "X_test = [\" \".join(sentence) for sentence in test_pos + test_neg]"
      ],
      "execution_count": 13,
      "outputs": []
    },
    {
      "cell_type": "code",
      "metadata": {
        "id": "u1zS500qI1Br",
        "outputId": "4fc406fd-ae19-4af4-ced3-8504c2efcd19",
        "colab": {
          "base_uri": "https://localhost:8080/",
          "height": 53
        }
      },
      "source": [
        "def buildVocab(X) -> object:\n",
        "  vectorizer = CountVectorizer(min_df=0, lowercase=False)\n",
        "  vectorizer.fit(X)\n",
        "  return vectorizer.vocabulary_\n",
        "\n",
        "vocab = buildVocab(X_train)\n",
        "embeddings = create_wikipedia_embeddings(vocab, len(vocab))\n",
        "\n",
        "print(embeddings.shape)\n",
        "print(len(vocab))"
      ],
      "execution_count": 19,
      "outputs": [
        {
          "output_type": "stream",
          "text": [
            "(65677, 300)\n",
            "65677\n"
          ],
          "name": "stdout"
        }
      ]
    },
    {
      "cell_type": "code",
      "metadata": {
        "id": "iWuga11eI1Ht",
        "outputId": "93304326-d348-46fd-dd18-00235ae49ec0",
        "colab": {
          "base_uri": "https://localhost:8080/",
          "height": 89
        }
      },
      "source": [
        "def get_X_and_y_embedded(X, y, vocab, embeddings, feature) -> object:\n",
        "  X_embedded = np.zeros((len(X), feature), dtype=float)\n",
        "  y_embedded = np.zeros((len(y), 1), dtype=int)\n",
        "\n",
        "  for i, doc in enumerate(X):\n",
        "    vec = np.zeros((1, feature), dtype=float)\n",
        "    tokens = doc.split()\n",
        "    cpt = 0\n",
        "    for word in tokens:\n",
        "      if(word in vocab):\n",
        "        cpt += 1\n",
        "        vec += embeddings[vocab[word]]\n",
        "    vec /= cpt\n",
        "    X_embedded[i] = vec\n",
        "    y_embedded[i] = y[i]\n",
        "\n",
        "  return X_embedded, y_embedded\n",
        "\n",
        "X_train_wiki, y_train_wiki = get_X_and_y_embedded(X_train, y_train, vocab, embeddings, 300)\n",
        "X_test_wiki, y_test_wiki = get_X_and_y_embedded(X_test, y_test, vocab, embeddings, 300)\n",
        "\n",
        "print(X_train_wiki.shape)\n",
        "print(y_train_wiki.shape)\n",
        "print(X_test_wiki.shape)\n",
        "print(y_test_wiki.shape)"
      ],
      "execution_count": 20,
      "outputs": [
        {
          "output_type": "stream",
          "text": [
            "(25000, 300)\n",
            "(25000, 1)\n",
            "(25000, 300)\n",
            "(25000, 1)\n"
          ],
          "name": "stdout"
        }
      ]
    },
    {
      "cell_type": "markdown",
      "metadata": {
        "id": "XqXbfZx6OQpC"
      },
      "source": [
        "**MLP model**"
      ]
    },
    {
      "cell_type": "code",
      "metadata": {
        "id": "14-hF1zUQ66o",
        "outputId": "4f867822-b994-409a-fadc-57cb3b0a9a6b",
        "colab": {
          "base_uri": "https://localhost:8080/",
          "height": 1000
        }
      },
      "source": [
        "X_t, X_v, y_t, y_v = train_test_split(X_train_wiki, y_train_wiki, test_size=0.1)\n",
        "\n",
        "mlp_wiki = tf.keras.Sequential([\n",
        "tf.keras.layers.Dense(600, input_shape=(300,), activation=\"relu\"),\n",
        "tf.keras.layers.Dropout(0.5),\n",
        "tf.keras.layers.Dense(1, activation=\"sigmoid\")\n",
        "])\n",
        "\n",
        "lr_schedule = tf.keras.optimizers.schedules.ExponentialDecay(\n",
        "    initial_learning_rate=1e-2,\n",
        "    decay_steps=100,\n",
        "    decay_rate=0.5)\n",
        "\n",
        "adam = tf.keras.optimizers.Adam(learning_rate=lr_schedule)\n",
        "\n",
        "mlp_wiki.compile(\n",
        "optimizer=adam,\n",
        "loss=\"binary_crossentropy\",\n",
        "metrics=[\"accuracy\", \"Precision\", \"Recall\"]\n",
        ")\n",
        "\n",
        "start = time.time()\n",
        "\n",
        "mlp_wiki_h = mlp_wiki.fit(X_t, y_t,\n",
        "epochs=50,\n",
        "batch_size=300,\n",
        "validation_data=(X_v, y_v))\n",
        "\n",
        "end = time.time() - start\n",
        "print(\"- Temps d'entrainement (en secondes): %f\\n\" % end)"
      ],
      "execution_count": 121,
      "outputs": [
        {
          "output_type": "stream",
          "text": [
            "Epoch 1/50\n",
            "75/75 [==============================] - 1s 7ms/step - loss: 0.5549 - accuracy: 0.7206 - precision: 0.7224 - recall: 0.7141 - val_loss: 0.4582 - val_accuracy: 0.7872 - val_precision: 0.7519 - val_recall: 0.8718\n",
            "Epoch 2/50\n",
            "75/75 [==============================] - 0s 4ms/step - loss: 0.4465 - accuracy: 0.7964 - precision: 0.7905 - recall: 0.8051 - val_loss: 0.4247 - val_accuracy: 0.8088 - val_precision: 0.8005 - val_recall: 0.8342\n",
            "Epoch 3/50\n",
            "75/75 [==============================] - 0s 4ms/step - loss: 0.4289 - accuracy: 0.8069 - precision: 0.8041 - recall: 0.8102 - val_loss: 0.4158 - val_accuracy: 0.8172 - val_precision: 0.8044 - val_recall: 0.8491\n",
            "Epoch 4/50\n",
            "75/75 [==============================] - 0s 4ms/step - loss: 0.4204 - accuracy: 0.8124 - precision: 0.8053 - recall: 0.8229 - val_loss: 0.4123 - val_accuracy: 0.8172 - val_precision: 0.8128 - val_recall: 0.8350\n",
            "Epoch 5/50\n",
            "75/75 [==============================] - 0s 4ms/step - loss: 0.4143 - accuracy: 0.8151 - precision: 0.8102 - recall: 0.8216 - val_loss: 0.4118 - val_accuracy: 0.8180 - val_precision: 0.8265 - val_recall: 0.8155\n",
            "Epoch 6/50\n",
            "75/75 [==============================] - 0s 4ms/step - loss: 0.4113 - accuracy: 0.8170 - precision: 0.8129 - recall: 0.8222 - val_loss: 0.4094 - val_accuracy: 0.8168 - val_precision: 0.8195 - val_recall: 0.8233\n",
            "Epoch 7/50\n",
            "75/75 [==============================] - 0s 4ms/step - loss: 0.4100 - accuracy: 0.8168 - precision: 0.8147 - recall: 0.8188 - val_loss: 0.4081 - val_accuracy: 0.8168 - val_precision: 0.8034 - val_recall: 0.8499\n",
            "Epoch 8/50\n",
            "75/75 [==============================] - 0s 4ms/step - loss: 0.4090 - accuracy: 0.8184 - precision: 0.8137 - recall: 0.8246 - val_loss: 0.4079 - val_accuracy: 0.8176 - val_precision: 0.8158 - val_recall: 0.8311\n",
            "Epoch 9/50\n",
            "75/75 [==============================] - 0s 4ms/step - loss: 0.4077 - accuracy: 0.8181 - precision: 0.8149 - recall: 0.8221 - val_loss: 0.4074 - val_accuracy: 0.8168 - val_precision: 0.8131 - val_recall: 0.8335\n",
            "Epoch 10/50\n",
            "75/75 [==============================] - 0s 4ms/step - loss: 0.4091 - accuracy: 0.8174 - precision: 0.8136 - recall: 0.8223 - val_loss: 0.4072 - val_accuracy: 0.8168 - val_precision: 0.8107 - val_recall: 0.8374\n",
            "Epoch 11/50\n",
            "75/75 [==============================] - 0s 3ms/step - loss: 0.4080 - accuracy: 0.8182 - precision: 0.8149 - recall: 0.8222 - val_loss: 0.4072 - val_accuracy: 0.8168 - val_precision: 0.8107 - val_recall: 0.8374\n",
            "Epoch 12/50\n",
            "75/75 [==============================] - 0s 4ms/step - loss: 0.4082 - accuracy: 0.8192 - precision: 0.8156 - recall: 0.8236 - val_loss: 0.4071 - val_accuracy: 0.8172 - val_precision: 0.8114 - val_recall: 0.8374\n",
            "Epoch 13/50\n",
            "75/75 [==============================] - 0s 4ms/step - loss: 0.4055 - accuracy: 0.8197 - precision: 0.8154 - recall: 0.8253 - val_loss: 0.4071 - val_accuracy: 0.8172 - val_precision: 0.8114 - val_recall: 0.8374\n",
            "Epoch 14/50\n",
            "75/75 [==============================] - 0s 4ms/step - loss: 0.4064 - accuracy: 0.8186 - precision: 0.8153 - recall: 0.8226 - val_loss: 0.4070 - val_accuracy: 0.8168 - val_precision: 0.8107 - val_recall: 0.8374\n",
            "Epoch 15/50\n",
            "75/75 [==============================] - 0s 4ms/step - loss: 0.4066 - accuracy: 0.8169 - precision: 0.8136 - recall: 0.8210 - val_loss: 0.4070 - val_accuracy: 0.8168 - val_precision: 0.8107 - val_recall: 0.8374\n",
            "Epoch 16/50\n",
            "75/75 [==============================] - 0s 4ms/step - loss: 0.4066 - accuracy: 0.8196 - precision: 0.8152 - recall: 0.8253 - val_loss: 0.4070 - val_accuracy: 0.8168 - val_precision: 0.8107 - val_recall: 0.8374\n",
            "Epoch 17/50\n",
            "75/75 [==============================] - 0s 4ms/step - loss: 0.4071 - accuracy: 0.8187 - precision: 0.8145 - recall: 0.8243 - val_loss: 0.4070 - val_accuracy: 0.8168 - val_precision: 0.8103 - val_recall: 0.8382\n",
            "Epoch 18/50\n",
            "75/75 [==============================] - 0s 4ms/step - loss: 0.4079 - accuracy: 0.8183 - precision: 0.8134 - recall: 0.8248 - val_loss: 0.4070 - val_accuracy: 0.8168 - val_precision: 0.8103 - val_recall: 0.8382\n",
            "Epoch 19/50\n",
            "75/75 [==============================] - 0s 4ms/step - loss: 0.4057 - accuracy: 0.8193 - precision: 0.8154 - recall: 0.8243 - val_loss: 0.4070 - val_accuracy: 0.8168 - val_precision: 0.8103 - val_recall: 0.8382\n",
            "Epoch 20/50\n",
            "75/75 [==============================] - 0s 4ms/step - loss: 0.4080 - accuracy: 0.8188 - precision: 0.8156 - recall: 0.8228 - val_loss: 0.4070 - val_accuracy: 0.8168 - val_precision: 0.8103 - val_recall: 0.8382\n",
            "Epoch 21/50\n",
            "75/75 [==============================] - 0s 4ms/step - loss: 0.4060 - accuracy: 0.8191 - precision: 0.8147 - recall: 0.8250 - val_loss: 0.4070 - val_accuracy: 0.8168 - val_precision: 0.8103 - val_recall: 0.8382\n",
            "Epoch 22/50\n",
            "75/75 [==============================] - 0s 4ms/step - loss: 0.4069 - accuracy: 0.8186 - precision: 0.8137 - recall: 0.8251 - val_loss: 0.4070 - val_accuracy: 0.8168 - val_precision: 0.8103 - val_recall: 0.8382\n",
            "Epoch 23/50\n",
            "75/75 [==============================] - 0s 4ms/step - loss: 0.4065 - accuracy: 0.8168 - precision: 0.8132 - recall: 0.8213 - val_loss: 0.4070 - val_accuracy: 0.8168 - val_precision: 0.8103 - val_recall: 0.8382\n",
            "Epoch 24/50\n",
            "75/75 [==============================] - 0s 4ms/step - loss: 0.4074 - accuracy: 0.8190 - precision: 0.8142 - recall: 0.8255 - val_loss: 0.4070 - val_accuracy: 0.8168 - val_precision: 0.8103 - val_recall: 0.8382\n",
            "Epoch 25/50\n",
            "75/75 [==============================] - 0s 4ms/step - loss: 0.4070 - accuracy: 0.8200 - precision: 0.8156 - recall: 0.8257 - val_loss: 0.4070 - val_accuracy: 0.8168 - val_precision: 0.8103 - val_recall: 0.8382\n",
            "Epoch 26/50\n",
            "75/75 [==============================] - 0s 4ms/step - loss: 0.4069 - accuracy: 0.8196 - precision: 0.8151 - recall: 0.8256 - val_loss: 0.4070 - val_accuracy: 0.8168 - val_precision: 0.8103 - val_recall: 0.8382\n",
            "Epoch 27/50\n",
            "75/75 [==============================] - 0s 3ms/step - loss: 0.4058 - accuracy: 0.8206 - precision: 0.8164 - recall: 0.8260 - val_loss: 0.4070 - val_accuracy: 0.8168 - val_precision: 0.8103 - val_recall: 0.8382\n",
            "Epoch 28/50\n",
            "75/75 [==============================] - 0s 3ms/step - loss: 0.4074 - accuracy: 0.8179 - precision: 0.8142 - recall: 0.8225 - val_loss: 0.4070 - val_accuracy: 0.8168 - val_precision: 0.8103 - val_recall: 0.8382\n",
            "Epoch 29/50\n",
            "75/75 [==============================] - 0s 4ms/step - loss: 0.4070 - accuracy: 0.8184 - precision: 0.8153 - recall: 0.8220 - val_loss: 0.4070 - val_accuracy: 0.8168 - val_precision: 0.8103 - val_recall: 0.8382\n",
            "Epoch 30/50\n",
            "75/75 [==============================] - 0s 4ms/step - loss: 0.4062 - accuracy: 0.8189 - precision: 0.8149 - recall: 0.8242 - val_loss: 0.4070 - val_accuracy: 0.8168 - val_precision: 0.8103 - val_recall: 0.8382\n",
            "Epoch 31/50\n",
            "75/75 [==============================] - 0s 4ms/step - loss: 0.4081 - accuracy: 0.8191 - precision: 0.8162 - recall: 0.8224 - val_loss: 0.4070 - val_accuracy: 0.8168 - val_precision: 0.8103 - val_recall: 0.8382\n",
            "Epoch 32/50\n",
            "75/75 [==============================] - 0s 4ms/step - loss: 0.4068 - accuracy: 0.8200 - precision: 0.8161 - recall: 0.8250 - val_loss: 0.4070 - val_accuracy: 0.8168 - val_precision: 0.8103 - val_recall: 0.8382\n",
            "Epoch 33/50\n",
            "75/75 [==============================] - 0s 4ms/step - loss: 0.4060 - accuracy: 0.8183 - precision: 0.8136 - recall: 0.8245 - val_loss: 0.4070 - val_accuracy: 0.8168 - val_precision: 0.8103 - val_recall: 0.8382\n",
            "Epoch 34/50\n",
            "75/75 [==============================] - 0s 4ms/step - loss: 0.4061 - accuracy: 0.8198 - precision: 0.8166 - recall: 0.8236 - val_loss: 0.4070 - val_accuracy: 0.8168 - val_precision: 0.8103 - val_recall: 0.8382\n",
            "Epoch 35/50\n",
            "75/75 [==============================] - 0s 4ms/step - loss: 0.4066 - accuracy: 0.8195 - precision: 0.8146 - recall: 0.8260 - val_loss: 0.4070 - val_accuracy: 0.8168 - val_precision: 0.8103 - val_recall: 0.8382\n",
            "Epoch 36/50\n",
            "75/75 [==============================] - 0s 4ms/step - loss: 0.4071 - accuracy: 0.8206 - precision: 0.8158 - recall: 0.8269 - val_loss: 0.4070 - val_accuracy: 0.8168 - val_precision: 0.8103 - val_recall: 0.8382\n",
            "Epoch 37/50\n",
            "75/75 [==============================] - 0s 4ms/step - loss: 0.4070 - accuracy: 0.8186 - precision: 0.8152 - recall: 0.8227 - val_loss: 0.4070 - val_accuracy: 0.8168 - val_precision: 0.8103 - val_recall: 0.8382\n",
            "Epoch 38/50\n",
            "75/75 [==============================] - 0s 3ms/step - loss: 0.4071 - accuracy: 0.8201 - precision: 0.8160 - recall: 0.8253 - val_loss: 0.4070 - val_accuracy: 0.8168 - val_precision: 0.8103 - val_recall: 0.8382\n",
            "Epoch 39/50\n",
            "75/75 [==============================] - 0s 4ms/step - loss: 0.4069 - accuracy: 0.8187 - precision: 0.8154 - recall: 0.8227 - val_loss: 0.4070 - val_accuracy: 0.8168 - val_precision: 0.8103 - val_recall: 0.8382\n",
            "Epoch 40/50\n",
            "75/75 [==============================] - 0s 4ms/step - loss: 0.4060 - accuracy: 0.8198 - precision: 0.8155 - recall: 0.8254 - val_loss: 0.4070 - val_accuracy: 0.8168 - val_precision: 0.8103 - val_recall: 0.8382\n",
            "Epoch 41/50\n",
            "75/75 [==============================] - 0s 4ms/step - loss: 0.4065 - accuracy: 0.8187 - precision: 0.8152 - recall: 0.8231 - val_loss: 0.4070 - val_accuracy: 0.8168 - val_precision: 0.8103 - val_recall: 0.8382\n",
            "Epoch 42/50\n",
            "75/75 [==============================] - 0s 3ms/step - loss: 0.4069 - accuracy: 0.8177 - precision: 0.8122 - recall: 0.8254 - val_loss: 0.4070 - val_accuracy: 0.8168 - val_precision: 0.8103 - val_recall: 0.8382\n",
            "Epoch 43/50\n",
            "75/75 [==============================] - 0s 4ms/step - loss: 0.4066 - accuracy: 0.8188 - precision: 0.8155 - recall: 0.8229 - val_loss: 0.4070 - val_accuracy: 0.8168 - val_precision: 0.8103 - val_recall: 0.8382\n",
            "Epoch 44/50\n",
            "75/75 [==============================] - 0s 4ms/step - loss: 0.4064 - accuracy: 0.8198 - precision: 0.8149 - recall: 0.8264 - val_loss: 0.4070 - val_accuracy: 0.8168 - val_precision: 0.8103 - val_recall: 0.8382\n",
            "Epoch 45/50\n",
            "75/75 [==============================] - 0s 3ms/step - loss: 0.4065 - accuracy: 0.8171 - precision: 0.8129 - recall: 0.8226 - val_loss: 0.4070 - val_accuracy: 0.8168 - val_precision: 0.8103 - val_recall: 0.8382\n",
            "Epoch 46/50\n",
            "75/75 [==============================] - 0s 3ms/step - loss: 0.4075 - accuracy: 0.8182 - precision: 0.8140 - recall: 0.8235 - val_loss: 0.4070 - val_accuracy: 0.8168 - val_precision: 0.8103 - val_recall: 0.8382\n",
            "Epoch 47/50\n",
            "75/75 [==============================] - 0s 3ms/step - loss: 0.4071 - accuracy: 0.8209 - precision: 0.8173 - recall: 0.8255 - val_loss: 0.4070 - val_accuracy: 0.8168 - val_precision: 0.8103 - val_recall: 0.8382\n",
            "Epoch 48/50\n",
            "75/75 [==============================] - 0s 4ms/step - loss: 0.4070 - accuracy: 0.8197 - precision: 0.8150 - recall: 0.8259 - val_loss: 0.4070 - val_accuracy: 0.8168 - val_precision: 0.8103 - val_recall: 0.8382\n",
            "Epoch 49/50\n",
            "75/75 [==============================] - 0s 4ms/step - loss: 0.4078 - accuracy: 0.8184 - precision: 0.8138 - recall: 0.8245 - val_loss: 0.4070 - val_accuracy: 0.8168 - val_precision: 0.8103 - val_recall: 0.8382\n",
            "Epoch 50/50\n",
            "75/75 [==============================] - 0s 3ms/step - loss: 0.4067 - accuracy: 0.8187 - precision: 0.8151 - recall: 0.8233 - val_loss: 0.4070 - val_accuracy: 0.8168 - val_precision: 0.8103 - val_recall: 0.8382\n",
            "- Temps d'entrainement (en secondes): 14.911602\n",
            "\n"
          ],
          "name": "stdout"
        }
      ]
    },
    {
      "cell_type": "code",
      "metadata": {
        "id": "nNjmczmIUpEz",
        "outputId": "94fad1ee-1636-4e5f-cb79-a10b24eed6e1",
        "colab": {
          "base_uri": "https://localhost:8080/",
          "height": 514
        }
      },
      "source": [
        "plt.plot(mlp_wiki_h.history['accuracy'], label=\"Training set\")\n",
        "plt.plot(mlp_wiki_h.history['val_accuracy'], label=\"Validation set\")\n",
        "plt.legend(\"Accuracy\")\n",
        "plt.show()\n",
        "\n",
        "plt.plot(mlp_wiki_h.history['loss'], label=\"Training set\")\n",
        "plt.plot(mlp_wiki_h.history['val_loss'], label=\"Validation set\")\n",
        "plt.legend(\"Loss\")\n",
        "plt.show()"
      ],
      "execution_count": 122,
      "outputs": [
        {
          "output_type": "display_data",
          "data": {
            "image/png": "[encoded data removed]",
            "text/plain": [
              "<Figure size 432x288 with 1 Axes>"
            ]
          },
          "metadata": {
            "tags": [],
            "needs_background": "light"
          }
        },
        {
          "output_type": "display_data",
          "data": {
            "image/png": "[encoded data removed]",
            "text/plain": [
              "<Figure size 432x288 with 1 Axes>"
            ]
          },
          "metadata": {
            "tags": [],
            "needs_background": "light"
          }
        }
      ]
    },
    {
      "cell_type": "code",
      "metadata": {
        "id": "qUn3xb5ZVLbR",
        "outputId": "299c8908-6070-4311-ebeb-b8d89b9e636f",
        "colab": {
          "base_uri": "https://localhost:8080/",
          "height": 35
        }
      },
      "source": [
        "acc = mlp_wiki.evaluate(X_test_wiki, y_test_wiki)\n",
        "# y_pred = model1.predict(X_test_wiki)"
      ],
      "execution_count": 123,
      "outputs": [
        {
          "output_type": "stream",
          "text": [
            "782/782 [==============================] - 2s 3ms/step - loss: 0.4091 - accuracy: 0.8155 - precision: 0.8150 - recall: 0.8164\n"
          ],
          "name": "stdout"
        }
      ]
    },
    {
      "cell_type": "markdown",
      "metadata": {
        "id": "GZyGsUIqOWTh"
      },
      "source": [
        "**LSTM model**"
      ]
    },
    {
      "cell_type": "code",
      "metadata": {
        "id": "yizlOChfbsYl",
        "outputId": "02630e22-79b1-47ae-b4e6-a40d6040b861",
        "colab": {
          "base_uri": "https://localhost:8080/",
          "height": 71
        }
      },
      "source": [
        "def fromTextToFrequenceWiki(corpus, vocab):\n",
        "  result = []\n",
        "  for doc in corpus:\n",
        "    doc_index = []\n",
        "    for token in doc.split():\n",
        "      if(token in vocab):\n",
        "        doc_index.append(vocab[token])\n",
        "    result.append(doc_index)\n",
        "  return result;\n",
        "\n",
        "def getMedian(corpus):\n",
        "  total_lenght = sorted([len(doc) for doc in corpus])\n",
        "  return total_lenght[int(len(total_lenght) * 2/3)]\n",
        "\n",
        "y_train_lstm = [1] * len(train_pos) + [0] * len(train_neg)\n",
        "y_test_lstm = [1] * len(test_pos) + [0] * len(test_neg)\n",
        "X_train_lstm = [\" \".join(sentence) for sentence in train_pos + train_neg]\n",
        "X_test_lstm = [\" \".join(sentence) for sentence in test_pos + test_neg]\n",
        "\n",
        "y_train_lstm = np.array(y_train_lstm)\n",
        "y_test_lstm = np.array(y_test_lstm)\n",
        "\n",
        "tokenizer = tf.keras.preprocessing.text.Tokenizer(split=' ', filters='!\"#$%&()*+,-./:;<=>?@[\\\\]^_`{|}~\\t\\n')\n",
        "tokenizer.fit_on_texts(X_train_lstm)\n",
        "vocab_lstm = tokenizer.word_index\n",
        "\n",
        "X_train_lstm_sequences = fromTextToFrequenceWiki(X_train_lstm, vocab_lstm)\n",
        "sequence_len = getMedian(X_train_lstm_sequences)\n",
        "X_train_lstm_pad = tf.keras.preprocessing.sequence.pad_sequences( X_train_lstm_sequences, maxlen=sequence_len, dtype='int32', padding='pre', truncating='pre',value=0.0)\n",
        "\n",
        "embeddings_lstm = create_wikipedia_embeddings(vocab_lstm, len(vocab_lstm))\n",
        "\n",
        "print(X_train_lstm_pad.shape)\n",
        "print(y_train_lstm.shape)\n",
        "print(embeddings_lstm.shape)"
      ],
      "execution_count": 14,
      "outputs": [
        {
          "output_type": "stream",
          "text": [
            "(25000, 124)\n",
            "(25000,)\n",
            "(65699, 300)\n"
          ],
          "name": "stdout"
        }
      ]
    },
    {
      "cell_type": "code",
      "metadata": {
        "id": "tohLyduuEnJ7",
        "outputId": "6984ff24-0cf3-4337-fa6c-5bda616248d8",
        "colab": {
          "base_uri": "https://localhost:8080/",
          "height": 449
        }
      },
      "source": [
        "features = 300\n",
        "\n",
        "lstm_model_wiki = tf.keras.Sequential([\n",
        "    Embedding(len(embeddings_lstm), features, input_length=sequence_len, embeddings_initializer=tf.keras.initializers.Constant(embeddings_lstm), trainable=False),\n",
        "    # tf.keras.layers.Dropout(0.5),\n",
        "    tf.keras.layers.Bidirectional(LSTM(128, input_shape=(sequence_len, features))),\n",
        "    tf.keras.layers.Dense(1, activation=\"sigmoid\") \n",
        "])\n",
        "\n",
        "X_t, X_v, y_t, y_v = train_test_split(X_train_lstm_pad, y_train_lstm, test_size=0.1)\n",
        "\n",
        "lstm_model_wiki.compile(optimizer=\"adam\", loss=\"binary_crossentropy\", metrics=[\"accuracy\"])\n",
        "\n",
        "start = time.time()\n",
        "\n",
        "lstm_model_wiki_h = lstm_model_wiki.fit(X_t, y_t,\n",
        "epochs=10,\n",
        "batch_size=300, \n",
        "validation_data=(X_v, y_v))\n",
        "\n",
        "end = time.time() - start\n",
        "print(\"- Temps d'entrainement (en secondes): %f\\n\" % end)"
      ],
      "execution_count": null,
      "outputs": [
        {
          "output_type": "stream",
          "text": [
            "Epoch 1/10\n",
            " 2/75 [..............................] - ETA: 4s - loss: 0.6917 - accuracy: 0.5533WARNING:tensorflow:Callbacks method `on_train_batch_end` is slow compared to the batch time (batch time: 0.0323s vs `on_train_batch_end` time: 0.0663s). Check your callbacks.\n",
            "75/75 [==============================] - 5s 70ms/step - loss: 0.5493 - accuracy: 0.7340 - val_loss: 0.4521 - val_accuracy: 0.7992\n",
            "Epoch 2/10\n",
            "75/75 [==============================] - 5s 60ms/step - loss: 0.4533 - accuracy: 0.7926 - val_loss: 0.4357 - val_accuracy: 0.8096\n",
            "Epoch 3/10\n",
            "75/75 [==============================] - 5s 61ms/step - loss: 0.4322 - accuracy: 0.8057 - val_loss: 0.4088 - val_accuracy: 0.8208\n",
            "Epoch 4/10\n",
            "75/75 [==============================] - 5s 61ms/step - loss: 0.4153 - accuracy: 0.8158 - val_loss: 0.4169 - val_accuracy: 0.8204\n",
            "Epoch 5/10\n",
            "75/75 [==============================] - 5s 61ms/step - loss: 0.3958 - accuracy: 0.8257 - val_loss: 0.3925 - val_accuracy: 0.8248\n",
            "Epoch 6/10\n",
            "75/75 [==============================] - 5s 61ms/step - loss: 0.3869 - accuracy: 0.8280 - val_loss: 0.3784 - val_accuracy: 0.8304\n",
            "Epoch 7/10\n",
            "75/75 [==============================] - 5s 61ms/step - loss: 0.3731 - accuracy: 0.8333 - val_loss: 0.4082 - val_accuracy: 0.8220\n",
            "Epoch 8/10\n",
            "75/75 [==============================] - 5s 62ms/step - loss: 0.3662 - accuracy: 0.8400 - val_loss: 0.3741 - val_accuracy: 0.8392\n",
            "Epoch 9/10\n",
            "75/75 [==============================] - 5s 61ms/step - loss: 0.3609 - accuracy: 0.8421 - val_loss: 0.3570 - val_accuracy: 0.8464\n",
            "Epoch 10/10\n",
            "75/75 [==============================] - 5s 62ms/step - loss: 0.3450 - accuracy: 0.8524 - val_loss: 0.3616 - val_accuracy: 0.8476\n",
            "- Temps d'entrainement (en secondes): 48.967155\n",
            "\n"
          ],
          "name": "stdout"
        }
      ]
    },
    {
      "cell_type": "code",
      "metadata": {
        "id": "MD7X6nqxdb9o",
        "outputId": "ee32666e-9ae8-441c-81a6-e0616f1487b0",
        "colab": {
          "base_uri": "https://localhost:8080/",
          "height": 513
        }
      },
      "source": [
        "plt.plot(lstm_model_wiki_h.history['accuracy'], label=\"Training set\")\n",
        "plt.plot(lstm_model_wiki_h.history['val_accuracy'], label=\"Validation set\")\n",
        "plt.legend(\"Accuracy\")\n",
        "plt.show()\n",
        "\n",
        "plt.plot(lstm_model_wiki_h.history['loss'], label=\"Training set\")\n",
        "plt.plot(lstm_model_wiki_h.history['val_loss'], label=\"Validation set\")\n",
        "plt.legend(\"Loss\")\n",
        "plt.show()"
      ],
      "execution_count": 53,
      "outputs": [
        {
          "output_type": "display_data",
          "data": {
            "image/png": "[encoded data removed]",
            "text/plain": [
              "<Figure size 432x288 with 1 Axes>"
            ]
          },
          "metadata": {
            "tags": [],
            "needs_background": "light"
          }
        },
        {
          "output_type": "display_data",
          "data": {
            "image/png": "[encoded data removed]",
            "text/plain": [
              "<Figure size 432x288 with 1 Axes>"
            ]
          },
          "metadata": {
            "tags": [],
            "needs_background": "light"
          }
        }
      ]
    },
    {
      "cell_type": "code",
      "metadata": {
        "id": "2eWxN55MdlIm",
        "outputId": "e0e76247-fdce-4f63-e964-953017a5b17f",
        "colab": {
          "base_uri": "https://localhost:8080/",
          "height": 53
        }
      },
      "source": [
        "# tokenizer = tf.keras.preprocessing.text.Tokenizer(split=' ', filters='!\"#$%&()*+,-./:;<=>?@[\\\\]^_`{|}~\\t\\n')\n",
        "# tokenizer.fit_on_texts(X_test_lstm)\n",
        "# vocab_lstm = tokenizer.word_index\n",
        "\n",
        "X_test_lstm_sequences = fromTextToFrequenceWiki(X_test_lstm, vocab_lstm)\n",
        "X_test_lstm_pad = tf.keras.preprocessing.sequence.pad_sequences( X_test_lstm_sequences, maxlen=sequence_len, dtype='int32', padding='pre', truncating='pre',value=0.0)\n",
        "\n",
        "loss, acc = lstm_model_wiki.evaluate(X_test_lstm_pad, y_test_lstm)\n",
        "print('Test Accuracy: %f' % (acc*100))"
      ],
      "execution_count": 54,
      "outputs": [
        {
          "output_type": "stream",
          "text": [
            "782/782 [==============================] - 6s 8ms/step - loss: 0.3599 - accuracy: 0.8432\n",
            "Test Accuracy: 84.320003\n"
          ],
          "name": "stdout"
        }
      ]
    },
    {
      "cell_type": "markdown",
      "metadata": {
        "id": "-01zN44jxD6b"
      },
      "source": [
        "## c) Ré-entrainez les modèles en b) avec vos propres vecteurs. Comparez maintenant la performance obtenue en b) avec celles que vous obtenez en utilisant vos propres vecteurs de mots entrainés sur le corpus. "
      ]
    },
    {
      "cell_type": "markdown",
      "metadata": {
        "id": "Qe3id8pHwjot"
      },
      "source": [
        "**MLP model**"
      ]
    },
    {
      "cell_type": "code",
      "metadata": {
        "id": "NA9HFUYyu79W"
      },
      "source": [
        "def get_X_and_y_embedded(X, y, vocab, embeddings, feature) -> object:\n",
        "  X_embedded = np.zeros((len(X), feature), dtype=float)\n",
        "  y_embedded = np.zeros((len(y), 1), dtype=int)\n",
        "\n",
        "  for i, doc in enumerate(X):\n",
        "    vec = np.zeros((1, feature), dtype=float)\n",
        "    tokens = doc.split()\n",
        "    cpt = 0\n",
        "    for word in tokens:\n",
        "      if(word in vocab):\n",
        "        cpt += 1\n",
        "        vec += embeddings[word]\n",
        "    vec /= cpt\n",
        "    X_embedded[i] = vec\n",
        "    y_embedded[i] = y[i]\n",
        "\n",
        "  return X_embedded, y_embedded\n",
        "\n",
        "X_wv, y_wv = get_X_and_y_embedded(X_train, y_train, vocab, word_vectors, 256)\n",
        "X_test_wv, y_test_wv = get_X_and_y_embedded(X_test, y_test, vocab, word_vectors, 256)"
      ],
      "execution_count": 42,
      "outputs": []
    },
    {
      "cell_type": "code",
      "metadata": {
        "id": "To0ywfGuu4RQ",
        "outputId": "9bb3934a-550e-415d-f04d-c52063f06170",
        "colab": {
          "base_uri": "https://localhost:8080/",
          "height": 1000
        }
      },
      "source": [
        "X_wv_t, X_wv_v, y_wv_t, y_wv_v = train_test_split(X_wv,\n",
        "y_wv, test_size=0.1)\n",
        "\n",
        "mlp_wv = tf.keras.Sequential([\n",
        "tf.keras.layers.Dense(600, input_shape=(256,), activation=\"relu\"),\n",
        "tf.keras.layers.Dropout(0.5),\n",
        "tf.keras.layers.Dense(1, activation=\"sigmoid\")\n",
        "])\n",
        "\n",
        "lr_schedule = tf.keras.optimizers.schedules.ExponentialDecay(\n",
        "    initial_learning_rate=1e-2,\n",
        "    decay_steps=1000,\n",
        "    decay_rate=0.5)\n",
        "\n",
        "adam = tf.keras.optimizers.Adam(learning_rate=lr_schedule)\n",
        "\n",
        "mlp_wv.compile(\n",
        "optimizer=adam,\n",
        "loss=\"binary_crossentropy\",\n",
        "metrics=[\"accuracy\", \"Precision\", \"Recall\"]\n",
        ")\n",
        "\n",
        "start = time.time()\n",
        "\n",
        "mlp_wv_h = mlp_wv.fit(X_wv_t, y_wv_t,\n",
        "epochs=50,\n",
        "batch_size=500,\n",
        "validation_data=(X_wv_v, y_wv_v))\n",
        "\n",
        "end = time.time() - start\n",
        "print(\"- Temps d'entrainement (en secondes): %f\\n\" % end)"
      ],
      "execution_count": 113,
      "outputs": [
        {
          "output_type": "stream",
          "text": [
            "Epoch 1/50\n",
            "45/45 [==============================] - 0s 9ms/step - loss: 0.6794 - accuracy: 0.6619 - precision: 0.6559 - recall: 0.6826 - val_loss: 0.5234 - val_accuracy: 0.7352 - val_precision: 0.7229 - val_recall: 0.7544\n",
            "Epoch 2/50\n",
            "45/45 [==============================] - 0s 4ms/step - loss: 0.5025 - accuracy: 0.7596 - precision: 0.7541 - recall: 0.7714 - val_loss: 0.4849 - val_accuracy: 0.7692 - val_precision: 0.7685 - val_recall: 0.7641\n",
            "Epoch 3/50\n",
            "45/45 [==============================] - 0s 4ms/step - loss: 0.4842 - accuracy: 0.7721 - precision: 0.7681 - recall: 0.7803 - val_loss: 0.4705 - val_accuracy: 0.7704 - val_precision: 0.7677 - val_recall: 0.7690\n",
            "Epoch 4/50\n",
            "45/45 [==============================] - 0s 4ms/step - loss: 0.4769 - accuracy: 0.7763 - precision: 0.7705 - recall: 0.7877 - val_loss: 0.4694 - val_accuracy: 0.7764 - val_precision: 0.7851 - val_recall: 0.7553\n",
            "Epoch 5/50\n",
            "45/45 [==============================] - 0s 4ms/step - loss: 0.4780 - accuracy: 0.7729 - precision: 0.7701 - recall: 0.7787 - val_loss: 0.4727 - val_accuracy: 0.7728 - val_precision: 0.7353 - val_recall: 0.8457\n",
            "Epoch 6/50\n",
            "45/45 [==============================] - 0s 4ms/step - loss: 0.4774 - accuracy: 0.7752 - precision: 0.7700 - recall: 0.7856 - val_loss: 0.4708 - val_accuracy: 0.7752 - val_precision: 0.7421 - val_recall: 0.8368\n",
            "Epoch 7/50\n",
            "45/45 [==============================] - 0s 4ms/step - loss: 0.4714 - accuracy: 0.7786 - precision: 0.7728 - recall: 0.7899 - val_loss: 0.4811 - val_accuracy: 0.7600 - val_precision: 0.7118 - val_recall: 0.8659\n",
            "Epoch 8/50\n",
            "45/45 [==============================] - 0s 4ms/step - loss: 0.4684 - accuracy: 0.7796 - precision: 0.7725 - recall: 0.7932 - val_loss: 0.4608 - val_accuracy: 0.7804 - val_precision: 0.7849 - val_recall: 0.7666\n",
            "Epoch 9/50\n",
            "45/45 [==============================] - 0s 4ms/step - loss: 0.4712 - accuracy: 0.7796 - precision: 0.7728 - recall: 0.7927 - val_loss: 0.4652 - val_accuracy: 0.7724 - val_precision: 0.7367 - val_recall: 0.8409\n",
            "Epoch 10/50\n",
            "45/45 [==============================] - 0s 4ms/step - loss: 0.4702 - accuracy: 0.7802 - precision: 0.7757 - recall: 0.7890 - val_loss: 0.4588 - val_accuracy: 0.7844 - val_precision: 0.7825 - val_recall: 0.7819\n",
            "Epoch 11/50\n",
            "45/45 [==============================] - 0s 4ms/step - loss: 0.4654 - accuracy: 0.7797 - precision: 0.7747 - recall: 0.7895 - val_loss: 0.4606 - val_accuracy: 0.7828 - val_precision: 0.7993 - val_recall: 0.7496\n",
            "Epoch 12/50\n",
            "45/45 [==============================] - 0s 4ms/step - loss: 0.4648 - accuracy: 0.7831 - precision: 0.7791 - recall: 0.7908 - val_loss: 0.4596 - val_accuracy: 0.7820 - val_precision: 0.7890 - val_recall: 0.7641\n",
            "Epoch 13/50\n",
            "45/45 [==============================] - 0s 4ms/step - loss: 0.4648 - accuracy: 0.7820 - precision: 0.7766 - recall: 0.7925 - val_loss: 0.4647 - val_accuracy: 0.7736 - val_precision: 0.7311 - val_recall: 0.8586\n",
            "Epoch 14/50\n",
            "45/45 [==============================] - 0s 4ms/step - loss: 0.4643 - accuracy: 0.7839 - precision: 0.7760 - recall: 0.7988 - val_loss: 0.4554 - val_accuracy: 0.7872 - val_precision: 0.7833 - val_recall: 0.7884\n",
            "Epoch 15/50\n",
            "45/45 [==============================] - 0s 4ms/step - loss: 0.4644 - accuracy: 0.7815 - precision: 0.7764 - recall: 0.7914 - val_loss: 0.4662 - val_accuracy: 0.7720 - val_precision: 0.7281 - val_recall: 0.8611\n",
            "Epoch 16/50\n",
            "45/45 [==============================] - 0s 4ms/step - loss: 0.4628 - accuracy: 0.7856 - precision: 0.7787 - recall: 0.7984 - val_loss: 0.4534 - val_accuracy: 0.7832 - val_precision: 0.7749 - val_recall: 0.7924\n",
            "Epoch 17/50\n",
            "45/45 [==============================] - 0s 4ms/step - loss: 0.4636 - accuracy: 0.7839 - precision: 0.7816 - recall: 0.7885 - val_loss: 0.4609 - val_accuracy: 0.7816 - val_precision: 0.7504 - val_recall: 0.8376\n",
            "Epoch 18/50\n",
            "45/45 [==============================] - 0s 4ms/step - loss: 0.4607 - accuracy: 0.7872 - precision: 0.7799 - recall: 0.8008 - val_loss: 0.4530 - val_accuracy: 0.7840 - val_precision: 0.7810 - val_recall: 0.7835\n",
            "Epoch 19/50\n",
            "45/45 [==============================] - 0s 4ms/step - loss: 0.4596 - accuracy: 0.7877 - precision: 0.7800 - recall: 0.8023 - val_loss: 0.4534 - val_accuracy: 0.7856 - val_precision: 0.7671 - val_recall: 0.8142\n",
            "Epoch 20/50\n",
            "45/45 [==============================] - 0s 4ms/step - loss: 0.4535 - accuracy: 0.7888 - precision: 0.7837 - recall: 0.7985 - val_loss: 0.4524 - val_accuracy: 0.7884 - val_precision: 0.7889 - val_recall: 0.7819\n",
            "Epoch 21/50\n",
            "45/45 [==============================] - 0s 4ms/step - loss: 0.4561 - accuracy: 0.7881 - precision: 0.7827 - recall: 0.7984 - val_loss: 0.4509 - val_accuracy: 0.7840 - val_precision: 0.7837 - val_recall: 0.7787\n",
            "Epoch 22/50\n",
            "45/45 [==============================] - 0s 4ms/step - loss: 0.4578 - accuracy: 0.7880 - precision: 0.7843 - recall: 0.7951 - val_loss: 0.4543 - val_accuracy: 0.7832 - val_precision: 0.7551 - val_recall: 0.8320\n",
            "Epoch 23/50\n",
            "45/45 [==============================] - 0s 4ms/step - loss: 0.4596 - accuracy: 0.7870 - precision: 0.7802 - recall: 0.7999 - val_loss: 0.4514 - val_accuracy: 0.7856 - val_precision: 0.7945 - val_recall: 0.7649\n",
            "Epoch 24/50\n",
            "45/45 [==============================] - 0s 4ms/step - loss: 0.4581 - accuracy: 0.7875 - precision: 0.7826 - recall: 0.7967 - val_loss: 0.4494 - val_accuracy: 0.7876 - val_precision: 0.7844 - val_recall: 0.7876\n",
            "Epoch 25/50\n",
            "45/45 [==============================] - 0s 4ms/step - loss: 0.4566 - accuracy: 0.7885 - precision: 0.7846 - recall: 0.7959 - val_loss: 0.4514 - val_accuracy: 0.7856 - val_precision: 0.7990 - val_recall: 0.7577\n",
            "Epoch 26/50\n",
            "45/45 [==============================] - 0s 4ms/step - loss: 0.4543 - accuracy: 0.7903 - precision: 0.7866 - recall: 0.7973 - val_loss: 0.4603 - val_accuracy: 0.7740 - val_precision: 0.7329 - val_recall: 0.8554\n",
            "Epoch 27/50\n",
            "45/45 [==============================] - 0s 4ms/step - loss: 0.4545 - accuracy: 0.7891 - precision: 0.7864 - recall: 0.7944 - val_loss: 0.4607 - val_accuracy: 0.7756 - val_precision: 0.7311 - val_recall: 0.8651\n",
            "Epoch 28/50\n",
            "45/45 [==============================] - 0s 4ms/step - loss: 0.4515 - accuracy: 0.7903 - precision: 0.7848 - recall: 0.8006 - val_loss: 0.4537 - val_accuracy: 0.7828 - val_precision: 0.7509 - val_recall: 0.8401\n",
            "Epoch 29/50\n",
            "45/45 [==============================] - 0s 4ms/step - loss: 0.4530 - accuracy: 0.7908 - precision: 0.7839 - recall: 0.8035 - val_loss: 0.4473 - val_accuracy: 0.7932 - val_precision: 0.7814 - val_recall: 0.8086\n",
            "Epoch 30/50\n",
            "45/45 [==============================] - 0s 4ms/step - loss: 0.4539 - accuracy: 0.7894 - precision: 0.7866 - recall: 0.7949 - val_loss: 0.4498 - val_accuracy: 0.7888 - val_precision: 0.7603 - val_recall: 0.8376\n",
            "Epoch 31/50\n",
            "45/45 [==============================] - 0s 4ms/step - loss: 0.4513 - accuracy: 0.7933 - precision: 0.7874 - recall: 0.8042 - val_loss: 0.4577 - val_accuracy: 0.7836 - val_precision: 0.8109 - val_recall: 0.7342\n",
            "Epoch 32/50\n",
            "45/45 [==============================] - 0s 4ms/step - loss: 0.4499 - accuracy: 0.7913 - precision: 0.7862 - recall: 0.8008 - val_loss: 0.4500 - val_accuracy: 0.7892 - val_precision: 0.8046 - val_recall: 0.7585\n",
            "Epoch 33/50\n",
            "45/45 [==============================] - 0s 4ms/step - loss: 0.4504 - accuracy: 0.7941 - precision: 0.7870 - recall: 0.8070 - val_loss: 0.4555 - val_accuracy: 0.7864 - val_precision: 0.8171 - val_recall: 0.7326\n",
            "Epoch 34/50\n",
            "45/45 [==============================] - 0s 4ms/step - loss: 0.4492 - accuracy: 0.7950 - precision: 0.7911 - recall: 0.8022 - val_loss: 0.4465 - val_accuracy: 0.7896 - val_precision: 0.7657 - val_recall: 0.8288\n",
            "Epoch 35/50\n",
            "45/45 [==============================] - 0s 4ms/step - loss: 0.4473 - accuracy: 0.7966 - precision: 0.7906 - recall: 0.8075 - val_loss: 0.4544 - val_accuracy: 0.7880 - val_precision: 0.8236 - val_recall: 0.7278\n",
            "Epoch 36/50\n",
            "45/45 [==============================] - 0s 4ms/step - loss: 0.4499 - accuracy: 0.7954 - precision: 0.7886 - recall: 0.8077 - val_loss: 0.4454 - val_accuracy: 0.7868 - val_precision: 0.7809 - val_recall: 0.7916\n",
            "Epoch 37/50\n",
            "45/45 [==============================] - 0s 4ms/step - loss: 0.4459 - accuracy: 0.7961 - precision: 0.7906 - recall: 0.8062 - val_loss: 0.4453 - val_accuracy: 0.7900 - val_precision: 0.7891 - val_recall: 0.7859\n",
            "Epoch 38/50\n",
            "45/45 [==============================] - 0s 4ms/step - loss: 0.4443 - accuracy: 0.7963 - precision: 0.7934 - recall: 0.8017 - val_loss: 0.4475 - val_accuracy: 0.7852 - val_precision: 0.7557 - val_recall: 0.8368\n",
            "Epoch 39/50\n",
            "45/45 [==============================] - 0s 4ms/step - loss: 0.4448 - accuracy: 0.7964 - precision: 0.7913 - recall: 0.8055 - val_loss: 0.4438 - val_accuracy: 0.7912 - val_precision: 0.7850 - val_recall: 0.7964\n",
            "Epoch 40/50\n",
            "45/45 [==============================] - 0s 4ms/step - loss: 0.4437 - accuracy: 0.7965 - precision: 0.7919 - recall: 0.8049 - val_loss: 0.4447 - val_accuracy: 0.7908 - val_precision: 0.7694 - val_recall: 0.8247\n",
            "Epoch 41/50\n",
            "45/45 [==============================] - 0s 4ms/step - loss: 0.4426 - accuracy: 0.7968 - precision: 0.7915 - recall: 0.8066 - val_loss: 0.4425 - val_accuracy: 0.7916 - val_precision: 0.7768 - val_recall: 0.8126\n",
            "Epoch 42/50\n",
            "45/45 [==============================] - 0s 4ms/step - loss: 0.4440 - accuracy: 0.7972 - precision: 0.7940 - recall: 0.8031 - val_loss: 0.4433 - val_accuracy: 0.7916 - val_precision: 0.7889 - val_recall: 0.7908\n",
            "Epoch 43/50\n",
            "45/45 [==============================] - 0s 4ms/step - loss: 0.4450 - accuracy: 0.7960 - precision: 0.7923 - recall: 0.8029 - val_loss: 0.4451 - val_accuracy: 0.7980 - val_precision: 0.7791 - val_recall: 0.8263\n",
            "Epoch 44/50\n",
            "45/45 [==============================] - 0s 4ms/step - loss: 0.4415 - accuracy: 0.7972 - precision: 0.7934 - recall: 0.8041 - val_loss: 0.4424 - val_accuracy: 0.7936 - val_precision: 0.7902 - val_recall: 0.7940\n",
            "Epoch 45/50\n",
            "45/45 [==============================] - 0s 4ms/step - loss: 0.4439 - accuracy: 0.7949 - precision: 0.7926 - recall: 0.7996 - val_loss: 0.4438 - val_accuracy: 0.7928 - val_precision: 0.7703 - val_recall: 0.8288\n",
            "Epoch 46/50\n",
            "45/45 [==============================] - 0s 4ms/step - loss: 0.4421 - accuracy: 0.7981 - precision: 0.7941 - recall: 0.8055 - val_loss: 0.4417 - val_accuracy: 0.7940 - val_precision: 0.7835 - val_recall: 0.8069\n",
            "Epoch 47/50\n",
            "45/45 [==============================] - 0s 4ms/step - loss: 0.4440 - accuracy: 0.7977 - precision: 0.7961 - recall: 0.8011 - val_loss: 0.4452 - val_accuracy: 0.7892 - val_precision: 0.7593 - val_recall: 0.8409\n",
            "Epoch 48/50\n",
            "45/45 [==============================] - 0s 4ms/step - loss: 0.4397 - accuracy: 0.7975 - precision: 0.7917 - recall: 0.8081 - val_loss: 0.4435 - val_accuracy: 0.7904 - val_precision: 0.7633 - val_recall: 0.8360\n",
            "Epoch 49/50\n",
            "45/45 [==============================] - 0s 4ms/step - loss: 0.4399 - accuracy: 0.8008 - precision: 0.7967 - recall: 0.8085 - val_loss: 0.4410 - val_accuracy: 0.7980 - val_precision: 0.7911 - val_recall: 0.8045\n",
            "Epoch 50/50\n",
            "45/45 [==============================] - 0s 4ms/step - loss: 0.4402 - accuracy: 0.7989 - precision: 0.7927 - recall: 0.8101 - val_loss: 0.4406 - val_accuracy: 0.7924 - val_precision: 0.7855 - val_recall: 0.7989\n",
            "- Temps d'entrainement (en secondes): 9.985529\n",
            "\n"
          ],
          "name": "stdout"
        }
      ]
    },
    {
      "cell_type": "code",
      "metadata": {
        "id": "BR5iz_Xwve_c",
        "outputId": "6f355680-7b04-4670-ca2b-40d873d50487",
        "colab": {
          "base_uri": "https://localhost:8080/",
          "height": 513
        }
      },
      "source": [
        "plt.plot(mlp_wv_h.history['accuracy'], label=\"Training set\")\n",
        "plt.plot(mlp_wv_h.history['val_accuracy'], label=\"Validation set\")\n",
        "plt.legend(\"Accuracy\")\n",
        "plt.show()\n",
        "\n",
        "plt.plot(mlp_wv_h.history['loss'], label=\"Training set\")\n",
        "plt.plot(mlp_wv_h.history['val_loss'], label=\"Validation set\")\n",
        "plt.legend(\"Loss\")\n",
        "plt.show()"
      ],
      "execution_count": 101,
      "outputs": [
        {
          "output_type": "display_data",
          "data": {
            "image/png": "[encoded data removed]",
            "text/plain": [
              "<Figure size 432x288 with 1 Axes>"
            ]
          },
          "metadata": {
            "tags": [],
            "needs_background": "light"
          }
        },
        {
          "output_type": "display_data",
          "data": {
            "image/png": "[encoded data removed]",
            "text/plain": [
              "<Figure size 432x288 with 1 Axes>"
            ]
          },
          "metadata": {
            "tags": [],
            "needs_background": "light"
          }
        }
      ]
    },
    {
      "cell_type": "code",
      "metadata": {
        "id": "qDbgb-KTv9fa",
        "outputId": "eecf5090-c715-4295-932e-171823a9a3de",
        "colab": {
          "base_uri": "https://localhost:8080/",
          "height": 35
        }
      },
      "source": [
        "acc = mlp_wv.evaluate(X_test_wv, y_test_wv)\n",
        "# y_pred = model1.predict(X_test_wiki)"
      ],
      "execution_count": 102,
      "outputs": [
        {
          "output_type": "stream",
          "text": [
            "782/782 [==============================] - 2s 3ms/step - loss: 0.4316 - accuracy: 0.8021 - precision: 0.8084 - recall: 0.7919\n"
          ],
          "name": "stdout"
        }
      ]
    },
    {
      "cell_type": "markdown",
      "metadata": {
        "id": "E2QVqLlZwoAn"
      },
      "source": [
        "**LSTM model**"
      ]
    },
    {
      "cell_type": "code",
      "metadata": {
        "id": "xa3hIvPjwqT8",
        "outputId": "2bc34abd-57e3-4357-8ab2-551b08da51de",
        "colab": {
          "base_uri": "https://localhost:8080/",
          "height": 968
        }
      },
      "source": [
        "def fromTextToFrequenceW2V(corpus, vocab):\n",
        "  result = []\n",
        "  for doc in corpus:\n",
        "    doc_index = []\n",
        "    for token in doc.split():\n",
        "      if(token in vocab):\n",
        "        doc_index.append(vocab[token].index)\n",
        "    result.append(doc_index)\n",
        "  return result;\n",
        "\n",
        "vocab_wv = word_vectors.vocab\n",
        "\n",
        "X_train_wv_sequences = fromTextToFrequenceW2V(X_train_lstm, vocab_wv)\n",
        "sequence_len_wv = getMedian(X_train_lstm)\n",
        "X_train_wv_pad = tf.keras.preprocessing.sequence.pad_sequences(X_train_wv_sequences, maxlen=sequence_len_wv, dtype='int32', padding='pre', truncating='pre',value=0.0)\n",
        "\n",
        "embeddings_wv = word_vectors.vectors\n",
        "\n",
        "X_wv_t, X_wv_v, y_wv_t, y_wv_v = train_test_split(X_train_wv_pad,\n",
        "y_train_lstm, test_size=0.1)\n",
        "\n",
        "features_wv = 256\n",
        "\n",
        "lstm_model_wv = tf.keras.Sequential([\n",
        "    Embedding(len(word_vectors.vectors), features_wv, input_length=sequence_len_wv, embeddings_initializer=tf.keras.initializers.Constant(embeddings_wv), trainable=False),\n",
        "    tf.keras.layers.Dropout(0.5),\n",
        "    tf.keras.layers.Bidirectional(LSTM(64, input_shape=(sequence_len_wv, features_wv))),\n",
        "    tf.keras.layers.Dense(1, activation=\"sigmoid\") \n",
        "])\n",
        "\n",
        "lr_schedule = tf.keras.optimizers.schedules.ExponentialDecay(\n",
        "    initial_learning_rate=1e-2,\n",
        "    decay_steps=100,\n",
        "    decay_rate=0.5)\n",
        "\n",
        "adam = tf.keras.optimizers.Adam(learning_rate=lr_schedule)\n",
        "\n",
        "lstm_model_wv.compile(optimizer=\"adam\", loss=\"binary_crossentropy\", metrics=[\"accuracy\", \"Precision\", \"Recall\"])\n",
        "\n",
        "start = time.time()\n",
        "\n",
        "lstm_model_wv_h = lstm_model_wv.fit(X_wv_t, y_wv_t,\n",
        "epochs=25,\n",
        "batch_size=300,\n",
        "validation_data=(X_wv_v, y_wv_v))\n",
        "\n",
        "end = time.time() - start\n",
        "print(\"- Temps d'entrainement (en secondes): %f\\n\" % end)"
      ],
      "execution_count": 115,
      "outputs": [
        {
          "output_type": "stream",
          "text": [
            "Epoch 1/25\n",
            "75/75 [==============================] - 15s 198ms/step - loss: 0.5950 - accuracy: 0.6734 - precision: 0.6700 - recall: 0.6818 - val_loss: 0.4973 - val_accuracy: 0.7688 - val_precision: 0.8206 - val_recall: 0.6946\n",
            "Epoch 2/25\n",
            "75/75 [==============================] - 14s 187ms/step - loss: 0.4956 - accuracy: 0.7671 - precision: 0.7589 - recall: 0.7820 - val_loss: 0.4523 - val_accuracy: 0.8020 - val_precision: 0.8196 - val_recall: 0.7801\n",
            "Epoch 3/25\n",
            "75/75 [==============================] - 14s 187ms/step - loss: 0.4605 - accuracy: 0.7844 - precision: 0.7762 - recall: 0.7985 - val_loss: 0.4024 - val_accuracy: 0.8156 - val_precision: 0.7899 - val_recall: 0.8655\n",
            "Epoch 4/25\n",
            "75/75 [==============================] - 14s 187ms/step - loss: 0.4407 - accuracy: 0.7979 - precision: 0.7932 - recall: 0.8052 - val_loss: 0.4031 - val_accuracy: 0.8248 - val_precision: 0.8262 - val_recall: 0.8275\n",
            "Epoch 5/25\n",
            "75/75 [==============================] - 14s 188ms/step - loss: 0.4119 - accuracy: 0.8141 - precision: 0.8089 - recall: 0.8219 - val_loss: 0.3733 - val_accuracy: 0.8356 - val_precision: 0.8442 - val_recall: 0.8275\n",
            "Epoch 6/25\n",
            "75/75 [==============================] - 14s 187ms/step - loss: 0.4052 - accuracy: 0.8168 - precision: 0.8124 - recall: 0.8232 - val_loss: 0.3563 - val_accuracy: 0.8456 - val_precision: 0.8479 - val_recall: 0.8465\n",
            "Epoch 7/25\n",
            "75/75 [==============================] - 14s 187ms/step - loss: 0.3888 - accuracy: 0.8277 - precision: 0.8206 - recall: 0.8384 - val_loss: 0.3456 - val_accuracy: 0.8528 - val_precision: 0.8409 - val_recall: 0.8742\n",
            "Epoch 8/25\n",
            "75/75 [==============================] - 14s 188ms/step - loss: 0.3738 - accuracy: 0.8334 - precision: 0.8285 - recall: 0.8403 - val_loss: 0.3451 - val_accuracy: 0.8512 - val_precision: 0.8698 - val_recall: 0.8299\n",
            "Epoch 9/25\n",
            "75/75 [==============================] - 14s 188ms/step - loss: 0.3685 - accuracy: 0.8383 - precision: 0.8338 - recall: 0.8444 - val_loss: 0.3945 - val_accuracy: 0.8192 - val_precision: 0.9265 - val_recall: 0.6978\n",
            "Epoch 10/25\n",
            "75/75 [==============================] - 14s 188ms/step - loss: 0.3727 - accuracy: 0.8339 - precision: 0.8268 - recall: 0.8443 - val_loss: 0.3282 - val_accuracy: 0.8540 - val_precision: 0.8749 - val_recall: 0.8299\n",
            "Epoch 11/25\n",
            "75/75 [==============================] - 14s 188ms/step - loss: 0.3532 - accuracy: 0.8474 - precision: 0.8444 - recall: 0.8512 - val_loss: 0.3246 - val_accuracy: 0.8640 - val_precision: 0.8474 - val_recall: 0.8916\n",
            "Epoch 12/25\n",
            "75/75 [==============================] - 14s 189ms/step - loss: 0.3499 - accuracy: 0.8476 - precision: 0.8448 - recall: 0.8511 - val_loss: 0.3194 - val_accuracy: 0.8564 - val_precision: 0.8825 - val_recall: 0.8259\n",
            "Epoch 13/25\n",
            "75/75 [==============================] - 14s 188ms/step - loss: 0.3445 - accuracy: 0.8496 - precision: 0.8480 - recall: 0.8515 - val_loss: 0.3185 - val_accuracy: 0.8608 - val_precision: 0.8810 - val_recall: 0.8378\n",
            "Epoch 14/25\n",
            "75/75 [==============================] - 14s 188ms/step - loss: 0.3383 - accuracy: 0.8546 - precision: 0.8517 - recall: 0.8582 - val_loss: 0.3091 - val_accuracy: 0.8652 - val_precision: 0.8590 - val_recall: 0.8774\n",
            "Epoch 15/25\n",
            "75/75 [==============================] - 14s 188ms/step - loss: 0.3361 - accuracy: 0.8523 - precision: 0.8489 - recall: 0.8566 - val_loss: 0.3214 - val_accuracy: 0.8612 - val_precision: 0.8636 - val_recall: 0.8616\n",
            "Epoch 16/25\n",
            "75/75 [==============================] - 14s 189ms/step - loss: 0.3332 - accuracy: 0.8555 - precision: 0.8535 - recall: 0.8580 - val_loss: 0.3242 - val_accuracy: 0.8660 - val_precision: 0.8887 - val_recall: 0.8402\n",
            "Epoch 17/25\n",
            "75/75 [==============================] - 14s 189ms/step - loss: 0.3268 - accuracy: 0.8600 - precision: 0.8562 - recall: 0.8650 - val_loss: 0.3095 - val_accuracy: 0.8644 - val_precision: 0.8439 - val_recall: 0.8979\n",
            "Epoch 18/25\n",
            "75/75 [==============================] - 14s 189ms/step - loss: 0.3192 - accuracy: 0.8613 - precision: 0.8591 - recall: 0.8641 - val_loss: 0.3063 - val_accuracy: 0.8716 - val_precision: 0.8553 - val_recall: 0.8979\n",
            "Epoch 19/25\n",
            "75/75 [==============================] - 14s 189ms/step - loss: 0.3166 - accuracy: 0.8648 - precision: 0.8608 - recall: 0.8699 - val_loss: 0.3029 - val_accuracy: 0.8768 - val_precision: 0.8806 - val_recall: 0.8750\n",
            "Epoch 20/25\n",
            "75/75 [==============================] - 14s 188ms/step - loss: 0.3103 - accuracy: 0.8686 - precision: 0.8645 - recall: 0.8739 - val_loss: 0.3074 - val_accuracy: 0.8692 - val_precision: 0.8954 - val_recall: 0.8394\n",
            "Epoch 21/25\n",
            "75/75 [==============================] - 14s 188ms/step - loss: 0.3072 - accuracy: 0.8685 - precision: 0.8654 - recall: 0.8723 - val_loss: 0.3207 - val_accuracy: 0.8660 - val_precision: 0.8344 - val_recall: 0.9169\n",
            "Epoch 22/25\n",
            "75/75 [==============================] - 14s 189ms/step - loss: 0.3034 - accuracy: 0.8691 - precision: 0.8662 - recall: 0.8727 - val_loss: 0.2967 - val_accuracy: 0.8780 - val_precision: 0.8803 - val_recall: 0.8782\n",
            "Epoch 23/25\n",
            "75/75 [==============================] - 14s 189ms/step - loss: 0.2947 - accuracy: 0.8762 - precision: 0.8752 - recall: 0.8772 - val_loss: 0.3052 - val_accuracy: 0.8748 - val_precision: 0.8972 - val_recall: 0.8497\n",
            "Epoch 24/25\n",
            "75/75 [==============================] - 14s 189ms/step - loss: 0.2956 - accuracy: 0.8741 - precision: 0.8720 - recall: 0.8766 - val_loss: 0.3043 - val_accuracy: 0.8736 - val_precision: 0.8847 - val_recall: 0.8623\n",
            "Epoch 25/25\n",
            "75/75 [==============================] - 14s 189ms/step - loss: 0.2946 - accuracy: 0.8760 - precision: 0.8733 - recall: 0.8794 - val_loss: 0.3105 - val_accuracy: 0.8740 - val_precision: 0.8619 - val_recall: 0.8940\n",
            "- Temps d'entrainement (en secondes): 360.778655\n",
            "\n"
          ],
          "name": "stdout"
        }
      ]
    },
    {
      "cell_type": "code",
      "metadata": {
        "id": "nRTiAVZXyAdp",
        "outputId": "7cfbefb3-4732-4386-eec1-8ae5f5894fb9",
        "colab": {
          "base_uri": "https://localhost:8080/",
          "height": 513
        }
      },
      "source": [
        "plt.plot(lstm_model_wv_h.history['accuracy'], label=\"Training set\")\n",
        "plt.plot(lstm_model_wv_h.history['val_accuracy'], label=\"Validation set\")\n",
        "plt.legend(\"Accuracy\")\n",
        "plt.show()\n",
        "\n",
        "plt.plot(lstm_model_wv_h.history['loss'], label=\"Training set\")\n",
        "plt.plot(lstm_model_wv_h.history['val_loss'], label=\"Validation set\")\n",
        "plt.legend(\"Loss\")\n",
        "plt.show()"
      ],
      "execution_count": 116,
      "outputs": [
        {
          "output_type": "display_data",
          "data": {
            "image/png": "[encoded data removed]",
            "text/plain": [
              "<Figure size 432x288 with 1 Axes>"
            ]
          },
          "metadata": {
            "tags": [],
            "needs_background": "light"
          }
        },
        {
          "output_type": "display_data",
          "data": {
            "image/png": "[encoded data removed]",
            "text/plain": [
              "<Figure size 432x288 with 1 Axes>"
            ]
          },
          "metadata": {
            "tags": [],
            "needs_background": "light"
          }
        }
      ]
    },
    {
      "cell_type": "code",
      "metadata": {
        "id": "wVruxyPCyG0N",
        "outputId": "78fbd004-bfdb-44f2-a5eb-527974db054c",
        "colab": {
          "base_uri": "https://localhost:8080/",
          "height": 35
        }
      },
      "source": [
        "X_test_wv_sequences = fromTextToFrequenceW2V(X_test_lstm, vocab_wv)\n",
        "X_test_wv_pad = tf.keras.preprocessing.sequence.pad_sequences(X_test_wv_sequences, maxlen=sequence_len_wv, dtype='int32', padding='pre', truncating='pre',value=0.0)\n",
        "\n",
        "acc = lstm_model_wv.evaluate(X_test_wv_pad, y_test_lstm)"
      ],
      "execution_count": 117,
      "outputs": [
        {
          "output_type": "stream",
          "text": [
            "782/782 [==============================] - 26s 33ms/step - loss: 0.3157 - accuracy: 0.8655 - precision: 0.8546 - recall: 0.8809\n"
          ],
          "name": "stdout"
        }
      ]
    },
    {
      "cell_type": "markdown",
      "metadata": {
        "id": "TZ9x_RbYxD6d"
      },
      "source": [
        "## d) Générez une table ou un graphique qui regroupe les performances des modèles, leurs spécifications, la durée d’entraînement et commentez ces résultats. Quelle est l’influence des word embeddings sur les performances?  Quel est votre meilleur modèle ?"
      ]
    },
    {
      "cell_type": "markdown",
      "metadata": {
        "id": "xfNH6h9NE-KJ"
      },
      "source": [
        ""
      ]
    },
    {
      "cell_type": "markdown",
      "metadata": {
        "id": "yFuD7iBWopg5"
      },
      "source": [
        "Glove article: While methods like LSA efficiently leverage statistical information, they do relatively poorly on the word analogy task. Methods like skip-gram may do better on the analogy\n",
        "task, but they poorly utilize the statistics of the corpus since they train on separate local context windows instead of on global co-occurrence counts."
      ]
    },
    {
      "cell_type": "code",
      "metadata": {
        "id": "YzQ9BgNQo3Fb"
      },
      "source": [
        ""
      ],
      "execution_count": null,
      "outputs": []
    }
  ]
}